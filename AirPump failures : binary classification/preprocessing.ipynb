{
 "cells": [
  {
   "cell_type": "code",
   "execution_count": 1,
   "metadata": {},
   "outputs": [],
   "source": [
    "import pandas as pd\n",
    "import numpy as np\n",
    "from typing import List, Tuple, TypeVar, Union\n",
    "import matplotlib.pyplot as plt\n",
    "import seaborn as sns\n",
    "from sklearn.model_selection import train_test_split"
   ]
  },
  {
   "cell_type": "markdown",
   "metadata": {},
   "source": [
    "### Data: basic overview"
   ]
  },
  {
   "cell_type": "code",
   "execution_count": 2,
   "metadata": {},
   "outputs": [],
   "source": [
    "data = pd.read_parquet('datasets/data.parquet')\n",
    "labels = pd.read_csv('datasets/labels.csv')"
   ]
  },
  {
   "cell_type": "code",
   "execution_count": 3,
   "metadata": {},
   "outputs": [
    {
     "name": "stdout",
     "output_type": "stream",
     "text": [
      "Check columns for \"data\" dataset\n",
      "No columns consisting of only one value.\n",
      "No columns consisting only of NaN values.\n",
      "\n",
      "Check columns for \"labels\" dataset\n",
      "No columns consisting of only one value.\n",
      "No columns consisting only of NaN values.\n"
     ]
    },
    {
     "data": {
      "text/plain": [
       "([], [])"
      ]
     },
     "execution_count": 3,
     "metadata": {},
     "output_type": "execute_result"
    }
   ],
   "source": [
    "def check_constant_and_nan(df: pd.DataFrame) -> Tuple[List[str], List[str]]:\n",
    "    \"\"\"\n",
    "    This function checks a pandas DataFrame for columns that consist \n",
    "    only of one unique value (constants) and columns that consist only of NaN values. \n",
    "    It prints the names of such columns and returns them in two separate lists.\n",
    "\n",
    "    Parameters:\n",
    "    df (pd.DataFrame): The pandas DataFrame to check.\n",
    "\n",
    "    Returns:\n",
    "    constant_cols (list of str): A list of column names that consist only of one unique value.\n",
    "    nan_cols (list of str): A list of column names that consist only of NaN values.\n",
    "    \"\"\"\n",
    "    # Check the uniqueness and presence of all NaN values\n",
    "    is_constant = df.nunique() == 1\n",
    "    is_nan = df.isnull().all()\n",
    "\n",
    "    # Get column names\n",
    "    constant_cols = is_constant[is_constant].index.tolist()\n",
    "    nan_cols = is_nan[is_nan].index.tolist()\n",
    "\n",
    "    if constant_cols:\n",
    "        print(f'Columns consisting of only one value: {constant_cols}')\n",
    "    else:\n",
    "        print('No columns consisting of only one value.')\n",
    "\n",
    "    if nan_cols:\n",
    "        print(f'Columns consisting only of NaN values: {nan_cols}')\n",
    "    else:\n",
    "        print('No columns consisting only of NaN values.')\n",
    "    \n",
    "    return constant_cols, nan_cols\n",
    "\n",
    "\n",
    "print('Check columns for \"data\" dataset')\n",
    "check_constant_and_nan(data)\n",
    "print()\n",
    "print('Check columns for \"labels\" dataset')\n",
    "check_constant_and_nan(labels)"
   ]
  },
  {
   "cell_type": "markdown",
   "metadata": {},
   "source": [
    "### Missing values\n",
    "\n",
    "Some values are missing, but pandas reports that none are missing. It may happen that the missing values are not coded correctly, and instead of NaN there will be values such as question mark `?`, a dash `'-'`, `'unknown'/Unknown'`, `'missing'/Missing'` or `'NA'/'N/A'` will be given.\n",
    "In this case I replace any errors when filling the dataset with np.nan."
   ]
  },
  {
   "cell_type": "code",
   "execution_count": 4,
   "metadata": {},
   "outputs": [],
   "source": [
    "def replace_values_with_nan(dataset: pd.DataFrame, values_to_replace: List[str]) -> pd.DataFrame:\n",
    "    \"\"\"\n",
    "    Replace specific values in a pandas DataFrame with NaN.\n",
    "\n",
    "    The function first converts all string values in the DataFrame to lower case \n",
    "    and then replaces the specified values with NaN.\n",
    "\n",
    "    Parameters:\n",
    "    dataset (pd.DataFrame): The input DataFrame.\n",
    "    values_to_replace (List[str]): The list of string values to be replaced with NaN.\n",
    "\n",
    "    Returns:\n",
    "    pd.DataFrame: The DataFrame with specified values replaced by NaN.\n",
    "    \"\"\"\n",
    "\n",
    "    dataset = dataset.applymap(lambda x: x.lower() if type(x) == str else x)\n",
    "    dataset = dataset.replace(values_to_replace, np.nan)\n",
    "    return dataset\n",
    "\n",
    "values_to_replace = ['?', '-', 'unknown', 'missing', 'na', 'n/a']\n",
    "data = replace_values_with_nan(data, values_to_replace)\n",
    "labels = replace_values_with_nan(labels, values_to_replace)"
   ]
  },
  {
   "cell_type": "code",
   "execution_count": 5,
   "metadata": {},
   "outputs": [
    {
     "name": "stdout",
     "output_type": "stream",
     "text": [
      "Check for missing values for \"data\" dataset\n",
      "MachineId        0\n",
      "MeasurementId    0\n",
      "Pressure         0\n",
      "dtype: int64\n",
      "\n",
      "Check for missing values for \"labels\" dataset\n",
      "MachineId           0\n",
      "MeasurementId       0\n",
      "PumpFailed        485\n",
      "SlowStart        8085\n",
      "SlowEnd          8085\n",
      "dtype: int64\n"
     ]
    }
   ],
   "source": [
    "def count_missing_values(df: pd.DataFrame) -> pd.Series:\n",
    "    \"\"\"\n",
    "    Count the number of missing values in each column of a pandas DataFrame.\n",
    "\n",
    "    Parameters:\n",
    "    df (pd.DataFrame): The input DataFrame.\n",
    "\n",
    "    Returns:\n",
    "    pd.Series: A Series that contains the number of missing values in each column.\n",
    "    \"\"\"\n",
    "    missing_values = df.isnull().sum()\n",
    "    return missing_values\n",
    "\n",
    "print('Check for missing values for \"data\" dataset')\n",
    "print(count_missing_values(data))\n",
    "print()\n",
    "print('Check for missing values for \"labels\" dataset')\n",
    "print(count_missing_values(labels))"
   ]
  },
  {
   "cell_type": "markdown",
   "metadata": {},
   "source": [
    "I see that the target in the `labels` dataset that we need to predict contains missing values. I will delete these lines."
   ]
  },
  {
   "cell_type": "code",
   "execution_count": 6,
   "metadata": {},
   "outputs": [],
   "source": [
    "labels = labels.dropna(subset=['PumpFailed'])"
   ]
  },
  {
   "cell_type": "markdown",
   "metadata": {},
   "source": [
    "### Imputing missing values for `SlowStart` and `SlowEnd`\n",
    "I did not substitute missing values in these features, since the probability that I will put True or False correctly is equal to the probability of flipping a coin. \n",
    "When building the models, I will see how the models will behave with nan values and if I replace the missing values with -9999. (While with XGBoost the model can handle nan, with Logistic Regression I will replace the missing values because the model cannot handle nan)."
   ]
  },
  {
   "cell_type": "code",
   "execution_count": 7,
   "metadata": {},
   "outputs": [
    {
     "data": {
      "text/html": [
       "<div>\n",
       "<style scoped>\n",
       "    .dataframe tbody tr th:only-of-type {\n",
       "        vertical-align: middle;\n",
       "    }\n",
       "\n",
       "    .dataframe tbody tr th {\n",
       "        vertical-align: top;\n",
       "    }\n",
       "\n",
       "    .dataframe thead th {\n",
       "        text-align: right;\n",
       "    }\n",
       "</style>\n",
       "<table border=\"1\" class=\"dataframe\">\n",
       "  <thead>\n",
       "    <tr style=\"text-align: right;\">\n",
       "      <th></th>\n",
       "      <th>MachineId</th>\n",
       "      <th>MeasurementId</th>\n",
       "      <th>Pressure</th>\n",
       "    </tr>\n",
       "  </thead>\n",
       "  <tbody>\n",
       "    <tr>\n",
       "      <th>0</th>\n",
       "      <td>0_0_0</td>\n",
       "      <td>0</td>\n",
       "      <td>0.0</td>\n",
       "    </tr>\n",
       "    <tr>\n",
       "      <th>1</th>\n",
       "      <td>0_0_0</td>\n",
       "      <td>0</td>\n",
       "      <td>0.0</td>\n",
       "    </tr>\n",
       "    <tr>\n",
       "      <th>2</th>\n",
       "      <td>0_0_0</td>\n",
       "      <td>0</td>\n",
       "      <td>0.0</td>\n",
       "    </tr>\n",
       "    <tr>\n",
       "      <th>3</th>\n",
       "      <td>0_0_0</td>\n",
       "      <td>0</td>\n",
       "      <td>0.0</td>\n",
       "    </tr>\n",
       "    <tr>\n",
       "      <th>4</th>\n",
       "      <td>0_0_0</td>\n",
       "      <td>0</td>\n",
       "      <td>0.0</td>\n",
       "    </tr>\n",
       "  </tbody>\n",
       "</table>\n",
       "</div>"
      ],
      "text/plain": [
       "  MachineId  MeasurementId  Pressure\n",
       "0     0_0_0              0       0.0\n",
       "1     0_0_0              0       0.0\n",
       "2     0_0_0              0       0.0\n",
       "3     0_0_0              0       0.0\n",
       "4     0_0_0              0       0.0"
      ]
     },
     "execution_count": 7,
     "metadata": {},
     "output_type": "execute_result"
    }
   ],
   "source": [
    "data.head()"
   ]
  },
  {
   "cell_type": "code",
   "execution_count": 8,
   "metadata": {},
   "outputs": [
    {
     "data": {
      "text/plain": [
       "(18466364, 3)"
      ]
     },
     "execution_count": 8,
     "metadata": {},
     "output_type": "execute_result"
    }
   ],
   "source": [
    "data.shape"
   ]
  },
  {
   "cell_type": "code",
   "execution_count": 9,
   "metadata": {},
   "outputs": [
    {
     "data": {
      "text/plain": [
       "MachineId           556\n",
       "MeasurementId      8836\n",
       "Pressure         386064\n",
       "dtype: int64"
      ]
     },
     "execution_count": 9,
     "metadata": {},
     "output_type": "execute_result"
    }
   ],
   "source": [
    "data.nunique()"
   ]
  },
  {
   "cell_type": "markdown",
   "metadata": {},
   "source": [
    "### Generate plots of air pressure over time for three randomly selected machines\n",
    "The purpose is to visually identify any patterns in the air pressure, such as sudden drops or slow increases, that could indicate a pump failure. \n",
    "* Each plot represents a single machine's cycle, with the X-axis denoting time (as a sequence of measurements) and the Y-axis denoting air pressure."
   ]
  },
  {
   "cell_type": "code",
   "execution_count": 10,
   "metadata": {},
   "outputs": [
    {
     "data": {
      "image/png": "[encoded data removed]",
      "text/plain": [
       "<Figure size 600x1000 with 3 Axes>"
      ]
     },
     "metadata": {},
     "output_type": "display_data"
    }
   ],
   "source": [
    "random_machines = data[['MachineId', 'MeasurementId']].drop_duplicates().sample(3)\n",
    "\n",
    "fig, axes = plt.subplots(3, 1, figsize=(6, 10))\n",
    "\n",
    "for i, (index, row) in enumerate(random_machines.iterrows()):\n",
    "    machine_id = row['MachineId']\n",
    "    measurement_id = row['MeasurementId']\n",
    "    \n",
    "    # Select the data for the machine and measurement\n",
    "    subset = data[(data['MachineId'] == machine_id) & (data['MeasurementId'] == measurement_id)]\n",
    "    \n",
    "    axes[i].plot(np.arange(len(subset)), subset['Pressure'], label=f'Machine: {machine_id}, Measurement: {measurement_id}')\n",
    "    axes[i].set_xlabel('Time')\n",
    "    axes[i].set_ylabel('Pressure')\n",
    "    axes[i].legend()\n",
    "\n",
    "plt.tight_layout()\n",
    "plt.show()"
   ]
  },
  {
   "cell_type": "markdown",
   "metadata": {},
   "source": [
    "### Outliers detection\n",
    "I decided not to process outliers because it may not be a dataset filling error, but a real machine failure. I would ask my colleagues for advice before working with outliers."
   ]
  },
  {
   "cell_type": "code",
   "execution_count": 11,
   "metadata": {},
   "outputs": [
    {
     "data": {
      "text/html": [
       "<div>\n",
       "<style scoped>\n",
       "    .dataframe tbody tr th:only-of-type {\n",
       "        vertical-align: middle;\n",
       "    }\n",
       "\n",
       "    .dataframe tbody tr th {\n",
       "        vertical-align: top;\n",
       "    }\n",
       "\n",
       "    .dataframe thead th {\n",
       "        text-align: right;\n",
       "    }\n",
       "</style>\n",
       "<table border=\"1\" class=\"dataframe\">\n",
       "  <thead>\n",
       "    <tr style=\"text-align: right;\">\n",
       "      <th></th>\n",
       "      <th>MachineId</th>\n",
       "      <th>MeasurementId</th>\n",
       "      <th>PumpFailed</th>\n",
       "      <th>SlowStart</th>\n",
       "      <th>SlowEnd</th>\n",
       "    </tr>\n",
       "  </thead>\n",
       "  <tbody>\n",
       "    <tr>\n",
       "      <th>0</th>\n",
       "      <td>0_0_0</td>\n",
       "      <td>0</td>\n",
       "      <td>False</td>\n",
       "      <td>False</td>\n",
       "      <td>False</td>\n",
       "    </tr>\n",
       "    <tr>\n",
       "      <th>2</th>\n",
       "      <td>0_0_2</td>\n",
       "      <td>0</td>\n",
       "      <td>False</td>\n",
       "      <td>False</td>\n",
       "      <td>False</td>\n",
       "    </tr>\n",
       "    <tr>\n",
       "      <th>3</th>\n",
       "      <td>0_0_3</td>\n",
       "      <td>0</td>\n",
       "      <td>True</td>\n",
       "      <td>False</td>\n",
       "      <td>False</td>\n",
       "    </tr>\n",
       "    <tr>\n",
       "      <th>5</th>\n",
       "      <td>0_1_1</td>\n",
       "      <td>1</td>\n",
       "      <td>True</td>\n",
       "      <td>False</td>\n",
       "      <td>False</td>\n",
       "    </tr>\n",
       "    <tr>\n",
       "      <th>8</th>\n",
       "      <td>1_0_0</td>\n",
       "      <td>2</td>\n",
       "      <td>False</td>\n",
       "      <td>True</td>\n",
       "      <td>False</td>\n",
       "    </tr>\n",
       "  </tbody>\n",
       "</table>\n",
       "</div>"
      ],
      "text/plain": [
       "  MachineId  MeasurementId PumpFailed SlowStart SlowEnd\n",
       "0     0_0_0              0      False     False   False\n",
       "2     0_0_2              0      False     False   False\n",
       "3     0_0_3              0       True     False   False\n",
       "5     0_1_1              1       True     False   False\n",
       "8     1_0_0              2      False      True   False"
      ]
     },
     "execution_count": 11,
     "metadata": {},
     "output_type": "execute_result"
    }
   ],
   "source": [
    "labels.head()"
   ]
  },
  {
   "cell_type": "code",
   "execution_count": 12,
   "metadata": {},
   "outputs": [
    {
     "data": {
      "text/plain": [
       "(26900, 5)"
      ]
     },
     "execution_count": 12,
     "metadata": {},
     "output_type": "execute_result"
    }
   ],
   "source": [
    "labels.shape"
   ]
  },
  {
   "cell_type": "code",
   "execution_count": 13,
   "metadata": {},
   "outputs": [
    {
     "data": {
      "text/plain": [
       "MachineId         374\n",
       "MeasurementId    8835\n",
       "PumpFailed          2\n",
       "SlowStart           2\n",
       "SlowEnd             2\n",
       "dtype: int64"
      ]
     },
     "execution_count": 13,
     "metadata": {},
     "output_type": "execute_result"
    }
   ],
   "source": [
    "labels.nunique()"
   ]
  },
  {
   "cell_type": "markdown",
   "metadata": {},
   "source": [
    "### Feature engineering"
   ]
  },
  {
   "cell_type": "code",
   "execution_count": 14,
   "metadata": {},
   "outputs": [],
   "source": [
    "T = TypeVar('T', bound='pd.core.series.Series')\n",
    "\n",
    "def calculate_features(group: pd.DataFrame) -> T:\n",
    "    \"\"\"\n",
    "    This function calculates several features based on the 'Pressure' column of the provided DataFrame.\n",
    "    Features are calculated separately for the first and second half of the data.\n",
    "\n",
    "    Parameters:\n",
    "    group (pd.DataFrame): The DataFrame to calculate the features from. \n",
    "                          It should contain a 'Pressure' column.\n",
    "\n",
    "    Returns:\n",
    "    features (pd.Series): A Series object with the calculated features.\n",
    "    \"\"\"\n",
    "    \n",
    "    # Determine the size of the first half of the cycle\n",
    "    half_cycle_size = len(group) // 2\n",
    "    first_half = group.iloc[:half_cycle_size]\n",
    "    \n",
    "    # Calculate the statistics for the first half of the cycle\n",
    "    mean_pressure_first_half = first_half['Pressure'].mean()\n",
    "    median_pressure_first_half = first_half['Pressure'].median()\n",
    "    std_pressure_first_half = first_half['Pressure'].std()\n",
    "    max_pressure_first_half = first_half['Pressure'].max()\n",
    "    \n",
    "    # Calculate the maximum difference between two consecutive observations in the first half\n",
    "    max_diff_first_half = first_half['Pressure'].diff().abs().max()\n",
    "    \n",
    "    # Separate the second half of the cycle\n",
    "    second_half = group.iloc[half_cycle_size:]\n",
    "    \n",
    "    mean_pressure_second_half = second_half['Pressure'].mean()\n",
    "    median_pressure_second_half = second_half['Pressure'].median()\n",
    "    max_pressure_second_half = second_half['Pressure'].max()\n",
    "    std_pressure_second_half = second_half['Pressure'].std()\n",
    "    \n",
    "    max_diff_second_half = second_half['Pressure'].diff().abs().max()\n",
    "    \n",
    "    return pd.Series({\n",
    "        'mean_pressure_first_half': mean_pressure_first_half,\n",
    "        'median_pressure_first_half': median_pressure_first_half,\n",
    "        'std_pressure_first_half': std_pressure_first_half,\n",
    "        'max_pressure_first_half': max_pressure_first_half,\n",
    "        'max_diff_first_half': max_diff_first_half,\n",
    "        'mean_pressure_second_half': mean_pressure_second_half,\n",
    "        'median_pressure_second_half': median_pressure_second_half,\n",
    "        'max_pressure_second_half': max_pressure_second_half,\n",
    "        'std_pressure_second_half': std_pressure_second_half,\n",
    "        'max_diff_second_half': max_diff_second_half\n",
    "    })\n",
    "grouped_data = data.groupby(['MachineId', 'MeasurementId']).apply(calculate_features).reset_index()"
   ]
  },
  {
   "cell_type": "code",
   "execution_count": 15,
   "metadata": {},
   "outputs": [
    {
     "data": {
      "text/html": [
       "<div>\n",
       "<style scoped>\n",
       "    .dataframe tbody tr th:only-of-type {\n",
       "        vertical-align: middle;\n",
       "    }\n",
       "\n",
       "    .dataframe tbody tr th {\n",
       "        vertical-align: top;\n",
       "    }\n",
       "\n",
       "    .dataframe thead th {\n",
       "        text-align: right;\n",
       "    }\n",
       "</style>\n",
       "<table border=\"1\" class=\"dataframe\">\n",
       "  <thead>\n",
       "    <tr style=\"text-align: right;\">\n",
       "      <th></th>\n",
       "      <th>MachineId</th>\n",
       "      <th>MeasurementId</th>\n",
       "      <th>mean_pressure_first_half</th>\n",
       "      <th>median_pressure_first_half</th>\n",
       "      <th>std_pressure_first_half</th>\n",
       "      <th>max_pressure_first_half</th>\n",
       "      <th>max_diff_first_half</th>\n",
       "      <th>mean_pressure_second_half</th>\n",
       "      <th>median_pressure_second_half</th>\n",
       "      <th>max_pressure_second_half</th>\n",
       "      <th>std_pressure_second_half</th>\n",
       "      <th>max_diff_second_half</th>\n",
       "    </tr>\n",
       "  </thead>\n",
       "  <tbody>\n",
       "    <tr>\n",
       "      <th>0</th>\n",
       "      <td>0_0_0</td>\n",
       "      <td>-1</td>\n",
       "      <td>0.230289</td>\n",
       "      <td>0.000000</td>\n",
       "      <td>0.415121</td>\n",
       "      <td>2.439888</td>\n",
       "      <td>2.172414</td>\n",
       "      <td>0.187364</td>\n",
       "      <td>0.000000</td>\n",
       "      <td>2.143523</td>\n",
       "      <td>0.380598</td>\n",
       "      <td>1.915191</td>\n",
       "    </tr>\n",
       "    <tr>\n",
       "      <th>1</th>\n",
       "      <td>0_0_0</td>\n",
       "      <td>0</td>\n",
       "      <td>0.605873</td>\n",
       "      <td>0.864078</td>\n",
       "      <td>0.582492</td>\n",
       "      <td>1.584466</td>\n",
       "      <td>0.720388</td>\n",
       "      <td>0.144275</td>\n",
       "      <td>0.000000</td>\n",
       "      <td>1.449515</td>\n",
       "      <td>0.355725</td>\n",
       "      <td>0.590291</td>\n",
       "    </tr>\n",
       "    <tr>\n",
       "      <th>2</th>\n",
       "      <td>0_0_0</td>\n",
       "      <td>215</td>\n",
       "      <td>0.710727</td>\n",
       "      <td>0.435973</td>\n",
       "      <td>0.729057</td>\n",
       "      <td>1.838710</td>\n",
       "      <td>0.677419</td>\n",
       "      <td>0.000000</td>\n",
       "      <td>0.000000</td>\n",
       "      <td>0.000000</td>\n",
       "      <td>0.000000</td>\n",
       "      <td>0.000000</td>\n",
       "    </tr>\n",
       "    <tr>\n",
       "      <th>3</th>\n",
       "      <td>0_0_0</td>\n",
       "      <td>237</td>\n",
       "      <td>0.977540</td>\n",
       "      <td>1.337876</td>\n",
       "      <td>0.706656</td>\n",
       "      <td>1.927632</td>\n",
       "      <td>1.081767</td>\n",
       "      <td>0.023251</td>\n",
       "      <td>0.000000</td>\n",
       "      <td>0.575188</td>\n",
       "      <td>0.088071</td>\n",
       "      <td>0.218985</td>\n",
       "    </tr>\n",
       "    <tr>\n",
       "      <th>4</th>\n",
       "      <td>0_0_0</td>\n",
       "      <td>353</td>\n",
       "      <td>0.344599</td>\n",
       "      <td>0.000000</td>\n",
       "      <td>0.390084</td>\n",
       "      <td>1.186589</td>\n",
       "      <td>0.455782</td>\n",
       "      <td>0.615127</td>\n",
       "      <td>0.755102</td>\n",
       "      <td>1.275996</td>\n",
       "      <td>0.381526</td>\n",
       "      <td>0.677357</td>\n",
       "    </tr>\n",
       "  </tbody>\n",
       "</table>\n",
       "</div>"
      ],
      "text/plain": [
       "  MachineId  MeasurementId  mean_pressure_first_half  \\\n",
       "0     0_0_0             -1                  0.230289   \n",
       "1     0_0_0              0                  0.605873   \n",
       "2     0_0_0            215                  0.710727   \n",
       "3     0_0_0            237                  0.977540   \n",
       "4     0_0_0            353                  0.344599   \n",
       "\n",
       "   median_pressure_first_half  std_pressure_first_half  \\\n",
       "0                    0.000000                 0.415121   \n",
       "1                    0.864078                 0.582492   \n",
       "2                    0.435973                 0.729057   \n",
       "3                    1.337876                 0.706656   \n",
       "4                    0.000000                 0.390084   \n",
       "\n",
       "   max_pressure_first_half  max_diff_first_half  mean_pressure_second_half  \\\n",
       "0                 2.439888             2.172414                   0.187364   \n",
       "1                 1.584466             0.720388                   0.144275   \n",
       "2                 1.838710             0.677419                   0.000000   \n",
       "3                 1.927632             1.081767                   0.023251   \n",
       "4                 1.186589             0.455782                   0.615127   \n",
       "\n",
       "   median_pressure_second_half  max_pressure_second_half  \\\n",
       "0                     0.000000                  2.143523   \n",
       "1                     0.000000                  1.449515   \n",
       "2                     0.000000                  0.000000   \n",
       "3                     0.000000                  0.575188   \n",
       "4                     0.755102                  1.275996   \n",
       "\n",
       "   std_pressure_second_half  max_diff_second_half  \n",
       "0                  0.380598              1.915191  \n",
       "1                  0.355725              0.590291  \n",
       "2                  0.000000              0.000000  \n",
       "3                  0.088071              0.218985  \n",
       "4                  0.381526              0.677357  "
      ]
     },
     "execution_count": 15,
     "metadata": {},
     "output_type": "execute_result"
    }
   ],
   "source": [
    "grouped_data.head()"
   ]
  },
  {
   "cell_type": "code",
   "execution_count": 16,
   "metadata": {},
   "outputs": [
    {
     "data": {
      "text/plain": [
       "(27385, 12)"
      ]
     },
     "execution_count": 16,
     "metadata": {},
     "output_type": "execute_result"
    }
   ],
   "source": [
    "grouped_data.shape"
   ]
  },
  {
   "cell_type": "markdown",
   "metadata": {},
   "source": [
    "### Merge two datasets"
   ]
  },
  {
   "cell_type": "code",
   "execution_count": 17,
   "metadata": {},
   "outputs": [],
   "source": [
    "df = pd.merge(labels, grouped_data, on=['MachineId', 'MeasurementId'])"
   ]
  },
  {
   "cell_type": "code",
   "execution_count": 18,
   "metadata": {},
   "outputs": [
    {
     "data": {
      "text/html": [
       "<div>\n",
       "<style scoped>\n",
       "    .dataframe tbody tr th:only-of-type {\n",
       "        vertical-align: middle;\n",
       "    }\n",
       "\n",
       "    .dataframe tbody tr th {\n",
       "        vertical-align: top;\n",
       "    }\n",
       "\n",
       "    .dataframe thead th {\n",
       "        text-align: right;\n",
       "    }\n",
       "</style>\n",
       "<table border=\"1\" class=\"dataframe\">\n",
       "  <thead>\n",
       "    <tr style=\"text-align: right;\">\n",
       "      <th></th>\n",
       "      <th>MachineId</th>\n",
       "      <th>MeasurementId</th>\n",
       "      <th>PumpFailed</th>\n",
       "      <th>SlowStart</th>\n",
       "      <th>SlowEnd</th>\n",
       "      <th>mean_pressure_first_half</th>\n",
       "      <th>median_pressure_first_half</th>\n",
       "      <th>std_pressure_first_half</th>\n",
       "      <th>max_pressure_first_half</th>\n",
       "      <th>max_diff_first_half</th>\n",
       "      <th>mean_pressure_second_half</th>\n",
       "      <th>median_pressure_second_half</th>\n",
       "      <th>max_pressure_second_half</th>\n",
       "      <th>std_pressure_second_half</th>\n",
       "      <th>max_diff_second_half</th>\n",
       "    </tr>\n",
       "  </thead>\n",
       "  <tbody>\n",
       "    <tr>\n",
       "      <th>0</th>\n",
       "      <td>0_0_0</td>\n",
       "      <td>0</td>\n",
       "      <td>False</td>\n",
       "      <td>False</td>\n",
       "      <td>False</td>\n",
       "      <td>0.605873</td>\n",
       "      <td>0.864078</td>\n",
       "      <td>0.582492</td>\n",
       "      <td>1.584466</td>\n",
       "      <td>0.720388</td>\n",
       "      <td>0.144275</td>\n",
       "      <td>0.000000</td>\n",
       "      <td>1.449515</td>\n",
       "      <td>0.355725</td>\n",
       "      <td>0.590291</td>\n",
       "    </tr>\n",
       "    <tr>\n",
       "      <th>1</th>\n",
       "      <td>0_0_2</td>\n",
       "      <td>0</td>\n",
       "      <td>False</td>\n",
       "      <td>False</td>\n",
       "      <td>False</td>\n",
       "      <td>0.444347</td>\n",
       "      <td>0.625709</td>\n",
       "      <td>0.425363</td>\n",
       "      <td>1.205104</td>\n",
       "      <td>0.435728</td>\n",
       "      <td>0.443484</td>\n",
       "      <td>0.613422</td>\n",
       "      <td>1.132325</td>\n",
       "      <td>0.440333</td>\n",
       "      <td>0.615312</td>\n",
       "    </tr>\n",
       "    <tr>\n",
       "      <th>2</th>\n",
       "      <td>0_0_3</td>\n",
       "      <td>0</td>\n",
       "      <td>True</td>\n",
       "      <td>False</td>\n",
       "      <td>False</td>\n",
       "      <td>0.588216</td>\n",
       "      <td>0.918919</td>\n",
       "      <td>0.541255</td>\n",
       "      <td>1.410603</td>\n",
       "      <td>0.426195</td>\n",
       "      <td>0.324494</td>\n",
       "      <td>0.000000</td>\n",
       "      <td>1.497921</td>\n",
       "      <td>0.503955</td>\n",
       "      <td>0.753638</td>\n",
       "    </tr>\n",
       "    <tr>\n",
       "      <th>3</th>\n",
       "      <td>0_1_1</td>\n",
       "      <td>1</td>\n",
       "      <td>True</td>\n",
       "      <td>False</td>\n",
       "      <td>False</td>\n",
       "      <td>0.509806</td>\n",
       "      <td>0.443299</td>\n",
       "      <td>0.525591</td>\n",
       "      <td>1.470103</td>\n",
       "      <td>0.646392</td>\n",
       "      <td>0.358250</td>\n",
       "      <td>0.000000</td>\n",
       "      <td>1.440206</td>\n",
       "      <td>0.520885</td>\n",
       "      <td>0.703093</td>\n",
       "    </tr>\n",
       "    <tr>\n",
       "      <th>4</th>\n",
       "      <td>1_0_0</td>\n",
       "      <td>2</td>\n",
       "      <td>False</td>\n",
       "      <td>True</td>\n",
       "      <td>False</td>\n",
       "      <td>0.514324</td>\n",
       "      <td>0.180529</td>\n",
       "      <td>0.547093</td>\n",
       "      <td>1.462193</td>\n",
       "      <td>0.240076</td>\n",
       "      <td>0.000000</td>\n",
       "      <td>0.000000</td>\n",
       "      <td>0.000000</td>\n",
       "      <td>0.000000</td>\n",
       "      <td>0.000000</td>\n",
       "    </tr>\n",
       "  </tbody>\n",
       "</table>\n",
       "</div>"
      ],
      "text/plain": [
       "  MachineId  MeasurementId PumpFailed SlowStart SlowEnd  \\\n",
       "0     0_0_0              0      False     False   False   \n",
       "1     0_0_2              0      False     False   False   \n",
       "2     0_0_3              0       True     False   False   \n",
       "3     0_1_1              1       True     False   False   \n",
       "4     1_0_0              2      False      True   False   \n",
       "\n",
       "   mean_pressure_first_half  median_pressure_first_half  \\\n",
       "0                  0.605873                    0.864078   \n",
       "1                  0.444347                    0.625709   \n",
       "2                  0.588216                    0.918919   \n",
       "3                  0.509806                    0.443299   \n",
       "4                  0.514324                    0.180529   \n",
       "\n",
       "   std_pressure_first_half  max_pressure_first_half  max_diff_first_half  \\\n",
       "0                 0.582492                 1.584466             0.720388   \n",
       "1                 0.425363                 1.205104             0.435728   \n",
       "2                 0.541255                 1.410603             0.426195   \n",
       "3                 0.525591                 1.470103             0.646392   \n",
       "4                 0.547093                 1.462193             0.240076   \n",
       "\n",
       "   mean_pressure_second_half  median_pressure_second_half  \\\n",
       "0                   0.144275                     0.000000   \n",
       "1                   0.443484                     0.613422   \n",
       "2                   0.324494                     0.000000   \n",
       "3                   0.358250                     0.000000   \n",
       "4                   0.000000                     0.000000   \n",
       "\n",
       "   max_pressure_second_half  std_pressure_second_half  max_diff_second_half  \n",
       "0                  1.449515                  0.355725              0.590291  \n",
       "1                  1.132325                  0.440333              0.615312  \n",
       "2                  1.497921                  0.503955              0.753638  \n",
       "3                  1.440206                  0.520885              0.703093  \n",
       "4                  0.000000                  0.000000              0.000000  "
      ]
     },
     "execution_count": 18,
     "metadata": {},
     "output_type": "execute_result"
    }
   ],
   "source": [
    "df.head()"
   ]
  },
  {
   "cell_type": "code",
   "execution_count": 19,
   "metadata": {},
   "outputs": [
    {
     "data": {
      "text/plain": [
       "(26900, 15)"
      ]
     },
     "execution_count": 19,
     "metadata": {},
     "output_type": "execute_result"
    }
   ],
   "source": [
    "df.shape"
   ]
  },
  {
   "cell_type": "markdown",
   "metadata": {},
   "source": [
    "### Check for correct merge"
   ]
  },
  {
   "cell_type": "code",
   "execution_count": 20,
   "metadata": {},
   "outputs": [
    {
     "data": {
      "text/html": [
       "<div>\n",
       "<style scoped>\n",
       "    .dataframe tbody tr th:only-of-type {\n",
       "        vertical-align: middle;\n",
       "    }\n",
       "\n",
       "    .dataframe tbody tr th {\n",
       "        vertical-align: top;\n",
       "    }\n",
       "\n",
       "    .dataframe thead th {\n",
       "        text-align: right;\n",
       "    }\n",
       "</style>\n",
       "<table border=\"1\" class=\"dataframe\">\n",
       "  <thead>\n",
       "    <tr style=\"text-align: right;\">\n",
       "      <th></th>\n",
       "      <th>MachineId</th>\n",
       "      <th>MeasurementId</th>\n",
       "      <th>PumpFailed</th>\n",
       "      <th>SlowStart</th>\n",
       "      <th>SlowEnd</th>\n",
       "      <th>mean_pressure_first_half</th>\n",
       "      <th>median_pressure_first_half</th>\n",
       "      <th>std_pressure_first_half</th>\n",
       "      <th>max_pressure_first_half</th>\n",
       "      <th>max_diff_first_half</th>\n",
       "      <th>mean_pressure_second_half</th>\n",
       "      <th>median_pressure_second_half</th>\n",
       "      <th>max_pressure_second_half</th>\n",
       "      <th>std_pressure_second_half</th>\n",
       "      <th>max_diff_second_half</th>\n",
       "    </tr>\n",
       "  </thead>\n",
       "  <tbody>\n",
       "    <tr>\n",
       "      <th>0</th>\n",
       "      <td>0_0_0</td>\n",
       "      <td>0</td>\n",
       "      <td>False</td>\n",
       "      <td>False</td>\n",
       "      <td>False</td>\n",
       "      <td>0.605873</td>\n",
       "      <td>0.864078</td>\n",
       "      <td>0.582492</td>\n",
       "      <td>1.584466</td>\n",
       "      <td>0.720388</td>\n",
       "      <td>0.144275</td>\n",
       "      <td>0.000000</td>\n",
       "      <td>1.449515</td>\n",
       "      <td>0.355725</td>\n",
       "      <td>0.590291</td>\n",
       "    </tr>\n",
       "    <tr>\n",
       "      <th>492</th>\n",
       "      <td>0_0_0</td>\n",
       "      <td>215</td>\n",
       "      <td>False</td>\n",
       "      <td>False</td>\n",
       "      <td>False</td>\n",
       "      <td>0.710727</td>\n",
       "      <td>0.435973</td>\n",
       "      <td>0.729057</td>\n",
       "      <td>1.838710</td>\n",
       "      <td>0.677419</td>\n",
       "      <td>0.000000</td>\n",
       "      <td>0.000000</td>\n",
       "      <td>0.000000</td>\n",
       "      <td>0.000000</td>\n",
       "      <td>0.000000</td>\n",
       "    </tr>\n",
       "    <tr>\n",
       "      <th>550</th>\n",
       "      <td>0_0_0</td>\n",
       "      <td>237</td>\n",
       "      <td>False</td>\n",
       "      <td>False</td>\n",
       "      <td>True</td>\n",
       "      <td>0.977540</td>\n",
       "      <td>1.337876</td>\n",
       "      <td>0.706656</td>\n",
       "      <td>1.927632</td>\n",
       "      <td>1.081767</td>\n",
       "      <td>0.023251</td>\n",
       "      <td>0.000000</td>\n",
       "      <td>0.575188</td>\n",
       "      <td>0.088071</td>\n",
       "      <td>0.218985</td>\n",
       "    </tr>\n",
       "    <tr>\n",
       "      <th>760</th>\n",
       "      <td>0_0_0</td>\n",
       "      <td>353</td>\n",
       "      <td>False</td>\n",
       "      <td>False</td>\n",
       "      <td>False</td>\n",
       "      <td>0.344599</td>\n",
       "      <td>0.000000</td>\n",
       "      <td>0.390084</td>\n",
       "      <td>1.186589</td>\n",
       "      <td>0.455782</td>\n",
       "      <td>0.615127</td>\n",
       "      <td>0.755102</td>\n",
       "      <td>1.275996</td>\n",
       "      <td>0.381526</td>\n",
       "      <td>0.677357</td>\n",
       "    </tr>\n",
       "    <tr>\n",
       "      <th>889</th>\n",
       "      <td>0_0_0</td>\n",
       "      <td>411</td>\n",
       "      <td>True</td>\n",
       "      <td>False</td>\n",
       "      <td>False</td>\n",
       "      <td>0.642032</td>\n",
       "      <td>0.325942</td>\n",
       "      <td>0.671804</td>\n",
       "      <td>1.922395</td>\n",
       "      <td>0.937916</td>\n",
       "      <td>0.334752</td>\n",
       "      <td>0.000000</td>\n",
       "      <td>1.637472</td>\n",
       "      <td>0.513144</td>\n",
       "      <td>1.070953</td>\n",
       "    </tr>\n",
       "  </tbody>\n",
       "</table>\n",
       "</div>"
      ],
      "text/plain": [
       "    MachineId  MeasurementId PumpFailed SlowStart SlowEnd  \\\n",
       "0       0_0_0              0      False     False   False   \n",
       "492     0_0_0            215      False     False   False   \n",
       "550     0_0_0            237      False     False    True   \n",
       "760     0_0_0            353      False     False   False   \n",
       "889     0_0_0            411       True     False   False   \n",
       "\n",
       "     mean_pressure_first_half  median_pressure_first_half  \\\n",
       "0                    0.605873                    0.864078   \n",
       "492                  0.710727                    0.435973   \n",
       "550                  0.977540                    1.337876   \n",
       "760                  0.344599                    0.000000   \n",
       "889                  0.642032                    0.325942   \n",
       "\n",
       "     std_pressure_first_half  max_pressure_first_half  max_diff_first_half  \\\n",
       "0                   0.582492                 1.584466             0.720388   \n",
       "492                 0.729057                 1.838710             0.677419   \n",
       "550                 0.706656                 1.927632             1.081767   \n",
       "760                 0.390084                 1.186589             0.455782   \n",
       "889                 0.671804                 1.922395             0.937916   \n",
       "\n",
       "     mean_pressure_second_half  median_pressure_second_half  \\\n",
       "0                     0.144275                     0.000000   \n",
       "492                   0.000000                     0.000000   \n",
       "550                   0.023251                     0.000000   \n",
       "760                   0.615127                     0.755102   \n",
       "889                   0.334752                     0.000000   \n",
       "\n",
       "     max_pressure_second_half  std_pressure_second_half  max_diff_second_half  \n",
       "0                    1.449515                  0.355725              0.590291  \n",
       "492                  0.000000                  0.000000              0.000000  \n",
       "550                  0.575188                  0.088071              0.218985  \n",
       "760                  1.275996                  0.381526              0.677357  \n",
       "889                  1.637472                  0.513144              1.070953  "
      ]
     },
     "execution_count": 20,
     "metadata": {},
     "output_type": "execute_result"
    }
   ],
   "source": [
    "df_filtered = df[df['MachineId'] == '0_0_0']\n",
    "df_filtered.head()"
   ]
  },
  {
   "cell_type": "code",
   "execution_count": 21,
   "metadata": {},
   "outputs": [
    {
     "data": {
      "text/plain": [
       "(569, 15)"
      ]
     },
     "execution_count": 21,
     "metadata": {},
     "output_type": "execute_result"
    }
   ],
   "source": [
    "df_filtered.shape"
   ]
  },
  {
   "cell_type": "code",
   "execution_count": 22,
   "metadata": {},
   "outputs": [
    {
     "data": {
      "text/plain": [
       "569"
      ]
     },
     "execution_count": 22,
     "metadata": {},
     "output_type": "execute_result"
    }
   ],
   "source": [
    "df_filtered['MeasurementId'].nunique()"
   ]
  },
  {
   "cell_type": "markdown",
   "metadata": {},
   "source": [
    "### Replace bool values to 1 and 0\n",
    "Most machine learning algorithms, including linear regression, decision trees, work with numerical data. Therefore, Boolean values are usually converted to numeric values before being used in these models."
   ]
  },
  {
   "cell_type": "code",
   "execution_count": 23,
   "metadata": {},
   "outputs": [],
   "source": [
    "df = df.replace({True: 1, False: 0})"
   ]
  },
  {
   "cell_type": "code",
   "execution_count": 24,
   "metadata": {},
   "outputs": [
    {
     "name": "stdout",
     "output_type": "stream",
     "text": [
      "Dataset contains these types of features: [dtype('O'), dtype('int64'), dtype('float64')]\n"
     ]
    }
   ],
   "source": [
    "print('Dataset contains these types of features:', list(df.dtypes.unique()))"
   ]
  },
  {
   "cell_type": "markdown",
   "metadata": {},
   "source": [
    "### One-Hot Encoder\n",
    "Though label encoding is straight but it has the disadvantage that the numeric values can be misinterpreted by algorithms as having some sort of hierarchy/order in them. This ordering issue is addressed in another common alternative approach called ‘One-Hot Encoding’. In this strategy, each category value is converted into a new column and assigned a 1 or 0 (notation for true/false) value to the column."
   ]
  },
  {
   "cell_type": "code",
   "execution_count": 25,
   "metadata": {},
   "outputs": [],
   "source": [
    "# Apply one-hot encoding to 'MachineId' column\n",
    "df = pd.get_dummies(df, columns=['MachineId'])"
   ]
  },
  {
   "cell_type": "markdown",
   "metadata": {},
   "source": [
    "Check that changes in the dataset have not resulted in constants and columns with completely missing values."
   ]
  },
  {
   "cell_type": "code",
   "execution_count": 26,
   "metadata": {},
   "outputs": [
    {
     "name": "stdout",
     "output_type": "stream",
     "text": [
      "Check columns for \"df\" dataset\n",
      "No columns consisting of only one value.\n",
      "No columns consisting only of NaN values.\n"
     ]
    },
    {
     "data": {
      "text/plain": [
       "([], [])"
      ]
     },
     "execution_count": 26,
     "metadata": {},
     "output_type": "execute_result"
    }
   ],
   "source": [
    "print('Check columns for \"df\" dataset')\n",
    "check_constant_and_nan(df)"
   ]
  },
  {
   "cell_type": "code",
   "execution_count": 27,
   "metadata": {},
   "outputs": [
    {
     "data": {
      "text/plain": [
       "(26900, 388)"
      ]
     },
     "execution_count": 27,
     "metadata": {},
     "output_type": "execute_result"
    }
   ],
   "source": [
    "df.shape"
   ]
  },
  {
   "cell_type": "code",
   "execution_count": 28,
   "metadata": {},
   "outputs": [
    {
     "name": "stdout",
     "output_type": "stream",
     "text": [
      "Dataset contains these types of features: [dtype('int64'), dtype('float64'), dtype('uint8')]\n"
     ]
    }
   ],
   "source": [
    "print('Dataset contains these types of features:', list(df.dtypes.unique()))"
   ]
  },
  {
   "cell_type": "markdown",
   "metadata": {},
   "source": [
    "### Сlass balance check"
   ]
  },
  {
   "cell_type": "code",
   "execution_count": 1,
   "metadata": {},
   "outputs": [
    {
     "ename": "NameError",
     "evalue": "name 'df' is not defined",
     "output_type": "error",
     "traceback": [
      "\u001b[0;31m---------------------------------------------------------------------------\u001b[0m",
      "\u001b[0;31mNameError\u001b[0m                                 Traceback (most recent call last)",
      "\u001b[0;32m/var/folders/3f/31wd061j4kvc_mzd3wfvw8c00000gn/T/ipykernel_13947/2688359771.py\u001b[0m in \u001b[0;36m<cell line: 1>\u001b[0;34m()\u001b[0m\n\u001b[0;32m----> 1\u001b[0;31m \u001b[0mclass_counts\u001b[0m \u001b[0;34m=\u001b[0m \u001b[0mdf\u001b[0m\u001b[0;34m[\u001b[0m\u001b[0;34m'PumpFailed'\u001b[0m\u001b[0;34m]\u001b[0m\u001b[0;34m.\u001b[0m\u001b[0mvalue_counts\u001b[0m\u001b[0;34m(\u001b[0m\u001b[0;34m)\u001b[0m\u001b[0;34m\u001b[0m\u001b[0;34m\u001b[0m\u001b[0m\n\u001b[0m\u001b[1;32m      2\u001b[0m \u001b[0;34m\u001b[0m\u001b[0m\n\u001b[1;32m      3\u001b[0m \u001b[0;31m# Graph to show the number of observations for each class\u001b[0m\u001b[0;34m\u001b[0m\u001b[0;34m\u001b[0m\u001b[0m\n\u001b[1;32m      4\u001b[0m \u001b[0mplt\u001b[0m\u001b[0;34m.\u001b[0m\u001b[0mfigure\u001b[0m\u001b[0;34m(\u001b[0m\u001b[0mfigsize\u001b[0m\u001b[0;34m=\u001b[0m\u001b[0;34m(\u001b[0m\u001b[0;36m8\u001b[0m\u001b[0;34m,\u001b[0m\u001b[0;36m4\u001b[0m\u001b[0;34m)\u001b[0m\u001b[0;34m)\u001b[0m\u001b[0;34m\u001b[0m\u001b[0;34m\u001b[0m\u001b[0m\n\u001b[1;32m      5\u001b[0m \u001b[0mbar_plot\u001b[0m \u001b[0;34m=\u001b[0m \u001b[0msns\u001b[0m\u001b[0;34m.\u001b[0m\u001b[0mbarplot\u001b[0m\u001b[0;34m(\u001b[0m\u001b[0mx\u001b[0m\u001b[0;34m=\u001b[0m\u001b[0mclass_counts\u001b[0m\u001b[0;34m.\u001b[0m\u001b[0mindex\u001b[0m\u001b[0;34m,\u001b[0m \u001b[0my\u001b[0m\u001b[0;34m=\u001b[0m\u001b[0mclass_counts\u001b[0m\u001b[0;34m.\u001b[0m\u001b[0mvalues\u001b[0m\u001b[0;34m)\u001b[0m\u001b[0;34m\u001b[0m\u001b[0;34m\u001b[0m\u001b[0m\n",
      "\u001b[0;31mNameError\u001b[0m: name 'df' is not defined"
     ]
    }
   ],
   "source": [
    "class_counts = df['PumpFailed'].value_counts()\n",
    "\n",
    "# Graph to show the number of observations for each class\n",
    "plt.figure(figsize=(8,4))\n",
    "bar_plot = sns.barplot(x=class_counts.index, y=class_counts.values)\n",
    "plt.title('Number of observations for each class')\n",
    "plt.ylabel('Number of Observations', fontsize=12)\n",
    "plt.xlabel('Class', fontsize=12)\n",
    "\n",
    "for i, v in enumerate(class_counts.values):\n",
    "    bar_plot.text(i, v + 50, str(v), horizontalalignment='center', fontsize=12)\n",
    "\n",
    "plt.show()\n",
    "\n",
    "# Pie chart to display class percentages\n",
    "plt.figure(figsize=(6,6))\n",
    "plt.pie(class_counts, labels = ['No Failure (0)', 'Failure (1)'], autopct='%1.1f%%')\n",
    "plt.title('Percentage of observations for each class')\n",
    "plt.show()"
   ]
  },
  {
   "cell_type": "markdown",
   "metadata": {},
   "source": [
    "I can see that the dataset is unbalanced, when building the models further I will check how they will cope with an unbalanced dataset and with a balanced one. "
   ]
  },
  {
   "cell_type": "markdown",
   "metadata": {},
   "source": [
    "### Save preprocessed dataset"
   ]
  },
  {
   "cell_type": "code",
   "execution_count": 30,
   "metadata": {},
   "outputs": [],
   "source": [
    "df.to_csv('datasets/processed_dataset.csv')\n",
    "df.to_csv('datasets/processed_dataset.zip', index=False, compression='zip')"
   ]
  }
 ],
 "metadata": {
  "kernelspec": {
   "display_name": "Python 3 (ipykernel)",
   "language": "python",
   "name": "python3"
  },
  "language_info": {
   "codemirror_mode": {
    "name": "ipython",
    "version": 3
   },
   "file_extension": ".py",
   "mimetype": "text/x-python",
   "name": "python",
   "nbconvert_exporter": "python",
   "pygments_lexer": "ipython3",
   "version": "3.9.13"
  }
 },
 "nbformat": 4,
 "nbformat_minor": 1
}
