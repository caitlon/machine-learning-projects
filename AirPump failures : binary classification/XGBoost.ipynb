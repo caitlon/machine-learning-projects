{
 "cells": [
  {
   "cell_type": "code",
   "execution_count": 1,
   "id": "18e5c63e",
   "metadata": {},
   "outputs": [],
   "source": [
    "import pandas as pd\n",
    "import numpy as np\n",
    "import matplotlib.pyplot as plt\n",
    "import seaborn as sns\n",
    "import time\n",
    "from sklearn.model_selection import train_test_split\n",
    "from sklearn.metrics import classification_report\n",
    "from xgboost import XGBClassifier\n",
    "from sklearn.model_selection import GridSearchCV\n",
    "from sklearn.model_selection import ParameterGrid"
   ]
  },
  {
   "cell_type": "code",
   "execution_count": 2,
   "id": "3b8205be",
   "metadata": {},
   "outputs": [],
   "source": [
    "df = pd.read_csv('datasets/processed_dataset.csv')"
   ]
  },
  {
   "cell_type": "markdown",
   "id": "24ebeb45",
   "metadata": {},
   "source": [
    "### Data splitting"
   ]
  },
  {
   "cell_type": "code",
   "execution_count": 3,
   "id": "fea4bdee",
   "metadata": {},
   "outputs": [],
   "source": [
    "random_seed = 47\n",
    "x_train, x_test, y_train, y_test = train_test_split(df.drop(columns=['PumpFailed']), \n",
    "                                                df['PumpFailed'], test_size=0.3, random_state=random_seed)"
   ]
  },
  {
   "cell_type": "code",
   "execution_count": 4,
   "id": "6a198fd1",
   "metadata": {},
   "outputs": [
    {
     "name": "stdout",
     "output_type": "stream",
     "text": [
      "Train df size, X: (18830, 388), Y: (18830,)\n",
      "Test df size, X: (8070, 388), Y: (8070,)\n"
     ]
    }
   ],
   "source": [
    "print(f'Train df size, X: {x_train.shape}, Y: {y_train.shape}')\n",
    "print(f'Test df size, X: {x_test.shape}, Y: {y_test.shape}')"
   ]
  },
  {
   "cell_type": "markdown",
   "id": "a3bb822c",
   "metadata": {},
   "source": [
    "### Modeling using weights\n",
    "\n",
    "Set class weights to combat unbalanced data. The `scale_pos_weight` parameter in XGBoost allows to set the weight of a rare class compared to a frequent class."
   ]
  },
  {
   "cell_type": "code",
   "execution_count": 5,
   "id": "d614ef47",
   "metadata": {},
   "outputs": [
    {
     "name": "stdout",
     "output_type": "stream",
     "text": [
      "All done. This operation took 0.2 minutes.\n"
     ]
    }
   ],
   "source": [
    "start = time.time()\n",
    "\n",
    "ratio = float(np.sum(y_train == 0)) / np.sum(y_train == 1)\n",
    "xgb_clf = XGBClassifier(objective='binary:logistic', \n",
    "                        learning_rate=0.01, \n",
    "                        max_depth=10, \n",
    "                        subsample=0.5, \n",
    "                        colsample_bytree=0.7, \n",
    "                        n_estimators=200, \n",
    "                        reg_lambda=1.1, \n",
    "                        min_child_weight=1,\n",
    "                        scale_pos_weight = ratio)\n",
    "\n",
    "xgb_clf.fit(x_train, y_train)\n",
    "\n",
    "time_in_minutes = round((time.time() - start) / 60, 1)\n",
    "print('All done. This operation took', time_in_minutes, 'minutes.')"
   ]
  },
  {
   "cell_type": "markdown",
   "id": "4500410f",
   "metadata": {},
   "source": [
    "#### Metrics"
   ]
  },
  {
   "cell_type": "code",
   "execution_count": 6,
   "id": "b9c55fe7",
   "metadata": {},
   "outputs": [
    {
     "name": "stdout",
     "output_type": "stream",
     "text": [
      "Classification report for training set:\n",
      "              precision    recall  f1-score   support\n",
      "\n",
      "           0       1.00      0.88      0.94     16769\n",
      "           1       0.52      1.00      0.68      2061\n",
      "\n",
      "    accuracy                           0.90     18830\n",
      "   macro avg       0.76      0.94      0.81     18830\n",
      "weighted avg       0.95      0.90      0.91     18830\n",
      "\n"
     ]
    }
   ],
   "source": [
    "y_pred_train = xgb_clf.predict(x_train)\n",
    "print('Classification report for training set:')\n",
    "print(classification_report(y_train, y_pred_train))"
   ]
  },
  {
   "cell_type": "code",
   "execution_count": 7,
   "id": "8784ec33",
   "metadata": {},
   "outputs": [
    {
     "name": "stdout",
     "output_type": "stream",
     "text": [
      "Classification report for testing set:\n",
      "              precision    recall  f1-score   support\n",
      "\n",
      "           0       1.00      0.88      0.93      7189\n",
      "           1       0.50      0.98      0.66       881\n",
      "\n",
      "    accuracy                           0.89      8070\n",
      "   macro avg       0.75      0.93      0.80      8070\n",
      "weighted avg       0.94      0.89      0.90      8070\n",
      "\n"
     ]
    }
   ],
   "source": [
    "y_pred_test = xgb_clf.predict(x_test)\n",
    "print('Classification report for testing set:')\n",
    "print(classification_report(y_test, y_pred_test))"
   ]
  },
  {
   "cell_type": "markdown",
   "id": "818b50d4",
   "metadata": {},
   "source": [
    "### Modeling without using weights"
   ]
  },
  {
   "cell_type": "code",
   "execution_count": 11,
   "id": "44887414",
   "metadata": {},
   "outputs": [
    {
     "name": "stdout",
     "output_type": "stream",
     "text": [
      "All done. This operation took 0.3 minutes.\n"
     ]
    }
   ],
   "source": [
    "start = time.time()\n",
    "\n",
    "xgb_clf = XGBClassifier(objective='binary:logistic', \n",
    "                        learning_rate=0.01, \n",
    "                        max_depth=10, \n",
    "                        subsample=0.5, \n",
    "                        colsample_bytree=0.7, \n",
    "                        n_estimators=200, \n",
    "                        reg_lambda=1.1, \n",
    "                        min_child_weight=1)\n",
    "\n",
    "xgb_clf.fit(x_train, y_train)\n",
    "\n",
    "time_in_minutes = round((time.time() - start) / 60, 1)\n",
    "print('All done. This operation took', time_in_minutes, 'minutes.')"
   ]
  },
  {
   "cell_type": "code",
   "execution_count": 12,
   "id": "8857a808",
   "metadata": {},
   "outputs": [
    {
     "name": "stdout",
     "output_type": "stream",
     "text": [
      "Classification report for training set:\n",
      "              precision    recall  f1-score   support\n",
      "\n",
      "           0       0.96      0.99      0.97     16769\n",
      "           1       0.90      0.63      0.74      2061\n",
      "\n",
      "    accuracy                           0.95     18830\n",
      "   macro avg       0.93      0.81      0.86     18830\n",
      "weighted avg       0.95      0.95      0.95     18830\n",
      "\n"
     ]
    }
   ],
   "source": [
    "y_pred_train = xgb_clf.predict(x_train)\n",
    "print('Classification report for training set:')\n",
    "print(classification_report(y_train, y_pred_train))"
   ]
  },
  {
   "cell_type": "code",
   "execution_count": 13,
   "id": "ed803957",
   "metadata": {},
   "outputs": [
    {
     "name": "stdout",
     "output_type": "stream",
     "text": [
      "Classification report for testing set:\n",
      "              precision    recall  f1-score   support\n",
      "\n",
      "           0       0.94      0.99      0.96      7189\n",
      "           1       0.82      0.48      0.61       881\n",
      "\n",
      "    accuracy                           0.93      8070\n",
      "   macro avg       0.88      0.73      0.79      8070\n",
      "weighted avg       0.93      0.93      0.92      8070\n",
      "\n"
     ]
    }
   ],
   "source": [
    "y_pred_test = xgb_clf.predict(x_test)\n",
    "print('Classification report for testing set:')\n",
    "print(classification_report(y_test, y_pred_test))"
   ]
  },
  {
   "cell_type": "code",
   "execution_count": null,
   "id": "a30bb8ce",
   "metadata": {},
   "outputs": [],
   "source": [
    "#comment results"
   ]
  },
  {
   "cell_type": "markdown",
   "id": "4d29abde",
   "metadata": {},
   "source": [
    "### Hyperparameters Optimization for XGBoost"
   ]
  },
  {
   "cell_type": "code",
   "execution_count": 8,
   "id": "15692509",
   "metadata": {},
   "outputs": [
    {
     "name": "stdout",
     "output_type": "stream",
     "text": [
      "Total combinations of parameters:  32\n",
      "All done. This operation took 18.5 minutes.\n"
     ]
    }
   ],
   "source": [
    "start = time.time()\n",
    "\n",
    "xgb_clf = XGBClassifier(objective='binary:logistic', scale_pos_weight = ratio)\n",
    "\n",
    "param_grid_xgb_clf = {\n",
    "    'learning_rate': [0.01, 0.1],\n",
    "    'max_depth': [10],\n",
    "    'subsample': [0.6, 0.9],\n",
    "    'colsample_bytree': [0.8],\n",
    "    'n_estimators': [100, 200],\n",
    "    'min_child_weight': [3],\n",
    "    'reg_alpha': [0.1, 0.5],\n",
    "    'reg_lambda': [1, 1.5]\n",
    "}\n",
    "\n",
    "grid_count_gxb_clf = ParameterGrid(param_grid_xgb_clf)\n",
    "print('Total combinations of parameters: ', len(grid_count_gxb_clf))\n",
    "\n",
    "grid_search_xgb_clf = GridSearchCV(estimator=xgb_clf, param_grid=param_grid_xgb_clf, cv=5, scoring='f1', n_jobs=-1)\n",
    "grid_search_xgb_clf.fit(x_train, y_train)\n",
    "\n",
    "time_in_minutes = round((time.time() - start) / 60, 1)\n",
    "print('All done. This operation took', time_in_minutes, 'minutes.')"
   ]
  },
  {
   "cell_type": "markdown",
   "id": "9e9bf034",
   "metadata": {},
   "source": [
    "#### Metrics"
   ]
  },
  {
   "cell_type": "code",
   "execution_count": 9,
   "id": "c53e4f6c",
   "metadata": {},
   "outputs": [
    {
     "name": "stdout",
     "output_type": "stream",
     "text": [
      "Classification report for training set:\n",
      "              precision    recall  f1-score   support\n",
      "\n",
      "           0       1.00      0.98      0.99     16769\n",
      "           1       0.84      1.00      0.91      2061\n",
      "\n",
      "    accuracy                           0.98     18830\n",
      "   macro avg       0.92      0.99      0.95     18830\n",
      "weighted avg       0.98      0.98      0.98     18830\n",
      "\n"
     ]
    }
   ],
   "source": [
    "y_pred_train = grid_search_xgb_clf.predict(x_train)\n",
    "print('Classification report for training set:')\n",
    "print(classification_report(y_train, y_pred_train))"
   ]
  },
  {
   "cell_type": "code",
   "execution_count": 10,
   "id": "99891fdb",
   "metadata": {},
   "outputs": [
    {
     "name": "stdout",
     "output_type": "stream",
     "text": [
      "Classification report for testing set:\n",
      "              precision    recall  f1-score   support\n",
      "\n",
      "           0       0.99      0.93      0.96      7189\n",
      "           1       0.60      0.89      0.72       881\n",
      "\n",
      "    accuracy                           0.92      8070\n",
      "   macro avg       0.80      0.91      0.84      8070\n",
      "weighted avg       0.94      0.92      0.93      8070\n",
      "\n"
     ]
    }
   ],
   "source": [
    "y_pred_test = grid_search_xgb_clf.predict(x_test)\n",
    "print('Classification report for testing set:')\n",
    "print(classification_report(y_test, y_pred_test))"
   ]
  },
  {
   "cell_type": "code",
   "execution_count": null,
   "id": "c378eeb0",
   "metadata": {},
   "outputs": [],
   "source": [
    "#comment rezults"
   ]
  }
 ],
 "metadata": {
  "kernelspec": {
   "display_name": "Python 3 (ipykernel)",
   "language": "python",
   "name": "python3"
  },
  "language_info": {
   "codemirror_mode": {
    "name": "ipython",
    "version": 3
   },
   "file_extension": ".py",
   "mimetype": "text/x-python",
   "name": "python",
   "nbconvert_exporter": "python",
   "pygments_lexer": "ipython3",
   "version": "3.9.13"
  }
 },
 "nbformat": 4,
 "nbformat_minor": 5
}
