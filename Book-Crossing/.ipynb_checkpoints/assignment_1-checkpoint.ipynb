{
 "cells": [
  {
   "cell_type": "markdown",
   "metadata": {},
   "source": [
    "### Data source\n",
    "\n",
    "The data source consists of files `BX-Users.csv`, `BX-Books.csv`, `BX-Book-Ratings.csv` (available here: http://www2.informatik.uni-freiburg.de/~cziegler/BX/)."
   ]
  },
  {
   "cell_type": "markdown",
   "metadata": {},
   "source": [
    "### Datasets description\n",
    "\n",
    "* `BX-Users`\n",
    "Contains the users. \n",
    "    * User IDs (***User-ID***) have been anonymized and map to integers. \n",
    "    * Demographic data is provided (***Location***, ***Age***) if available. Otherwise, these fields contain NULL-values.\n",
    "\n",
    "\n",
    "* `BX-Books`\n",
    "Books are identified by their respective ISBN. \n",
    "    * Invalid ISBNs have already been removed from the dataset. \n",
    "    * Some content-based information is given (***Book-Title***, ***Book-Author***, ***Year-Of-Publication***, ***Publisher***), obtained from Amazon Web Services. \n",
    "    * In case of several authors, only the first is provided. \n",
    "    * URLs linking to cover images are also given, appearing in three different flavours (***Image-URL-S***, ***Image-URL-M***, ***Image-URL-L***), i.e., small, medium, large. These URLs point to the Amazon web site.\n",
    "\n",
    "\n",
    "* `BX-Book-Ratings`\n",
    "Contains the book rating information. \n",
    "    * Ratings (***Book-Rating***) are either explicit, expressed on a scale from 1-10 (higher values denoting higher appreciation), or implicit, expressed by 0."
   ]
  },
  {
   "cell_type": "code",
   "execution_count": null,
   "metadata": {},
   "outputs": [],
   "source": []
  }
 ],
 "metadata": {
  "kernelspec": {
   "display_name": "Python 3 (ipykernel)",
   "language": "python",
   "name": "python3"
  },
  "language_info": {
   "codemirror_mode": {
    "name": "ipython",
    "version": 3
   },
   "file_extension": ".py",
   "mimetype": "text/x-python",
   "name": "python",
   "nbconvert_exporter": "python",
   "pygments_lexer": "ipython3",
   "version": "3.9.13"
  }
 },
 "nbformat": 4,
 "nbformat_minor": 1
}
