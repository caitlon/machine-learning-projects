{
 "cells": [
  {
   "cell_type": "markdown",
   "metadata": {
    "cell_id": "0126696734834d20909b5c0aa444f767",
    "deepnote_cell_type": "markdown",
    "tags": []
   },
   "source": [
    "# Clustering\n",
    "\n",
    "  * In this task I have to deal with the issue of clustering.\n",
    " \n",
    "## Data source\n",
    "  * The data source is a file `CC GENERAL.csv` (original here: https://www.kaggle.com/datasets/arjunbhasin2013/ccdata).\n",
    "\n",
    "## Dataset description\n",
    "\n",
    "  * The sample Dataset summarizes the usage behavior of about 9000 active credit card holders during the last 6 months. The file is at a customer level with 18 behavioral variables.\n",
    "  * Following is the Data Dictionary for Credit Card dataset :\n",
    "      * CUSTID : Identification of Credit Card holder (Categorical)\n",
    "      * BALANCE : Balance amount left in their account to make purchases (\n",
    "      * BALANCEFREQUENCY : How frequently the Balance is updated, score between 0 and 1 (1 = frequently updated, 0 = not frequently updated)\n",
    "      * PURCHASES : Amount of purchases made from account\n",
    "      * ONEOFFPURCHASES : Maximum purchase amount done in one-go\n",
    "      * INSTALLMENTSPURCHASES : Amount of purchase done in installment\n",
    "      * CASHADVANCE : Cash in advance given by the user\n",
    "      * PURCHASESFREQUENCY : How frequently the Purchases are being made, score between 0 and 1 (1 = frequently purchased, 0 = not frequently purchased)\n",
    "      * ONEOFFPURCHASESFREQUENCY : How frequently Purchases are happening in one-go (1 = frequently purchased, 0 = not frequently purchased)\n",
    "      * PURCHASESINSTALLMENTSFREQUENCY : How frequently purchases in installments are being done (1 = frequently done, 0 = not frequently done)\n",
    "      * CASHADVANCEFREQUENCY : How frequently the cash in advance being paid\n",
    "      * CASHADVANCETRX : Number of Transactions made with \"Cash in Advanced\"\n",
    "      * PURCHASESTRX : Number of purchase transactions made\n",
    "      * CREDITLIMIT : Limit of Credit Card for user\n",
    "      * PAYMENTS : Amount of Payment done by user\n",
    "      * MINIMUM_PAYMENTS : Minimum amount of payments made by user\n",
    "      * PRCFULLPAYMENT : Percent of full payment paid by user\n",
    "      * TENURE : Tenure of credit card service for user"
   ]
  },
  {
   "cell_type": "markdown",
   "metadata": {
    "cell_id": "39a1f33a9b2445c9b60bba3d001efe0b",
    "deepnote_cell_type": "markdown",
    "tags": []
   },
   "source": [
    "## Data: basic overview\n",
    "* I will use the `pandas` package to load the data and do a basic exploration."
   ]
  },
  {
   "cell_type": "code",
   "execution_count": 1,
   "metadata": {},
   "outputs": [],
   "source": [
    "import warnings\n",
    "\n",
    "warnings.simplefilter(action=\"ignore\", category=FutureWarning)\n",
    "warnings.simplefilter(action=\"ignore\", category=DeprecationWarning)\n",
    "warnings.simplefilter(action=\"ignore\", category=UserWarning)"
   ]
  },
  {
   "cell_type": "code",
   "execution_count": 2,
   "metadata": {
    "cell_id": "189d4e738678432b894a17f4613ba101",
    "deepnote_cell_type": "code",
    "deepnote_to_be_reexecuted": false,
    "execution_millis": 3155809,
    "execution_start": 1672869223388,
    "source_hash": "6dc32da",
    "tags": []
   },
   "outputs": [],
   "source": [
    "import pandas as pd\n",
    "import numpy as np\n",
    "\n",
    "# suppress scientific float notation (so 0.000 is printed as 0.)\n",
    "np.set_printoptions(precision=5, suppress=True)"
   ]
  },
  {
   "cell_type": "code",
   "execution_count": 3,
   "metadata": {
    "cell_id": "2da9e524e0664a5b9097e95d06c8546d",
    "deepnote_cell_type": "code",
    "deepnote_to_be_reexecuted": false,
    "execution_millis": 3155912,
    "execution_start": 1672869223424,
    "source_hash": "f4271c2",
    "tags": []
   },
   "outputs": [],
   "source": [
    "data = pd.read_csv('CC GENERAL.csv')"
   ]
  },
  {
   "cell_type": "code",
   "execution_count": 4,
   "metadata": {
    "cell_id": "e22c5973cb974c20b78ad9bd67468d00",
    "deepnote_cell_type": "code",
    "deepnote_to_be_reexecuted": false,
    "execution_millis": 238,
    "execution_start": 1672869223425,
    "source_hash": "eff99922",
    "tags": []
   },
   "outputs": [
    {
     "name": "stdout",
     "output_type": "stream",
     "text": [
      "data shape: (8950, 18)\n"
     ]
    },
    {
     "data": {
      "text/html": [
       "<div>\n",
       "<style scoped>\n",
       "    .dataframe tbody tr th:only-of-type {\n",
       "        vertical-align: middle;\n",
       "    }\n",
       "\n",
       "    .dataframe tbody tr th {\n",
       "        vertical-align: top;\n",
       "    }\n",
       "\n",
       "    .dataframe thead th {\n",
       "        text-align: right;\n",
       "    }\n",
       "</style>\n",
       "<table border=\"1\" class=\"dataframe\">\n",
       "  <thead>\n",
       "    <tr style=\"text-align: right;\">\n",
       "      <th></th>\n",
       "      <th>CUST_ID</th>\n",
       "      <th>BALANCE</th>\n",
       "      <th>BALANCE_FREQUENCY</th>\n",
       "      <th>PURCHASES</th>\n",
       "      <th>ONEOFF_PURCHASES</th>\n",
       "      <th>INSTALLMENTS_PURCHASES</th>\n",
       "      <th>CASH_ADVANCE</th>\n",
       "      <th>PURCHASES_FREQUENCY</th>\n",
       "      <th>ONEOFF_PURCHASES_FREQUENCY</th>\n",
       "      <th>PURCHASES_INSTALLMENTS_FREQUENCY</th>\n",
       "      <th>CASH_ADVANCE_FREQUENCY</th>\n",
       "      <th>CASH_ADVANCE_TRX</th>\n",
       "      <th>PURCHASES_TRX</th>\n",
       "      <th>CREDIT_LIMIT</th>\n",
       "      <th>PAYMENTS</th>\n",
       "      <th>MINIMUM_PAYMENTS</th>\n",
       "      <th>PRC_FULL_PAYMENT</th>\n",
       "      <th>TENURE</th>\n",
       "    </tr>\n",
       "  </thead>\n",
       "  <tbody>\n",
       "    <tr>\n",
       "      <th>0</th>\n",
       "      <td>C10001</td>\n",
       "      <td>40.900749</td>\n",
       "      <td>0.818182</td>\n",
       "      <td>95.40</td>\n",
       "      <td>0.00</td>\n",
       "      <td>95.4</td>\n",
       "      <td>0.000000</td>\n",
       "      <td>0.166667</td>\n",
       "      <td>0.000000</td>\n",
       "      <td>0.083333</td>\n",
       "      <td>0.000000</td>\n",
       "      <td>0</td>\n",
       "      <td>2</td>\n",
       "      <td>1000.0</td>\n",
       "      <td>201.802084</td>\n",
       "      <td>139.509787</td>\n",
       "      <td>0.000000</td>\n",
       "      <td>12</td>\n",
       "    </tr>\n",
       "    <tr>\n",
       "      <th>1</th>\n",
       "      <td>C10002</td>\n",
       "      <td>3202.467416</td>\n",
       "      <td>0.909091</td>\n",
       "      <td>0.00</td>\n",
       "      <td>0.00</td>\n",
       "      <td>0.0</td>\n",
       "      <td>6442.945483</td>\n",
       "      <td>0.000000</td>\n",
       "      <td>0.000000</td>\n",
       "      <td>0.000000</td>\n",
       "      <td>0.250000</td>\n",
       "      <td>4</td>\n",
       "      <td>0</td>\n",
       "      <td>7000.0</td>\n",
       "      <td>4103.032597</td>\n",
       "      <td>1072.340217</td>\n",
       "      <td>0.222222</td>\n",
       "      <td>12</td>\n",
       "    </tr>\n",
       "    <tr>\n",
       "      <th>2</th>\n",
       "      <td>C10003</td>\n",
       "      <td>2495.148862</td>\n",
       "      <td>1.000000</td>\n",
       "      <td>773.17</td>\n",
       "      <td>773.17</td>\n",
       "      <td>0.0</td>\n",
       "      <td>0.000000</td>\n",
       "      <td>1.000000</td>\n",
       "      <td>1.000000</td>\n",
       "      <td>0.000000</td>\n",
       "      <td>0.000000</td>\n",
       "      <td>0</td>\n",
       "      <td>12</td>\n",
       "      <td>7500.0</td>\n",
       "      <td>622.066742</td>\n",
       "      <td>627.284787</td>\n",
       "      <td>0.000000</td>\n",
       "      <td>12</td>\n",
       "    </tr>\n",
       "    <tr>\n",
       "      <th>3</th>\n",
       "      <td>C10004</td>\n",
       "      <td>1666.670542</td>\n",
       "      <td>0.636364</td>\n",
       "      <td>1499.00</td>\n",
       "      <td>1499.00</td>\n",
       "      <td>0.0</td>\n",
       "      <td>205.788017</td>\n",
       "      <td>0.083333</td>\n",
       "      <td>0.083333</td>\n",
       "      <td>0.000000</td>\n",
       "      <td>0.083333</td>\n",
       "      <td>1</td>\n",
       "      <td>1</td>\n",
       "      <td>7500.0</td>\n",
       "      <td>0.000000</td>\n",
       "      <td>NaN</td>\n",
       "      <td>0.000000</td>\n",
       "      <td>12</td>\n",
       "    </tr>\n",
       "    <tr>\n",
       "      <th>4</th>\n",
       "      <td>C10005</td>\n",
       "      <td>817.714335</td>\n",
       "      <td>1.000000</td>\n",
       "      <td>16.00</td>\n",
       "      <td>16.00</td>\n",
       "      <td>0.0</td>\n",
       "      <td>0.000000</td>\n",
       "      <td>0.083333</td>\n",
       "      <td>0.083333</td>\n",
       "      <td>0.000000</td>\n",
       "      <td>0.000000</td>\n",
       "      <td>0</td>\n",
       "      <td>1</td>\n",
       "      <td>1200.0</td>\n",
       "      <td>678.334763</td>\n",
       "      <td>244.791237</td>\n",
       "      <td>0.000000</td>\n",
       "      <td>12</td>\n",
       "    </tr>\n",
       "  </tbody>\n",
       "</table>\n",
       "</div>"
      ],
      "text/plain": [
       "  CUST_ID      BALANCE  BALANCE_FREQUENCY  PURCHASES  ONEOFF_PURCHASES  \\\n",
       "0  C10001    40.900749           0.818182      95.40              0.00   \n",
       "1  C10002  3202.467416           0.909091       0.00              0.00   \n",
       "2  C10003  2495.148862           1.000000     773.17            773.17   \n",
       "3  C10004  1666.670542           0.636364    1499.00           1499.00   \n",
       "4  C10005   817.714335           1.000000      16.00             16.00   \n",
       "\n",
       "   INSTALLMENTS_PURCHASES  CASH_ADVANCE  PURCHASES_FREQUENCY  \\\n",
       "0                    95.4      0.000000             0.166667   \n",
       "1                     0.0   6442.945483             0.000000   \n",
       "2                     0.0      0.000000             1.000000   \n",
       "3                     0.0    205.788017             0.083333   \n",
       "4                     0.0      0.000000             0.083333   \n",
       "\n",
       "   ONEOFF_PURCHASES_FREQUENCY  PURCHASES_INSTALLMENTS_FREQUENCY  \\\n",
       "0                    0.000000                          0.083333   \n",
       "1                    0.000000                          0.000000   \n",
       "2                    1.000000                          0.000000   \n",
       "3                    0.083333                          0.000000   \n",
       "4                    0.083333                          0.000000   \n",
       "\n",
       "   CASH_ADVANCE_FREQUENCY  CASH_ADVANCE_TRX  PURCHASES_TRX  CREDIT_LIMIT  \\\n",
       "0                0.000000                 0              2        1000.0   \n",
       "1                0.250000                 4              0        7000.0   \n",
       "2                0.000000                 0             12        7500.0   \n",
       "3                0.083333                 1              1        7500.0   \n",
       "4                0.000000                 0              1        1200.0   \n",
       "\n",
       "      PAYMENTS  MINIMUM_PAYMENTS  PRC_FULL_PAYMENT  TENURE  \n",
       "0   201.802084        139.509787          0.000000      12  \n",
       "1  4103.032597       1072.340217          0.222222      12  \n",
       "2   622.066742        627.284787          0.000000      12  \n",
       "3     0.000000               NaN          0.000000      12  \n",
       "4   678.334763        244.791237          0.000000      12  "
      ]
     },
     "metadata": {},
     "output_type": "display_data"
    }
   ],
   "source": [
    "print('data shape: ' + str(data.shape))\n",
    "display(data.head())"
   ]
  },
  {
   "cell_type": "code",
   "execution_count": 5,
   "metadata": {
    "cell_id": "11431792dfa7499a8c74282c21c96de0",
    "deepnote_cell_type": "code",
    "deepnote_to_be_reexecuted": false,
    "execution_millis": 45,
    "execution_start": 1672869223730,
    "source_hash": "f85481ff",
    "tags": []
   },
   "outputs": [
    {
     "name": "stdout",
     "output_type": "stream",
     "text": [
      "<class 'pandas.core.frame.DataFrame'>\n",
      "RangeIndex: 8950 entries, 0 to 8949\n",
      "Data columns (total 18 columns):\n",
      " #   Column                            Non-Null Count  Dtype  \n",
      "---  ------                            --------------  -----  \n",
      " 0   CUST_ID                           8950 non-null   object \n",
      " 1   BALANCE                           8950 non-null   float64\n",
      " 2   BALANCE_FREQUENCY                 8950 non-null   float64\n",
      " 3   PURCHASES                         8950 non-null   float64\n",
      " 4   ONEOFF_PURCHASES                  8950 non-null   float64\n",
      " 5   INSTALLMENTS_PURCHASES            8950 non-null   float64\n",
      " 6   CASH_ADVANCE                      8950 non-null   float64\n",
      " 7   PURCHASES_FREQUENCY               8950 non-null   float64\n",
      " 8   ONEOFF_PURCHASES_FREQUENCY        8950 non-null   float64\n",
      " 9   PURCHASES_INSTALLMENTS_FREQUENCY  8950 non-null   float64\n",
      " 10  CASH_ADVANCE_FREQUENCY            8950 non-null   float64\n",
      " 11  CASH_ADVANCE_TRX                  8950 non-null   int64  \n",
      " 12  PURCHASES_TRX                     8950 non-null   int64  \n",
      " 13  CREDIT_LIMIT                      8949 non-null   float64\n",
      " 14  PAYMENTS                          8950 non-null   float64\n",
      " 15  MINIMUM_PAYMENTS                  8637 non-null   float64\n",
      " 16  PRC_FULL_PAYMENT                  8950 non-null   float64\n",
      " 17  TENURE                            8950 non-null   int64  \n",
      "dtypes: float64(14), int64(3), object(1)\n",
      "memory usage: 1.2+ MB\n"
     ]
    },
    {
     "data": {
      "text/plain": [
       "None"
      ]
     },
     "metadata": {},
     "output_type": "display_data"
    }
   ],
   "source": [
    "display(data.info())"
   ]
  },
  {
   "cell_type": "code",
   "execution_count": 6,
   "metadata": {
    "cell_id": "85038675c580470497e1bc1482120b73",
    "deepnote_cell_type": "code",
    "deepnote_to_be_reexecuted": false,
    "execution_millis": 334,
    "execution_start": 1672869223795,
    "source_hash": "cbf1f220",
    "tags": []
   },
   "outputs": [
    {
     "data": {
      "text/html": [
       "<div>\n",
       "<style scoped>\n",
       "    .dataframe tbody tr th:only-of-type {\n",
       "        vertical-align: middle;\n",
       "    }\n",
       "\n",
       "    .dataframe tbody tr th {\n",
       "        vertical-align: top;\n",
       "    }\n",
       "\n",
       "    .dataframe thead th {\n",
       "        text-align: right;\n",
       "    }\n",
       "</style>\n",
       "<table border=\"1\" class=\"dataframe\">\n",
       "  <thead>\n",
       "    <tr style=\"text-align: right;\">\n",
       "      <th></th>\n",
       "      <th>BALANCE</th>\n",
       "      <th>BALANCE_FREQUENCY</th>\n",
       "      <th>PURCHASES</th>\n",
       "      <th>ONEOFF_PURCHASES</th>\n",
       "      <th>INSTALLMENTS_PURCHASES</th>\n",
       "      <th>CASH_ADVANCE</th>\n",
       "      <th>PURCHASES_FREQUENCY</th>\n",
       "      <th>ONEOFF_PURCHASES_FREQUENCY</th>\n",
       "      <th>PURCHASES_INSTALLMENTS_FREQUENCY</th>\n",
       "      <th>CASH_ADVANCE_FREQUENCY</th>\n",
       "      <th>CASH_ADVANCE_TRX</th>\n",
       "      <th>PURCHASES_TRX</th>\n",
       "      <th>CREDIT_LIMIT</th>\n",
       "      <th>PAYMENTS</th>\n",
       "      <th>MINIMUM_PAYMENTS</th>\n",
       "      <th>PRC_FULL_PAYMENT</th>\n",
       "      <th>TENURE</th>\n",
       "    </tr>\n",
       "  </thead>\n",
       "  <tbody>\n",
       "    <tr>\n",
       "      <th>count</th>\n",
       "      <td>8950.000000</td>\n",
       "      <td>8950.000000</td>\n",
       "      <td>8950.000000</td>\n",
       "      <td>8950.000000</td>\n",
       "      <td>8950.000000</td>\n",
       "      <td>8950.000000</td>\n",
       "      <td>8950.000000</td>\n",
       "      <td>8950.000000</td>\n",
       "      <td>8950.000000</td>\n",
       "      <td>8950.000000</td>\n",
       "      <td>8950.000000</td>\n",
       "      <td>8950.000000</td>\n",
       "      <td>8949.000000</td>\n",
       "      <td>8950.000000</td>\n",
       "      <td>8637.000000</td>\n",
       "      <td>8950.000000</td>\n",
       "      <td>8950.000000</td>\n",
       "    </tr>\n",
       "    <tr>\n",
       "      <th>mean</th>\n",
       "      <td>1564.474828</td>\n",
       "      <td>0.877271</td>\n",
       "      <td>1003.204834</td>\n",
       "      <td>592.437371</td>\n",
       "      <td>411.067645</td>\n",
       "      <td>978.871112</td>\n",
       "      <td>0.490351</td>\n",
       "      <td>0.202458</td>\n",
       "      <td>0.364437</td>\n",
       "      <td>0.135144</td>\n",
       "      <td>3.248827</td>\n",
       "      <td>14.709832</td>\n",
       "      <td>4494.449450</td>\n",
       "      <td>1733.143852</td>\n",
       "      <td>864.206542</td>\n",
       "      <td>0.153715</td>\n",
       "      <td>11.517318</td>\n",
       "    </tr>\n",
       "    <tr>\n",
       "      <th>std</th>\n",
       "      <td>2081.531879</td>\n",
       "      <td>0.236904</td>\n",
       "      <td>2136.634782</td>\n",
       "      <td>1659.887917</td>\n",
       "      <td>904.338115</td>\n",
       "      <td>2097.163877</td>\n",
       "      <td>0.401371</td>\n",
       "      <td>0.298336</td>\n",
       "      <td>0.397448</td>\n",
       "      <td>0.200121</td>\n",
       "      <td>6.824647</td>\n",
       "      <td>24.857649</td>\n",
       "      <td>3638.815725</td>\n",
       "      <td>2895.063757</td>\n",
       "      <td>2372.446607</td>\n",
       "      <td>0.292499</td>\n",
       "      <td>1.338331</td>\n",
       "    </tr>\n",
       "    <tr>\n",
       "      <th>min</th>\n",
       "      <td>0.000000</td>\n",
       "      <td>0.000000</td>\n",
       "      <td>0.000000</td>\n",
       "      <td>0.000000</td>\n",
       "      <td>0.000000</td>\n",
       "      <td>0.000000</td>\n",
       "      <td>0.000000</td>\n",
       "      <td>0.000000</td>\n",
       "      <td>0.000000</td>\n",
       "      <td>0.000000</td>\n",
       "      <td>0.000000</td>\n",
       "      <td>0.000000</td>\n",
       "      <td>50.000000</td>\n",
       "      <td>0.000000</td>\n",
       "      <td>0.019163</td>\n",
       "      <td>0.000000</td>\n",
       "      <td>6.000000</td>\n",
       "    </tr>\n",
       "    <tr>\n",
       "      <th>25%</th>\n",
       "      <td>128.281915</td>\n",
       "      <td>0.888889</td>\n",
       "      <td>39.635000</td>\n",
       "      <td>0.000000</td>\n",
       "      <td>0.000000</td>\n",
       "      <td>0.000000</td>\n",
       "      <td>0.083333</td>\n",
       "      <td>0.000000</td>\n",
       "      <td>0.000000</td>\n",
       "      <td>0.000000</td>\n",
       "      <td>0.000000</td>\n",
       "      <td>1.000000</td>\n",
       "      <td>1600.000000</td>\n",
       "      <td>383.276166</td>\n",
       "      <td>169.123707</td>\n",
       "      <td>0.000000</td>\n",
       "      <td>12.000000</td>\n",
       "    </tr>\n",
       "    <tr>\n",
       "      <th>50%</th>\n",
       "      <td>873.385231</td>\n",
       "      <td>1.000000</td>\n",
       "      <td>361.280000</td>\n",
       "      <td>38.000000</td>\n",
       "      <td>89.000000</td>\n",
       "      <td>0.000000</td>\n",
       "      <td>0.500000</td>\n",
       "      <td>0.083333</td>\n",
       "      <td>0.166667</td>\n",
       "      <td>0.000000</td>\n",
       "      <td>0.000000</td>\n",
       "      <td>7.000000</td>\n",
       "      <td>3000.000000</td>\n",
       "      <td>856.901546</td>\n",
       "      <td>312.343947</td>\n",
       "      <td>0.000000</td>\n",
       "      <td>12.000000</td>\n",
       "    </tr>\n",
       "    <tr>\n",
       "      <th>75%</th>\n",
       "      <td>2054.140036</td>\n",
       "      <td>1.000000</td>\n",
       "      <td>1110.130000</td>\n",
       "      <td>577.405000</td>\n",
       "      <td>468.637500</td>\n",
       "      <td>1113.821139</td>\n",
       "      <td>0.916667</td>\n",
       "      <td>0.300000</td>\n",
       "      <td>0.750000</td>\n",
       "      <td>0.222222</td>\n",
       "      <td>4.000000</td>\n",
       "      <td>17.000000</td>\n",
       "      <td>6500.000000</td>\n",
       "      <td>1901.134317</td>\n",
       "      <td>825.485459</td>\n",
       "      <td>0.142857</td>\n",
       "      <td>12.000000</td>\n",
       "    </tr>\n",
       "    <tr>\n",
       "      <th>max</th>\n",
       "      <td>19043.138560</td>\n",
       "      <td>1.000000</td>\n",
       "      <td>49039.570000</td>\n",
       "      <td>40761.250000</td>\n",
       "      <td>22500.000000</td>\n",
       "      <td>47137.211760</td>\n",
       "      <td>1.000000</td>\n",
       "      <td>1.000000</td>\n",
       "      <td>1.000000</td>\n",
       "      <td>1.500000</td>\n",
       "      <td>123.000000</td>\n",
       "      <td>358.000000</td>\n",
       "      <td>30000.000000</td>\n",
       "      <td>50721.483360</td>\n",
       "      <td>76406.207520</td>\n",
       "      <td>1.000000</td>\n",
       "      <td>12.000000</td>\n",
       "    </tr>\n",
       "  </tbody>\n",
       "</table>\n",
       "</div>"
      ],
      "text/plain": [
       "            BALANCE  BALANCE_FREQUENCY     PURCHASES  ONEOFF_PURCHASES  \\\n",
       "count   8950.000000        8950.000000   8950.000000       8950.000000   \n",
       "mean    1564.474828           0.877271   1003.204834        592.437371   \n",
       "std     2081.531879           0.236904   2136.634782       1659.887917   \n",
       "min        0.000000           0.000000      0.000000          0.000000   \n",
       "25%      128.281915           0.888889     39.635000          0.000000   \n",
       "50%      873.385231           1.000000    361.280000         38.000000   \n",
       "75%     2054.140036           1.000000   1110.130000        577.405000   \n",
       "max    19043.138560           1.000000  49039.570000      40761.250000   \n",
       "\n",
       "       INSTALLMENTS_PURCHASES  CASH_ADVANCE  PURCHASES_FREQUENCY  \\\n",
       "count             8950.000000   8950.000000          8950.000000   \n",
       "mean               411.067645    978.871112             0.490351   \n",
       "std                904.338115   2097.163877             0.401371   \n",
       "min                  0.000000      0.000000             0.000000   \n",
       "25%                  0.000000      0.000000             0.083333   \n",
       "50%                 89.000000      0.000000             0.500000   \n",
       "75%                468.637500   1113.821139             0.916667   \n",
       "max              22500.000000  47137.211760             1.000000   \n",
       "\n",
       "       ONEOFF_PURCHASES_FREQUENCY  PURCHASES_INSTALLMENTS_FREQUENCY  \\\n",
       "count                 8950.000000                       8950.000000   \n",
       "mean                     0.202458                          0.364437   \n",
       "std                      0.298336                          0.397448   \n",
       "min                      0.000000                          0.000000   \n",
       "25%                      0.000000                          0.000000   \n",
       "50%                      0.083333                          0.166667   \n",
       "75%                      0.300000                          0.750000   \n",
       "max                      1.000000                          1.000000   \n",
       "\n",
       "       CASH_ADVANCE_FREQUENCY  CASH_ADVANCE_TRX  PURCHASES_TRX  CREDIT_LIMIT  \\\n",
       "count             8950.000000       8950.000000    8950.000000   8949.000000   \n",
       "mean                 0.135144          3.248827      14.709832   4494.449450   \n",
       "std                  0.200121          6.824647      24.857649   3638.815725   \n",
       "min                  0.000000          0.000000       0.000000     50.000000   \n",
       "25%                  0.000000          0.000000       1.000000   1600.000000   \n",
       "50%                  0.000000          0.000000       7.000000   3000.000000   \n",
       "75%                  0.222222          4.000000      17.000000   6500.000000   \n",
       "max                  1.500000        123.000000     358.000000  30000.000000   \n",
       "\n",
       "           PAYMENTS  MINIMUM_PAYMENTS  PRC_FULL_PAYMENT       TENURE  \n",
       "count   8950.000000       8637.000000       8950.000000  8950.000000  \n",
       "mean    1733.143852        864.206542          0.153715    11.517318  \n",
       "std     2895.063757       2372.446607          0.292499     1.338331  \n",
       "min        0.000000          0.019163          0.000000     6.000000  \n",
       "25%      383.276166        169.123707          0.000000    12.000000  \n",
       "50%      856.901546        312.343947          0.000000    12.000000  \n",
       "75%     1901.134317        825.485459          0.142857    12.000000  \n",
       "max    50721.483360      76406.207520          1.000000    12.000000  "
      ]
     },
     "metadata": {},
     "output_type": "display_data"
    }
   ],
   "source": [
    "display(data.describe())"
   ]
  },
  {
   "cell_type": "code",
   "execution_count": 7,
   "metadata": {
    "cell_id": "8e984413febb40db8c07033c693776c2",
    "deepnote_cell_type": "code",
    "deepnote_to_be_reexecuted": false,
    "execution_millis": 63,
    "execution_start": 1672869224142,
    "source_hash": "fc5ba8e4",
    "tags": []
   },
   "outputs": [
    {
     "data": {
      "text/plain": [
       "CUST_ID                             8950\n",
       "BALANCE                             8871\n",
       "BALANCE_FREQUENCY                     43\n",
       "PURCHASES                           6203\n",
       "ONEOFF_PURCHASES                    4014\n",
       "INSTALLMENTS_PURCHASES              4452\n",
       "CASH_ADVANCE                        4323\n",
       "PURCHASES_FREQUENCY                   47\n",
       "ONEOFF_PURCHASES_FREQUENCY            47\n",
       "PURCHASES_INSTALLMENTS_FREQUENCY      47\n",
       "CASH_ADVANCE_FREQUENCY                54\n",
       "CASH_ADVANCE_TRX                      65\n",
       "PURCHASES_TRX                        173\n",
       "CREDIT_LIMIT                         205\n",
       "PAYMENTS                            8711\n",
       "MINIMUM_PAYMENTS                    8636\n",
       "PRC_FULL_PAYMENT                      47\n",
       "TENURE                                 7\n",
       "dtype: int64"
      ]
     },
     "metadata": {},
     "output_type": "display_data"
    }
   ],
   "source": [
    "display(data.nunique())"
   ]
  },
  {
   "cell_type": "markdown",
   "metadata": {
    "cell_id": "c0e75f8eb3604e07b278193ea40ea073",
    "deepnote_cell_type": "markdown",
    "tags": []
   },
   "source": [
    "## Data preparation\n"
   ]
  },
  {
   "cell_type": "markdown",
   "metadata": {
    "cell_id": "3cb9cf46b3664ed4a02b9a483eb5ebbb",
    "deepnote_cell_type": "markdown",
    "tags": []
   },
   "source": [
    "* When divided into clusters `CUST_ID` does not give information about account activity, so I will get rid of this feature. "
   ]
  },
  {
   "cell_type": "code",
   "execution_count": 8,
   "metadata": {
    "cell_id": "10e8ef4019974220bfd502904df371ed",
    "deepnote_cell_type": "code",
    "deepnote_to_be_reexecuted": false,
    "execution_millis": 1,
    "execution_start": 1672869224250,
    "source_hash": "697a8d09",
    "tags": []
   },
   "outputs": [],
   "source": [
    "data = data.drop('CUST_ID', axis=1)"
   ]
  },
  {
   "cell_type": "markdown",
   "metadata": {
    "cell_id": "34aa03d75fb344808bb953088c34d8d9",
    "deepnote_cell_type": "markdown",
    "tags": []
   },
   "source": [
    "### Missing values"
   ]
  },
  {
   "cell_type": "markdown",
   "metadata": {
    "cell_id": "12d9ca62c5ba46fe835fb6ed75db33e0",
    "deepnote_cell_type": "markdown",
    "tags": []
   },
   "source": [
    "* I'll see how many missing values are in the dataset."
   ]
  },
  {
   "cell_type": "code",
   "execution_count": 9,
   "metadata": {
    "cell_id": "e30ea49961344e7bb5f3225bb6a3cc48",
    "deepnote_cell_type": "code",
    "deepnote_to_be_reexecuted": false,
    "execution_millis": 44,
    "execution_start": 1672869224251,
    "source_hash": "878de0e4",
    "tags": []
   },
   "outputs": [
    {
     "data": {
      "text/plain": [
       "BALANCE                               0\n",
       "BALANCE_FREQUENCY                     0\n",
       "PURCHASES                             0\n",
       "ONEOFF_PURCHASES                      0\n",
       "INSTALLMENTS_PURCHASES                0\n",
       "CASH_ADVANCE                          0\n",
       "PURCHASES_FREQUENCY                   0\n",
       "ONEOFF_PURCHASES_FREQUENCY            0\n",
       "PURCHASES_INSTALLMENTS_FREQUENCY      0\n",
       "CASH_ADVANCE_FREQUENCY                0\n",
       "CASH_ADVANCE_TRX                      0\n",
       "PURCHASES_TRX                         0\n",
       "CREDIT_LIMIT                          1\n",
       "PAYMENTS                              0\n",
       "MINIMUM_PAYMENTS                    313\n",
       "PRC_FULL_PAYMENT                      0\n",
       "TENURE                                0\n",
       "dtype: int64"
      ]
     },
     "execution_count": 9,
     "metadata": {},
     "output_type": "execute_result"
    }
   ],
   "source": [
    "data.isnull().sum()"
   ]
  },
  {
   "cell_type": "markdown",
   "metadata": {
    "cell_id": "aca06016c0a642f688a6a8746645f0ae",
    "deepnote_cell_type": "markdown",
    "tags": []
   },
   "source": [
    "* Replacing the missing values with the mean value of the present data in that column where I've detected missing values."
   ]
  },
  {
   "cell_type": "code",
   "execution_count": 10,
   "metadata": {
    "cell_id": "bd97ac9c2da4461089fd593f8bf3965e",
    "deepnote_cell_type": "code",
    "deepnote_to_be_reexecuted": false,
    "execution_millis": 2,
    "execution_start": 1672869224302,
    "source_hash": "421248b7",
    "tags": []
   },
   "outputs": [],
   "source": [
    "data[\"CREDIT_LIMIT\"].fillna(data[\"CREDIT_LIMIT\"].mean(),inplace=True)\n",
    "data[\"MINIMUM_PAYMENTS\"].fillna(data[\"MINIMUM_PAYMENTS\"].mean(),inplace=True)"
   ]
  },
  {
   "cell_type": "markdown",
   "metadata": {
    "cell_id": "ba74407958f94710aad839c48d78679d",
    "deepnote_cell_type": "markdown",
    "deepnote_to_be_reexecuted": false,
    "execution_millis": 1,
    "execution_start": 1671743874128,
    "source_hash": "96b14ba5",
    "tags": []
   },
   "source": [
    "### Remove duplicates"
   ]
  },
  {
   "cell_type": "markdown",
   "metadata": {
    "cell_id": "dbc4252ed56d443dbd492db99ecf8468",
    "deepnote_cell_type": "markdown",
    "tags": []
   },
   "source": [
    "* If there are duplicate data in the dataset, I remove it."
   ]
  },
  {
   "cell_type": "code",
   "execution_count": 11,
   "metadata": {
    "cell_id": "10ea296c1aa24af0aa1bd6a8c3769448",
    "deepnote_cell_type": "code",
    "deepnote_to_be_reexecuted": false,
    "execution_millis": 0,
    "execution_start": 1672869224354,
    "source_hash": "75094714",
    "tags": []
   },
   "outputs": [],
   "source": [
    "data = data.drop_duplicates()"
   ]
  },
  {
   "cell_type": "markdown",
   "metadata": {
    "cell_id": "77b0a6d484a446939dfc086beeddb010",
    "deepnote_cell_type": "markdown",
    "tags": []
   },
   "source": [
    "## Custom implementation of the KMeans algorithm"
   ]
  },
  {
   "cell_type": "markdown",
   "metadata": {
    "cell_id": "6a73aec3d28d4bf6969cbe4248b5aef3",
    "deepnote_cell_type": "markdown",
    "tags": []
   },
   "source": [
    "* Method fit takes a dataset (data) as input and runs the KMeans algorithm to find clusters in the data.\n",
    "* Next class is my custom implemenntation of the KMeans algorithm."
   ]
  },
  {
   "cell_type": "code",
   "execution_count": 12,
   "metadata": {
    "cell_id": "93acf739e78c465f975045063acd1f97",
    "deepnote_cell_type": "code",
    "deepnote_to_be_reexecuted": false,
    "execution_millis": 1,
    "execution_start": 1672869224446,
    "source_hash": "f4176dfe",
    "tags": []
   },
   "outputs": [],
   "source": [
    "class custom_kmeans:\n",
    "\n",
    "    def __init__ (self, n_clusters, max_iter=300, random_state=None):\n",
    "        self.n_clusters = n_clusters\n",
    "        self.max_iter = max_iter\n",
    "        self.random_state = random_state\n",
    "        self.cluster_centers = None\n",
    "        self.labels = []\n",
    "        self.func_val = 0\n",
    "\n",
    "    def fit (self, data):\n",
    "        np_data = data.values\n",
    "        self.cluster_centers = np.array (data.sample(self.n_clusters, random_state=self.random_state).values)\n",
    "        iteration = 0\n",
    "        while iteration < self.max_iter + 1:\n",
    "            clusters = {i: [] for i in range (self.n_clusters)}\n",
    "            self.labels=[]\n",
    "            distances = np.linalg.norm(np_data[ :, None, : ] - self.cluster_centers, 2, axis=2)\n",
    "            cluster_indices = np.argmin(distances, axis=1)\n",
    "            for i, cluster_index in enumerate (cluster_indices):\n",
    "                clusters [cluster_index].append(np_data[i])\n",
    "                self.labels.append(cluster_index)\n",
    "            cluster_centers_new = np.array([np.mean(cluster, axis=0) for cluster in clusters.values( )])\n",
    "            if np.allclose(cluster_centers_new, self.cluster_centers):\n",
    "                break \n",
    "            else:\n",
    "                self.cluster_centers = cluster_centers_new\n",
    "            iteration += 1\n",
    "        for id, cluster in clusters.items ( ):\n",
    "            for c in cluster:\n",
    "                self.func_val += np.linalg.norm(c - self.cluster_centers[id], 2)**2\n",
    "            \n",
    "    @property\n",
    "    def centroids_ (self):\n",
    "        return self.cluster_centers\n",
    "\n",
    "    @property\n",
    "    def labels_ (self):\n",
    "        return self.labels\n",
    "\n",
    "    @property\n",
    "    def inertia_ (self):\n",
    "        return self.func_val"
   ]
  },
  {
   "cell_type": "code",
   "execution_count": 13,
   "metadata": {
    "cell_id": "beb0e206a48a42eab227b7b5a816b112",
    "deepnote_cell_type": "code",
    "deepnote_to_be_reexecuted": false,
    "execution_millis": 2275,
    "execution_start": 1672869224447,
    "source_hash": "4af2d192",
    "tags": []
   },
   "outputs": [],
   "source": [
    "from random import random\n",
    "from random import seed\n",
    "\n",
    "rd_seed = 47\n",
    "num_clusters = 3\n",
    "\n",
    "custom = custom_kmeans(num_clusters, random_state = rd_seed)\n",
    "custom.fit(data)"
   ]
  },
  {
   "cell_type": "code",
   "execution_count": 14,
   "metadata": {
    "cell_id": "32defdd645624df3abaf982ac33f14d0",
    "deepnote_cell_type": "code",
    "deepnote_to_be_reexecuted": false,
    "execution_millis": 6,
    "execution_start": 1672869226732,
    "source_hash": "9151b817",
    "tags": []
   },
   "outputs": [
    {
     "name": "stdout",
     "output_type": "stream",
     "text": [
      "middles of resulting clusters: [[  855.06107     0.85422   603.00316   311.93663   291.3654    494.88869\n",
      "      0.46749     0.15395     0.35227     0.10678     2.25322    10.6566\n",
      "   2745.91534   996.33917   585.24796     0.15682    11.43282]\n",
      " [ 4797.20357     0.90847 10470.72366  7392.99015  3077.89769  5389.98332\n",
      "      0.73738     0.58288     0.59293     0.22911     9.18657    83.79104\n",
      "  12470.52239 17990.69494  2462.05952     0.3268     11.84328]\n",
      " [ 3390.34244     0.94091  1587.11921   992.0849    595.34613  2095.80332\n",
      "      0.54084     0.31802     0.38566     0.2102      5.72953    22.18815\n",
      "   8994.2964   2876.63456  1563.11666     0.13479    11.73824]]\n"
     ]
    }
   ],
   "source": [
    "# middles of resulting clusters\n",
    "print('middles of resulting clusters: ' + str(custom.cluster_centers))"
   ]
  },
  {
   "cell_type": "markdown",
   "metadata": {
    "cell_id": "9ab03fce7567409db73e8d1b5329fedc",
    "deepnote_cell_type": "markdown",
    "tags": []
   },
   "source": [
    "### Clustering with the `sklearn.cluster.KMeans` implementation"
   ]
  },
  {
   "cell_type": "code",
   "execution_count": 15,
   "metadata": {
    "cell_id": "75b4ff4041864408b2948a8afad95cd4",
    "deepnote_cell_type": "code",
    "deepnote_to_be_reexecuted": false,
    "execution_millis": 3332,
    "execution_start": 1672869226794,
    "source_hash": "4e7a3b0b",
    "tags": []
   },
   "outputs": [
    {
     "name": "stdout",
     "output_type": "stream",
     "text": [
      "resulting clusters: [1 0 1 ... 1 1 1]\n",
      "middles of resulting clusters: [[3831.74174    0.93982 2364.99888 1551.49934  813.88269 2592.14186\n",
      "     0.55766    0.34588    0.40581    0.22747    6.57892   28.00467\n",
      "  9814.3845  4295.29635 1764.3984     0.14954   11.73832]\n",
      " [ 942.78404    0.86012  629.79718  329.45996  300.61466  536.50786\n",
      "     0.4719     0.16313    0.35309    0.10983    2.33571   11.06435\n",
      "  3035.70872 1030.59463  617.37147    0.15486   11.45672]]\n"
     ]
    }
   ],
   "source": [
    "from sklearn.cluster import KMeans\n",
    "\n",
    "# Let's try 2 shucks first\n",
    "k = 2\n",
    "kmeans = KMeans(n_clusters = k, random_state = 1).fit(data)\n",
    "\n",
    "# the resulting clusters\n",
    "print('resulting clusters: ' + str(kmeans.labels_))\n",
    "# and their middles\n",
    "print('middles of resulting clusters: ' + str(kmeans.cluster_centers_))"
   ]
  },
  {
   "cell_type": "code",
   "execution_count": 16,
   "metadata": {
    "cell_id": "4faa977d526740268d2df0ed2d06bc57",
    "deepnote_cell_type": "code",
    "deepnote_to_be_reexecuted": false,
    "execution_millis": 45,
    "execution_start": 1672869230187,
    "source_hash": "29937d2f",
    "tags": []
   },
   "outputs": [
    {
     "name": "stdout",
     "output_type": "stream",
     "text": [
      "resulting clusters: [0 2 2 ... 0 0 0]\n",
      "middles of resulting clusters: [[  854.888       0.85404   601.96949   311.47573   290.79328   494.82996\n",
      "      0.46705     0.15359     0.35212     0.1069      2.25623    10.64617\n",
      "   2737.05319   995.93698   585.54238     0.1567     11.43191]\n",
      " [ 4797.20357     0.90847 10470.72366  7392.99015  3077.89769  5389.98332\n",
      "      0.73738     0.58288     0.59293     0.22911     9.18657    83.79104\n",
      "  12470.52239 17990.69494  2462.05952     0.3268     11.84328]\n",
      " [ 3375.46454     0.94089  1584.06615   989.26091   595.11518  2086.26621\n",
      "      0.54166     0.31801     0.38588     0.20925     5.7        22.14762\n",
      "   8981.38725  2866.37158  1556.36096     0.13526    11.73896]]\n"
     ]
    }
   ],
   "source": [
    "# Same for the 3 clusters\n",
    "k = 3\n",
    "kmeans = KMeans(n_clusters = k, init = 'random', n_init = 1, random_state = rd_seed).fit(data)\n",
    "\n",
    "# the resulting clusters\n",
    "print('resulting clusters: ' + str(kmeans.labels_))\n",
    "# and their middles\n",
    "print('middles of resulting clusters: ' + str(kmeans.cluster_centers_))"
   ]
  },
  {
   "cell_type": "code",
   "execution_count": 17,
   "metadata": {
    "cell_id": "7b0d3ddad0484a17b5e1906db2c8d274",
    "deepnote_cell_type": "code",
    "deepnote_to_be_reexecuted": false,
    "execution_millis": 15,
    "execution_start": 1672869230291,
    "source_hash": "cc33ac09",
    "tags": []
   },
   "outputs": [
    {
     "name": "stdout",
     "output_type": "stream",
     "text": [
      "middles of resulting clusters KMeans from library: [[  854.888       0.85404   601.96949   311.47573   290.79328   494.82996\n",
      "      0.46705     0.15359     0.35212     0.1069      2.25623    10.64617\n",
      "   2737.05319   995.93698   585.54238     0.1567     11.43191]\n",
      " [ 4797.20357     0.90847 10470.72366  7392.99015  3077.89769  5389.98332\n",
      "      0.73738     0.58288     0.59293     0.22911     9.18657    83.79104\n",
      "  12470.52239 17990.69494  2462.05952     0.3268     11.84328]\n",
      " [ 3375.46454     0.94089  1584.06615   989.26091   595.11518  2086.26621\n",
      "      0.54166     0.31801     0.38588     0.20925     5.7        22.14762\n",
      "   8981.38725  2866.37158  1556.36096     0.13526    11.73896]]\n",
      "middles of resulting clusters KMeans custom: [[  855.06107     0.85422   603.00316   311.93663   291.3654    494.88869\n",
      "      0.46749     0.15395     0.35227     0.10678     2.25322    10.6566\n",
      "   2745.91534   996.33917   585.24796     0.15682    11.43282]\n",
      " [ 4797.20357     0.90847 10470.72366  7392.99015  3077.89769  5389.98332\n",
      "      0.73738     0.58288     0.59293     0.22911     9.18657    83.79104\n",
      "  12470.52239 17990.69494  2462.05952     0.3268     11.84328]\n",
      " [ 3390.34244     0.94091  1587.11921   992.0849    595.34613  2095.80332\n",
      "      0.54084     0.31802     0.38566     0.2102      5.72953    22.18815\n",
      "   8994.2964   2876.63456  1563.11666     0.13479    11.73824]]\n"
     ]
    }
   ],
   "source": [
    "print('middles of resulting clusters KMeans from library: ' + str(kmeans.cluster_centers_))\n",
    "print('middles of resulting clusters KMeans custom: ' + str(custom.cluster_centers))"
   ]
  },
  {
   "cell_type": "markdown",
   "metadata": {
    "cell_id": "568fe5839bd84758942bc4ca91c4b583",
    "deepnote_cell_type": "markdown",
    "tags": []
   },
   "source": [
    "* Centroids of the clusters almost matched, which means that the custom algorithm is valid.\n",
    "  - The centers may not match because the initialization is randomized. "
   ]
  },
  {
   "cell_type": "markdown",
   "metadata": {
    "cell_id": "58c12fd8ed4048dcb78705407085b834",
    "deepnote_cell_type": "markdown",
    "tags": []
   },
   "source": [
    "### Determining the optimal value of $k$ for KMeans from library\n",
    "* I'll display the value of the objective function of the dependence on $k$ and look for a breakpoint (elbow)."
   ]
  },
  {
   "cell_type": "code",
   "execution_count": 18,
   "metadata": {
    "cell_id": "e1a3ed4846864cfda5c22d90c811df3f",
    "deepnote_cell_type": "code",
    "deepnote_to_be_reexecuted": false,
    "execution_millis": 16595,
    "execution_start": 1672869230308,
    "source_hash": "6ea9569c",
    "tags": []
   },
   "outputs": [
    {
     "data": {
      "image/png": "[encoded data removed]",
      "text/plain": [
       "<Figure size 640x480 with 1 Axes>"
      ]
     },
     "metadata": {},
     "output_type": "display_data"
    }
   ],
   "source": [
    "import matplotlib.pyplot as plt\n",
    "import matplotlib\n",
    "%matplotlib inline\n",
    "\n",
    "ix = np.zeros(10)\n",
    "iy = np.zeros(10)\n",
    "for k in range(ix.shape[0]):\n",
    "    kmeans = KMeans(n_clusters=k+1, random_state = 1)\n",
    "    kmeans.fit(data)\n",
    "    iy[k] = kmeans.inertia_\n",
    "    ix[k] = k+1\n",
    "\n",
    "plt.xlabel('k')\n",
    "plt.ylabel('Objective function')\n",
    "plt.plot(ix, iy, 'o-')\n",
    "plt.show()"
   ]
  },
  {
   "cell_type": "markdown",
   "metadata": {
    "cell_id": "15881dce01044cdc8e0229b513949ace",
    "deepnote_cell_type": "markdown",
    "tags": []
   },
   "source": [
    "* The optimal $k$ can therefore be detected as the value for which the decrease of the objective function changes from very steep to less steep, looking for the so-called elbow.\n",
    "* Here, I would set `k = 3` as the optimum.  "
   ]
  },
  {
   "cell_type": "markdown",
   "metadata": {
    "cell_id": "8ccc9252956646a683d484a8be5a899c",
    "deepnote_cell_type": "markdown",
    "tags": []
   },
   "source": [
    "### Determining the optimal value of $k$ for custom implementation"
   ]
  },
  {
   "cell_type": "code",
   "execution_count": 19,
   "metadata": {
    "cell_id": "20c628ec7a7c43a0b2d37a15d8c76863",
    "deepnote_cell_type": "code",
    "deepnote_to_be_reexecuted": false,
    "execution_millis": 19727,
    "execution_start": 1672869246909,
    "source_hash": "ad94ad6d",
    "tags": []
   },
   "outputs": [
    {
     "data": {
      "image/png": "[encoded data removed]",
      "text/plain": [
       "<Figure size 640x480 with 1 Axes>"
      ]
     },
     "metadata": {},
     "output_type": "display_data"
    }
   ],
   "source": [
    "ix = np.zeros(10)\n",
    "iy = np.zeros(10)\n",
    "for k in range(ix.shape[0]):\n",
    "    custom = custom_kmeans(n_clusters = k+1, random_state = rd_seed)\n",
    "    custom.fit(data)\n",
    "    iy[k] = custom.inertia_\n",
    "    ix[k] = k+1\n",
    "\n",
    "plt.xlabel(\"Number of clusters\")\n",
    "plt.ylabel(\"Objective function\")\n",
    "plt.plot(ix, iy, 'o-')\n",
    "plt.show( )"
   ]
  },
  {
   "cell_type": "markdown",
   "metadata": {
    "cell_id": "ad254b6674de42d3b5dd02fb3b7dacc1",
    "deepnote_cell_type": "markdown",
    "tags": []
   },
   "source": [
    "* Here, I would set `k = 3` as the optimum.  "
   ]
  },
  {
   "cell_type": "markdown",
   "metadata": {
    "cell_id": "0082e73485e441ee926bba91063d571f",
    "deepnote_cell_type": "markdown",
    "tags": []
   },
   "source": [
    "### Agglomerative herarchical clustering\n",
    "* First I'll use the `scipy` library, specifically the `scipy.cluster.hierarchy` hierarchical clustering package."
   ]
  },
  {
   "cell_type": "markdown",
   "metadata": {
    "cell_id": "c17dc9f698a149ee98201f86118534f3",
    "deepnote_cell_type": "markdown",
    "tags": []
   },
   "source": [
    "#### Matice propojení\n",
    "* To build it, I'll use the `linkage` function.\n",
    "* The basic argument is the (distance) metric to be used for pairs of points.\n",
    "    - the default is the Euclidean distance (`euclidean`)\n",
    "* Another key argument is the choice of the method used to measure cluster distances.\n",
    "* Now I'll use the nearest neighbour method - **single linkage** (`single`)."
   ]
  },
  {
   "cell_type": "code",
   "execution_count": 20,
   "metadata": {
    "cell_id": "882e14aceb4746d69a7c75d7aacaeedb",
    "deepnote_cell_type": "code",
    "deepnote_to_be_reexecuted": false,
    "execution_millis": 4155,
    "execution_start": 1672869266635,
    "source_hash": "38de3f16",
    "tags": []
   },
   "outputs": [
    {
     "name": "stdout",
     "output_type": "stream",
     "text": [
      "Output dimension is: (8949, 4)\n"
     ]
    }
   ],
   "source": [
    "from scipy.cluster.hierarchy import linkage\n",
    "\n",
    "# calculate the so-called interconnection matrix\n",
    "Z = linkage(data, method=\"single\", metric=\"euclidean\")\n",
    "\n",
    "# output dimensions\n",
    "print('Output dimension is: ' + str(Z.shape))"
   ]
  },
  {
   "cell_type": "markdown",
   "metadata": {
    "cell_id": "cc9fc66825e049ffb8a9488e0c4efd3c",
    "deepnote_cell_type": "markdown",
    "tags": []
   },
   "source": [
    "The output is a linkage matrix, in which each row corresponds to one cluster link to a new cluster. \n",
    "\n",
    "The columns are:\n",
    "* index of the first cluster to be linked,\n",
    "* the index of the second linked cluster,\n",
    "* the distance between the linked clusters,\n",
    "* the number of points that are in the newly created cluster."
   ]
  },
  {
   "cell_type": "code",
   "execution_count": 21,
   "metadata": {
    "cell_id": "467f264b37b743129bff023e2526c898",
    "deepnote_cell_type": "code",
    "deepnote_to_be_reexecuted": false,
    "execution_millis": 6,
    "execution_start": 1672869270804,
    "source_hash": "f809326d",
    "tags": []
   },
   "outputs": [
    {
     "name": "stdout",
     "output_type": "stream",
     "text": [
      "[[5219.      8442.         4.84679    2.     ]\n",
      " [1131.      5928.         5.17391    2.     ]\n",
      " [ 181.      4401.         5.98212    2.     ]\n",
      " [8951.      8952.         8.65499    4.     ]\n",
      " [4185.      7366.        11.30959    2.     ]]\n"
     ]
    }
   ],
   "source": [
    "# Let's look at the first 5 lines of Z\n",
    "print(Z[:5,:])"
   ]
  },
  {
   "cell_type": "markdown",
   "metadata": {
    "cell_id": "0d2f15e53e89427e93fd31a227b40327",
    "deepnote_cell_type": "markdown",
    "tags": []
   },
   "source": [
    "### Visualization of the cropped dendrogram\n",
    "* I'll show only the upper part of the dendrogram where the last large clusters are merged.\n",
    "* Using the `dendrogram` function"
   ]
  },
  {
   "cell_type": "code",
   "execution_count": 22,
   "metadata": {
    "cell_id": "ac074389b60643a2a3c3464a626012ce",
    "deepnote_cell_type": "code",
    "deepnote_to_be_reexecuted": false,
    "execution_millis": 13611,
    "execution_start": 1672869270839,
    "source_hash": "e0c65164",
    "tags": []
   },
   "outputs": [
    {
     "data": {
      "image/png": "[encoded data removed]",
      "text/plain": [
       "<Figure size 640x480 with 1 Axes>"
      ]
     },
     "metadata": {},
     "output_type": "display_data"
    }
   ],
   "source": [
    "from scipy.cluster.hierarchy import dendrogram\n",
    "import sys\n",
    "sys.setrecursionlimit(10000)\n",
    "\n",
    "plt.title(\"Dendrogram of hierarchical clustering (cropped)\")\n",
    "plt.xlabel(\"point index (or cluster size)\")\n",
    "plt.ylabel(\"distance\")\n",
    "\n",
    "dendrogram(\n",
    "    Z,\n",
    "    truncate_mode=\"lastp\",  # Show only the last p connected clusters\n",
    "    p=11,  # Setting this p\n",
    "    leaf_rotation=90.,\n",
    "    leaf_font_size=12.,\n",
    "    show_contracted=True,  # helps the visual idea of joining leading to those cut clusters \n",
    "    # (dashes on lower vertical lines)\n",
    ")\n",
    "\n",
    "plt.show()"
   ]
  },
  {
   "cell_type": "markdown",
   "metadata": {
    "cell_id": "df21737594464cedb779b176b85365d5",
    "deepnote_cell_type": "markdown",
    "tags": []
   },
   "source": [
    "* the horizontal lines correspond to the connections of the clusters\n",
    "* the vertical lines tell us which clusters are joining into a new cluster\n",
    "* the heights (i.e. y-positions) of the horizontal lines correspond to the distance between the joining clusters"
   ]
  },
  {
   "cell_type": "markdown",
   "metadata": {
    "cell_id": "76a6f4734ca44ed49420b561fc920e59",
    "deepnote_cell_type": "markdown",
    "tags": []
   },
   "source": [
    "* I'll evaluate dendrogram using `cophenetic correlation`"
   ]
  },
  {
   "cell_type": "code",
   "execution_count": 23,
   "metadata": {
    "cell_id": "881141599f3f483892e16cf55106fdec",
    "deepnote_cell_type": "code",
    "deepnote_to_be_reexecuted": false,
    "execution_millis": 4847,
    "execution_start": 1672869284451,
    "source_hash": "f7167f4f",
    "tags": []
   },
   "outputs": [
    {
     "name": "stdout",
     "output_type": "stream",
     "text": [
      "Cophenetic correlation: 0.8712619179374058\n"
     ]
    }
   ],
   "source": [
    "from scipy.cluster.hierarchy import cophenet\n",
    "from scipy.spatial.distance import pdist\n",
    "\n",
    "pdistances = pdist(data, metric = \"euclidean\")\n",
    "cophenet_coef = np.corrcoef(pdistances, cophenet(Z))[0,1]\n",
    "print(\"Cophenetic correlation:\", cophenet_coef)"
   ]
  },
  {
   "cell_type": "markdown",
   "metadata": {
    "cell_id": "e81f630a986e443e974386c517c3e701",
    "deepnote_cell_type": "markdown",
    "tags": []
   },
   "source": [
    "As a result, we have a cluster containing all but one point and a cluster containing one point. There is no sense in even counting the cophenetic coefficient, this linkage algorithm is not good for this dataset."
   ]
  },
  {
   "cell_type": "markdown",
   "metadata": {
    "cell_id": "fc7279d9c12a4c6da59873b943a28978",
    "deepnote_cell_type": "markdown",
    "tags": []
   },
   "source": [
    "#### Changes in hyperparameters of Agglomerative herarchical clustering\n",
    "* I'll try linkage algorithm `ward`"
   ]
  },
  {
   "cell_type": "code",
   "execution_count": 24,
   "metadata": {
    "cell_id": "084693e914ab46bab8e8bf26fb25c56d",
    "deepnote_cell_type": "code",
    "deepnote_to_be_reexecuted": false,
    "execution_millis": 24217,
    "execution_start": 1672869289326,
    "source_hash": "9280a3fa",
    "tags": []
   },
   "outputs": [
    {
     "data": {
      "image/png": "[encoded data removed]",
      "text/plain": [
       "<Figure size 640x480 with 1 Axes>"
      ]
     },
     "metadata": {},
     "output_type": "display_data"
    }
   ],
   "source": [
    "Z2 = linkage(data, method=\"ward\", metric=\"euclidean\")\n",
    "\n",
    "dendrogram(\n",
    "    Z2,\n",
    "    truncate_mode=\"lastp\",  # Show only the last p connected clusters\n",
    "    p=11,  # Setting this p\n",
    "    leaf_rotation=90.,\n",
    "    leaf_font_size=12.,\n",
    "    show_contracted=True,  # helps the visual idea of joining leading to those cut clusters \n",
    "    # (dashes on lower vertical lines)\n",
    ")\n",
    "\n",
    "plt.show()"
   ]
  },
  {
   "cell_type": "code",
   "execution_count": 25,
   "metadata": {
    "cell_id": "9400384d6a6c4b64b8fb8aa5d9d70642",
    "deepnote_cell_type": "code",
    "deepnote_to_be_reexecuted": false,
    "execution_millis": 5550,
    "execution_start": 1672869313546,
    "source_hash": "3c5c2338",
    "tags": []
   },
   "outputs": [
    {
     "name": "stdout",
     "output_type": "stream",
     "text": [
      "Cophenetic correlation: 0.44393355645922844\n"
     ]
    }
   ],
   "source": [
    "pdistances = pdist(data, metric = \"euclidean\")\n",
    "cophenet_coef = np.corrcoef(pdistances, cophenet(Z2))[0,1]\n",
    "print(\"Cophenetic correlation:\", cophenet_coef)"
   ]
  },
  {
   "cell_type": "markdown",
   "metadata": {
    "cell_id": "5f6734afd0064dfd965f17faef7ab71f",
    "deepnote_cell_type": "markdown",
    "tags": []
   },
   "source": [
    "* I'll try linkage algorithm `complete`"
   ]
  },
  {
   "cell_type": "code",
   "execution_count": 26,
   "metadata": {
    "cell_id": "b9ada7670ca0417ab6f12905f85e415d",
    "deepnote_cell_type": "code",
    "deepnote_to_be_reexecuted": false,
    "execution_millis": 23719,
    "execution_start": 1672869319101,
    "source_hash": "79a45f00",
    "tags": []
   },
   "outputs": [
    {
     "data": {
      "image/png": "[encoded data removed]",
      "text/plain": [
       "<Figure size 640x480 with 1 Axes>"
      ]
     },
     "metadata": {},
     "output_type": "display_data"
    }
   ],
   "source": [
    "Z3 = linkage(data, method=\"complete\", metric=\"euclidean\")\n",
    "\n",
    "dendrogram(\n",
    "    Z3,\n",
    "    truncate_mode=\"lastp\",  \n",
    "    p=11,  \n",
    "    leaf_rotation=90.,\n",
    "    leaf_font_size=12.,\n",
    "    show_contracted=True,  \n",
    ")\n",
    "\n",
    "plt.show()"
   ]
  },
  {
   "cell_type": "code",
   "execution_count": 27,
   "metadata": {
    "cell_id": "1cbdc4c29f244babba032e12201c8ce4",
    "deepnote_cell_type": "code",
    "deepnote_to_be_reexecuted": false,
    "execution_millis": 4804,
    "execution_start": 1672869342824,
    "source_hash": "6e76fed8",
    "tags": []
   },
   "outputs": [
    {
     "name": "stdout",
     "output_type": "stream",
     "text": [
      "Cophenetic correlation: 0.7959131949511853\n"
     ]
    }
   ],
   "source": [
    "pdistances = pdist(data, metric = \"euclidean\")\n",
    "cophenet_coef = np.corrcoef(pdistances, cophenet(Z3))[0,1]\n",
    "print(\"Cophenetic correlation:\", cophenet_coef)"
   ]
  },
  {
   "cell_type": "markdown",
   "metadata": {
    "cell_id": "35089754fd4a4ed88e32a7e2dfe7e596",
    "deepnote_cell_type": "markdown",
    "tags": []
   },
   "source": [
    "The same situation as it was with method=\"single\"."
   ]
  },
  {
   "cell_type": "markdown",
   "metadata": {
    "cell_id": "ebc8f661fc0a495c98f39f078b16b76a",
    "deepnote_cell_type": "text-cell-callout",
    "formattedRanges": [],
    "is_collapsed": false,
    "tags": []
   },
   "source": [
    "> As a result, we have a cluster containing all but one point and a cluster containing one point. There is no sense in even counting the cophenetic coefficient, this linkage algorithm is not good for this dataset."
   ]
  },
  {
   "cell_type": "markdown",
   "metadata": {
    "cell_id": "36439a3c6e134ab58100b8797edb9ec4",
    "deepnote_cell_type": "markdown",
    "tags": []
   },
   "source": [
    "* I'll try linkage algorithm `average`"
   ]
  },
  {
   "cell_type": "code",
   "execution_count": 28,
   "metadata": {
    "cell_id": "a87841cfa08f4376b178e618f8bacaef",
    "deepnote_cell_type": "code",
    "deepnote_to_be_reexecuted": false,
    "execution_millis": 23460,
    "execution_start": 1672869347647,
    "source_hash": "74b51308",
    "tags": []
   },
   "outputs": [
    {
     "data": {
      "image/png": "[encoded data removed]",
      "text/plain": [
       "<Figure size 640x480 with 1 Axes>"
      ]
     },
     "metadata": {},
     "output_type": "display_data"
    }
   ],
   "source": [
    "Z4 = linkage(data, method=\"average\", metric=\"euclidean\")\n",
    "\n",
    "dendrogram(\n",
    "    Z4,\n",
    "    truncate_mode=\"lastp\",  \n",
    "    p=11,  \n",
    "    leaf_rotation=90.,\n",
    "    leaf_font_size=12.,\n",
    "    show_contracted=True,  \n",
    ")\n",
    "\n",
    "plt.show()"
   ]
  },
  {
   "cell_type": "code",
   "execution_count": 29,
   "metadata": {
    "cell_id": "60292683c04e4664986497c5e55d213f",
    "deepnote_cell_type": "code",
    "deepnote_to_be_reexecuted": false,
    "execution_millis": 4743,
    "execution_start": 1672869371150,
    "source_hash": "6d29e950",
    "tags": []
   },
   "outputs": [
    {
     "name": "stdout",
     "output_type": "stream",
     "text": [
      "Cophenetic correlation: 0.9210151375038887\n"
     ]
    }
   ],
   "source": [
    "pdistances = pdist(data, metric = \"euclidean\")\n",
    "cophenet_coef = np.corrcoef(pdistances, cophenet(Z4))[0,1]\n",
    "print(\"Cophenetic correlation:\", cophenet_coef)"
   ]
  },
  {
   "cell_type": "markdown",
   "metadata": {
    "cell_id": "b5b27fbca2234803969c86cefa8ebd31",
    "deepnote_cell_type": "markdown",
    "tags": []
   },
   "source": [
    "The same situation as it was with method=\"single\" and method=\"complete\"."
   ]
  },
  {
   "cell_type": "markdown",
   "metadata": {
    "cell_id": "e919c2c6bcd84894880b23bbb8822de1",
    "deepnote_cell_type": "text-cell-callout",
    "formattedRanges": [],
    "is_collapsed": false,
    "tags": []
   },
   "source": [
    "> As a result, we have a cluster containing all but one point and a cluster containing one point. There is no sense in even counting the cophenetic coefficient, this linkage algorithm is not good for this dataset."
   ]
  },
  {
   "cell_type": "markdown",
   "metadata": {
    "cell_id": "9edd978ff6a74f8dbf8930789a2644b3",
    "deepnote_cell_type": "markdown",
    "tags": []
   },
   "source": [
    "### Choosing the best model\n",
    "1. Custom implementation of the KMeans algorithm\n",
    "2. KMeans from library\n",
    "3. Herarchical clustering\n",
    "\n",
    "* Using the function `silhouette` I'll try to find the best model."
   ]
  },
  {
   "cell_type": "code",
   "execution_count": 30,
   "metadata": {
    "cell_id": "1823641b5afd4e01b526258b21983420",
    "deepnote_cell_type": "code",
    "deepnote_to_be_reexecuted": false,
    "execution_millis": 15922,
    "execution_start": 1672869375895,
    "source_hash": "dfbbfdb4",
    "tags": []
   },
   "outputs": [
    {
     "name": "stdout",
     "output_type": "stream",
     "text": [
      "Silhouette evaluation of model Hierarchical clustering with 2 clusters: 0.3837402014998471\n",
      "Silhouette evaluation of model Hierarchical clustering with 3 clusters: 0.38826577111436034\n"
     ]
    }
   ],
   "source": [
    "from scipy.cluster.hierarchy import fcluster\n",
    "\n",
    "Z = linkage(data, method=\"ward\", metric=\"euclidean\")\n",
    "cluster_2 = fcluster(Z, 2, criterion=\"maxclust\")\n",
    "cluster_3 = fcluster(Z, 3, criterion=\"maxclust\")\n",
    "\n",
    "from sklearn.metrics import silhouette_score\n",
    "\n",
    "print(\"Silhouette evaluation of model Hierarchical clustering with 2 clusters:\", silhouette_score(data, cluster_2))\n",
    "print(\"Silhouette evaluation of model Hierarchical clustering with 3 clusters:\", silhouette_score(data, cluster_3))"
   ]
  },
  {
   "cell_type": "code",
   "execution_count": 31,
   "metadata": {
    "cell_id": "04b933fdbbed4b27b2127030f0e2908a",
    "deepnote_cell_type": "code",
    "deepnote_to_be_reexecuted": false,
    "execution_millis": 7880,
    "execution_start": 1672869391817,
    "source_hash": "5f7c6a32",
    "tags": []
   },
   "outputs": [
    {
     "name": "stdout",
     "output_type": "stream",
     "text": [
      "Silhouette evaluation of model KMeans with 2 clusters: 0.5116774583476609\n",
      "Silhouette evaluation of model KMeans with 3 clusters: 0.4676551448676235\n"
     ]
    }
   ],
   "source": [
    "kmeans_2 = KMeans(n_clusters = 2, random_state = rd_seed).fit(data)\n",
    "kmeans_3 = KMeans(n_clusters = 3, random_state = rd_seed).fit(data)\n",
    "\n",
    "print(\"Silhouette evaluation of model KMeans with 2 clusters:\", silhouette_score(data, kmeans_2.labels_))\n",
    "print(\"Silhouette evaluation of model KMeans with 3 clusters:\", silhouette_score(data, kmeans_3.labels_))"
   ]
  },
  {
   "cell_type": "code",
   "execution_count": 32,
   "metadata": {
    "cell_id": "09d3eb0da4aa4cfe9e539ab1c8424147",
    "deepnote_cell_type": "code",
    "deepnote_to_be_reexecuted": false,
    "execution_millis": 7631,
    "execution_start": 1672869399720,
    "source_hash": "176717d8",
    "tags": []
   },
   "outputs": [
    {
     "name": "stdout",
     "output_type": "stream",
     "text": [
      "Silhouette evaluation of custom implementation of KMeans with 2 clusters: 0.5145025569999819\n",
      "Silhouette evaluation of custom implementation of KMeans with 3 clusters: 0.4654260710800439\n"
     ]
    }
   ],
   "source": [
    "custom_2 = custom_kmeans(n_clusters = 2, random_state = rd_seed)\n",
    "custom_2.fit(data)\n",
    "custom_3 = custom_kmeans(n_clusters = 3, random_state = rd_seed)\n",
    "custom_3.fit(data)\n",
    "\n",
    "print(\"Silhouette evaluation of custom implementation of KMeans with 2 clusters:\", silhouette_score(data, custom_2.labels_))\n",
    "print(\"Silhouette evaluation of custom implementation of KMeans with 3 clusters:\", silhouette_score(data, custom_3.labels_))"
   ]
  },
  {
   "cell_type": "markdown",
   "metadata": {
    "cell_id": "e762697d7b3f4921a919592d3d4d2368",
    "deepnote_cell_type": "markdown",
    "tags": []
   },
   "source": [
    "* I'll try to use these methods after data `standardization`"
   ]
  },
  {
   "cell_type": "code",
   "execution_count": 33,
   "metadata": {
    "cell_id": "ab4ac14aae714590be837ba4b23d6988",
    "deepnote_cell_type": "code",
    "deepnote_to_be_reexecuted": false,
    "execution_millis": 7,
    "execution_start": 1672869407402,
    "source_hash": "6ce25f62",
    "tags": []
   },
   "outputs": [],
   "source": [
    "from sklearn.preprocessing import StandardScaler\n",
    "scaler = StandardScaler()\n",
    "data_scaled = scaler.fit_transform(data)"
   ]
  },
  {
   "cell_type": "code",
   "execution_count": 34,
   "metadata": {
    "cell_id": "52a6d2484c40429a8ace0e7f168ad7a3",
    "deepnote_cell_type": "code",
    "deepnote_to_be_reexecuted": false,
    "execution_millis": 14294,
    "execution_start": 1672869407413,
    "source_hash": "d0ffd5f5",
    "tags": []
   },
   "outputs": [
    {
     "name": "stdout",
     "output_type": "stream",
     "text": [
      "Silhouette evaluation of model Hierarchical clustering with 2 clusters: 0.1775448235536517\n"
     ]
    }
   ],
   "source": [
    "Z = linkage(data_scaled, method = \"ward\", metric = \"euclidean\")\n",
    "cluster_2 = fcluster(Z, 2, criterion=\"maxclust\" )\n",
    "print(\"Silhouette evaluation of model Hierarchical clustering with 2 clusters:\", silhouette_score(data_scaled, cluster_2))"
   ]
  },
  {
   "cell_type": "code",
   "execution_count": 35,
   "metadata": {
    "cell_id": "51eef5e8dc3b40d4b073109a5a4fc147",
    "deepnote_cell_type": "code",
    "deepnote_to_be_reexecuted": false,
    "execution_millis": 3338,
    "execution_start": 1672869421711,
    "source_hash": "d4840cf3",
    "tags": []
   },
   "outputs": [
    {
     "name": "stdout",
     "output_type": "stream",
     "text": [
      "Silhouette evaluation of model KMeans with 2 clusters: 0.20959025073067575\n"
     ]
    }
   ],
   "source": [
    "kmeans = KMeans(n_clusters = 2, random_state = rd_seed ).fit(data_scaled)\n",
    "print(\"Silhouette evaluation of model KMeans with 2 clusters:\", silhouette_score(data_scaled, kmeans.labels_))"
   ]
  },
  {
   "cell_type": "markdown",
   "metadata": {
    "cell_id": "180ee06a99a44712a27ad72856f58ff6",
    "deepnote_cell_type": "markdown",
    "tags": []
   },
   "source": [
    "#### Best model: According to `silhouette evaluation`, the best model is KMeans with 2 clusters (as above, where I was looking at the silhouette score)."
   ]
  },
  {
   "cell_type": "markdown",
   "metadata": {
    "cell_id": "dae989abc6494beebfcd0091b1f1f9bf",
    "deepnote_cell_type": "markdown",
    "tags": []
   },
   "source": [
    "### Interpretation of the Resulting clusters"
   ]
  },
  {
   "cell_type": "code",
   "execution_count": 36,
   "metadata": {
    "cell_id": "00196982ff07454e901a69eab28179a5",
    "deepnote_cell_type": "code",
    "deepnote_to_be_reexecuted": false,
    "execution_millis": 65,
    "execution_start": 1672869425050,
    "source_hash": "b81fe73",
    "tags": []
   },
   "outputs": [
    {
     "data": {
      "text/plain": [
       "array([2, 2, 1, ..., 2, 2, 2], dtype=int32)"
      ]
     },
     "execution_count": 36,
     "metadata": {},
     "output_type": "execute_result"
    }
   ],
   "source": [
    "# Divide dataset into two clusters\n",
    "cluster_2"
   ]
  },
  {
   "cell_type": "code",
   "execution_count": 37,
   "metadata": {
    "cell_id": "6cb673fda0b74ecbb7b646f30b744216",
    "deepnote_cell_type": "code",
    "deepnote_to_be_reexecuted": false,
    "execution_millis": 42094,
    "execution_start": 1672869425143,
    "source_hash": "34eb3232",
    "tags": []
   },
   "outputs": [],
   "source": [
    "first_cluster = pd.DataFrame([data.loc[0]])\n",
    "second_cluster = pd.DataFrame([data.loc[1]])\n",
    "for i, cluster_index in enumerate(cluster_2):\n",
    "    if (i > 1):\n",
    "        if cluster_index == 1:\n",
    "            first_cluster = first_cluster.append(data.loc[i], ignore_index = True)\n",
    "        else:\n",
    "            second_cluster = second_cluster.append(data.loc[i], ignore_index = True)"
   ]
  },
  {
   "cell_type": "markdown",
   "metadata": {
    "cell_id": "3a406c7999554a999ca1738e017c441b",
    "deepnote_cell_type": "markdown",
    "tags": []
   },
   "source": [
    "* Statistics of each cluster."
   ]
  },
  {
   "cell_type": "code",
   "execution_count": 38,
   "metadata": {
    "cell_id": "37640e9245e04c099d68ee4f49085794",
    "deepnote_cell_type": "code",
    "deepnote_to_be_reexecuted": false,
    "execution_millis": 547,
    "execution_start": 1672869467278,
    "source_hash": "87185174",
    "tags": []
   },
   "outputs": [
    {
     "data": {
      "text/html": [
       "<div>\n",
       "<style scoped>\n",
       "    .dataframe tbody tr th:only-of-type {\n",
       "        vertical-align: middle;\n",
       "    }\n",
       "\n",
       "    .dataframe tbody tr th {\n",
       "        vertical-align: top;\n",
       "    }\n",
       "\n",
       "    .dataframe thead th {\n",
       "        text-align: right;\n",
       "    }\n",
       "</style>\n",
       "<table border=\"1\" class=\"dataframe\">\n",
       "  <thead>\n",
       "    <tr style=\"text-align: right;\">\n",
       "      <th></th>\n",
       "      <th>BALANCE</th>\n",
       "      <th>BALANCE_FREQUENCY</th>\n",
       "      <th>PURCHASES</th>\n",
       "      <th>ONEOFF_PURCHASES</th>\n",
       "      <th>INSTALLMENTS_PURCHASES</th>\n",
       "      <th>CASH_ADVANCE</th>\n",
       "      <th>PURCHASES_FREQUENCY</th>\n",
       "      <th>ONEOFF_PURCHASES_FREQUENCY</th>\n",
       "      <th>PURCHASES_INSTALLMENTS_FREQUENCY</th>\n",
       "      <th>CASH_ADVANCE_FREQUENCY</th>\n",
       "      <th>CASH_ADVANCE_TRX</th>\n",
       "      <th>PURCHASES_TRX</th>\n",
       "      <th>CREDIT_LIMIT</th>\n",
       "      <th>PAYMENTS</th>\n",
       "      <th>MINIMUM_PAYMENTS</th>\n",
       "      <th>PRC_FULL_PAYMENT</th>\n",
       "      <th>TENURE</th>\n",
       "    </tr>\n",
       "  </thead>\n",
       "  <tbody>\n",
       "    <tr>\n",
       "      <th>count</th>\n",
       "      <td>3419.000000</td>\n",
       "      <td>3419.000000</td>\n",
       "      <td>3419.000000</td>\n",
       "      <td>3419.000000</td>\n",
       "      <td>3419.000000</td>\n",
       "      <td>3419.000000</td>\n",
       "      <td>3419.000000</td>\n",
       "      <td>3419.000000</td>\n",
       "      <td>3419.000000</td>\n",
       "      <td>3419.000000</td>\n",
       "      <td>3419.000000</td>\n",
       "      <td>3419.000000</td>\n",
       "      <td>3419.000000</td>\n",
       "      <td>3419.000000</td>\n",
       "      <td>3419.000000</td>\n",
       "      <td>3419.000000</td>\n",
       "      <td>3419.000000</td>\n",
       "    </tr>\n",
       "    <tr>\n",
       "      <th>mean</th>\n",
       "      <td>1421.111900</td>\n",
       "      <td>0.977634</td>\n",
       "      <td>2094.814416</td>\n",
       "      <td>1223.557306</td>\n",
       "      <td>871.576087</td>\n",
       "      <td>422.942320</td>\n",
       "      <td>0.879076</td>\n",
       "      <td>0.397396</td>\n",
       "      <td>0.683180</td>\n",
       "      <td>0.073929</td>\n",
       "      <td>1.743785</td>\n",
       "      <td>31.424686</td>\n",
       "      <td>5107.395836</td>\n",
       "      <td>2200.393297</td>\n",
       "      <td>754.198592</td>\n",
       "      <td>0.240800</td>\n",
       "      <td>11.957005</td>\n",
       "    </tr>\n",
       "    <tr>\n",
       "      <th>std</th>\n",
       "      <td>1910.849376</td>\n",
       "      <td>0.073413</td>\n",
       "      <td>3073.994913</td>\n",
       "      <td>2485.958208</td>\n",
       "      <td>1285.170116</td>\n",
       "      <td>1116.041280</td>\n",
       "      <td>0.176752</td>\n",
       "      <td>0.369763</td>\n",
       "      <td>0.356545</td>\n",
       "      <td>0.152313</td>\n",
       "      <td>4.577962</td>\n",
       "      <td>32.805040</td>\n",
       "      <td>3834.879287</td>\n",
       "      <td>3232.360819</td>\n",
       "      <td>1306.433269</td>\n",
       "      <td>0.350317</td>\n",
       "      <td>0.262030</td>\n",
       "    </tr>\n",
       "    <tr>\n",
       "      <th>min</th>\n",
       "      <td>0.000000</td>\n",
       "      <td>0.000000</td>\n",
       "      <td>8.400000</td>\n",
       "      <td>0.000000</td>\n",
       "      <td>0.000000</td>\n",
       "      <td>0.000000</td>\n",
       "      <td>0.166667</td>\n",
       "      <td>0.000000</td>\n",
       "      <td>0.000000</td>\n",
       "      <td>0.000000</td>\n",
       "      <td>0.000000</td>\n",
       "      <td>0.000000</td>\n",
       "      <td>300.000000</td>\n",
       "      <td>0.000000</td>\n",
       "      <td>2.891346</td>\n",
       "      <td>0.000000</td>\n",
       "      <td>6.000000</td>\n",
       "    </tr>\n",
       "    <tr>\n",
       "      <th>25%</th>\n",
       "      <td>166.241597</td>\n",
       "      <td>1.000000</td>\n",
       "      <td>558.230000</td>\n",
       "      <td>0.000000</td>\n",
       "      <td>206.165000</td>\n",
       "      <td>0.000000</td>\n",
       "      <td>0.833333</td>\n",
       "      <td>0.000000</td>\n",
       "      <td>0.416667</td>\n",
       "      <td>0.000000</td>\n",
       "      <td>0.000000</td>\n",
       "      <td>12.000000</td>\n",
       "      <td>2000.000000</td>\n",
       "      <td>624.804026</td>\n",
       "      <td>176.214066</td>\n",
       "      <td>0.000000</td>\n",
       "      <td>12.000000</td>\n",
       "    </tr>\n",
       "    <tr>\n",
       "      <th>50%</th>\n",
       "      <td>750.150798</td>\n",
       "      <td>1.000000</td>\n",
       "      <td>1227.930000</td>\n",
       "      <td>495.430000</td>\n",
       "      <td>500.000000</td>\n",
       "      <td>0.000000</td>\n",
       "      <td>1.000000</td>\n",
       "      <td>0.333333</td>\n",
       "      <td>0.833333</td>\n",
       "      <td>0.000000</td>\n",
       "      <td>0.000000</td>\n",
       "      <td>21.000000</td>\n",
       "      <td>4000.000000</td>\n",
       "      <td>1296.041874</td>\n",
       "      <td>270.085264</td>\n",
       "      <td>0.000000</td>\n",
       "      <td>12.000000</td>\n",
       "    </tr>\n",
       "    <tr>\n",
       "      <th>75%</th>\n",
       "      <td>1905.602805</td>\n",
       "      <td>1.000000</td>\n",
       "      <td>2473.350000</td>\n",
       "      <td>1450.365000</td>\n",
       "      <td>1091.535000</td>\n",
       "      <td>175.821233</td>\n",
       "      <td>1.000000</td>\n",
       "      <td>0.750000</td>\n",
       "      <td>1.000000</td>\n",
       "      <td>0.083333</td>\n",
       "      <td>1.000000</td>\n",
       "      <td>37.000000</td>\n",
       "      <td>7000.000000</td>\n",
       "      <td>2522.051598</td>\n",
       "      <td>843.347037</td>\n",
       "      <td>0.416667</td>\n",
       "      <td>12.000000</td>\n",
       "    </tr>\n",
       "    <tr>\n",
       "      <th>max</th>\n",
       "      <td>19043.138560</td>\n",
       "      <td>1.000000</td>\n",
       "      <td>49039.570000</td>\n",
       "      <td>40761.250000</td>\n",
       "      <td>22500.000000</td>\n",
       "      <td>19513.474830</td>\n",
       "      <td>1.000000</td>\n",
       "      <td>1.000000</td>\n",
       "      <td>1.000000</td>\n",
       "      <td>1.000000</td>\n",
       "      <td>62.000000</td>\n",
       "      <td>358.000000</td>\n",
       "      <td>30000.000000</td>\n",
       "      <td>50721.483360</td>\n",
       "      <td>18621.013310</td>\n",
       "      <td>1.000000</td>\n",
       "      <td>12.000000</td>\n",
       "    </tr>\n",
       "  </tbody>\n",
       "</table>\n",
       "</div>"
      ],
      "text/plain": [
       "            BALANCE  BALANCE_FREQUENCY     PURCHASES  ONEOFF_PURCHASES  \\\n",
       "count   3419.000000        3419.000000   3419.000000       3419.000000   \n",
       "mean    1421.111900           0.977634   2094.814416       1223.557306   \n",
       "std     1910.849376           0.073413   3073.994913       2485.958208   \n",
       "min        0.000000           0.000000      8.400000          0.000000   \n",
       "25%      166.241597           1.000000    558.230000          0.000000   \n",
       "50%      750.150798           1.000000   1227.930000        495.430000   \n",
       "75%     1905.602805           1.000000   2473.350000       1450.365000   \n",
       "max    19043.138560           1.000000  49039.570000      40761.250000   \n",
       "\n",
       "       INSTALLMENTS_PURCHASES  CASH_ADVANCE  PURCHASES_FREQUENCY  \\\n",
       "count             3419.000000   3419.000000          3419.000000   \n",
       "mean               871.576087    422.942320             0.879076   \n",
       "std               1285.170116   1116.041280             0.176752   \n",
       "min                  0.000000      0.000000             0.166667   \n",
       "25%                206.165000      0.000000             0.833333   \n",
       "50%                500.000000      0.000000             1.000000   \n",
       "75%               1091.535000    175.821233             1.000000   \n",
       "max              22500.000000  19513.474830             1.000000   \n",
       "\n",
       "       ONEOFF_PURCHASES_FREQUENCY  PURCHASES_INSTALLMENTS_FREQUENCY  \\\n",
       "count                 3419.000000                       3419.000000   \n",
       "mean                     0.397396                          0.683180   \n",
       "std                      0.369763                          0.356545   \n",
       "min                      0.000000                          0.000000   \n",
       "25%                      0.000000                          0.416667   \n",
       "50%                      0.333333                          0.833333   \n",
       "75%                      0.750000                          1.000000   \n",
       "max                      1.000000                          1.000000   \n",
       "\n",
       "       CASH_ADVANCE_FREQUENCY  CASH_ADVANCE_TRX  PURCHASES_TRX  CREDIT_LIMIT  \\\n",
       "count             3419.000000       3419.000000    3419.000000   3419.000000   \n",
       "mean                 0.073929          1.743785      31.424686   5107.395836   \n",
       "std                  0.152313          4.577962      32.805040   3834.879287   \n",
       "min                  0.000000          0.000000       0.000000    300.000000   \n",
       "25%                  0.000000          0.000000      12.000000   2000.000000   \n",
       "50%                  0.000000          0.000000      21.000000   4000.000000   \n",
       "75%                  0.083333          1.000000      37.000000   7000.000000   \n",
       "max                  1.000000         62.000000     358.000000  30000.000000   \n",
       "\n",
       "           PAYMENTS  MINIMUM_PAYMENTS  PRC_FULL_PAYMENT       TENURE  \n",
       "count   3419.000000       3419.000000       3419.000000  3419.000000  \n",
       "mean    2200.393297        754.198592          0.240800    11.957005  \n",
       "std     3232.360819       1306.433269          0.350317     0.262030  \n",
       "min        0.000000          2.891346          0.000000     6.000000  \n",
       "25%      624.804026        176.214066          0.000000    12.000000  \n",
       "50%     1296.041874        270.085264          0.000000    12.000000  \n",
       "75%     2522.051598        843.347037          0.416667    12.000000  \n",
       "max    50721.483360      18621.013310          1.000000    12.000000  "
      ]
     },
     "metadata": {},
     "output_type": "display_data"
    },
    {
     "data": {
      "text/html": [
       "<div>\n",
       "<style scoped>\n",
       "    .dataframe tbody tr th:only-of-type {\n",
       "        vertical-align: middle;\n",
       "    }\n",
       "\n",
       "    .dataframe tbody tr th {\n",
       "        vertical-align: top;\n",
       "    }\n",
       "\n",
       "    .dataframe thead th {\n",
       "        text-align: right;\n",
       "    }\n",
       "</style>\n",
       "<table border=\"1\" class=\"dataframe\">\n",
       "  <thead>\n",
       "    <tr style=\"text-align: right;\">\n",
       "      <th></th>\n",
       "      <th>BALANCE</th>\n",
       "      <th>BALANCE_FREQUENCY</th>\n",
       "      <th>PURCHASES</th>\n",
       "      <th>ONEOFF_PURCHASES</th>\n",
       "      <th>INSTALLMENTS_PURCHASES</th>\n",
       "      <th>CASH_ADVANCE</th>\n",
       "      <th>PURCHASES_FREQUENCY</th>\n",
       "      <th>ONEOFF_PURCHASES_FREQUENCY</th>\n",
       "      <th>PURCHASES_INSTALLMENTS_FREQUENCY</th>\n",
       "      <th>CASH_ADVANCE_FREQUENCY</th>\n",
       "      <th>CASH_ADVANCE_TRX</th>\n",
       "      <th>PURCHASES_TRX</th>\n",
       "      <th>CREDIT_LIMIT</th>\n",
       "      <th>PAYMENTS</th>\n",
       "      <th>MINIMUM_PAYMENTS</th>\n",
       "      <th>PRC_FULL_PAYMENT</th>\n",
       "      <th>TENURE</th>\n",
       "    </tr>\n",
       "  </thead>\n",
       "  <tbody>\n",
       "    <tr>\n",
       "      <th>count</th>\n",
       "      <td>5531.000000</td>\n",
       "      <td>5531.000000</td>\n",
       "      <td>5531.000000</td>\n",
       "      <td>5531.000000</td>\n",
       "      <td>5531.000000</td>\n",
       "      <td>5531.000000</td>\n",
       "      <td>5531.000000</td>\n",
       "      <td>5531.000000</td>\n",
       "      <td>5531.000000</td>\n",
       "      <td>5531.000000</td>\n",
       "      <td>5531.000000</td>\n",
       "      <td>5531.000000</td>\n",
       "      <td>5531.000000</td>\n",
       "      <td>5531.000000</td>\n",
       "      <td>5531.000000</td>\n",
       "      <td>5531.000000</td>\n",
       "      <td>5531.000000</td>\n",
       "    </tr>\n",
       "    <tr>\n",
       "      <th>mean</th>\n",
       "      <td>1653.094942</td>\n",
       "      <td>0.815231</td>\n",
       "      <td>328.423932</td>\n",
       "      <td>202.309174</td>\n",
       "      <td>126.403323</td>\n",
       "      <td>1322.519737</td>\n",
       "      <td>0.250059</td>\n",
       "      <td>0.081956</td>\n",
       "      <td>0.167406</td>\n",
       "      <td>0.172985</td>\n",
       "      <td>4.179172</td>\n",
       "      <td>4.377509</td>\n",
       "      <td>4115.555273</td>\n",
       "      <td>1444.312565</td>\n",
       "      <td>932.208202</td>\n",
       "      <td>0.099883</td>\n",
       "      <td>11.245525</td>\n",
       "    </tr>\n",
       "    <tr>\n",
       "      <th>std</th>\n",
       "      <td>2175.816302</td>\n",
       "      <td>0.278234</td>\n",
       "      <td>595.841559</td>\n",
       "      <td>490.356645</td>\n",
       "      <td>300.721782</td>\n",
       "      <td>2457.281875</td>\n",
       "      <td>0.300359</td>\n",
       "      <td>0.146655</td>\n",
       "      <td>0.274614</td>\n",
       "      <td>0.216151</td>\n",
       "      <td>7.755782</td>\n",
       "      <td>7.433439</td>\n",
       "      <td>3458.239454</td>\n",
       "      <td>2624.320768</td>\n",
       "      <td>2778.992036</td>\n",
       "      <td>0.234547</td>\n",
       "      <td>1.631770</td>\n",
       "    </tr>\n",
       "    <tr>\n",
       "      <th>min</th>\n",
       "      <td>0.000000</td>\n",
       "      <td>0.000000</td>\n",
       "      <td>0.000000</td>\n",
       "      <td>0.000000</td>\n",
       "      <td>0.000000</td>\n",
       "      <td>0.000000</td>\n",
       "      <td>0.000000</td>\n",
       "      <td>0.000000</td>\n",
       "      <td>0.000000</td>\n",
       "      <td>0.000000</td>\n",
       "      <td>0.000000</td>\n",
       "      <td>0.000000</td>\n",
       "      <td>50.000000</td>\n",
       "      <td>0.000000</td>\n",
       "      <td>0.019163</td>\n",
       "      <td>0.000000</td>\n",
       "      <td>6.000000</td>\n",
       "    </tr>\n",
       "    <tr>\n",
       "      <th>25%</th>\n",
       "      <td>91.550815</td>\n",
       "      <td>0.666667</td>\n",
       "      <td>0.000000</td>\n",
       "      <td>0.000000</td>\n",
       "      <td>0.000000</td>\n",
       "      <td>0.000000</td>\n",
       "      <td>0.000000</td>\n",
       "      <td>0.000000</td>\n",
       "      <td>0.000000</td>\n",
       "      <td>0.000000</td>\n",
       "      <td>0.000000</td>\n",
       "      <td>0.000000</td>\n",
       "      <td>1500.000000</td>\n",
       "      <td>299.092188</td>\n",
       "      <td>158.945869</td>\n",
       "      <td>0.000000</td>\n",
       "      <td>12.000000</td>\n",
       "    </tr>\n",
       "    <tr>\n",
       "      <th>50%</th>\n",
       "      <td>945.793928</td>\n",
       "      <td>1.000000</td>\n",
       "      <td>102.000000</td>\n",
       "      <td>0.000000</td>\n",
       "      <td>0.000000</td>\n",
       "      <td>244.694657</td>\n",
       "      <td>0.100000</td>\n",
       "      <td>0.000000</td>\n",
       "      <td>0.000000</td>\n",
       "      <td>0.083333</td>\n",
       "      <td>1.000000</td>\n",
       "      <td>2.000000</td>\n",
       "      <td>3000.000000</td>\n",
       "      <td>639.362373</td>\n",
       "      <td>375.333662</td>\n",
       "      <td>0.000000</td>\n",
       "      <td>12.000000</td>\n",
       "    </tr>\n",
       "    <tr>\n",
       "      <th>75%</th>\n",
       "      <td>2175.678828</td>\n",
       "      <td>1.000000</td>\n",
       "      <td>399.970000</td>\n",
       "      <td>170.960000</td>\n",
       "      <td>129.140000</td>\n",
       "      <td>1694.074969</td>\n",
       "      <td>0.416667</td>\n",
       "      <td>0.083333</td>\n",
       "      <td>0.250000</td>\n",
       "      <td>0.250000</td>\n",
       "      <td>5.000000</td>\n",
       "      <td>6.000000</td>\n",
       "      <td>6000.000000</td>\n",
       "      <td>1480.906465</td>\n",
       "      <td>864.206542</td>\n",
       "      <td>0.083333</td>\n",
       "      <td>12.000000</td>\n",
       "    </tr>\n",
       "    <tr>\n",
       "      <th>max</th>\n",
       "      <td>16304.889250</td>\n",
       "      <td>1.000000</td>\n",
       "      <td>8533.540000</td>\n",
       "      <td>6678.260000</td>\n",
       "      <td>7739.480000</td>\n",
       "      <td>47137.211760</td>\n",
       "      <td>1.000000</td>\n",
       "      <td>1.000000</td>\n",
       "      <td>1.000000</td>\n",
       "      <td>1.500000</td>\n",
       "      <td>123.000000</td>\n",
       "      <td>162.000000</td>\n",
       "      <td>23000.000000</td>\n",
       "      <td>40627.595240</td>\n",
       "      <td>76406.207520</td>\n",
       "      <td>1.000000</td>\n",
       "      <td>12.000000</td>\n",
       "    </tr>\n",
       "  </tbody>\n",
       "</table>\n",
       "</div>"
      ],
      "text/plain": [
       "            BALANCE  BALANCE_FREQUENCY    PURCHASES  ONEOFF_PURCHASES  \\\n",
       "count   5531.000000        5531.000000  5531.000000       5531.000000   \n",
       "mean    1653.094942           0.815231   328.423932        202.309174   \n",
       "std     2175.816302           0.278234   595.841559        490.356645   \n",
       "min        0.000000           0.000000     0.000000          0.000000   \n",
       "25%       91.550815           0.666667     0.000000          0.000000   \n",
       "50%      945.793928           1.000000   102.000000          0.000000   \n",
       "75%     2175.678828           1.000000   399.970000        170.960000   \n",
       "max    16304.889250           1.000000  8533.540000       6678.260000   \n",
       "\n",
       "       INSTALLMENTS_PURCHASES  CASH_ADVANCE  PURCHASES_FREQUENCY  \\\n",
       "count             5531.000000   5531.000000          5531.000000   \n",
       "mean               126.403323   1322.519737             0.250059   \n",
       "std                300.721782   2457.281875             0.300359   \n",
       "min                  0.000000      0.000000             0.000000   \n",
       "25%                  0.000000      0.000000             0.000000   \n",
       "50%                  0.000000    244.694657             0.100000   \n",
       "75%                129.140000   1694.074969             0.416667   \n",
       "max               7739.480000  47137.211760             1.000000   \n",
       "\n",
       "       ONEOFF_PURCHASES_FREQUENCY  PURCHASES_INSTALLMENTS_FREQUENCY  \\\n",
       "count                 5531.000000                       5531.000000   \n",
       "mean                     0.081956                          0.167406   \n",
       "std                      0.146655                          0.274614   \n",
       "min                      0.000000                          0.000000   \n",
       "25%                      0.000000                          0.000000   \n",
       "50%                      0.000000                          0.000000   \n",
       "75%                      0.083333                          0.250000   \n",
       "max                      1.000000                          1.000000   \n",
       "\n",
       "       CASH_ADVANCE_FREQUENCY  CASH_ADVANCE_TRX  PURCHASES_TRX  CREDIT_LIMIT  \\\n",
       "count             5531.000000       5531.000000    5531.000000   5531.000000   \n",
       "mean                 0.172985          4.179172       4.377509   4115.555273   \n",
       "std                  0.216151          7.755782       7.433439   3458.239454   \n",
       "min                  0.000000          0.000000       0.000000     50.000000   \n",
       "25%                  0.000000          0.000000       0.000000   1500.000000   \n",
       "50%                  0.083333          1.000000       2.000000   3000.000000   \n",
       "75%                  0.250000          5.000000       6.000000   6000.000000   \n",
       "max                  1.500000        123.000000     162.000000  23000.000000   \n",
       "\n",
       "           PAYMENTS  MINIMUM_PAYMENTS  PRC_FULL_PAYMENT       TENURE  \n",
       "count   5531.000000       5531.000000       5531.000000  5531.000000  \n",
       "mean    1444.312565        932.208202          0.099883    11.245525  \n",
       "std     2624.320768       2778.992036          0.234547     1.631770  \n",
       "min        0.000000          0.019163          0.000000     6.000000  \n",
       "25%      299.092188        158.945869          0.000000    12.000000  \n",
       "50%      639.362373        375.333662          0.000000    12.000000  \n",
       "75%     1480.906465        864.206542          0.083333    12.000000  \n",
       "max    40627.595240      76406.207520          1.000000    12.000000  "
      ]
     },
     "metadata": {},
     "output_type": "display_data"
    },
    {
     "name": "stdout",
     "output_type": "stream",
     "text": [
      "\n",
      "\n"
     ]
    }
   ],
   "source": [
    "display(first_cluster.describe())\n",
    "display(second_cluster.describe())\n",
    "print('\\n')"
   ]
  },
  {
   "cell_type": "markdown",
   "metadata": {
    "cell_id": "6cebb21f310d44f9a1c687bc905d12c8",
    "deepnote_cell_type": "markdown",
    "tags": []
   },
   "source": [
    "Observing the data, it appears that the second cluster has higher mean values for each feature. One potential explanation for this is that the first group is larger, making the sample more stable. However, the first quantile, median, third quantile, and maximum values for the second cluster are also greater in almost all columns, indicating that the higher mean values are not just a result of the group being larger, but rather due to the characteristics of the group itself. This suggests that the second cluster contains more active users. Examining specific features, we see that the average values for the number of purchases made and amount of payment made by users are four times higher in the second cluster compared to the first. The same pattern is observed with cash paid in advance. Additionally, the average maximum purchase amount made in a single transaction is six times higher in the second cluster. The credit limit for the second cluster is also significantly higher. These observations may suggest that the second group includes private entrepreneurs, who typically have higher credit limits and make larger payments."
   ]
  },
  {
   "cell_type": "markdown",
   "metadata": {
    "cell_id": "99309526eff442a8aab909049bb175fe",
    "deepnote_cell_type": "markdown",
    "tags": []
   },
   "source": [
    "### In total"
   ]
  },
  {
   "cell_type": "markdown",
   "metadata": {},
   "source": [
    "In summary, it seems that credit card users can be divided into two groups: an average group and a more active group. The second group has higher levels of activity, with more payments made and larger payment amounts, as well as higher credit limits. It is likely that the second group includes a greater number of entrepreneurs, who tend to have more activity on their cards."
   ]
  }
 ],
 "metadata": {
  "deepnote": {},
  "deepnote_execution_queue": [],
  "deepnote_notebook_id": "2c463c97a8b04102bbdc0ad2843715cd",
  "kernelspec": {
   "display_name": "Python 3 (ipykernel)",
   "language": "python",
   "name": "python3"
  },
  "language_info": {
   "codemirror_mode": {
    "name": "ipython",
    "version": 3
   },
   "file_extension": ".py",
   "mimetype": "text/x-python",
   "name": "python",
   "nbconvert_exporter": "python",
   "pygments_lexer": "ipython3",
   "version": "3.9.13"
  }
 },
 "nbformat": 4,
 "nbformat_minor": 1
}
