{
 "cells": [
  {
   "cell_type": "markdown",
   "metadata": {},
   "source": [
    "### Data source\n",
    "\n",
    "The data source consists of files `BX-Users.csv`, `BX-Books.csv`, `BX-Book-Ratings.csv` (available here: http://www2.informatik.uni-freiburg.de/~cziegler/BX/)."
   ]
  },
  {
   "cell_type": "markdown",
   "metadata": {},
   "source": [
    "### Datasets' description\n",
    "\n",
    "- `BX-Users`\n",
    "Contains the users. \n",
    "    - User IDs (***User-ID***) have been anonymized and map to integers. \n",
    "    - Demographic data is provided (***Location***, ***Age***) if available. Otherwise, these fields contain NULL-values.\n",
    "\n",
    "\n",
    "- `BX-Books`\n",
    "Books are identified by their respective ISBN. \n",
    "    - Invalid ISBNs have already been removed from the dataset. \n",
    "    - Some content-based information is given (***Book-Title***, ***Book-Author***, ***Year-Of-Publication***, ***Publisher***), obtained from Amazon Web Services. \n",
    "    - In case of several authors, only the first is provided. \n",
    "    - URLs linking to cover images are also given, appearing in three different flavours (***Image-URL-S***, ***Image-URL-M***, ***Image-URL-L***), i.e., small, medium, large. These URLs point to the Amazon web site.\n",
    "\n",
    "\n",
    "- `BX-Book-Ratings`\n",
    "Contains the book rating information. \n",
    "    - Ratings (***Book-Rating***) are either explicit, expressed on a scale from 1-10 (higher values denoting higher appreciation), or implicit, expressed by 0."
   ]
  },
  {
   "cell_type": "code",
   "execution_count": 1,
   "metadata": {
    "ExecuteTime": {
     "end_time": "2023-08-07T07:59:43.295884Z",
     "start_time": "2023-08-07T07:59:43.227136Z"
    }
   },
   "outputs": [],
   "source": [
    "import pandas as pd\n",
    "import numpy as np\n",
    "import matplotlib.pyplot as plt\n",
    "import seaborn as sns\n",
    "import matplotlib.gridspec as gridspec\n",
    "from surprise import Dataset, Reader, SVD, accuracy\n",
    "from surprise.model_selection import GridSearchCV, cross_validate, train_test_split"
   ]
  },
  {
   "cell_type": "markdown",
   "metadata": {},
   "source": [
    "### Load datasets"
   ]
  },
  {
   "cell_type": "code",
   "execution_count": 2,
   "metadata": {
    "ExecuteTime": {
     "end_time": "2023-08-07T07:59:46.137666Z",
     "start_time": "2023-08-07T07:59:43.297918Z"
    }
   },
   "outputs": [],
   "source": [
    "books_df = pd.read_csv('BX-Books.csv', sep=';', on_bad_lines='skip', encoding='latin-1',\n",
    "                       dtype={'Year-Of-Publication': 'str'})\n",
    "users_df = pd.read_csv('BX-Users.csv', sep=';', on_bad_lines='skip', encoding='latin-1')\n",
    "ratings_df = pd.read_csv('BX-Book-Ratings.csv', sep=';', on_bad_lines='skip', encoding='latin-1')"
   ]
  },
  {
   "cell_type": "markdown",
   "metadata": {},
   "source": [
    "* To fix warning, I replaced the **error_bad_lines** argument with **on_bad_lines** argument in all three pd.read_csv functions. The **on_bad_lines='skip'** argument will skip the bad lines instead of throwing an error.\n",
    "* Next warning message indicated that in the dataset `BX-Books.csv` there are mixed data types in column 3. I specified the data type for column 3 explicitly. I set column 3 (***Year-Of-Publication***) to be of type *str*, which will allow to retain the mixed data types in that column."
   ]
  },
  {
   "cell_type": "markdown",
   "metadata": {},
   "source": [
    "### Explore datasets"
   ]
  },
  {
   "cell_type": "code",
   "execution_count": 3,
   "metadata": {
    "ExecuteTime": {
     "end_time": "2023-08-07T07:59:46.147432Z",
     "start_time": "2023-08-07T07:59:46.142602Z"
    }
   },
   "outputs": [],
   "source": [
    "def separation():\n",
    "    print('***************************************\\n')\n",
    "def describe_df(df, name):\n",
    "    print('shape of ' + name + ': ' + str(df.shape) + '\\n')\n",
    "    separation()\n",
    "    print('head of ' + name + ' dataset')\n",
    "    display(df.head())\n",
    "    separation()\n",
    "    print('info of ' + name + ' dataset\\n')\n",
    "    display(df.info())\n",
    "    separation()\n",
    "    print('description of ' + name + ' dataset')\n",
    "    display(df.describe())\n",
    "    separation()\n",
    "    print('number of unique values in ' + name + ' dataset')\n",
    "    display(df.nunique())"
   ]
  },
  {
   "cell_type": "code",
   "execution_count": 4,
   "metadata": {
    "ExecuteTime": {
     "end_time": "2023-08-07T07:59:48.666460Z",
     "start_time": "2023-08-07T07:59:46.148234Z"
    }
   },
   "outputs": [
    {
     "name": "stdout",
     "output_type": "stream",
     "text": [
      "shape of BX-Books.csv: (271360, 8)\n",
      "\n",
      "***************************************\n",
      "\n",
      "head of BX-Books.csv dataset\n"
     ]
    },
    {
     "data": {
      "text/plain": "         ISBN                                         Book-Title  \\\n0  0195153448                                Classical Mythology   \n1  0002005018                                       Clara Callan   \n2  0060973129                               Decision in Normandy   \n3  0374157065  Flu: The Story of the Great Influenza Pandemic...   \n4  0393045218                             The Mummies of Urumchi   \n\n            Book-Author Year-Of-Publication                   Publisher  \\\n0    Mark P. O. Morford                2002     Oxford University Press   \n1  Richard Bruce Wright                2001       HarperFlamingo Canada   \n2          Carlo D'Este                1991             HarperPerennial   \n3      Gina Bari Kolata                1999        Farrar Straus Giroux   \n4       E. J. W. Barber                1999  W. W. Norton &amp; Company   \n\n                                         Image-URL-S  \\\n0  http://images.amazon.com/images/P/0195153448.0...   \n1  http://images.amazon.com/images/P/0002005018.0...   \n2  http://images.amazon.com/images/P/0060973129.0...   \n3  http://images.amazon.com/images/P/0374157065.0...   \n4  http://images.amazon.com/images/P/0393045218.0...   \n\n                                         Image-URL-M  \\\n0  http://images.amazon.com/images/P/0195153448.0...   \n1  http://images.amazon.com/images/P/0002005018.0...   \n2  http://images.amazon.com/images/P/0060973129.0...   \n3  http://images.amazon.com/images/P/0374157065.0...   \n4  http://images.amazon.com/images/P/0393045218.0...   \n\n                                         Image-URL-L  \n0  http://images.amazon.com/images/P/0195153448.0...  \n1  http://images.amazon.com/images/P/0002005018.0...  \n2  http://images.amazon.com/images/P/0060973129.0...  \n3  http://images.amazon.com/images/P/0374157065.0...  \n4  http://images.amazon.com/images/P/0393045218.0...  ",
      "text/html": "<div>\n<style scoped>\n    .dataframe tbody tr th:only-of-type {\n        vertical-align: middle;\n    }\n\n    .dataframe tbody tr th {\n        vertical-align: top;\n    }\n\n    .dataframe thead th {\n        text-align: right;\n    }\n</style>\n<table border=\"1\" class=\"dataframe\">\n  <thead>\n    <tr style=\"text-align: right;\">\n      <th></th>\n      <th>ISBN</th>\n      <th>Book-Title</th>\n      <th>Book-Author</th>\n      <th>Year-Of-Publication</th>\n      <th>Publisher</th>\n      <th>Image-URL-S</th>\n      <th>Image-URL-M</th>\n      <th>Image-URL-L</th>\n    </tr>\n  </thead>\n  <tbody>\n    <tr>\n      <th>0</th>\n      <td>0195153448</td>\n      <td>Classical Mythology</td>\n      <td>Mark P. O. Morford</td>\n      <td>2002</td>\n      <td>Oxford University Press</td>\n      <td>http://images.amazon.com/images/P/0195153448.0...</td>\n      <td>http://images.amazon.com/images/P/0195153448.0...</td>\n      <td>http://images.amazon.com/images/P/0195153448.0...</td>\n    </tr>\n    <tr>\n      <th>1</th>\n      <td>0002005018</td>\n      <td>Clara Callan</td>\n      <td>Richard Bruce Wright</td>\n      <td>2001</td>\n      <td>HarperFlamingo Canada</td>\n      <td>http://images.amazon.com/images/P/0002005018.0...</td>\n      <td>http://images.amazon.com/images/P/0002005018.0...</td>\n      <td>http://images.amazon.com/images/P/0002005018.0...</td>\n    </tr>\n    <tr>\n      <th>2</th>\n      <td>0060973129</td>\n      <td>Decision in Normandy</td>\n      <td>Carlo D'Este</td>\n      <td>1991</td>\n      <td>HarperPerennial</td>\n      <td>http://images.amazon.com/images/P/0060973129.0...</td>\n      <td>http://images.amazon.com/images/P/0060973129.0...</td>\n      <td>http://images.amazon.com/images/P/0060973129.0...</td>\n    </tr>\n    <tr>\n      <th>3</th>\n      <td>0374157065</td>\n      <td>Flu: The Story of the Great Influenza Pandemic...</td>\n      <td>Gina Bari Kolata</td>\n      <td>1999</td>\n      <td>Farrar Straus Giroux</td>\n      <td>http://images.amazon.com/images/P/0374157065.0...</td>\n      <td>http://images.amazon.com/images/P/0374157065.0...</td>\n      <td>http://images.amazon.com/images/P/0374157065.0...</td>\n    </tr>\n    <tr>\n      <th>4</th>\n      <td>0393045218</td>\n      <td>The Mummies of Urumchi</td>\n      <td>E. J. W. Barber</td>\n      <td>1999</td>\n      <td>W. W. Norton &amp;amp; Company</td>\n      <td>http://images.amazon.com/images/P/0393045218.0...</td>\n      <td>http://images.amazon.com/images/P/0393045218.0...</td>\n      <td>http://images.amazon.com/images/P/0393045218.0...</td>\n    </tr>\n  </tbody>\n</table>\n</div>"
     },
     "metadata": {},
     "output_type": "display_data"
    },
    {
     "name": "stdout",
     "output_type": "stream",
     "text": [
      "***************************************\n",
      "\n",
      "info of BX-Books.csv dataset\n",
      "\n",
      "<class 'pandas.core.frame.DataFrame'>\n",
      "RangeIndex: 271360 entries, 0 to 271359\n",
      "Data columns (total 8 columns):\n",
      " #   Column               Non-Null Count   Dtype \n",
      "---  ------               --------------   ----- \n",
      " 0   ISBN                 271360 non-null  object\n",
      " 1   Book-Title           271360 non-null  object\n",
      " 2   Book-Author          271359 non-null  object\n",
      " 3   Year-Of-Publication  271360 non-null  object\n",
      " 4   Publisher            271358 non-null  object\n",
      " 5   Image-URL-S          271360 non-null  object\n",
      " 6   Image-URL-M          271360 non-null  object\n",
      " 7   Image-URL-L          271357 non-null  object\n",
      "dtypes: object(8)\n",
      "memory usage: 16.6+ MB\n"
     ]
    },
    {
     "data": {
      "text/plain": "None"
     },
     "metadata": {},
     "output_type": "display_data"
    },
    {
     "name": "stdout",
     "output_type": "stream",
     "text": [
      "***************************************\n",
      "\n",
      "description of BX-Books.csv dataset\n"
     ]
    },
    {
     "data": {
      "text/plain": "              ISBN      Book-Title      Book-Author Year-Of-Publication  \\\ncount       271360          271360           271359              271360   \nunique      271360          242135           102023                 118   \ntop     0195153448  Selected Poems  Agatha Christie                2002   \nfreq             1              27              632               17627   \n\n        Publisher                                        Image-URL-S  \\\ncount      271358                                             271360   \nunique      16807                                             271044   \ntop     Harlequin  http://images.amazon.com/images/P/185326119X.0...   \nfreq         7535                                                  2   \n\n                                              Image-URL-M  \\\ncount                                              271360   \nunique                                             271044   \ntop     http://images.amazon.com/images/P/185326119X.0...   \nfreq                                                    2   \n\n                                              Image-URL-L  \ncount                                              271357  \nunique                                             271041  \ntop     http://images.amazon.com/images/P/225307649X.0...  \nfreq                                                    2  ",
      "text/html": "<div>\n<style scoped>\n    .dataframe tbody tr th:only-of-type {\n        vertical-align: middle;\n    }\n\n    .dataframe tbody tr th {\n        vertical-align: top;\n    }\n\n    .dataframe thead th {\n        text-align: right;\n    }\n</style>\n<table border=\"1\" class=\"dataframe\">\n  <thead>\n    <tr style=\"text-align: right;\">\n      <th></th>\n      <th>ISBN</th>\n      <th>Book-Title</th>\n      <th>Book-Author</th>\n      <th>Year-Of-Publication</th>\n      <th>Publisher</th>\n      <th>Image-URL-S</th>\n      <th>Image-URL-M</th>\n      <th>Image-URL-L</th>\n    </tr>\n  </thead>\n  <tbody>\n    <tr>\n      <th>count</th>\n      <td>271360</td>\n      <td>271360</td>\n      <td>271359</td>\n      <td>271360</td>\n      <td>271358</td>\n      <td>271360</td>\n      <td>271360</td>\n      <td>271357</td>\n    </tr>\n    <tr>\n      <th>unique</th>\n      <td>271360</td>\n      <td>242135</td>\n      <td>102023</td>\n      <td>118</td>\n      <td>16807</td>\n      <td>271044</td>\n      <td>271044</td>\n      <td>271041</td>\n    </tr>\n    <tr>\n      <th>top</th>\n      <td>0195153448</td>\n      <td>Selected Poems</td>\n      <td>Agatha Christie</td>\n      <td>2002</td>\n      <td>Harlequin</td>\n      <td>http://images.amazon.com/images/P/185326119X.0...</td>\n      <td>http://images.amazon.com/images/P/185326119X.0...</td>\n      <td>http://images.amazon.com/images/P/225307649X.0...</td>\n    </tr>\n    <tr>\n      <th>freq</th>\n      <td>1</td>\n      <td>27</td>\n      <td>632</td>\n      <td>17627</td>\n      <td>7535</td>\n      <td>2</td>\n      <td>2</td>\n      <td>2</td>\n    </tr>\n  </tbody>\n</table>\n</div>"
     },
     "metadata": {},
     "output_type": "display_data"
    },
    {
     "name": "stdout",
     "output_type": "stream",
     "text": [
      "***************************************\n",
      "\n",
      "number of unique values in BX-Books.csv dataset\n"
     ]
    },
    {
     "data": {
      "text/plain": "ISBN                   271360\nBook-Title             242135\nBook-Author            102023\nYear-Of-Publication       118\nPublisher               16807\nImage-URL-S            271044\nImage-URL-M            271044\nImage-URL-L            271041\ndtype: int64"
     },
     "metadata": {},
     "output_type": "display_data"
    }
   ],
   "source": [
    "describe_df(books_df, 'BX-Books.csv')"
   ]
  },
  {
   "cell_type": "code",
   "execution_count": 5,
   "metadata": {
    "ExecuteTime": {
     "end_time": "2023-08-07T07:59:49.018045Z",
     "start_time": "2023-08-07T07:59:48.673938Z"
    }
   },
   "outputs": [
    {
     "name": "stdout",
     "output_type": "stream",
     "text": [
      "shape of BX-Users.csv: (278858, 3)\n",
      "\n",
      "***************************************\n",
      "\n",
      "head of BX-Users.csv dataset\n"
     ]
    },
    {
     "data": {
      "text/plain": "   User-ID                            Location   Age\n0        1                  nyc, new york, usa   NaN\n1        2           stockton, california, usa  18.0\n2        3     moscow, yukon territory, russia   NaN\n3        4           porto, v.n.gaia, portugal  17.0\n4        5  farnborough, hants, united kingdom   NaN",
      "text/html": "<div>\n<style scoped>\n    .dataframe tbody tr th:only-of-type {\n        vertical-align: middle;\n    }\n\n    .dataframe tbody tr th {\n        vertical-align: top;\n    }\n\n    .dataframe thead th {\n        text-align: right;\n    }\n</style>\n<table border=\"1\" class=\"dataframe\">\n  <thead>\n    <tr style=\"text-align: right;\">\n      <th></th>\n      <th>User-ID</th>\n      <th>Location</th>\n      <th>Age</th>\n    </tr>\n  </thead>\n  <tbody>\n    <tr>\n      <th>0</th>\n      <td>1</td>\n      <td>nyc, new york, usa</td>\n      <td>NaN</td>\n    </tr>\n    <tr>\n      <th>1</th>\n      <td>2</td>\n      <td>stockton, california, usa</td>\n      <td>18.0</td>\n    </tr>\n    <tr>\n      <th>2</th>\n      <td>3</td>\n      <td>moscow, yukon territory, russia</td>\n      <td>NaN</td>\n    </tr>\n    <tr>\n      <th>3</th>\n      <td>4</td>\n      <td>porto, v.n.gaia, portugal</td>\n      <td>17.0</td>\n    </tr>\n    <tr>\n      <th>4</th>\n      <td>5</td>\n      <td>farnborough, hants, united kingdom</td>\n      <td>NaN</td>\n    </tr>\n  </tbody>\n</table>\n</div>"
     },
     "metadata": {},
     "output_type": "display_data"
    },
    {
     "name": "stdout",
     "output_type": "stream",
     "text": [
      "***************************************\n",
      "\n",
      "info of BX-Users.csv dataset\n",
      "\n",
      "<class 'pandas.core.frame.DataFrame'>\n",
      "RangeIndex: 278858 entries, 0 to 278857\n",
      "Data columns (total 3 columns):\n",
      " #   Column    Non-Null Count   Dtype  \n",
      "---  ------    --------------   -----  \n",
      " 0   User-ID   278858 non-null  int64  \n",
      " 1   Location  278858 non-null  object \n",
      " 2   Age       168096 non-null  float64\n",
      "dtypes: float64(1), int64(1), object(1)\n",
      "memory usage: 6.4+ MB\n"
     ]
    },
    {
     "data": {
      "text/plain": "None"
     },
     "metadata": {},
     "output_type": "display_data"
    },
    {
     "name": "stdout",
     "output_type": "stream",
     "text": [
      "***************************************\n",
      "\n",
      "description of BX-Users.csv dataset\n"
     ]
    },
    {
     "data": {
      "text/plain": "            User-ID            Age\ncount  278858.00000  168096.000000\nmean   139429.50000      34.751434\nstd     80499.51502      14.428097\nmin         1.00000       0.000000\n25%     69715.25000      24.000000\n50%    139429.50000      32.000000\n75%    209143.75000      44.000000\nmax    278858.00000     244.000000",
      "text/html": "<div>\n<style scoped>\n    .dataframe tbody tr th:only-of-type {\n        vertical-align: middle;\n    }\n\n    .dataframe tbody tr th {\n        vertical-align: top;\n    }\n\n    .dataframe thead th {\n        text-align: right;\n    }\n</style>\n<table border=\"1\" class=\"dataframe\">\n  <thead>\n    <tr style=\"text-align: right;\">\n      <th></th>\n      <th>User-ID</th>\n      <th>Age</th>\n    </tr>\n  </thead>\n  <tbody>\n    <tr>\n      <th>count</th>\n      <td>278858.00000</td>\n      <td>168096.000000</td>\n    </tr>\n    <tr>\n      <th>mean</th>\n      <td>139429.50000</td>\n      <td>34.751434</td>\n    </tr>\n    <tr>\n      <th>std</th>\n      <td>80499.51502</td>\n      <td>14.428097</td>\n    </tr>\n    <tr>\n      <th>min</th>\n      <td>1.00000</td>\n      <td>0.000000</td>\n    </tr>\n    <tr>\n      <th>25%</th>\n      <td>69715.25000</td>\n      <td>24.000000</td>\n    </tr>\n    <tr>\n      <th>50%</th>\n      <td>139429.50000</td>\n      <td>32.000000</td>\n    </tr>\n    <tr>\n      <th>75%</th>\n      <td>209143.75000</td>\n      <td>44.000000</td>\n    </tr>\n    <tr>\n      <th>max</th>\n      <td>278858.00000</td>\n      <td>244.000000</td>\n    </tr>\n  </tbody>\n</table>\n</div>"
     },
     "metadata": {},
     "output_type": "display_data"
    },
    {
     "name": "stdout",
     "output_type": "stream",
     "text": [
      "***************************************\n",
      "\n",
      "number of unique values in BX-Users.csv dataset\n"
     ]
    },
    {
     "data": {
      "text/plain": "User-ID     278858\nLocation     57339\nAge            165\ndtype: int64"
     },
     "metadata": {},
     "output_type": "display_data"
    }
   ],
   "source": [
    "describe_df(users_df, 'BX-Users.csv')"
   ]
  },
  {
   "cell_type": "code",
   "execution_count": 6,
   "metadata": {
    "ExecuteTime": {
     "end_time": "2023-08-07T07:59:49.667908Z",
     "start_time": "2023-08-07T07:59:48.967013Z"
    }
   },
   "outputs": [
    {
     "name": "stdout",
     "output_type": "stream",
     "text": [
      "shape of BX-Book-Ratings.csv: (1149780, 3)\n",
      "\n",
      "***************************************\n",
      "\n",
      "head of BX-Book-Ratings.csv dataset\n"
     ]
    },
    {
     "data": {
      "text/plain": "   User-ID        ISBN  Book-Rating\n0   276725  034545104X            0\n1   276726  0155061224            5\n2   276727  0446520802            0\n3   276729  052165615X            3\n4   276729  0521795028            6",
      "text/html": "<div>\n<style scoped>\n    .dataframe tbody tr th:only-of-type {\n        vertical-align: middle;\n    }\n\n    .dataframe tbody tr th {\n        vertical-align: top;\n    }\n\n    .dataframe thead th {\n        text-align: right;\n    }\n</style>\n<table border=\"1\" class=\"dataframe\">\n  <thead>\n    <tr style=\"text-align: right;\">\n      <th></th>\n      <th>User-ID</th>\n      <th>ISBN</th>\n      <th>Book-Rating</th>\n    </tr>\n  </thead>\n  <tbody>\n    <tr>\n      <th>0</th>\n      <td>276725</td>\n      <td>034545104X</td>\n      <td>0</td>\n    </tr>\n    <tr>\n      <th>1</th>\n      <td>276726</td>\n      <td>0155061224</td>\n      <td>5</td>\n    </tr>\n    <tr>\n      <th>2</th>\n      <td>276727</td>\n      <td>0446520802</td>\n      <td>0</td>\n    </tr>\n    <tr>\n      <th>3</th>\n      <td>276729</td>\n      <td>052165615X</td>\n      <td>3</td>\n    </tr>\n    <tr>\n      <th>4</th>\n      <td>276729</td>\n      <td>0521795028</td>\n      <td>6</td>\n    </tr>\n  </tbody>\n</table>\n</div>"
     },
     "metadata": {},
     "output_type": "display_data"
    },
    {
     "name": "stdout",
     "output_type": "stream",
     "text": [
      "***************************************\n",
      "\n",
      "info of BX-Book-Ratings.csv dataset\n",
      "\n",
      "<class 'pandas.core.frame.DataFrame'>\n",
      "RangeIndex: 1149780 entries, 0 to 1149779\n",
      "Data columns (total 3 columns):\n",
      " #   Column       Non-Null Count    Dtype \n",
      "---  ------       --------------    ----- \n",
      " 0   User-ID      1149780 non-null  int64 \n",
      " 1   ISBN         1149780 non-null  object\n",
      " 2   Book-Rating  1149780 non-null  int64 \n",
      "dtypes: int64(2), object(1)\n",
      "memory usage: 26.3+ MB\n"
     ]
    },
    {
     "data": {
      "text/plain": "None"
     },
     "metadata": {},
     "output_type": "display_data"
    },
    {
     "name": "stdout",
     "output_type": "stream",
     "text": [
      "***************************************\n",
      "\n",
      "description of BX-Book-Ratings.csv dataset\n"
     ]
    },
    {
     "data": {
      "text/plain": "            User-ID   Book-Rating\ncount  1.149780e+06  1.149780e+06\nmean   1.403864e+05  2.866950e+00\nstd    8.056228e+04  3.854184e+00\nmin    2.000000e+00  0.000000e+00\n25%    7.034500e+04  0.000000e+00\n50%    1.410100e+05  0.000000e+00\n75%    2.110280e+05  7.000000e+00\nmax    2.788540e+05  1.000000e+01",
      "text/html": "<div>\n<style scoped>\n    .dataframe tbody tr th:only-of-type {\n        vertical-align: middle;\n    }\n\n    .dataframe tbody tr th {\n        vertical-align: top;\n    }\n\n    .dataframe thead th {\n        text-align: right;\n    }\n</style>\n<table border=\"1\" class=\"dataframe\">\n  <thead>\n    <tr style=\"text-align: right;\">\n      <th></th>\n      <th>User-ID</th>\n      <th>Book-Rating</th>\n    </tr>\n  </thead>\n  <tbody>\n    <tr>\n      <th>count</th>\n      <td>1.149780e+06</td>\n      <td>1.149780e+06</td>\n    </tr>\n    <tr>\n      <th>mean</th>\n      <td>1.403864e+05</td>\n      <td>2.866950e+00</td>\n    </tr>\n    <tr>\n      <th>std</th>\n      <td>8.056228e+04</td>\n      <td>3.854184e+00</td>\n    </tr>\n    <tr>\n      <th>min</th>\n      <td>2.000000e+00</td>\n      <td>0.000000e+00</td>\n    </tr>\n    <tr>\n      <th>25%</th>\n      <td>7.034500e+04</td>\n      <td>0.000000e+00</td>\n    </tr>\n    <tr>\n      <th>50%</th>\n      <td>1.410100e+05</td>\n      <td>0.000000e+00</td>\n    </tr>\n    <tr>\n      <th>75%</th>\n      <td>2.110280e+05</td>\n      <td>7.000000e+00</td>\n    </tr>\n    <tr>\n      <th>max</th>\n      <td>2.788540e+05</td>\n      <td>1.000000e+01</td>\n    </tr>\n  </tbody>\n</table>\n</div>"
     },
     "metadata": {},
     "output_type": "display_data"
    },
    {
     "name": "stdout",
     "output_type": "stream",
     "text": [
      "***************************************\n",
      "\n",
      "number of unique values in BX-Book-Ratings.csv dataset\n"
     ]
    },
    {
     "data": {
      "text/plain": "User-ID        105283\nISBN           340556\nBook-Rating        11\ndtype: int64"
     },
     "metadata": {},
     "output_type": "display_data"
    }
   ],
   "source": [
    "describe_df(ratings_df, 'BX-Book-Ratings.csv')"
   ]
  },
  {
   "cell_type": "markdown",
   "metadata": {},
   "source": [
    "### Merge datasets\n",
    "I'll merge three datasets into a single dataframe using pd.merge based on the common columns.\n",
    "* Firstly I merge `ratings_df` with `books_df` on common column **ISBN**. \n",
    "* Then I merge resulting dataframe with `users_df` using column **User-ID**. "
   ]
  },
  {
   "cell_type": "code",
   "execution_count": 7,
   "metadata": {
    "ExecuteTime": {
     "end_time": "2023-08-07T07:59:51.159672Z",
     "start_time": "2023-08-07T07:59:49.658088Z"
    }
   },
   "outputs": [],
   "source": [
    "data = pd.merge(ratings_df, books_df, on='ISBN')\n",
    "data = pd.merge(data, users_df, on='User-ID')"
   ]
  },
  {
   "cell_type": "code",
   "execution_count": 8,
   "metadata": {
    "ExecuteTime": {
     "end_time": "2023-08-07T07:59:51.178459Z",
     "start_time": "2023-08-07T07:59:51.158845Z"
    }
   },
   "outputs": [
    {
     "data": {
      "text/plain": "   User-ID        ISBN  Book-Rating  \\\n0   276725  034545104X            0   \n1     2313  034545104X            5   \n2     2313  0812533550            9   \n3     2313  0679745580            8   \n4     2313  0060173289            9   \n\n                                         Book-Title       Book-Author  \\\n0                              Flesh Tones: A Novel        M. J. Rose   \n1                              Flesh Tones: A Novel        M. J. Rose   \n2     Ender's Game (Ender Wiggins Saga (Paperback))  Orson Scott Card   \n3             In Cold Blood (Vintage International)     TRUMAN CAPOTE   \n4  Divine Secrets of the Ya-Ya Sisterhood : A Novel     Rebecca Wells   \n\n  Year-Of-Publication         Publisher  \\\n0                2002  Ballantine Books   \n1                2002  Ballantine Books   \n2                1986         Tor Books   \n3                1994           Vintage   \n4                1996     HarperCollins   \n\n                                         Image-URL-S  \\\n0  http://images.amazon.com/images/P/034545104X.0...   \n1  http://images.amazon.com/images/P/034545104X.0...   \n2  http://images.amazon.com/images/P/0812533550.0...   \n3  http://images.amazon.com/images/P/0679745580.0...   \n4  http://images.amazon.com/images/P/0060173289.0...   \n\n                                         Image-URL-M  \\\n0  http://images.amazon.com/images/P/034545104X.0...   \n1  http://images.amazon.com/images/P/034545104X.0...   \n2  http://images.amazon.com/images/P/0812533550.0...   \n3  http://images.amazon.com/images/P/0679745580.0...   \n4  http://images.amazon.com/images/P/0060173289.0...   \n\n                                         Image-URL-L               Location  \\\n0  http://images.amazon.com/images/P/034545104X.0...      tyler, texas, usa   \n1  http://images.amazon.com/images/P/034545104X.0...  cincinnati, ohio, usa   \n2  http://images.amazon.com/images/P/0812533550.0...  cincinnati, ohio, usa   \n3  http://images.amazon.com/images/P/0679745580.0...  cincinnati, ohio, usa   \n4  http://images.amazon.com/images/P/0060173289.0...  cincinnati, ohio, usa   \n\n    Age  \n0   NaN  \n1  23.0  \n2  23.0  \n3  23.0  \n4  23.0  ",
      "text/html": "<div>\n<style scoped>\n    .dataframe tbody tr th:only-of-type {\n        vertical-align: middle;\n    }\n\n    .dataframe tbody tr th {\n        vertical-align: top;\n    }\n\n    .dataframe thead th {\n        text-align: right;\n    }\n</style>\n<table border=\"1\" class=\"dataframe\">\n  <thead>\n    <tr style=\"text-align: right;\">\n      <th></th>\n      <th>User-ID</th>\n      <th>ISBN</th>\n      <th>Book-Rating</th>\n      <th>Book-Title</th>\n      <th>Book-Author</th>\n      <th>Year-Of-Publication</th>\n      <th>Publisher</th>\n      <th>Image-URL-S</th>\n      <th>Image-URL-M</th>\n      <th>Image-URL-L</th>\n      <th>Location</th>\n      <th>Age</th>\n    </tr>\n  </thead>\n  <tbody>\n    <tr>\n      <th>0</th>\n      <td>276725</td>\n      <td>034545104X</td>\n      <td>0</td>\n      <td>Flesh Tones: A Novel</td>\n      <td>M. J. Rose</td>\n      <td>2002</td>\n      <td>Ballantine Books</td>\n      <td>http://images.amazon.com/images/P/034545104X.0...</td>\n      <td>http://images.amazon.com/images/P/034545104X.0...</td>\n      <td>http://images.amazon.com/images/P/034545104X.0...</td>\n      <td>tyler, texas, usa</td>\n      <td>NaN</td>\n    </tr>\n    <tr>\n      <th>1</th>\n      <td>2313</td>\n      <td>034545104X</td>\n      <td>5</td>\n      <td>Flesh Tones: A Novel</td>\n      <td>M. J. Rose</td>\n      <td>2002</td>\n      <td>Ballantine Books</td>\n      <td>http://images.amazon.com/images/P/034545104X.0...</td>\n      <td>http://images.amazon.com/images/P/034545104X.0...</td>\n      <td>http://images.amazon.com/images/P/034545104X.0...</td>\n      <td>cincinnati, ohio, usa</td>\n      <td>23.0</td>\n    </tr>\n    <tr>\n      <th>2</th>\n      <td>2313</td>\n      <td>0812533550</td>\n      <td>9</td>\n      <td>Ender's Game (Ender Wiggins Saga (Paperback))</td>\n      <td>Orson Scott Card</td>\n      <td>1986</td>\n      <td>Tor Books</td>\n      <td>http://images.amazon.com/images/P/0812533550.0...</td>\n      <td>http://images.amazon.com/images/P/0812533550.0...</td>\n      <td>http://images.amazon.com/images/P/0812533550.0...</td>\n      <td>cincinnati, ohio, usa</td>\n      <td>23.0</td>\n    </tr>\n    <tr>\n      <th>3</th>\n      <td>2313</td>\n      <td>0679745580</td>\n      <td>8</td>\n      <td>In Cold Blood (Vintage International)</td>\n      <td>TRUMAN CAPOTE</td>\n      <td>1994</td>\n      <td>Vintage</td>\n      <td>http://images.amazon.com/images/P/0679745580.0...</td>\n      <td>http://images.amazon.com/images/P/0679745580.0...</td>\n      <td>http://images.amazon.com/images/P/0679745580.0...</td>\n      <td>cincinnati, ohio, usa</td>\n      <td>23.0</td>\n    </tr>\n    <tr>\n      <th>4</th>\n      <td>2313</td>\n      <td>0060173289</td>\n      <td>9</td>\n      <td>Divine Secrets of the Ya-Ya Sisterhood : A Novel</td>\n      <td>Rebecca Wells</td>\n      <td>1996</td>\n      <td>HarperCollins</td>\n      <td>http://images.amazon.com/images/P/0060173289.0...</td>\n      <td>http://images.amazon.com/images/P/0060173289.0...</td>\n      <td>http://images.amazon.com/images/P/0060173289.0...</td>\n      <td>cincinnati, ohio, usa</td>\n      <td>23.0</td>\n    </tr>\n  </tbody>\n</table>\n</div>"
     },
     "metadata": {},
     "output_type": "display_data"
    }
   ],
   "source": [
    "display(data.head())"
   ]
  },
  {
   "cell_type": "markdown",
   "metadata": {},
   "source": [
    "Reasons for merging datasets:\n",
    "\n",
    "\n",
    "> Merging datasets into one can be useful when the data we want to analyze are stored in different sources but have some connection with each other. In this case, combining three datasets can help analyze data about books, users, and user ratings for books.\n",
    "* **Supplementing information**: if one dataset has information that is not in the others, merging can help create a more complete database.\n",
    "* **Reducing the number of datasets**: merging datasets can help reduce the number of files that need to be stored and processed.\n",
    "* **Simplify analysis**: merging datasets can help simplify data analysis by allowing you to view data in context with each other."
   ]
  },
  {
   "cell_type": "markdown",
   "metadata": {},
   "source": [
    "### Data preprocessing"
   ]
  },
  {
   "cell_type": "code",
   "execution_count": 9,
   "metadata": {
    "ExecuteTime": {
     "end_time": "2023-08-07T07:59:51.613879Z",
     "start_time": "2023-08-07T07:59:51.252745Z"
    }
   },
   "outputs": [],
   "source": [
    "# Drop unnecessary columns\n",
    "data.drop(['Image-URL-S', 'Image-URL-M', 'Image-URL-L'], axis=1, inplace=True)"
   ]
  },
  {
   "cell_type": "code",
   "execution_count": 10,
   "metadata": {
    "ExecuteTime": {
     "end_time": "2023-08-07T07:59:53.245220Z",
     "start_time": "2023-08-07T07:59:51.608224Z"
    }
   },
   "outputs": [
    {
     "name": "stdout",
     "output_type": "stream",
     "text": [
      "Number of duplicates: 0\n"
     ]
    }
   ],
   "source": [
    "# Check for duplicates\n",
    "print('Number of duplicates:', data.duplicated().sum())"
   ]
  },
  {
   "cell_type": "markdown",
   "metadata": {},
   "source": [
    "* Because there are no duplicates in the dataset, it is not necessary to use the function to remove duplicate rows."
   ]
  },
  {
   "cell_type": "code",
   "execution_count": 11,
   "metadata": {
    "ExecuteTime": {
     "end_time": "2023-08-07T07:59:54.224255Z",
     "start_time": "2023-08-07T07:59:53.244001Z"
    }
   },
   "outputs": [
    {
     "name": "stdout",
     "output_type": "stream",
     "text": [
      "User-ID                     0\n",
      "ISBN                        0\n",
      "Book-Rating                 0\n",
      "Book-Title                  0\n",
      "Book-Author                 1\n",
      "Year-Of-Publication         0\n",
      "Publisher                   2\n",
      "Location                    0\n",
      "Age                    277835\n",
      "dtype: int64\n"
     ]
    }
   ],
   "source": [
    "# Check for missing values\n",
    "print(data.isnull().sum())"
   ]
  },
  {
   "cell_type": "markdown",
   "metadata": {},
   "source": [
    "* Since a large number of rows lack information about age, I decided not to delete these rows and replace them with the median value of **Age** column."
   ]
  },
  {
   "cell_type": "code",
   "execution_count": 12,
   "metadata": {
    "ExecuteTime": {
     "end_time": "2023-08-07T07:59:54.238743Z",
     "start_time": "2023-08-07T07:59:54.224947Z"
    }
   },
   "outputs": [],
   "source": [
    "# Fill missing values with median\n",
    "data['Age'].fillna(data['Age'].median(), inplace=True)"
   ]
  },
  {
   "cell_type": "code",
   "execution_count": 13,
   "metadata": {
    "ExecuteTime": {
     "end_time": "2023-08-07T07:59:55.436988Z",
     "start_time": "2023-08-07T07:59:54.237965Z"
    }
   },
   "outputs": [],
   "source": [
    "# Remove rows with missing values\n",
    "data.dropna(inplace=True)"
   ]
  },
  {
   "cell_type": "code",
   "execution_count": 14,
   "metadata": {
    "ExecuteTime": {
     "end_time": "2023-08-07T07:59:55.445510Z",
     "start_time": "2023-08-07T07:59:55.439224Z"
    }
   },
   "outputs": [
    {
     "data": {
      "text/plain": "User-ID                  int64\nISBN                    object\nBook-Rating              int64\nBook-Title              object\nBook-Author             object\nYear-Of-Publication     object\nPublisher               object\nLocation                object\nAge                    float64\ndtype: object"
     },
     "metadata": {},
     "output_type": "display_data"
    }
   ],
   "source": [
    "display(data.dtypes)"
   ]
  },
  {
   "cell_type": "markdown",
   "metadata": {},
   "source": [
    "All features with values of the string type are not continuous, but so called **categorical (discrete)**.\n",
    "* I will replace all of them with numeric codes.\n",
    "* I will convert them to numeric representation using `...cat.codes`."
   ]
  },
  {
   "cell_type": "code",
   "execution_count": 15,
   "metadata": {
    "ExecuteTime": {
     "end_time": "2023-08-07T07:59:57.657963Z",
     "start_time": "2023-08-07T07:59:55.448286Z"
    }
   },
   "outputs": [],
   "source": [
    "obj_columns = data.select_dtypes('object').columns\n",
    "data[obj_columns] = data[obj_columns].astype('category').apply(lambda x: x.cat.codes)"
   ]
  },
  {
   "cell_type": "markdown",
   "metadata": {},
   "source": [
    "### Handle Outliers in Dataset"
   ]
  },
  {
   "cell_type": "code",
   "execution_count": 16,
   "metadata": {
    "ExecuteTime": {
     "end_time": "2023-08-07T07:59:57.917283Z",
     "start_time": "2023-08-07T07:59:57.656989Z"
    }
   },
   "outputs": [
    {
     "data": {
      "text/plain": "<Figure size 640x480 with 1 Axes>",
      "image/png": "[encoded data removed]"
     },
     "metadata": {},
     "output_type": "display_data"
    }
   ],
   "source": [
    "_ = sns.countplot(x='Book-Rating', data=data)"
   ]
  },
  {
   "cell_type": "markdown",
   "metadata": {},
   "source": [
    "The number of grades of zero seems strange, in relation to the others, so I decided to replace the grades of zero with Nan."
   ]
  },
  {
   "cell_type": "code",
   "execution_count": 17,
   "metadata": {
    "ExecuteTime": {
     "end_time": "2023-08-07T07:59:57.991725Z",
     "start_time": "2023-08-07T07:59:57.909380Z"
    }
   },
   "outputs": [],
   "source": [
    "data['Book-Rating'] = data['Book-Rating'].replace(0, None)"
   ]
  },
  {
   "cell_type": "code",
   "execution_count": 18,
   "metadata": {
    "ExecuteTime": {
     "end_time": "2023-08-07T08:00:00.928373Z",
     "start_time": "2023-08-07T07:59:58.058622Z"
    }
   },
   "outputs": [
    {
     "data": {
      "text/plain": "<Figure size 640x480 with 1 Axes>",
      "image/png": "[encoded data removed]"
     },
     "metadata": {},
     "output_type": "display_data"
    }
   ],
   "source": [
    "_ = sns.countplot(x=data['Book-Rating'].sort_values(), data=data)"
   ]
  },
  {
   "cell_type": "markdown",
   "metadata": {},
   "source": [
    "* The graph looks more accurate now."
   ]
  },
  {
   "cell_type": "code",
   "execution_count": 19,
   "metadata": {
    "ExecuteTime": {
     "end_time": "2023-08-07T08:00:01.135247Z",
     "start_time": "2023-08-07T08:00:00.932736Z"
    }
   },
   "outputs": [
    {
     "data": {
      "text/plain": "<Figure size 600x300 with 1 Axes>",
      "image/png": "[encoded data removed]"
     },
     "metadata": {},
     "output_type": "display_data"
    }
   ],
   "source": [
    "fig, ax = plt.subplots(figsize=(6, 3))\n",
    "ax.hist(data.Age,bins=50)\n",
    "plt.show()"
   ]
  },
  {
   "cell_type": "markdown",
   "metadata": {},
   "source": [
    "From the graph we can see that the age goes beyond a hundred years and reaches 250 or on the contrary, the age can be close to zero years old, which is an error in completing the data, so I decided to change the age what is higer than 100 and the age what is smaller than 10 to the median value of age."
   ]
  },
  {
   "cell_type": "code",
   "execution_count": 20,
   "metadata": {
    "ExecuteTime": {
     "end_time": "2023-08-07T08:00:01.147235Z",
     "start_time": "2023-08-07T08:00:01.130616Z"
    }
   },
   "outputs": [],
   "source": [
    "median_age = np.median(data['Age'])\n",
    "data['Age'] = np.where((data['Age'] < 10) | (data['Age'] > 100), median_age, data['Age'])"
   ]
  },
  {
   "cell_type": "code",
   "execution_count": 21,
   "metadata": {
    "ExecuteTime": {
     "end_time": "2023-08-07T08:00:01.398576Z",
     "start_time": "2023-08-07T08:00:01.147818Z"
    }
   },
   "outputs": [
    {
     "data": {
      "text/plain": "<Figure size 600x300 with 1 Axes>",
      "image/png": "[encoded data removed]"
     },
     "metadata": {},
     "output_type": "display_data"
    }
   ],
   "source": [
    "fig, ax = plt.subplots(figsize=(6, 3))\n",
    "ax.hist(data.Age,bins=50)\n",
    "plt.show()"
   ]
  },
  {
   "cell_type": "markdown",
   "metadata": {},
   "source": [
    "* Now we can see that most of the reviews are done by people between 30 and 40 years old."
   ]
  },
  {
   "cell_type": "code",
   "execution_count": 22,
   "metadata": {
    "ExecuteTime": {
     "end_time": "2023-08-07T08:00:01.871737Z",
     "start_time": "2023-08-07T08:00:01.459351Z"
    }
   },
   "outputs": [],
   "source": [
    "# Finally, I will replace all missing values with the median rating of the book\n",
    "median_rating = data['Book-Rating'].median()\n",
    "data['Book-Rating'].fillna(median_rating, inplace=True)"
   ]
  },
  {
   "cell_type": "markdown",
   "metadata": {},
   "source": [
    "### Univariate descriptive statistics\n",
    "* I'll describe the **Age** feature from the dataset using univariate descriptive statistics."
   ]
  },
  {
   "cell_type": "code",
   "execution_count": 23,
   "metadata": {
    "ExecuteTime": {
     "end_time": "2023-08-07T08:00:07.877377Z",
     "start_time": "2023-08-07T08:00:01.869068Z"
    }
   },
   "outputs": [
    {
     "data": {
      "text/plain": "           Title  Value\n0  Minimal value   10.0\n1  Maximal value  100.0\n2          Range   90.0\n3        Average  36.58\n4         Median   35.0\n5       Variance  105.2",
      "text/html": "<div>\n<style scoped>\n    .dataframe tbody tr th:only-of-type {\n        vertical-align: middle;\n    }\n\n    .dataframe tbody tr th {\n        vertical-align: top;\n    }\n\n    .dataframe thead th {\n        text-align: right;\n    }\n</style>\n<table border=\"1\" class=\"dataframe\">\n  <thead>\n    <tr style=\"text-align: right;\">\n      <th></th>\n      <th>Title</th>\n      <th>Value</th>\n    </tr>\n  </thead>\n  <tbody>\n    <tr>\n      <th>0</th>\n      <td>Minimal value</td>\n      <td>10.0</td>\n    </tr>\n    <tr>\n      <th>1</th>\n      <td>Maximal value</td>\n      <td>100.0</td>\n    </tr>\n    <tr>\n      <th>2</th>\n      <td>Range</td>\n      <td>90.0</td>\n    </tr>\n    <tr>\n      <th>3</th>\n      <td>Average</td>\n      <td>36.58</td>\n    </tr>\n    <tr>\n      <th>4</th>\n      <td>Median</td>\n      <td>35.0</td>\n    </tr>\n    <tr>\n      <th>5</th>\n      <td>Variance</td>\n      <td>105.2</td>\n    </tr>\n  </tbody>\n</table>\n</div>"
     },
     "metadata": {},
     "output_type": "display_data"
    },
    {
     "data": {
      "text/plain": "<Figure size 1000x1000 with 3 Axes>",
      "image/png": "[encoded data removed]"
     },
     "metadata": {},
     "output_type": "display_data"
    }
   ],
   "source": [
    "# Univariate descriptive statistics for continuous data\n",
    "def univariate_cont(df, column):\n",
    "    stats_df = pd.DataFrame(np.array([\n",
    "        ['Minimal value', df[column].min()],\n",
    "        ['Maximal value', df[column].max()],\n",
    "        ['Range', df[column].max() - df[column].min()],\n",
    "        ['Average', round(df[column].mean(), 2)],\n",
    "        ['Median', df[column].median()],\n",
    "        ['Variance', round(df[column].var(), 2)]\n",
    "    ]), columns=['Title', 'Value'])\n",
    "\n",
    "    display(stats_df)\n",
    "\n",
    "    # Initializing the image layout\n",
    "    fig = plt.figure(figsize=(10,10), constrained_layout=True)\n",
    "    spec = gridspec.GridSpec(ncols=2, nrows=2, figure=fig)\n",
    "    ax1 = fig.add_subplot(spec[0, :])\n",
    "    ax2 = fig.add_subplot(spec[1, 0])\n",
    "    ax3 = fig.add_subplot(spec[1, 1])\n",
    "    sns.histplot(data=df, bins = 20, x=column, kde=True, ax=ax1)\n",
    "\n",
    "    # x and y - graf rotation\n",
    "    sns.boxplot(data=df, y=column, ax=ax2, medianprops={'color': 'red'})\n",
    "    sns.violinplot(data=df, y=column, ax=ax3)\n",
    "\n",
    "univariate_cont(data, 'Age')"
   ]
  },
  {
   "cell_type": "markdown",
   "metadata": {},
   "source": [
    "* First graph **(histogram)** shows the distribution of user ages. The values of ages are distributed from minimum to maximum values, in this case from 10 to 100. On this graph we can also see the shape of the distribution - it is close to a normal (Gaussian) distribution with a peak around 30-40 years old.\n",
    "* The second graph **(boxplot)** shows descriptive statistics for user ages. The center of the graph shows the median age (the value that divides the data set into two equal parts). The upper boundary (upper boxplot boundary) is the 75th percentile, and the lower boundary (lower boxplot boundary) is the 25th percentile. \"The whiskers\" show the interquartile range, which is the difference between the 75th and 25th percentiles. The outliers are indicated by circles on the graph.\n",
    "* The third graph **(violinplot)** shows an estimate of the density distribution of user ages. It shows the probability distribution, which can be used to compare the distribution of ages in different subgroups of users."
   ]
  },
  {
   "cell_type": "markdown",
   "metadata": {},
   "source": [
    "### Collaborative Filtering"
   ]
  },
  {
   "cell_type": "code",
   "execution_count": 24,
   "metadata": {
    "ExecuteTime": {
     "end_time": "2023-08-07T08:00:08.873068Z",
     "start_time": "2023-08-07T08:00:07.867406Z"
    }
   },
   "outputs": [],
   "source": [
    "# Load dataset in Surprise format\n",
    "reader = Reader(rating_scale=(1, 10))\n",
    "data_Surprise = Dataset.load_from_df(data[['User-ID', 'ISBN', 'Book-Rating']], reader)"
   ]
  },
  {
   "cell_type": "code",
   "execution_count": 25,
   "metadata": {
    "ExecuteTime": {
     "end_time": "2023-08-07T08:00:08.880116Z",
     "start_time": "2023-08-07T08:00:08.872221Z"
    }
   },
   "outputs": [],
   "source": [
    "# Set the hyperparameter grid to find the best model\n",
    "param_grid = {'n_factors': [50, 100], \n",
    "              'n_epochs': [20, 30], \n",
    "              'lr_all': [0.002, 0.005],\n",
    "              'reg_all': [0.4, 0.6]}"
   ]
  },
  {
   "cell_type": "code",
   "execution_count": 26,
   "metadata": {
    "ExecuteTime": {
     "end_time": "2023-08-07T08:05:10.381812Z",
     "start_time": "2023-08-07T08:00:08.905374Z"
    }
   },
   "outputs": [],
   "source": [
    "grid_search = GridSearchCV(SVD, param_grid, measures=['rmse', 'mae'], cv=3, n_jobs=-1)\n",
    "grid_search.fit(data_Surprise)"
   ]
  },
  {
   "cell_type": "code",
   "execution_count": 27,
   "metadata": {
    "ExecuteTime": {
     "end_time": "2023-08-07T08:05:10.412500Z",
     "start_time": "2023-08-07T08:05:10.406440Z"
    }
   },
   "outputs": [
    {
     "name": "stdout",
     "output_type": "stream",
     "text": [
      "Best RMSE score: 1.070\n",
      "Best MAE score: 0.602\n"
     ]
    }
   ],
   "source": [
    "print('Best RMSE score: {:.3f}'.format(grid_search.best_score['rmse']))\n",
    "print('Best MAE score: {:.3f}'.format(grid_search.best_score['mae']))"
   ]
  },
  {
   "cell_type": "code",
   "execution_count": 28,
   "metadata": {
    "ExecuteTime": {
     "end_time": "2023-08-07T08:05:10.412803Z",
     "start_time": "2023-08-07T08:05:10.407475Z"
    }
   },
   "outputs": [
    {
     "name": "stdout",
     "output_type": "stream",
     "text": [
      "Best hyperparameters: {'rmse': {'n_factors': 50, 'n_epochs': 20, 'lr_all': 0.005, 'reg_all': 0.4}, 'mae': {'n_factors': 50, 'n_epochs': 20, 'lr_all': 0.002, 'reg_all': 0.6}}\n"
     ]
    }
   ],
   "source": [
    "print('Best hyperparameters:', grid_search.best_params)"
   ]
  },
  {
   "cell_type": "markdown",
   "metadata": {},
   "source": [
    "> **RMSE** is more sensitive to outliers because it sums the squares of the outliers, which can lead to overestimation of errors if there are outliers. RMSE is also more sensitive to larger error values, since the square of the error is factored into the calculation.\n",
    "\n",
    "> **MAE** does not account for the interaction of error squares, which makes it more robust to outliers and large error values. MAE is also easier to interpret because it gives an absolute value of the outlier that is easy to understand.\n",
    "\n",
    "The main goal of the project is to minimize prediction error, then both metrics can be used to estimate the model. However, accuracy of prediction values is the most important goal, so it is better to use **RMSE**, since it penalizes large errors more severely than **MAE**."
   ]
  },
  {
   "cell_type": "code",
   "execution_count": 29,
   "metadata": {
    "ExecuteTime": {
     "end_time": "2023-08-07T08:05:10.449157Z",
     "start_time": "2023-08-07T08:05:10.407956Z"
    }
   },
   "outputs": [
    {
     "data": {
      "text/plain": "         User-ID    ISBN  Book-Rating  Book-Title  Book-Author  \\\n1031131   276442  250830          7.0      104678        53941   \n1031132   276618  261404          5.0      113038        60976   \n1031133   276647  121170          8.0       35210        56442   \n1031134   276647  151352         10.0       81799         4156   \n1031135   276660  123627          8.0      146158        19737   \n\n         Year-Of-Publication  Publisher  Location   Age  \n1031131                   99       8488      7345  62.0  \n1031132                   81       2481     19309  35.0  \n1031133                   98      14080       837  13.0  \n1031134                   95      13665       837  13.0  \n1031135                   82       6624     18283  15.0  ",
      "text/html": "<div>\n<style scoped>\n    .dataframe tbody tr th:only-of-type {\n        vertical-align: middle;\n    }\n\n    .dataframe tbody tr th {\n        vertical-align: top;\n    }\n\n    .dataframe thead th {\n        text-align: right;\n    }\n</style>\n<table border=\"1\" class=\"dataframe\">\n  <thead>\n    <tr style=\"text-align: right;\">\n      <th></th>\n      <th>User-ID</th>\n      <th>ISBN</th>\n      <th>Book-Rating</th>\n      <th>Book-Title</th>\n      <th>Book-Author</th>\n      <th>Year-Of-Publication</th>\n      <th>Publisher</th>\n      <th>Location</th>\n      <th>Age</th>\n    </tr>\n  </thead>\n  <tbody>\n    <tr>\n      <th>1031131</th>\n      <td>276442</td>\n      <td>250830</td>\n      <td>7.0</td>\n      <td>104678</td>\n      <td>53941</td>\n      <td>99</td>\n      <td>8488</td>\n      <td>7345</td>\n      <td>62.0</td>\n    </tr>\n    <tr>\n      <th>1031132</th>\n      <td>276618</td>\n      <td>261404</td>\n      <td>5.0</td>\n      <td>113038</td>\n      <td>60976</td>\n      <td>81</td>\n      <td>2481</td>\n      <td>19309</td>\n      <td>35.0</td>\n    </tr>\n    <tr>\n      <th>1031133</th>\n      <td>276647</td>\n      <td>121170</td>\n      <td>8.0</td>\n      <td>35210</td>\n      <td>56442</td>\n      <td>98</td>\n      <td>14080</td>\n      <td>837</td>\n      <td>13.0</td>\n    </tr>\n    <tr>\n      <th>1031134</th>\n      <td>276647</td>\n      <td>151352</td>\n      <td>10.0</td>\n      <td>81799</td>\n      <td>4156</td>\n      <td>95</td>\n      <td>13665</td>\n      <td>837</td>\n      <td>13.0</td>\n    </tr>\n    <tr>\n      <th>1031135</th>\n      <td>276660</td>\n      <td>123627</td>\n      <td>8.0</td>\n      <td>146158</td>\n      <td>19737</td>\n      <td>82</td>\n      <td>6624</td>\n      <td>18283</td>\n      <td>15.0</td>\n    </tr>\n  </tbody>\n</table>\n</div>"
     },
     "execution_count": 29,
     "metadata": {},
     "output_type": "execute_result"
    }
   ],
   "source": [
    "data.tail()"
   ]
  },
  {
   "cell_type": "markdown",
   "metadata": {},
   "source": [
    "I'll choose an **User-ID** from the dataset for which I will then find the top 10 recommendations."
   ]
  },
  {
   "cell_type": "code",
   "execution_count": 30,
   "metadata": {
    "ExecuteTime": {
     "end_time": "2023-08-07T08:05:26.077777Z",
     "start_time": "2023-08-07T08:05:10.463887Z"
    }
   },
   "outputs": [
    {
     "name": "stdout",
     "output_type": "stream",
     "text": [
      "RMSE: 1.0696\n",
      "RMSE on the test set: 1.070\n"
     ]
    }
   ],
   "source": [
    "best_params = grid_search.best_params\n",
    "svd = SVD(n_factors=best_params['rmse']['n_factors'], n_epochs=best_params['rmse']['n_epochs'], \n",
    "                                lr_all=best_params['rmse']['lr_all'], reg_all=best_params['rmse']['reg_all'])\n",
    "\n",
    "trainset, testset = train_test_split(data_Surprise, test_size=0.25)\n",
    "svd.fit(trainset)\n",
    "predictions = svd.test(testset)\n",
    "rmse = accuracy.rmse(predictions)\n",
    "print('RMSE on the test set: {:.3f}'.format(rmse))"
   ]
  },
  {
   "cell_type": "code",
   "execution_count": 31,
   "metadata": {
    "ExecuteTime": {
     "end_time": "2023-08-07T08:05:29.385475Z",
     "start_time": "2023-08-07T08:05:26.076205Z"
    }
   },
   "outputs": [],
   "source": [
    "# Get the top 10 recommendations for the user with id = 276618\n",
    "user_id = '276618'\n",
    "books_already_rated_by_user = [item[0] for item in trainset.ur[int(user_id)]]\n",
    "unseen_books_by_user = list(set(data_Surprise.df['ISBN'].unique()) - set(books_already_rated_by_user))\n",
    "\n",
    "unseen_books_by_user_predictions = [[user_id, book_id, 0] for book_id in unseen_books_by_user]\n",
    "predictions_unseen = svd.test(unseen_books_by_user_predictions)\n",
    "top_n = sorted(predictions_unseen, key=lambda x: x.est, reverse=True)[:10]"
   ]
  },
  {
   "cell_type": "code",
   "execution_count": 32,
   "metadata": {
    "ExecuteTime": {
     "end_time": "2023-08-07T08:05:29.396679Z",
     "start_time": "2023-08-07T08:05:29.390388Z"
    }
   },
   "outputs": [
    {
     "name": "stdout",
     "output_type": "stream",
     "text": [
      "       Book-ID  Rating\n",
      "Index                 \n",
      "1        74802    8.74\n",
      "2        74701    8.69\n",
      "3       189253    8.66\n",
      "4       189366    8.65\n",
      "5         5084    8.64\n",
      "6        13456    8.62\n",
      "7       209430    8.62\n",
      "8         5082    8.62\n",
      "9       258378    8.60\n",
      "10      259294    8.59\n"
     ]
    }
   ],
   "source": [
    "# Create a list of dictionaries containing the top recommendations\n",
    "top_n_list = [{'Index': i+1, 'Book-ID': predictions_unseen.iid, 'Rating': round(predictions_unseen.est, 2)} \n",
    "              for i, predictions_unseen in enumerate(top_n)]\n",
    "\n",
    "# Convert the list of dictionaries to a Pandas DataFrame\n",
    "top_n_df = pd.DataFrame(top_n_list)\n",
    "\n",
    "# Set the index to be the Rank column\n",
    "top_n_df.set_index('Index', inplace=True)\n",
    "\n",
    "print(top_n_df)"
   ]
  },
  {
   "cell_type": "markdown",
   "metadata": {},
   "source": [
    "The implemented model is an example of a user-based collaborative filtering, since it recommends items based on the past behavior of similar users."
   ]
  }
 ],
 "metadata": {
  "kernelspec": {
   "display_name": "Python 3 (ipykernel)",
   "language": "python",
   "name": "python3"
  },
  "language_info": {
   "codemirror_mode": {
    "name": "ipython",
    "version": 3
   },
   "file_extension": ".py",
   "mimetype": "text/x-python",
   "name": "python",
   "nbconvert_exporter": "python",
   "pygments_lexer": "ipython3",
   "version": "3.9.13"
  }
 },
 "nbformat": 4,
 "nbformat_minor": 1
}
