{
 "cells": [
  {
   "cell_type": "markdown",
   "metadata": {
    "cell_id": "3e93df7d3b524a0ea0d499ce9f77dc9f",
    "deepnote_app_coordinates": {
     "h": 5,
     "w": 12,
     "x": 0,
     "y": 1
    },
    "deepnote_cell_type": "markdown",
    "tags": []
   },
   "source": [
    "# Regression\n",
    "\n",
    "  * In this project I have to deal with the problem of regression and finding optimal hyperparameters.\n",
    "    \n",
    "## Data source\n",
    "\n",
    "  * The data source is a file `LifeExpectancyData.csv` (originál zde: https://www.kaggle.com/kumarajarshi/life-expectancy-who).\n",
    "  * The target (explained) variable is called `Life expectancy `."
   ]
  },
  {
   "cell_type": "markdown",
   "metadata": {
    "cell_id": "0a2621c1b50a4562814395e503a8e07b",
    "deepnote_app_coordinates": {
     "h": 5,
     "w": 12,
     "x": 0,
     "y": 7
    },
    "deepnote_cell_type": "markdown"
   },
   "source": [
    "## Data: basic overview\n",
    "* I will use the `pandas` package to load the data and do a basic exploration."
   ]
  },
  {
   "cell_type": "code",
   "execution_count": 1,
   "metadata": {
    "cell_id": "ceb105aca7b14f9bb04832afbf94ca3a",
    "deepnote_app_coordinates": {
     "h": 5,
     "w": 12,
     "x": 0,
     "y": 13
    },
    "deepnote_cell_type": "code",
    "deepnote_to_be_reexecuted": false,
    "execution_millis": 20486407,
    "execution_start": 1670252825609,
    "source_hash": "6dc32da",
    "tags": []
   },
   "outputs": [],
   "source": [
    "import pandas as pd\n",
    "import numpy as np\n",
    "\n",
    "# suppress scientific float notation (so 0.000 is printed as 0.)\n",
    "np.set_printoptions(precision=5, suppress=True)"
   ]
  },
  {
   "cell_type": "code",
   "execution_count": 2,
   "metadata": {
    "cell_id": "15761034c58e4f2c941ace4a5bd32f24",
    "deepnote_app_coordinates": {
     "h": 5,
     "w": 12,
     "x": 0,
     "y": 19
    },
    "deepnote_cell_type": "code",
    "deepnote_to_be_reexecuted": false,
    "execution_millis": 23,
    "execution_start": 1670252825613,
    "source_hash": "65bda3c2"
   },
   "outputs": [],
   "source": [
    "data = pd.read_csv('LifeExpectancyData.csv')"
   ]
  },
  {
   "cell_type": "code",
   "execution_count": 3,
   "metadata": {
    "cell_id": "e77844f2db514349bf40cd8efc69ace2",
    "deepnote_app_coordinates": {
     "h": 5,
     "w": 12,
     "x": 0,
     "y": 25
    },
    "deepnote_cell_type": "code",
    "deepnote_to_be_reexecuted": false,
    "execution_millis": 223,
    "execution_start": 1670252825658,
    "source_hash": "8b1a2c63"
   },
   "outputs": [
    {
     "name": "stdout",
     "output_type": "stream",
     "text": [
      "data shape: (2938, 22)\n"
     ]
    },
    {
     "data": {
      "text/html": [
       "<div>\n",
       "<style scoped>\n",
       "    .dataframe tbody tr th:only-of-type {\n",
       "        vertical-align: middle;\n",
       "    }\n",
       "\n",
       "    .dataframe tbody tr th {\n",
       "        vertical-align: top;\n",
       "    }\n",
       "\n",
       "    .dataframe thead th {\n",
       "        text-align: right;\n",
       "    }\n",
       "</style>\n",
       "<table border=\"1\" class=\"dataframe\">\n",
       "  <thead>\n",
       "    <tr style=\"text-align: right;\">\n",
       "      <th></th>\n",
       "      <th>Country</th>\n",
       "      <th>Year</th>\n",
       "      <th>Status</th>\n",
       "      <th>Life expectancy</th>\n",
       "      <th>Adult Mortality</th>\n",
       "      <th>infant deaths</th>\n",
       "      <th>Alcohol</th>\n",
       "      <th>percentage expenditure</th>\n",
       "      <th>Hepatitis B</th>\n",
       "      <th>Measles</th>\n",
       "      <th>...</th>\n",
       "      <th>Polio</th>\n",
       "      <th>Total expenditure</th>\n",
       "      <th>Diphtheria</th>\n",
       "      <th>HIV/AIDS</th>\n",
       "      <th>GDP</th>\n",
       "      <th>Population</th>\n",
       "      <th>thinness  1-19 years</th>\n",
       "      <th>thinness 5-9 years</th>\n",
       "      <th>Income composition of resources</th>\n",
       "      <th>Schooling</th>\n",
       "    </tr>\n",
       "  </thead>\n",
       "  <tbody>\n",
       "    <tr>\n",
       "      <th>0</th>\n",
       "      <td>Afghanistan</td>\n",
       "      <td>2015</td>\n",
       "      <td>Developing</td>\n",
       "      <td>65.0</td>\n",
       "      <td>263.0</td>\n",
       "      <td>62</td>\n",
       "      <td>0.01</td>\n",
       "      <td>71.279624</td>\n",
       "      <td>65.0</td>\n",
       "      <td>1154</td>\n",
       "      <td>...</td>\n",
       "      <td>6.0</td>\n",
       "      <td>8.16</td>\n",
       "      <td>65.0</td>\n",
       "      <td>0.1</td>\n",
       "      <td>584.259210</td>\n",
       "      <td>33736494.0</td>\n",
       "      <td>17.2</td>\n",
       "      <td>17.3</td>\n",
       "      <td>0.479</td>\n",
       "      <td>10.1</td>\n",
       "    </tr>\n",
       "    <tr>\n",
       "      <th>1</th>\n",
       "      <td>Afghanistan</td>\n",
       "      <td>2014</td>\n",
       "      <td>Developing</td>\n",
       "      <td>59.9</td>\n",
       "      <td>271.0</td>\n",
       "      <td>64</td>\n",
       "      <td>0.01</td>\n",
       "      <td>73.523582</td>\n",
       "      <td>62.0</td>\n",
       "      <td>492</td>\n",
       "      <td>...</td>\n",
       "      <td>58.0</td>\n",
       "      <td>8.18</td>\n",
       "      <td>62.0</td>\n",
       "      <td>0.1</td>\n",
       "      <td>612.696514</td>\n",
       "      <td>327582.0</td>\n",
       "      <td>17.5</td>\n",
       "      <td>17.5</td>\n",
       "      <td>0.476</td>\n",
       "      <td>10.0</td>\n",
       "    </tr>\n",
       "    <tr>\n",
       "      <th>2</th>\n",
       "      <td>Afghanistan</td>\n",
       "      <td>2013</td>\n",
       "      <td>Developing</td>\n",
       "      <td>59.9</td>\n",
       "      <td>268.0</td>\n",
       "      <td>66</td>\n",
       "      <td>0.01</td>\n",
       "      <td>73.219243</td>\n",
       "      <td>64.0</td>\n",
       "      <td>430</td>\n",
       "      <td>...</td>\n",
       "      <td>62.0</td>\n",
       "      <td>8.13</td>\n",
       "      <td>64.0</td>\n",
       "      <td>0.1</td>\n",
       "      <td>631.744976</td>\n",
       "      <td>31731688.0</td>\n",
       "      <td>17.7</td>\n",
       "      <td>17.7</td>\n",
       "      <td>0.470</td>\n",
       "      <td>9.9</td>\n",
       "    </tr>\n",
       "    <tr>\n",
       "      <th>3</th>\n",
       "      <td>Afghanistan</td>\n",
       "      <td>2012</td>\n",
       "      <td>Developing</td>\n",
       "      <td>59.5</td>\n",
       "      <td>272.0</td>\n",
       "      <td>69</td>\n",
       "      <td>0.01</td>\n",
       "      <td>78.184215</td>\n",
       "      <td>67.0</td>\n",
       "      <td>2787</td>\n",
       "      <td>...</td>\n",
       "      <td>67.0</td>\n",
       "      <td>8.52</td>\n",
       "      <td>67.0</td>\n",
       "      <td>0.1</td>\n",
       "      <td>669.959000</td>\n",
       "      <td>3696958.0</td>\n",
       "      <td>17.9</td>\n",
       "      <td>18.0</td>\n",
       "      <td>0.463</td>\n",
       "      <td>9.8</td>\n",
       "    </tr>\n",
       "    <tr>\n",
       "      <th>4</th>\n",
       "      <td>Afghanistan</td>\n",
       "      <td>2011</td>\n",
       "      <td>Developing</td>\n",
       "      <td>59.2</td>\n",
       "      <td>275.0</td>\n",
       "      <td>71</td>\n",
       "      <td>0.01</td>\n",
       "      <td>7.097109</td>\n",
       "      <td>68.0</td>\n",
       "      <td>3013</td>\n",
       "      <td>...</td>\n",
       "      <td>68.0</td>\n",
       "      <td>7.87</td>\n",
       "      <td>68.0</td>\n",
       "      <td>0.1</td>\n",
       "      <td>63.537231</td>\n",
       "      <td>2978599.0</td>\n",
       "      <td>18.2</td>\n",
       "      <td>18.2</td>\n",
       "      <td>0.454</td>\n",
       "      <td>9.5</td>\n",
       "    </tr>\n",
       "  </tbody>\n",
       "</table>\n",
       "<p>5 rows × 22 columns</p>\n",
       "</div>"
      ],
      "text/plain": [
       "       Country  Year      Status  Life expectancy   Adult Mortality  \\\n",
       "0  Afghanistan  2015  Developing              65.0            263.0   \n",
       "1  Afghanistan  2014  Developing              59.9            271.0   \n",
       "2  Afghanistan  2013  Developing              59.9            268.0   \n",
       "3  Afghanistan  2012  Developing              59.5            272.0   \n",
       "4  Afghanistan  2011  Developing              59.2            275.0   \n",
       "\n",
       "   infant deaths  Alcohol  percentage expenditure  Hepatitis B  Measles   ...  \\\n",
       "0             62     0.01               71.279624         65.0      1154  ...   \n",
       "1             64     0.01               73.523582         62.0       492  ...   \n",
       "2             66     0.01               73.219243         64.0       430  ...   \n",
       "3             69     0.01               78.184215         67.0      2787  ...   \n",
       "4             71     0.01                7.097109         68.0      3013  ...   \n",
       "\n",
       "   Polio  Total expenditure  Diphtheria    HIV/AIDS         GDP  Population  \\\n",
       "0    6.0               8.16         65.0        0.1  584.259210  33736494.0   \n",
       "1   58.0               8.18         62.0        0.1  612.696514    327582.0   \n",
       "2   62.0               8.13         64.0        0.1  631.744976  31731688.0   \n",
       "3   67.0               8.52         67.0        0.1  669.959000   3696958.0   \n",
       "4   68.0               7.87         68.0        0.1   63.537231   2978599.0   \n",
       "\n",
       "    thinness  1-19 years   thinness 5-9 years  \\\n",
       "0                   17.2                 17.3   \n",
       "1                   17.5                 17.5   \n",
       "2                   17.7                 17.7   \n",
       "3                   17.9                 18.0   \n",
       "4                   18.2                 18.2   \n",
       "\n",
       "   Income composition of resources  Schooling  \n",
       "0                            0.479       10.1  \n",
       "1                            0.476       10.0  \n",
       "2                            0.470        9.9  \n",
       "3                            0.463        9.8  \n",
       "4                            0.454        9.5  \n",
       "\n",
       "[5 rows x 22 columns]"
      ]
     },
     "metadata": {},
     "output_type": "display_data"
    },
    {
     "name": "stdout",
     "output_type": "stream",
     "text": [
      "<class 'pandas.core.frame.DataFrame'>\n",
      "RangeIndex: 2938 entries, 0 to 2937\n",
      "Data columns (total 22 columns):\n",
      " #   Column                           Non-Null Count  Dtype  \n",
      "---  ------                           --------------  -----  \n",
      " 0   Country                          2938 non-null   object \n",
      " 1   Year                             2938 non-null   int64  \n",
      " 2   Status                           2938 non-null   object \n",
      " 3   Life expectancy                  2928 non-null   float64\n",
      " 4   Adult Mortality                  2928 non-null   float64\n",
      " 5   infant deaths                    2938 non-null   int64  \n",
      " 6   Alcohol                          2744 non-null   float64\n",
      " 7   percentage expenditure           2938 non-null   float64\n",
      " 8   Hepatitis B                      2385 non-null   float64\n",
      " 9   Measles                          2938 non-null   int64  \n",
      " 10   BMI                             2904 non-null   float64\n",
      " 11  under-five deaths                2938 non-null   int64  \n",
      " 12  Polio                            2919 non-null   float64\n",
      " 13  Total expenditure                2712 non-null   float64\n",
      " 14  Diphtheria                       2919 non-null   float64\n",
      " 15   HIV/AIDS                        2938 non-null   float64\n",
      " 16  GDP                              2490 non-null   float64\n",
      " 17  Population                       2286 non-null   float64\n",
      " 18   thinness  1-19 years            2904 non-null   float64\n",
      " 19   thinness 5-9 years              2904 non-null   float64\n",
      " 20  Income composition of resources  2771 non-null   float64\n",
      " 21  Schooling                        2775 non-null   float64\n",
      "dtypes: float64(16), int64(4), object(2)\n",
      "memory usage: 505.1+ KB\n"
     ]
    },
    {
     "data": {
      "text/plain": [
       "None"
      ]
     },
     "metadata": {},
     "output_type": "display_data"
    },
    {
     "data": {
      "text/html": [
       "<div>\n",
       "<style scoped>\n",
       "    .dataframe tbody tr th:only-of-type {\n",
       "        vertical-align: middle;\n",
       "    }\n",
       "\n",
       "    .dataframe tbody tr th {\n",
       "        vertical-align: top;\n",
       "    }\n",
       "\n",
       "    .dataframe thead th {\n",
       "        text-align: right;\n",
       "    }\n",
       "</style>\n",
       "<table border=\"1\" class=\"dataframe\">\n",
       "  <thead>\n",
       "    <tr style=\"text-align: right;\">\n",
       "      <th></th>\n",
       "      <th>Year</th>\n",
       "      <th>Life expectancy</th>\n",
       "      <th>Adult Mortality</th>\n",
       "      <th>infant deaths</th>\n",
       "      <th>Alcohol</th>\n",
       "      <th>percentage expenditure</th>\n",
       "      <th>Hepatitis B</th>\n",
       "      <th>Measles</th>\n",
       "      <th>BMI</th>\n",
       "      <th>under-five deaths</th>\n",
       "      <th>Polio</th>\n",
       "      <th>Total expenditure</th>\n",
       "      <th>Diphtheria</th>\n",
       "      <th>HIV/AIDS</th>\n",
       "      <th>GDP</th>\n",
       "      <th>Population</th>\n",
       "      <th>thinness  1-19 years</th>\n",
       "      <th>thinness 5-9 years</th>\n",
       "      <th>Income composition of resources</th>\n",
       "      <th>Schooling</th>\n",
       "    </tr>\n",
       "  </thead>\n",
       "  <tbody>\n",
       "    <tr>\n",
       "      <th>count</th>\n",
       "      <td>2938.000000</td>\n",
       "      <td>2928.000000</td>\n",
       "      <td>2928.000000</td>\n",
       "      <td>2938.000000</td>\n",
       "      <td>2744.000000</td>\n",
       "      <td>2938.000000</td>\n",
       "      <td>2385.000000</td>\n",
       "      <td>2938.000000</td>\n",
       "      <td>2904.000000</td>\n",
       "      <td>2938.000000</td>\n",
       "      <td>2919.000000</td>\n",
       "      <td>2712.00000</td>\n",
       "      <td>2919.000000</td>\n",
       "      <td>2938.000000</td>\n",
       "      <td>2490.000000</td>\n",
       "      <td>2.286000e+03</td>\n",
       "      <td>2904.000000</td>\n",
       "      <td>2904.000000</td>\n",
       "      <td>2771.000000</td>\n",
       "      <td>2775.000000</td>\n",
       "    </tr>\n",
       "    <tr>\n",
       "      <th>mean</th>\n",
       "      <td>2007.518720</td>\n",
       "      <td>69.224932</td>\n",
       "      <td>164.796448</td>\n",
       "      <td>30.303948</td>\n",
       "      <td>4.602861</td>\n",
       "      <td>738.251295</td>\n",
       "      <td>80.940461</td>\n",
       "      <td>2419.592240</td>\n",
       "      <td>38.321247</td>\n",
       "      <td>42.035739</td>\n",
       "      <td>82.550188</td>\n",
       "      <td>5.93819</td>\n",
       "      <td>82.324084</td>\n",
       "      <td>1.742103</td>\n",
       "      <td>7483.158469</td>\n",
       "      <td>1.275338e+07</td>\n",
       "      <td>4.839704</td>\n",
       "      <td>4.870317</td>\n",
       "      <td>0.627551</td>\n",
       "      <td>11.992793</td>\n",
       "    </tr>\n",
       "    <tr>\n",
       "      <th>std</th>\n",
       "      <td>4.613841</td>\n",
       "      <td>9.523867</td>\n",
       "      <td>124.292079</td>\n",
       "      <td>117.926501</td>\n",
       "      <td>4.052413</td>\n",
       "      <td>1987.914858</td>\n",
       "      <td>25.070016</td>\n",
       "      <td>11467.272489</td>\n",
       "      <td>20.044034</td>\n",
       "      <td>160.445548</td>\n",
       "      <td>23.428046</td>\n",
       "      <td>2.49832</td>\n",
       "      <td>23.716912</td>\n",
       "      <td>5.077785</td>\n",
       "      <td>14270.169342</td>\n",
       "      <td>6.101210e+07</td>\n",
       "      <td>4.420195</td>\n",
       "      <td>4.508882</td>\n",
       "      <td>0.210904</td>\n",
       "      <td>3.358920</td>\n",
       "    </tr>\n",
       "    <tr>\n",
       "      <th>min</th>\n",
       "      <td>2000.000000</td>\n",
       "      <td>36.300000</td>\n",
       "      <td>1.000000</td>\n",
       "      <td>0.000000</td>\n",
       "      <td>0.010000</td>\n",
       "      <td>0.000000</td>\n",
       "      <td>1.000000</td>\n",
       "      <td>0.000000</td>\n",
       "      <td>1.000000</td>\n",
       "      <td>0.000000</td>\n",
       "      <td>3.000000</td>\n",
       "      <td>0.37000</td>\n",
       "      <td>2.000000</td>\n",
       "      <td>0.100000</td>\n",
       "      <td>1.681350</td>\n",
       "      <td>3.400000e+01</td>\n",
       "      <td>0.100000</td>\n",
       "      <td>0.100000</td>\n",
       "      <td>0.000000</td>\n",
       "      <td>0.000000</td>\n",
       "    </tr>\n",
       "    <tr>\n",
       "      <th>25%</th>\n",
       "      <td>2004.000000</td>\n",
       "      <td>63.100000</td>\n",
       "      <td>74.000000</td>\n",
       "      <td>0.000000</td>\n",
       "      <td>0.877500</td>\n",
       "      <td>4.685343</td>\n",
       "      <td>77.000000</td>\n",
       "      <td>0.000000</td>\n",
       "      <td>19.300000</td>\n",
       "      <td>0.000000</td>\n",
       "      <td>78.000000</td>\n",
       "      <td>4.26000</td>\n",
       "      <td>78.000000</td>\n",
       "      <td>0.100000</td>\n",
       "      <td>463.935626</td>\n",
       "      <td>1.957932e+05</td>\n",
       "      <td>1.600000</td>\n",
       "      <td>1.500000</td>\n",
       "      <td>0.493000</td>\n",
       "      <td>10.100000</td>\n",
       "    </tr>\n",
       "    <tr>\n",
       "      <th>50%</th>\n",
       "      <td>2008.000000</td>\n",
       "      <td>72.100000</td>\n",
       "      <td>144.000000</td>\n",
       "      <td>3.000000</td>\n",
       "      <td>3.755000</td>\n",
       "      <td>64.912906</td>\n",
       "      <td>92.000000</td>\n",
       "      <td>17.000000</td>\n",
       "      <td>43.500000</td>\n",
       "      <td>4.000000</td>\n",
       "      <td>93.000000</td>\n",
       "      <td>5.75500</td>\n",
       "      <td>93.000000</td>\n",
       "      <td>0.100000</td>\n",
       "      <td>1766.947595</td>\n",
       "      <td>1.386542e+06</td>\n",
       "      <td>3.300000</td>\n",
       "      <td>3.300000</td>\n",
       "      <td>0.677000</td>\n",
       "      <td>12.300000</td>\n",
       "    </tr>\n",
       "    <tr>\n",
       "      <th>75%</th>\n",
       "      <td>2012.000000</td>\n",
       "      <td>75.700000</td>\n",
       "      <td>228.000000</td>\n",
       "      <td>22.000000</td>\n",
       "      <td>7.702500</td>\n",
       "      <td>441.534144</td>\n",
       "      <td>97.000000</td>\n",
       "      <td>360.250000</td>\n",
       "      <td>56.200000</td>\n",
       "      <td>28.000000</td>\n",
       "      <td>97.000000</td>\n",
       "      <td>7.49250</td>\n",
       "      <td>97.000000</td>\n",
       "      <td>0.800000</td>\n",
       "      <td>5910.806335</td>\n",
       "      <td>7.420359e+06</td>\n",
       "      <td>7.200000</td>\n",
       "      <td>7.200000</td>\n",
       "      <td>0.779000</td>\n",
       "      <td>14.300000</td>\n",
       "    </tr>\n",
       "    <tr>\n",
       "      <th>max</th>\n",
       "      <td>2015.000000</td>\n",
       "      <td>89.000000</td>\n",
       "      <td>723.000000</td>\n",
       "      <td>1800.000000</td>\n",
       "      <td>17.870000</td>\n",
       "      <td>19479.911610</td>\n",
       "      <td>99.000000</td>\n",
       "      <td>212183.000000</td>\n",
       "      <td>87.300000</td>\n",
       "      <td>2500.000000</td>\n",
       "      <td>99.000000</td>\n",
       "      <td>17.60000</td>\n",
       "      <td>99.000000</td>\n",
       "      <td>50.600000</td>\n",
       "      <td>119172.741800</td>\n",
       "      <td>1.293859e+09</td>\n",
       "      <td>27.700000</td>\n",
       "      <td>28.600000</td>\n",
       "      <td>0.948000</td>\n",
       "      <td>20.700000</td>\n",
       "    </tr>\n",
       "  </tbody>\n",
       "</table>\n",
       "</div>"
      ],
      "text/plain": [
       "              Year  Life expectancy   Adult Mortality  infant deaths  \\\n",
       "count  2938.000000       2928.000000      2928.000000    2938.000000   \n",
       "mean   2007.518720         69.224932       164.796448      30.303948   \n",
       "std       4.613841          9.523867       124.292079     117.926501   \n",
       "min    2000.000000         36.300000         1.000000       0.000000   \n",
       "25%    2004.000000         63.100000        74.000000       0.000000   \n",
       "50%    2008.000000         72.100000       144.000000       3.000000   \n",
       "75%    2012.000000         75.700000       228.000000      22.000000   \n",
       "max    2015.000000         89.000000       723.000000    1800.000000   \n",
       "\n",
       "           Alcohol  percentage expenditure  Hepatitis B       Measles   \\\n",
       "count  2744.000000             2938.000000  2385.000000    2938.000000   \n",
       "mean      4.602861              738.251295    80.940461    2419.592240   \n",
       "std       4.052413             1987.914858    25.070016   11467.272489   \n",
       "min       0.010000                0.000000     1.000000       0.000000   \n",
       "25%       0.877500                4.685343    77.000000       0.000000   \n",
       "50%       3.755000               64.912906    92.000000      17.000000   \n",
       "75%       7.702500              441.534144    97.000000     360.250000   \n",
       "max      17.870000            19479.911610    99.000000  212183.000000   \n",
       "\n",
       "              BMI   under-five deaths         Polio  Total expenditure  \\\n",
       "count  2904.000000         2938.000000  2919.000000         2712.00000   \n",
       "mean     38.321247           42.035739    82.550188            5.93819   \n",
       "std      20.044034          160.445548    23.428046            2.49832   \n",
       "min       1.000000            0.000000     3.000000            0.37000   \n",
       "25%      19.300000            0.000000    78.000000            4.26000   \n",
       "50%      43.500000            4.000000    93.000000            5.75500   \n",
       "75%      56.200000           28.000000    97.000000            7.49250   \n",
       "max      87.300000         2500.000000    99.000000           17.60000   \n",
       "\n",
       "       Diphtheria      HIV/AIDS            GDP    Population  \\\n",
       "count  2919.000000  2938.000000    2490.000000  2.286000e+03   \n",
       "mean     82.324084     1.742103    7483.158469  1.275338e+07   \n",
       "std      23.716912     5.077785   14270.169342  6.101210e+07   \n",
       "min       2.000000     0.100000       1.681350  3.400000e+01   \n",
       "25%      78.000000     0.100000     463.935626  1.957932e+05   \n",
       "50%      93.000000     0.100000    1766.947595  1.386542e+06   \n",
       "75%      97.000000     0.800000    5910.806335  7.420359e+06   \n",
       "max      99.000000    50.600000  119172.741800  1.293859e+09   \n",
       "\n",
       "        thinness  1-19 years   thinness 5-9 years  \\\n",
       "count            2904.000000          2904.000000   \n",
       "mean                4.839704             4.870317   \n",
       "std                 4.420195             4.508882   \n",
       "min                 0.100000             0.100000   \n",
       "25%                 1.600000             1.500000   \n",
       "50%                 3.300000             3.300000   \n",
       "75%                 7.200000             7.200000   \n",
       "max                27.700000            28.600000   \n",
       "\n",
       "       Income composition of resources    Schooling  \n",
       "count                      2771.000000  2775.000000  \n",
       "mean                          0.627551    11.992793  \n",
       "std                           0.210904     3.358920  \n",
       "min                           0.000000     0.000000  \n",
       "25%                           0.493000    10.100000  \n",
       "50%                           0.677000    12.300000  \n",
       "75%                           0.779000    14.300000  \n",
       "max                           0.948000    20.700000  "
      ]
     },
     "metadata": {},
     "output_type": "display_data"
    },
    {
     "data": {
      "text/plain": [
       "Country                             193\n",
       "Year                                 16\n",
       "Status                                2\n",
       "Life expectancy                     362\n",
       "Adult Mortality                     425\n",
       "infant deaths                       209\n",
       "Alcohol                            1076\n",
       "percentage expenditure             2328\n",
       "Hepatitis B                          87\n",
       "Measles                             958\n",
       " BMI                                608\n",
       "under-five deaths                   252\n",
       "Polio                                73\n",
       "Total expenditure                   818\n",
       "Diphtheria                           81\n",
       " HIV/AIDS                           200\n",
       "GDP                                2490\n",
       "Population                         2278\n",
       " thinness  1-19 years               200\n",
       " thinness 5-9 years                 207\n",
       "Income composition of resources     625\n",
       "Schooling                           173\n",
       "dtype: int64"
      ]
     },
     "metadata": {},
     "output_type": "display_data"
    }
   ],
   "source": [
    "print('data shape: ' + str(data.shape))\n",
    "display(data.head())\n",
    "display(data.info())\n",
    "display(data.describe())\n",
    "display(data.nunique())"
   ]
  },
  {
   "cell_type": "markdown",
   "metadata": {
    "cell_id": "9d890c661d454c77a760290d8aee268b",
    "deepnote_app_coordinates": {
     "h": 5,
     "w": 12,
     "x": 0,
     "y": 31
    },
    "deepnote_cell_type": "markdown",
    "tags": []
   },
   "source": [
    "#### Familiarize myself with the data visually."
   ]
  },
  {
   "cell_type": "code",
   "execution_count": 4,
   "metadata": {
    "cell_id": "638e27d6d20e4af682211a754db68709",
    "deepnote_app_coordinates": {
     "h": 5,
     "w": 12,
     "x": 0,
     "y": 37
    },
    "deepnote_cell_type": "code",
    "deepnote_to_be_reexecuted": false,
    "execution_millis": 4655,
    "execution_start": 1670252825890,
    "source_hash": "f8f5ae68",
    "tags": []
   },
   "outputs": [
    {
     "data": {
      "image/png": "[encoded data removed]",
      "text/plain": [
       "<Figure size 2000x1500 with 20 Axes>"
      ]
     },
     "metadata": {
      "image/png": {
       "height": 1221,
       "width": 1606
      }
     },
     "output_type": "display_data"
    }
   ],
   "source": [
    "import matplotlib.pyplot as plt\n",
    "import matplotlib\n",
    "%matplotlib inline\n",
    "\n",
    "data.hist(bins=50, figsize=(20,15))\n",
    "plt.show()"
   ]
  },
  {
   "cell_type": "markdown",
   "metadata": {
    "cell_id": "654318268e3643f09d049953025d0d4e",
    "deepnote_app_coordinates": {
     "h": 5,
     "w": 12,
     "x": 0,
     "y": 43
    },
    "deepnote_cell_type": "markdown",
    "tags": []
   },
   "source": [
    "#### The quantitative ratio of developing countries to countries that have already achieved their development."
   ]
  },
  {
   "cell_type": "code",
   "execution_count": 5,
   "metadata": {
    "cell_id": "1311e754caf9400ea5b2466de5a5c2f7",
    "deepnote_app_coordinates": {
     "h": 5,
     "w": 12,
     "x": 0,
     "y": 49
    },
    "deepnote_cell_type": "code",
    "deepnote_to_be_reexecuted": false,
    "execution_millis": 1475,
    "execution_start": 1670252830542,
    "source_hash": "797f0455",
    "tags": []
   },
   "outputs": [
    {
     "data": {
      "image/png": "[encoded data removed]",
      "text/plain": [
       "<Figure size 500x300 with 1 Axes>"
      ]
     },
     "metadata": {
      "image/png": {
       "height": 302,
       "width": 543
      }
     },
     "output_type": "display_data"
    }
   ],
   "source": [
    "import seaborn as sns\n",
    "\n",
    "sns.set(rc={'figure.figsize':(5,3)})\n",
    "dev = data.Status\n",
    "sns.countplot(y=dev, data=data)\n",
    "plt.show()"
   ]
  },
  {
   "cell_type": "markdown",
   "metadata": {
    "cell_id": "58806123f8e740cfae6ddff0e7b0672a",
    "deepnote_app_coordinates": {
     "h": 5,
     "w": 12,
     "x": 0,
     "y": 55
    },
    "deepnote_cell_type": "markdown",
    "tags": []
   },
   "source": [
    "* The graph shows that there are many more countries that are in their development phase than there are countries that already developed. The number of `developing` countries is almost five times greater than the number of already `developed` countries."
   ]
  },
  {
   "cell_type": "markdown",
   "metadata": {
    "cell_id": "3d7190972507425eb57dd138fc3a6119",
    "deepnote_app_coordinates": {
     "h": 5,
     "w": 12,
     "x": 0,
     "y": 61
    },
    "deepnote_cell_type": "markdown",
    "deepnote_to_be_reexecuted": false,
    "execution_millis": 1,
    "execution_start": 1670084579840,
    "source_hash": "30542f8e",
    "tags": []
   },
   "source": [
    "#### Heatmap"
   ]
  },
  {
   "cell_type": "code",
   "execution_count": 6,
   "metadata": {
    "cell_id": "d0b47df19ba7417b956dca123eeaaf73",
    "deepnote_app_coordinates": {
     "h": 5,
     "w": 12,
     "x": 0,
     "y": 67
    },
    "deepnote_cell_type": "code",
    "deepnote_to_be_reexecuted": false,
    "execution_millis": 171,
    "execution_start": 1670252832018,
    "source_hash": "67361565",
    "tags": []
   },
   "outputs": [
    {
     "data": {
      "text/html": [
       "<style  type=\"text/css\" >\n",
       "#T_02dc4_row0_col0,#T_02dc4_row1_col1,#T_02dc4_row2_col2,#T_02dc4_row3_col3,#T_02dc4_row3_col9,#T_02dc4_row4_col4,#T_02dc4_row5_col5,#T_02dc4_row6_col6,#T_02dc4_row7_col7,#T_02dc4_row8_col8,#T_02dc4_row9_col3,#T_02dc4_row9_col9,#T_02dc4_row10_col10,#T_02dc4_row11_col11,#T_02dc4_row12_col12,#T_02dc4_row13_col13,#T_02dc4_row14_col14,#T_02dc4_row15_col15,#T_02dc4_row16_col16,#T_02dc4_row17_col17,#T_02dc4_row18_col18,#T_02dc4_row19_col19{\n",
       "            background-color:  #b40426;\n",
       "            color:  #f1f1f1;\n",
       "        }#T_02dc4_row0_col1,#T_02dc4_row11_col4{\n",
       "            background-color:  #dfdbd9;\n",
       "            color:  #000000;\n",
       "        }#T_02dc4_row0_col2{\n",
       "            background-color:  #b5cdfa;\n",
       "            color:  #000000;\n",
       "        }#T_02dc4_row0_col3{\n",
       "            background-color:  #6b8df0;\n",
       "            color:  #000000;\n",
       "        }#T_02dc4_row0_col4,#T_02dc4_row7_col4{\n",
       "            background-color:  #92b4fe;\n",
       "            color:  #000000;\n",
       "        }#T_02dc4_row0_col5,#T_02dc4_row7_col19{\n",
       "            background-color:  #85a8fc;\n",
       "            color:  #000000;\n",
       "        }#T_02dc4_row0_col6,#T_02dc4_row15_col4{\n",
       "            background-color:  #96b7ff;\n",
       "            color:  #000000;\n",
       "        }#T_02dc4_row0_col7,#T_02dc4_row3_col10,#T_02dc4_row3_col12,#T_02dc4_row4_col15,#T_02dc4_row4_col17,#T_02dc4_row11_col3,#T_02dc4_row16_col0,#T_02dc4_row19_col15{\n",
       "            background-color:  #536edd;\n",
       "            color:  #000000;\n",
       "        }#T_02dc4_row0_col8{\n",
       "            background-color:  #c6d6f1;\n",
       "            color:  #000000;\n",
       "        }#T_02dc4_row0_col9,#T_02dc4_row7_col5,#T_02dc4_row15_col11{\n",
       "            background-color:  #6c8ff1;\n",
       "            color:  #000000;\n",
       "        }#T_02dc4_row0_col10,#T_02dc4_row0_col11{\n",
       "            background-color:  #9bbcff;\n",
       "            color:  #000000;\n",
       "        }#T_02dc4_row0_col12,#T_02dc4_row11_col10{\n",
       "            background-color:  #a6c4fe;\n",
       "            color:  #000000;\n",
       "        }#T_02dc4_row0_col13,#T_02dc4_row2_col9,#T_02dc4_row5_col2,#T_02dc4_row6_col11,#T_02dc4_row6_col16,#T_02dc4_row6_col17,#T_02dc4_row13_col4{\n",
       "            background-color:  #93b5fe;\n",
       "            color:  #000000;\n",
       "        }#T_02dc4_row0_col14,#T_02dc4_row15_col18,#T_02dc4_row19_col0{\n",
       "            background-color:  #a1c0ff;\n",
       "            color:  #000000;\n",
       "        }#T_02dc4_row0_col15,#T_02dc4_row13_col5,#T_02dc4_row13_col14{\n",
       "            background-color:  #6180e9;\n",
       "            color:  #000000;\n",
       "        }#T_02dc4_row0_col16,#T_02dc4_row6_col2{\n",
       "            background-color:  #a3c2fe;\n",
       "            color:  #000000;\n",
       "        }#T_02dc4_row0_col17,#T_02dc4_row7_col1,#T_02dc4_row10_col5,#T_02dc4_row12_col5{\n",
       "            background-color:  #a5c3fe;\n",
       "            color:  #000000;\n",
       "        }#T_02dc4_row0_col18{\n",
       "            background-color:  #d8dce2;\n",
       "            color:  #000000;\n",
       "        }#T_02dc4_row0_col19,#T_02dc4_row8_col14{\n",
       "            background-color:  #d3dbe7;\n",
       "            color:  #000000;\n",
       "        }#T_02dc4_row1_col0,#T_02dc4_row14_col13{\n",
       "            background-color:  #94b6ff;\n",
       "            color:  #000000;\n",
       "        }#T_02dc4_row1_col2,#T_02dc4_row1_col13,#T_02dc4_row2_col1,#T_02dc4_row2_col10,#T_02dc4_row2_col12,#T_02dc4_row2_col14,#T_02dc4_row2_col18,#T_02dc4_row6_col3,#T_02dc4_row6_col9,#T_02dc4_row6_col15,#T_02dc4_row8_col3,#T_02dc4_row8_col7,#T_02dc4_row8_col9,#T_02dc4_row8_col16,#T_02dc4_row8_col17,#T_02dc4_row9_col6,#T_02dc4_row13_col0,#T_02dc4_row16_col4,#T_02dc4_row16_col5,#T_02dc4_row16_col19,#T_02dc4_row17_col5,#T_02dc4_row17_col8,#T_02dc4_row17_col11{\n",
       "            background-color:  #3b4cc0;\n",
       "            color:  #f1f1f1;\n",
       "        }#T_02dc4_row1_col3,#T_02dc4_row16_col18{\n",
       "            background-color:  #4257c9;\n",
       "            color:  #f1f1f1;\n",
       "        }#T_02dc4_row1_col4,#T_02dc4_row1_col14,#T_02dc4_row5_col19,#T_02dc4_row10_col6,#T_02dc4_row18_col14{\n",
       "            background-color:  #efcebd;\n",
       "            color:  #000000;\n",
       "        }#T_02dc4_row1_col5,#T_02dc4_row11_col8,#T_02dc4_row18_col5{\n",
       "            background-color:  #dedcdb;\n",
       "            color:  #000000;\n",
       "        }#T_02dc4_row1_col6,#T_02dc4_row15_col1{\n",
       "            background-color:  #bfd3f6;\n",
       "            color:  #000000;\n",
       "        }#T_02dc4_row1_col7{\n",
       "            background-color:  #3f53c6;\n",
       "            color:  #f1f1f1;\n",
       "        }#T_02dc4_row1_col8,#T_02dc4_row13_col2{\n",
       "            background-color:  #f6a586;\n",
       "            color:  #000000;\n",
       "        }#T_02dc4_row1_col9{\n",
       "            background-color:  #3e51c5;\n",
       "            color:  #f1f1f1;\n",
       "        }#T_02dc4_row1_col10,#T_02dc4_row9_col7{\n",
       "            background-color:  #efcfbf;\n",
       "            color:  #000000;\n",
       "        }#T_02dc4_row1_col11,#T_02dc4_row10_col14{\n",
       "            background-color:  #bed2f6;\n",
       "            color:  #000000;\n",
       "        }#T_02dc4_row1_col12,#T_02dc4_row7_col3,#T_02dc4_row17_col2{\n",
       "            background-color:  #f1cdba;\n",
       "            color:  #000000;\n",
       "        }#T_02dc4_row1_col15,#T_02dc4_row4_col3,#T_02dc4_row7_col6,#T_02dc4_row13_col10,#T_02dc4_row16_col6{\n",
       "            background-color:  #5673e0;\n",
       "            color:  #000000;\n",
       "        }#T_02dc4_row1_col16,#T_02dc4_row11_col15,#T_02dc4_row16_col12{\n",
       "            background-color:  #455cce;\n",
       "            color:  #f1f1f1;\n",
       "        }#T_02dc4_row1_col17,#T_02dc4_row8_col15,#T_02dc4_row10_col3{\n",
       "            background-color:  #485fd1;\n",
       "            color:  #f1f1f1;\n",
       "        }#T_02dc4_row1_col18{\n",
       "            background-color:  #ec7f63;\n",
       "            color:  #000000;\n",
       "        }#T_02dc4_row1_col19{\n",
       "            background-color:  #e8765c;\n",
       "            color:  #000000;\n",
       "        }#T_02dc4_row2_col0,#T_02dc4_row19_col17{\n",
       "            background-color:  #4a63d3;\n",
       "            color:  #f1f1f1;\n",
       "        }#T_02dc4_row2_col3,#T_02dc4_row10_col2,#T_02dc4_row12_col2{\n",
       "            background-color:  #8caffe;\n",
       "            color:  #000000;\n",
       "        }#T_02dc4_row2_col4,#T_02dc4_row14_col16,#T_02dc4_row14_col17{\n",
       "            background-color:  #6e90f2;\n",
       "            color:  #000000;\n",
       "        }#T_02dc4_row2_col5,#T_02dc4_row2_col19,#T_02dc4_row16_col14,#T_02dc4_row17_col4{\n",
       "            background-color:  #3d50c3;\n",
       "            color:  #f1f1f1;\n",
       "        }#T_02dc4_row2_col6{\n",
       "            background-color:  #4b64d5;\n",
       "            color:  #f1f1f1;\n",
       "        }#T_02dc4_row2_col7,#T_02dc4_row9_col19,#T_02dc4_row13_col7{\n",
       "            background-color:  #7396f5;\n",
       "            color:  #000000;\n",
       "        }#T_02dc4_row2_col8,#T_02dc4_row4_col9,#T_02dc4_row5_col7,#T_02dc4_row13_col6,#T_02dc4_row14_col9{\n",
       "            background-color:  #5977e3;\n",
       "            color:  #000000;\n",
       "        }#T_02dc4_row2_col11,#T_02dc4_row9_col5,#T_02dc4_row16_col1,#T_02dc4_row17_col1{\n",
       "            background-color:  #6384eb;\n",
       "            color:  #000000;\n",
       "        }#T_02dc4_row2_col13,#T_02dc4_row4_col19,#T_02dc4_row8_col19,#T_02dc4_row12_col1{\n",
       "            background-color:  #f7af91;\n",
       "            color:  #000000;\n",
       "        }#T_02dc4_row2_col15,#T_02dc4_row14_col3{\n",
       "            background-color:  #5875e1;\n",
       "            color:  #000000;\n",
       "        }#T_02dc4_row2_col16,#T_02dc4_row14_col8,#T_02dc4_row19_col10{\n",
       "            background-color:  #e8d6cc;\n",
       "            color:  #000000;\n",
       "        }#T_02dc4_row2_col17,#T_02dc4_row14_col4,#T_02dc4_row19_col12{\n",
       "            background-color:  #e9d5cb;\n",
       "            color:  #000000;\n",
       "        }#T_02dc4_row3_col0,#T_02dc4_row5_col15,#T_02dc4_row11_col9,#T_02dc4_row13_col12,#T_02dc4_row15_col6,#T_02dc4_row17_col6{\n",
       "            background-color:  #5572df;\n",
       "            color:  #000000;\n",
       "        }#T_02dc4_row3_col1,#T_02dc4_row4_col2,#T_02dc4_row5_col13,#T_02dc4_row6_col14{\n",
       "            background-color:  #9dbdff;\n",
       "            color:  #000000;\n",
       "        }#T_02dc4_row3_col2,#T_02dc4_row10_col4,#T_02dc4_row12_col4{\n",
       "            background-color:  #d1dae9;\n",
       "            color:  #000000;\n",
       "        }#T_02dc4_row3_col4,#T_02dc4_row9_col4,#T_02dc4_row13_col11{\n",
       "            background-color:  #82a6fb;\n",
       "            color:  #000000;\n",
       "        }#T_02dc4_row3_col5{\n",
       "            background-color:  #6485ec;\n",
       "            color:  #000000;\n",
       "        }#T_02dc4_row3_col6,#T_02dc4_row16_col8,#T_02dc4_row16_col11,#T_02dc4_row17_col14,#T_02dc4_row17_col19{\n",
       "            background-color:  #3c4ec2;\n",
       "            color:  #f1f1f1;\n",
       "        }#T_02dc4_row3_col7,#T_02dc4_row5_col18,#T_02dc4_row10_col18,#T_02dc4_row19_col14{\n",
       "            background-color:  #eed0c0;\n",
       "            color:  #000000;\n",
       "        }#T_02dc4_row3_col8,#T_02dc4_row5_col6,#T_02dc4_row8_col13,#T_02dc4_row9_col18,#T_02dc4_row10_col16,#T_02dc4_row11_col0{\n",
       "            background-color:  #7b9ff9;\n",
       "            color:  #000000;\n",
       "        }#T_02dc4_row3_col11,#T_02dc4_row5_col9,#T_02dc4_row9_col11{\n",
       "            background-color:  #5f7fe8;\n",
       "            color:  #000000;\n",
       "        }#T_02dc4_row3_col13,#T_02dc4_row14_col12{\n",
       "            background-color:  #b7cff9;\n",
       "            color:  #000000;\n",
       "        }#T_02dc4_row3_col14{\n",
       "            background-color:  #688aef;\n",
       "            color:  #000000;\n",
       "        }#T_02dc4_row3_col15,#T_02dc4_row7_col9,#T_02dc4_row10_col19{\n",
       "            background-color:  #f2cab5;\n",
       "            color:  #000000;\n",
       "        }#T_02dc4_row3_col16,#T_02dc4_row4_col1{\n",
       "            background-color:  #f6bda2;\n",
       "            color:  #000000;\n",
       "        }#T_02dc4_row3_col17,#T_02dc4_row9_col17{\n",
       "            background-color:  #f7ba9f;\n",
       "            color:  #000000;\n",
       "        }#T_02dc4_row3_col18,#T_02dc4_row6_col0,#T_02dc4_row6_col5,#T_02dc4_row14_col0{\n",
       "            background-color:  #80a3fa;\n",
       "            color:  #000000;\n",
       "        }#T_02dc4_row3_col19{\n",
       "            background-color:  #779af7;\n",
       "            color:  #000000;\n",
       "        }#T_02dc4_row4_col0,#T_02dc4_row10_col15,#T_02dc4_row17_col0{\n",
       "            background-color:  #516ddb;\n",
       "            color:  #000000;\n",
       "        }#T_02dc4_row4_col5{\n",
       "            background-color:  #d6dce4;\n",
       "            color:  #000000;\n",
       "        }#T_02dc4_row4_col6{\n",
       "            background-color:  #90b2fe;\n",
       "            color:  #000000;\n",
       "        }#T_02dc4_row4_col7,#T_02dc4_row7_col10{\n",
       "            background-color:  #5b7ae5;\n",
       "            color:  #000000;\n",
       "        }#T_02dc4_row4_col8,#T_02dc4_row16_col3{\n",
       "            background-color:  #ecd3c5;\n",
       "            color:  #000000;\n",
       "        }#T_02dc4_row4_col10,#T_02dc4_row4_col12{\n",
       "            background-color:  #bcd2f7;\n",
       "            color:  #000000;\n",
       "        }#T_02dc4_row4_col11,#T_02dc4_row6_col18{\n",
       "            background-color:  #cfdaea;\n",
       "            color:  #000000;\n",
       "        }#T_02dc4_row4_col13,#T_02dc4_row10_col11{\n",
       "            background-color:  #a7c5fe;\n",
       "            color:  #000000;\n",
       "        }#T_02dc4_row4_col14{\n",
       "            background-color:  #dddcdc;\n",
       "            color:  #000000;\n",
       "        }#T_02dc4_row4_col16,#T_02dc4_row9_col10,#T_02dc4_row18_col3{\n",
       "            background-color:  #4f69d9;\n",
       "            color:  #000000;\n",
       "        }#T_02dc4_row4_col18{\n",
       "            background-color:  #f4c5ad;\n",
       "            color:  #000000;\n",
       "        }#T_02dc4_row5_col0{\n",
       "            background-color:  #6a8bef;\n",
       "            color:  #000000;\n",
       "        }#T_02dc4_row5_col1{\n",
       "            background-color:  #f5c1a9;\n",
       "            color:  #000000;\n",
       "        }#T_02dc4_row5_col3{\n",
       "            background-color:  #5e7de7;\n",
       "            color:  #000000;\n",
       "        }#T_02dc4_row5_col4{\n",
       "            background-color:  #e6d7cf;\n",
       "            color:  #000000;\n",
       "        }#T_02dc4_row5_col8{\n",
       "            background-color:  #dcdddd;\n",
       "            color:  #000000;\n",
       "        }#T_02dc4_row5_col10,#T_02dc4_row5_col12,#T_02dc4_row14_col11{\n",
       "            background-color:  #a9c6fd;\n",
       "            color:  #000000;\n",
       "        }#T_02dc4_row5_col11,#T_02dc4_row11_col13{\n",
       "            background-color:  #b2ccfb;\n",
       "            color:  #000000;\n",
       "        }#T_02dc4_row5_col14{\n",
       "            background-color:  #cf453c;\n",
       "            color:  #f1f1f1;\n",
       "        }#T_02dc4_row5_col16,#T_02dc4_row8_col2,#T_02dc4_row15_col5{\n",
       "            background-color:  #7597f6;\n",
       "            color:  #000000;\n",
       "        }#T_02dc4_row5_col17,#T_02dc4_row15_col10{\n",
       "            background-color:  #7699f6;\n",
       "            color:  #000000;\n",
       "        }#T_02dc4_row6_col1{\n",
       "            background-color:  #ebd3c6;\n",
       "            color:  #000000;\n",
       "        }#T_02dc4_row6_col4{\n",
       "            background-color:  #b3cdfb;\n",
       "            color:  #000000;\n",
       "        }#T_02dc4_row6_col7,#T_02dc4_row7_col0{\n",
       "            background-color:  #4961d2;\n",
       "            color:  #f1f1f1;\n",
       "        }#T_02dc4_row6_col8{\n",
       "            background-color:  #cedaeb;\n",
       "            color:  #000000;\n",
       "        }#T_02dc4_row6_col10,#T_02dc4_row9_col15{\n",
       "            background-color:  #f1ccb8;\n",
       "            color:  #000000;\n",
       "        }#T_02dc4_row6_col12{\n",
       "            background-color:  #f7ad90;\n",
       "            color:  #000000;\n",
       "        }#T_02dc4_row6_col13{\n",
       "            background-color:  #9abbff;\n",
       "            color:  #000000;\n",
       "        }#T_02dc4_row6_col19,#T_02dc4_row13_col16{\n",
       "            background-color:  #d7dce3;\n",
       "            color:  #000000;\n",
       "        }#T_02dc4_row7_col2,#T_02dc4_row11_col18{\n",
       "            background-color:  #c9d7f0;\n",
       "            color:  #000000;\n",
       "        }#T_02dc4_row7_col8,#T_02dc4_row11_col6,#T_02dc4_row14_col2{\n",
       "            background-color:  #88abfd;\n",
       "            color:  #000000;\n",
       "        }#T_02dc4_row7_col11,#T_02dc4_row15_col0{\n",
       "            background-color:  #6687ed;\n",
       "            color:  #000000;\n",
       "        }#T_02dc4_row7_col12,#T_02dc4_row18_col15{\n",
       "            background-color:  #5a78e4;\n",
       "            color:  #000000;\n",
       "        }#T_02dc4_row7_col13,#T_02dc4_row15_col7,#T_02dc4_row19_col6{\n",
       "            background-color:  #b9d0f9;\n",
       "            color:  #000000;\n",
       "        }#T_02dc4_row7_col14,#T_02dc4_row13_col19{\n",
       "            background-color:  #7093f3;\n",
       "            color:  #000000;\n",
       "        }#T_02dc4_row7_col15{\n",
       "            background-color:  #aec9fc;\n",
       "            color:  #000000;\n",
       "        }#T_02dc4_row7_col16,#T_02dc4_row7_col17{\n",
       "            background-color:  #dbdcde;\n",
       "            color:  #000000;\n",
       "        }#T_02dc4_row7_col18,#T_02dc4_row13_col9{\n",
       "            background-color:  #84a7fc;\n",
       "            color:  #000000;\n",
       "        }#T_02dc4_row8_col0,#T_02dc4_row19_col13{\n",
       "            background-color:  #81a4fb;\n",
       "            color:  #000000;\n",
       "        }#T_02dc4_row8_col1,#T_02dc4_row10_col12,#T_02dc4_row12_col10{\n",
       "            background-color:  #f59c7d;\n",
       "            color:  #000000;\n",
       "        }#T_02dc4_row8_col4,#T_02dc4_row10_col8,#T_02dc4_row12_col8{\n",
       "            background-color:  #e5d8d1;\n",
       "            color:  #000000;\n",
       "        }#T_02dc4_row8_col5,#T_02dc4_row12_col14{\n",
       "            background-color:  #bbd1f8;\n",
       "            color:  #000000;\n",
       "        }#T_02dc4_row8_col6{\n",
       "            background-color:  #a2c1ff;\n",
       "            color:  #000000;\n",
       "        }#T_02dc4_row8_col10,#T_02dc4_row8_col12{\n",
       "            background-color:  #ccd9ed;\n",
       "            color:  #000000;\n",
       "        }#T_02dc4_row8_col11{\n",
       "            background-color:  #c3d5f4;\n",
       "            color:  #000000;\n",
       "        }#T_02dc4_row8_col18{\n",
       "            background-color:  #f7b99e;\n",
       "            color:  #000000;\n",
       "        }#T_02dc4_row9_col0,#T_02dc4_row12_col15,#T_02dc4_row13_col1,#T_02dc4_row13_col15,#T_02dc4_row14_col7,#T_02dc4_row14_col15,#T_02dc4_row18_col17{\n",
       "            background-color:  #5470de;\n",
       "            color:  #000000;\n",
       "        }#T_02dc4_row9_col1{\n",
       "            background-color:  #97b8ff;\n",
       "            color:  #000000;\n",
       "        }#T_02dc4_row9_col2{\n",
       "            background-color:  #d4dbe6;\n",
       "            color:  #000000;\n",
       "        }#T_02dc4_row9_col8,#T_02dc4_row12_col16,#T_02dc4_row18_col13{\n",
       "            background-color:  #7a9df8;\n",
       "            color:  #000000;\n",
       "        }#T_02dc4_row9_col12,#T_02dc4_row11_col7,#T_02dc4_row18_col9{\n",
       "            background-color:  #4c66d6;\n",
       "            color:  #000000;\n",
       "        }#T_02dc4_row9_col13,#T_02dc4_row14_col10{\n",
       "            background-color:  #bad0f8;\n",
       "            color:  #000000;\n",
       "        }#T_02dc4_row9_col14,#T_02dc4_row13_col18,#T_02dc4_row18_col2,#T_02dc4_row19_col2{\n",
       "            background-color:  #6788ee;\n",
       "            color:  #000000;\n",
       "        }#T_02dc4_row9_col16{\n",
       "            background-color:  #f7bca1;\n",
       "            color:  #000000;\n",
       "        }#T_02dc4_row10_col0,#T_02dc4_row10_col17,#T_02dc4_row12_col17,#T_02dc4_row13_col3,#T_02dc4_row15_col14{\n",
       "            background-color:  #7da0f9;\n",
       "            color:  #000000;\n",
       "        }#T_02dc4_row10_col1,#T_02dc4_row12_col6{\n",
       "            background-color:  #f7b194;\n",
       "            color:  #000000;\n",
       "        }#T_02dc4_row10_col7,#T_02dc4_row12_col9,#T_02dc4_row17_col18,#T_02dc4_row19_col7{\n",
       "            background-color:  #445acc;\n",
       "            color:  #f1f1f1;\n",
       "        }#T_02dc4_row10_col9,#T_02dc4_row12_col3,#T_02dc4_row16_col10,#T_02dc4_row17_col10,#T_02dc4_row17_col12,#T_02dc4_row18_col7,#T_02dc4_row19_col16{\n",
       "            background-color:  #465ecf;\n",
       "            color:  #f1f1f1;\n",
       "        }#T_02dc4_row10_col13,#T_02dc4_row14_col6{\n",
       "            background-color:  #8fb1fe;\n",
       "            color:  #000000;\n",
       "        }#T_02dc4_row11_col1{\n",
       "            background-color:  #e7d7ce;\n",
       "            color:  #000000;\n",
       "        }#T_02dc4_row11_col2,#T_02dc4_row11_col5,#T_02dc4_row12_col11,#T_02dc4_row16_col7{\n",
       "            background-color:  #adc9fd;\n",
       "            color:  #000000;\n",
       "        }#T_02dc4_row11_col12,#T_02dc4_row11_col14,#T_02dc4_row16_col15,#T_02dc4_row17_col15{\n",
       "            background-color:  #aac7fd;\n",
       "            color:  #000000;\n",
       "        }#T_02dc4_row11_col16,#T_02dc4_row11_col17{\n",
       "            background-color:  #6f92f3;\n",
       "            color:  #000000;\n",
       "        }#T_02dc4_row11_col19,#T_02dc4_row13_col17{\n",
       "            background-color:  #d9dce1;\n",
       "            color:  #000000;\n",
       "        }#T_02dc4_row12_col0{\n",
       "            background-color:  #89acfd;\n",
       "            color:  #000000;\n",
       "        }#T_02dc4_row12_col7,#T_02dc4_row19_col3{\n",
       "            background-color:  #4358cb;\n",
       "            color:  #f1f1f1;\n",
       "        }#T_02dc4_row12_col13{\n",
       "            background-color:  #8db0fe;\n",
       "            color:  #000000;\n",
       "        }#T_02dc4_row12_col18,#T_02dc4_row16_col2{\n",
       "            background-color:  #f0cdbb;\n",
       "            color:  #000000;\n",
       "        }#T_02dc4_row12_col19{\n",
       "            background-color:  #f3c8b2;\n",
       "            color:  #000000;\n",
       "        }#T_02dc4_row13_col8,#T_02dc4_row15_col12{\n",
       "            background-color:  #799cf8;\n",
       "            color:  #000000;\n",
       "        }#T_02dc4_row14_col1,#T_02dc4_row18_col8,#T_02dc4_row19_col4{\n",
       "            background-color:  #f7b396;\n",
       "            color:  #000000;\n",
       "        }#T_02dc4_row14_col5{\n",
       "            background-color:  #d0473d;\n",
       "            color:  #f1f1f1;\n",
       "        }#T_02dc4_row14_col18,#T_02dc4_row15_col9{\n",
       "            background-color:  #f5c2aa;\n",
       "            color:  #000000;\n",
       "        }#T_02dc4_row14_col19{\n",
       "            background-color:  #f5c4ac;\n",
       "            color:  #000000;\n",
       "        }#T_02dc4_row15_col2{\n",
       "            background-color:  #c1d4f4;\n",
       "            color:  #000000;\n",
       "        }#T_02dc4_row15_col3{\n",
       "            background-color:  #f5c0a7;\n",
       "            color:  #000000;\n",
       "        }#T_02dc4_row15_col8{\n",
       "            background-color:  #9fbfff;\n",
       "            color:  #000000;\n",
       "        }#T_02dc4_row15_col13,#T_02dc4_row17_col7,#T_02dc4_row18_col0{\n",
       "            background-color:  #abc8fd;\n",
       "            color:  #000000;\n",
       "        }#T_02dc4_row15_col16,#T_02dc4_row15_col17,#T_02dc4_row18_col10,#T_02dc4_row19_col5{\n",
       "            background-color:  #e0dbd8;\n",
       "            color:  #000000;\n",
       "        }#T_02dc4_row15_col19{\n",
       "            background-color:  #9ebeff;\n",
       "            color:  #000000;\n",
       "        }#T_02dc4_row16_col9,#T_02dc4_row17_col3{\n",
       "            background-color:  #edd2c3;\n",
       "            color:  #000000;\n",
       "        }#T_02dc4_row16_col13,#T_02dc4_row17_col13{\n",
       "            background-color:  #dadce0;\n",
       "            color:  #000000;\n",
       "        }#T_02dc4_row16_col17,#T_02dc4_row17_col16{\n",
       "            background-color:  #c32e31;\n",
       "            color:  #f1f1f1;\n",
       "        }#T_02dc4_row17_col9{\n",
       "            background-color:  #edd1c2;\n",
       "            color:  #000000;\n",
       "        }#T_02dc4_row18_col1{\n",
       "            background-color:  #e67259;\n",
       "            color:  #000000;\n",
       "        }#T_02dc4_row18_col4{\n",
       "            background-color:  #f3c7b1;\n",
       "            color:  #000000;\n",
       "        }#T_02dc4_row18_col6,#T_02dc4_row18_col11{\n",
       "            background-color:  #afcafc;\n",
       "            color:  #000000;\n",
       "        }#T_02dc4_row18_col12{\n",
       "            background-color:  #e4d9d2;\n",
       "            color:  #000000;\n",
       "        }#T_02dc4_row18_col16{\n",
       "            background-color:  #506bda;\n",
       "            color:  #000000;\n",
       "        }#T_02dc4_row18_col19{\n",
       "            background-color:  #e0654f;\n",
       "            color:  #000000;\n",
       "        }#T_02dc4_row19_col1{\n",
       "            background-color:  #e36b54;\n",
       "            color:  #000000;\n",
       "        }#T_02dc4_row19_col8{\n",
       "            background-color:  #f7aa8c;\n",
       "            color:  #000000;\n",
       "        }#T_02dc4_row19_col9{\n",
       "            background-color:  #4055c8;\n",
       "            color:  #f1f1f1;\n",
       "        }#T_02dc4_row19_col11{\n",
       "            background-color:  #c4d5f3;\n",
       "            color:  #000000;\n",
       "        }#T_02dc4_row19_col18{\n",
       "            background-color:  #e16751;\n",
       "            color:  #000000;\n",
       "        }</style><table id=\"T_02dc4_\" ><thead>    <tr>        <th class=\"blank level0\" ></th>        <th class=\"col_heading level0 col0\" >Year</th>        <th class=\"col_heading level0 col1\" >Life expectancy </th>        <th class=\"col_heading level0 col2\" >Adult Mortality</th>        <th class=\"col_heading level0 col3\" >infant deaths</th>        <th class=\"col_heading level0 col4\" >Alcohol</th>        <th class=\"col_heading level0 col5\" >percentage expenditure</th>        <th class=\"col_heading level0 col6\" >Hepatitis B</th>        <th class=\"col_heading level0 col7\" >Measles </th>        <th class=\"col_heading level0 col8\" > BMI </th>        <th class=\"col_heading level0 col9\" >under-five deaths </th>        <th class=\"col_heading level0 col10\" >Polio</th>        <th class=\"col_heading level0 col11\" >Total expenditure</th>        <th class=\"col_heading level0 col12\" >Diphtheria </th>        <th class=\"col_heading level0 col13\" > HIV/AIDS</th>        <th class=\"col_heading level0 col14\" >GDP</th>        <th class=\"col_heading level0 col15\" >Population</th>        <th class=\"col_heading level0 col16\" > thinness  1-19 years</th>        <th class=\"col_heading level0 col17\" > thinness 5-9 years</th>        <th class=\"col_heading level0 col18\" >Income composition of resources</th>        <th class=\"col_heading level0 col19\" >Schooling</th>    </tr></thead><tbody>\n",
       "                <tr>\n",
       "                        <th id=\"T_02dc4_level0_row0\" class=\"row_heading level0 row0\" >Year</th>\n",
       "                        <td id=\"T_02dc4_row0_col0\" class=\"data row0 col0\" >1.000000</td>\n",
       "                        <td id=\"T_02dc4_row0_col1\" class=\"data row0 col1\" >0.170033</td>\n",
       "                        <td id=\"T_02dc4_row0_col2\" class=\"data row0 col2\" >-0.079052</td>\n",
       "                        <td id=\"T_02dc4_row0_col3\" class=\"data row0 col3\" >-0.037415</td>\n",
       "                        <td id=\"T_02dc4_row0_col4\" class=\"data row0 col4\" >-0.052990</td>\n",
       "                        <td id=\"T_02dc4_row0_col5\" class=\"data row0 col5\" >0.031400</td>\n",
       "                        <td id=\"T_02dc4_row0_col6\" class=\"data row0 col6\" >0.104333</td>\n",
       "                        <td id=\"T_02dc4_row0_col7\" class=\"data row0 col7\" >-0.082493</td>\n",
       "                        <td id=\"T_02dc4_row0_col8\" class=\"data row0 col8\" >0.108974</td>\n",
       "                        <td id=\"T_02dc4_row0_col9\" class=\"data row0 col9\" >-0.042937</td>\n",
       "                        <td id=\"T_02dc4_row0_col10\" class=\"data row0 col10\" >0.094158</td>\n",
       "                        <td id=\"T_02dc4_row0_col11\" class=\"data row0 col11\" >0.090740</td>\n",
       "                        <td id=\"T_02dc4_row0_col12\" class=\"data row0 col12\" >0.134337</td>\n",
       "                        <td id=\"T_02dc4_row0_col13\" class=\"data row0 col13\" >-0.139741</td>\n",
       "                        <td id=\"T_02dc4_row0_col14\" class=\"data row0 col14\" >0.101620</td>\n",
       "                        <td id=\"T_02dc4_row0_col15\" class=\"data row0 col15\" >0.016969</td>\n",
       "                        <td id=\"T_02dc4_row0_col16\" class=\"data row0 col16\" >-0.047876</td>\n",
       "                        <td id=\"T_02dc4_row0_col17\" class=\"data row0 col17\" >-0.050929</td>\n",
       "                        <td id=\"T_02dc4_row0_col18\" class=\"data row0 col18\" >0.243468</td>\n",
       "                        <td id=\"T_02dc4_row0_col19\" class=\"data row0 col19\" >0.209400</td>\n",
       "            </tr>\n",
       "            <tr>\n",
       "                        <th id=\"T_02dc4_level0_row1\" class=\"row_heading level0 row1\" >Life expectancy </th>\n",
       "                        <td id=\"T_02dc4_row1_col0\" class=\"data row1 col0\" >0.170033</td>\n",
       "                        <td id=\"T_02dc4_row1_col1\" class=\"data row1 col1\" >1.000000</td>\n",
       "                        <td id=\"T_02dc4_row1_col2\" class=\"data row1 col2\" >-0.696359</td>\n",
       "                        <td id=\"T_02dc4_row1_col3\" class=\"data row1 col3\" >-0.196557</td>\n",
       "                        <td id=\"T_02dc4_row1_col4\" class=\"data row1 col4\" >0.404877</td>\n",
       "                        <td id=\"T_02dc4_row1_col5\" class=\"data row1 col5\" >0.381864</td>\n",
       "                        <td id=\"T_02dc4_row1_col6\" class=\"data row1 col6\" >0.256762</td>\n",
       "                        <td id=\"T_02dc4_row1_col7\" class=\"data row1 col7\" >-0.157586</td>\n",
       "                        <td id=\"T_02dc4_row1_col8\" class=\"data row1 col8\" >0.567694</td>\n",
       "                        <td id=\"T_02dc4_row1_col9\" class=\"data row1 col9\" >-0.222529</td>\n",
       "                        <td id=\"T_02dc4_row1_col10\" class=\"data row1 col10\" >0.465556</td>\n",
       "                        <td id=\"T_02dc4_row1_col11\" class=\"data row1 col11\" >0.218086</td>\n",
       "                        <td id=\"T_02dc4_row1_col12\" class=\"data row1 col12\" >0.479495</td>\n",
       "                        <td id=\"T_02dc4_row1_col13\" class=\"data row1 col13\" >-0.556556</td>\n",
       "                        <td id=\"T_02dc4_row1_col14\" class=\"data row1 col14\" >0.461455</td>\n",
       "                        <td id=\"T_02dc4_row1_col15\" class=\"data row1 col15\" >-0.021538</td>\n",
       "                        <td id=\"T_02dc4_row1_col16\" class=\"data row1 col16\" >-0.477183</td>\n",
       "                        <td id=\"T_02dc4_row1_col17\" class=\"data row1 col17\" >-0.471584</td>\n",
       "                        <td id=\"T_02dc4_row1_col18\" class=\"data row1 col18\" >0.724776</td>\n",
       "                        <td id=\"T_02dc4_row1_col19\" class=\"data row1 col19\" >0.751975</td>\n",
       "            </tr>\n",
       "            <tr>\n",
       "                        <th id=\"T_02dc4_level0_row2\" class=\"row_heading level0 row2\" >Adult Mortality</th>\n",
       "                        <td id=\"T_02dc4_row2_col0\" class=\"data row2 col0\" >-0.079052</td>\n",
       "                        <td id=\"T_02dc4_row2_col1\" class=\"data row2 col1\" >-0.696359</td>\n",
       "                        <td id=\"T_02dc4_row2_col2\" class=\"data row2 col2\" >1.000000</td>\n",
       "                        <td id=\"T_02dc4_row2_col3\" class=\"data row2 col3\" >0.078756</td>\n",
       "                        <td id=\"T_02dc4_row2_col4\" class=\"data row2 col4\" >-0.195848</td>\n",
       "                        <td id=\"T_02dc4_row2_col5\" class=\"data row2 col5\" >-0.242860</td>\n",
       "                        <td id=\"T_02dc4_row2_col6\" class=\"data row2 col6\" >-0.162476</td>\n",
       "                        <td id=\"T_02dc4_row2_col7\" class=\"data row2 col7\" >0.031176</td>\n",
       "                        <td id=\"T_02dc4_row2_col8\" class=\"data row2 col8\" >-0.387017</td>\n",
       "                        <td id=\"T_02dc4_row2_col9\" class=\"data row2 col9\" >0.094146</td>\n",
       "                        <td id=\"T_02dc4_row2_col10\" class=\"data row2 col10\" >-0.274823</td>\n",
       "                        <td id=\"T_02dc4_row2_col11\" class=\"data row2 col11\" >-0.115281</td>\n",
       "                        <td id=\"T_02dc4_row2_col12\" class=\"data row2 col12\" >-0.275131</td>\n",
       "                        <td id=\"T_02dc4_row2_col13\" class=\"data row2 col13\" >0.523821</td>\n",
       "                        <td id=\"T_02dc4_row2_col14\" class=\"data row2 col14\" >-0.296049</td>\n",
       "                        <td id=\"T_02dc4_row2_col15\" class=\"data row2 col15\" >-0.013647</td>\n",
       "                        <td id=\"T_02dc4_row2_col16\" class=\"data row2 col16\" >0.302904</td>\n",
       "                        <td id=\"T_02dc4_row2_col17\" class=\"data row2 col17\" >0.308457</td>\n",
       "                        <td id=\"T_02dc4_row2_col18\" class=\"data row2 col18\" >-0.457626</td>\n",
       "                        <td id=\"T_02dc4_row2_col19\" class=\"data row2 col19\" >-0.454612</td>\n",
       "            </tr>\n",
       "            <tr>\n",
       "                        <th id=\"T_02dc4_level0_row3\" class=\"row_heading level0 row3\" >infant deaths</th>\n",
       "                        <td id=\"T_02dc4_row3_col0\" class=\"data row3 col0\" >-0.037415</td>\n",
       "                        <td id=\"T_02dc4_row3_col1\" class=\"data row3 col1\" >-0.196557</td>\n",
       "                        <td id=\"T_02dc4_row3_col2\" class=\"data row3 col2\" >0.078756</td>\n",
       "                        <td id=\"T_02dc4_row3_col3\" class=\"data row3 col3\" >1.000000</td>\n",
       "                        <td id=\"T_02dc4_row3_col4\" class=\"data row3 col4\" >-0.115638</td>\n",
       "                        <td id=\"T_02dc4_row3_col5\" class=\"data row3 col5\" >-0.085612</td>\n",
       "                        <td id=\"T_02dc4_row3_col6\" class=\"data row3 col6\" >-0.223566</td>\n",
       "                        <td id=\"T_02dc4_row3_col7\" class=\"data row3 col7\" >0.501128</td>\n",
       "                        <td id=\"T_02dc4_row3_col8\" class=\"data row3 col8\" >-0.227279</td>\n",
       "                        <td id=\"T_02dc4_row3_col9\" class=\"data row3 col9\" >0.996629</td>\n",
       "                        <td id=\"T_02dc4_row3_col10\" class=\"data row3 col10\" >-0.170689</td>\n",
       "                        <td id=\"T_02dc4_row3_col11\" class=\"data row3 col11\" >-0.128616</td>\n",
       "                        <td id=\"T_02dc4_row3_col12\" class=\"data row3 col12\" >-0.175171</td>\n",
       "                        <td id=\"T_02dc4_row3_col13\" class=\"data row3 col13\" >0.025231</td>\n",
       "                        <td id=\"T_02dc4_row3_col14\" class=\"data row3 col14\" >-0.108427</td>\n",
       "                        <td id=\"T_02dc4_row3_col15\" class=\"data row3 col15\" >0.556801</td>\n",
       "                        <td id=\"T_02dc4_row3_col16\" class=\"data row3 col16\" >0.465711</td>\n",
       "                        <td id=\"T_02dc4_row3_col17\" class=\"data row3 col17\" >0.471350</td>\n",
       "                        <td id=\"T_02dc4_row3_col18\" class=\"data row3 col18\" >-0.145139</td>\n",
       "                        <td id=\"T_02dc4_row3_col19\" class=\"data row3 col19\" >-0.193720</td>\n",
       "            </tr>\n",
       "            <tr>\n",
       "                        <th id=\"T_02dc4_level0_row4\" class=\"row_heading level0 row4\" >Alcohol</th>\n",
       "                        <td id=\"T_02dc4_row4_col0\" class=\"data row4 col0\" >-0.052990</td>\n",
       "                        <td id=\"T_02dc4_row4_col1\" class=\"data row4 col1\" >0.404877</td>\n",
       "                        <td id=\"T_02dc4_row4_col2\" class=\"data row4 col2\" >-0.195848</td>\n",
       "                        <td id=\"T_02dc4_row4_col3\" class=\"data row4 col3\" >-0.115638</td>\n",
       "                        <td id=\"T_02dc4_row4_col4\" class=\"data row4 col4\" >1.000000</td>\n",
       "                        <td id=\"T_02dc4_row4_col5\" class=\"data row4 col5\" >0.341285</td>\n",
       "                        <td id=\"T_02dc4_row4_col6\" class=\"data row4 col6\" >0.087549</td>\n",
       "                        <td id=\"T_02dc4_row4_col7\" class=\"data row4 col7\" >-0.051827</td>\n",
       "                        <td id=\"T_02dc4_row4_col8\" class=\"data row4 col8\" >0.330408</td>\n",
       "                        <td id=\"T_02dc4_row4_col9\" class=\"data row4 col9\" >-0.112370</td>\n",
       "                        <td id=\"T_02dc4_row4_col10\" class=\"data row4 col10\" >0.221734</td>\n",
       "                        <td id=\"T_02dc4_row4_col11\" class=\"data row4 col11\" >0.296942</td>\n",
       "                        <td id=\"T_02dc4_row4_col12\" class=\"data row4 col12\" >0.222020</td>\n",
       "                        <td id=\"T_02dc4_row4_col13\" class=\"data row4 col13\" >-0.048845</td>\n",
       "                        <td id=\"T_02dc4_row4_col14\" class=\"data row4 col14\" >0.354712</td>\n",
       "                        <td id=\"T_02dc4_row4_col15\" class=\"data row4 col15\" >-0.035252</td>\n",
       "                        <td id=\"T_02dc4_row4_col16\" class=\"data row4 col16\" >-0.428795</td>\n",
       "                        <td id=\"T_02dc4_row4_col17\" class=\"data row4 col17\" >-0.417414</td>\n",
       "                        <td id=\"T_02dc4_row4_col18\" class=\"data row4 col18\" >0.450040</td>\n",
       "                        <td id=\"T_02dc4_row4_col19\" class=\"data row4 col19\" >0.547378</td>\n",
       "            </tr>\n",
       "            <tr>\n",
       "                        <th id=\"T_02dc4_level0_row5\" class=\"row_heading level0 row5\" >percentage expenditure</th>\n",
       "                        <td id=\"T_02dc4_row5_col0\" class=\"data row5 col0\" >0.031400</td>\n",
       "                        <td id=\"T_02dc4_row5_col1\" class=\"data row5 col1\" >0.381864</td>\n",
       "                        <td id=\"T_02dc4_row5_col2\" class=\"data row5 col2\" >-0.242860</td>\n",
       "                        <td id=\"T_02dc4_row5_col3\" class=\"data row5 col3\" >-0.085612</td>\n",
       "                        <td id=\"T_02dc4_row5_col4\" class=\"data row5 col4\" >0.341285</td>\n",
       "                        <td id=\"T_02dc4_row5_col5\" class=\"data row5 col5\" >1.000000</td>\n",
       "                        <td id=\"T_02dc4_row5_col6\" class=\"data row5 col6\" >0.016274</td>\n",
       "                        <td id=\"T_02dc4_row5_col7\" class=\"data row5 col7\" >-0.056596</td>\n",
       "                        <td id=\"T_02dc4_row5_col8\" class=\"data row5 col8\" >0.228700</td>\n",
       "                        <td id=\"T_02dc4_row5_col9\" class=\"data row5 col9\" >-0.087852</td>\n",
       "                        <td id=\"T_02dc4_row5_col10\" class=\"data row5 col10\" >0.147259</td>\n",
       "                        <td id=\"T_02dc4_row5_col11\" class=\"data row5 col11\" >0.174420</td>\n",
       "                        <td id=\"T_02dc4_row5_col12\" class=\"data row5 col12\" >0.143624</td>\n",
       "                        <td id=\"T_02dc4_row5_col13\" class=\"data row5 col13\" >-0.097857</td>\n",
       "                        <td id=\"T_02dc4_row5_col14\" class=\"data row5 col14\" >0.899373</td>\n",
       "                        <td id=\"T_02dc4_row5_col15\" class=\"data row5 col15\" >-0.025662</td>\n",
       "                        <td id=\"T_02dc4_row5_col16\" class=\"data row5 col16\" >-0.251369</td>\n",
       "                        <td id=\"T_02dc4_row5_col17\" class=\"data row5 col17\" >-0.252905</td>\n",
       "                        <td id=\"T_02dc4_row5_col18\" class=\"data row5 col18\" >0.381952</td>\n",
       "                        <td id=\"T_02dc4_row5_col19\" class=\"data row5 col19\" >0.389687</td>\n",
       "            </tr>\n",
       "            <tr>\n",
       "                        <th id=\"T_02dc4_level0_row6\" class=\"row_heading level0 row6\" >Hepatitis B</th>\n",
       "                        <td id=\"T_02dc4_row6_col0\" class=\"data row6 col0\" >0.104333</td>\n",
       "                        <td id=\"T_02dc4_row6_col1\" class=\"data row6 col1\" >0.256762</td>\n",
       "                        <td id=\"T_02dc4_row6_col2\" class=\"data row6 col2\" >-0.162476</td>\n",
       "                        <td id=\"T_02dc4_row6_col3\" class=\"data row6 col3\" >-0.223566</td>\n",
       "                        <td id=\"T_02dc4_row6_col4\" class=\"data row6 col4\" >0.087549</td>\n",
       "                        <td id=\"T_02dc4_row6_col5\" class=\"data row6 col5\" >0.016274</td>\n",
       "                        <td id=\"T_02dc4_row6_col6\" class=\"data row6 col6\" >1.000000</td>\n",
       "                        <td id=\"T_02dc4_row6_col7\" class=\"data row6 col7\" >-0.120529</td>\n",
       "                        <td id=\"T_02dc4_row6_col8\" class=\"data row6 col8\" >0.150380</td>\n",
       "                        <td id=\"T_02dc4_row6_col9\" class=\"data row6 col9\" >-0.233126</td>\n",
       "                        <td id=\"T_02dc4_row6_col10\" class=\"data row6 col10\" >0.486171</td>\n",
       "                        <td id=\"T_02dc4_row6_col11\" class=\"data row6 col11\" >0.058280</td>\n",
       "                        <td id=\"T_02dc4_row6_col12\" class=\"data row6 col12\" >0.611495</td>\n",
       "                        <td id=\"T_02dc4_row6_col13\" class=\"data row6 col13\" >-0.112675</td>\n",
       "                        <td id=\"T_02dc4_row6_col14\" class=\"data row6 col14\" >0.083903</td>\n",
       "                        <td id=\"T_02dc4_row6_col15\" class=\"data row6 col15\" >-0.123321</td>\n",
       "                        <td id=\"T_02dc4_row6_col16\" class=\"data row6 col16\" >-0.120429</td>\n",
       "                        <td id=\"T_02dc4_row6_col17\" class=\"data row6 col17\" >-0.124960</td>\n",
       "                        <td id=\"T_02dc4_row6_col18\" class=\"data row6 col18\" >0.199549</td>\n",
       "                        <td id=\"T_02dc4_row6_col19\" class=\"data row6 col19\" >0.231117</td>\n",
       "            </tr>\n",
       "            <tr>\n",
       "                        <th id=\"T_02dc4_level0_row7\" class=\"row_heading level0 row7\" >Measles </th>\n",
       "                        <td id=\"T_02dc4_row7_col0\" class=\"data row7 col0\" >-0.082493</td>\n",
       "                        <td id=\"T_02dc4_row7_col1\" class=\"data row7 col1\" >-0.157586</td>\n",
       "                        <td id=\"T_02dc4_row7_col2\" class=\"data row7 col2\" >0.031176</td>\n",
       "                        <td id=\"T_02dc4_row7_col3\" class=\"data row7 col3\" >0.501128</td>\n",
       "                        <td id=\"T_02dc4_row7_col4\" class=\"data row7 col4\" >-0.051827</td>\n",
       "                        <td id=\"T_02dc4_row7_col5\" class=\"data row7 col5\" >-0.056596</td>\n",
       "                        <td id=\"T_02dc4_row7_col6\" class=\"data row7 col6\" >-0.120529</td>\n",
       "                        <td id=\"T_02dc4_row7_col7\" class=\"data row7 col7\" >1.000000</td>\n",
       "                        <td id=\"T_02dc4_row7_col8\" class=\"data row7 col8\" >-0.175977</td>\n",
       "                        <td id=\"T_02dc4_row7_col9\" class=\"data row7 col9\" >0.507809</td>\n",
       "                        <td id=\"T_02dc4_row7_col10\" class=\"data row7 col10\" >-0.136166</td>\n",
       "                        <td id=\"T_02dc4_row7_col11\" class=\"data row7 col11\" >-0.106241</td>\n",
       "                        <td id=\"T_02dc4_row7_col12\" class=\"data row7 col12\" >-0.141882</td>\n",
       "                        <td id=\"T_02dc4_row7_col13\" class=\"data row7 col13\" >0.030899</td>\n",
       "                        <td id=\"T_02dc4_row7_col14\" class=\"data row7 col14\" >-0.076466</td>\n",
       "                        <td id=\"T_02dc4_row7_col15\" class=\"data row7 col15\" >0.265966</td>\n",
       "                        <td id=\"T_02dc4_row7_col16\" class=\"data row7 col16\" >0.224808</td>\n",
       "                        <td id=\"T_02dc4_row7_col17\" class=\"data row7 col17\" >0.221072</td>\n",
       "                        <td id=\"T_02dc4_row7_col18\" class=\"data row7 col18\" >-0.129568</td>\n",
       "                        <td id=\"T_02dc4_row7_col19\" class=\"data row7 col19\" >-0.137225</td>\n",
       "            </tr>\n",
       "            <tr>\n",
       "                        <th id=\"T_02dc4_level0_row8\" class=\"row_heading level0 row8\" > BMI </th>\n",
       "                        <td id=\"T_02dc4_row8_col0\" class=\"data row8 col0\" >0.108974</td>\n",
       "                        <td id=\"T_02dc4_row8_col1\" class=\"data row8 col1\" >0.567694</td>\n",
       "                        <td id=\"T_02dc4_row8_col2\" class=\"data row8 col2\" >-0.387017</td>\n",
       "                        <td id=\"T_02dc4_row8_col3\" class=\"data row8 col3\" >-0.227279</td>\n",
       "                        <td id=\"T_02dc4_row8_col4\" class=\"data row8 col4\" >0.330408</td>\n",
       "                        <td id=\"T_02dc4_row8_col5\" class=\"data row8 col5\" >0.228700</td>\n",
       "                        <td id=\"T_02dc4_row8_col6\" class=\"data row8 col6\" >0.150380</td>\n",
       "                        <td id=\"T_02dc4_row8_col7\" class=\"data row8 col7\" >-0.175977</td>\n",
       "                        <td id=\"T_02dc4_row8_col8\" class=\"data row8 col8\" >1.000000</td>\n",
       "                        <td id=\"T_02dc4_row8_col9\" class=\"data row8 col9\" >-0.237669</td>\n",
       "                        <td id=\"T_02dc4_row8_col10\" class=\"data row8 col10\" >0.284569</td>\n",
       "                        <td id=\"T_02dc4_row8_col11\" class=\"data row8 col11\" >0.242503</td>\n",
       "                        <td id=\"T_02dc4_row8_col12\" class=\"data row8 col12\" >0.283147</td>\n",
       "                        <td id=\"T_02dc4_row8_col13\" class=\"data row8 col13\" >-0.243717</td>\n",
       "                        <td id=\"T_02dc4_row8_col14\" class=\"data row8 col14\" >0.301557</td>\n",
       "                        <td id=\"T_02dc4_row8_col15\" class=\"data row8 col15\" >-0.072301</td>\n",
       "                        <td id=\"T_02dc4_row8_col16\" class=\"data row8 col16\" >-0.532025</td>\n",
       "                        <td id=\"T_02dc4_row8_col17\" class=\"data row8 col17\" >-0.538911</td>\n",
       "                        <td id=\"T_02dc4_row8_col18\" class=\"data row8 col18\" >0.508774</td>\n",
       "                        <td id=\"T_02dc4_row8_col19\" class=\"data row8 col19\" >0.546961</td>\n",
       "            </tr>\n",
       "            <tr>\n",
       "                        <th id=\"T_02dc4_level0_row9\" class=\"row_heading level0 row9\" >under-five deaths </th>\n",
       "                        <td id=\"T_02dc4_row9_col0\" class=\"data row9 col0\" >-0.042937</td>\n",
       "                        <td id=\"T_02dc4_row9_col1\" class=\"data row9 col1\" >-0.222529</td>\n",
       "                        <td id=\"T_02dc4_row9_col2\" class=\"data row9 col2\" >0.094146</td>\n",
       "                        <td id=\"T_02dc4_row9_col3\" class=\"data row9 col3\" >0.996629</td>\n",
       "                        <td id=\"T_02dc4_row9_col4\" class=\"data row9 col4\" >-0.112370</td>\n",
       "                        <td id=\"T_02dc4_row9_col5\" class=\"data row9 col5\" >-0.087852</td>\n",
       "                        <td id=\"T_02dc4_row9_col6\" class=\"data row9 col6\" >-0.233126</td>\n",
       "                        <td id=\"T_02dc4_row9_col7\" class=\"data row9 col7\" >0.507809</td>\n",
       "                        <td id=\"T_02dc4_row9_col8\" class=\"data row9 col8\" >-0.237669</td>\n",
       "                        <td id=\"T_02dc4_row9_col9\" class=\"data row9 col9\" >1.000000</td>\n",
       "                        <td id=\"T_02dc4_row9_col10\" class=\"data row9 col10\" >-0.188720</td>\n",
       "                        <td id=\"T_02dc4_row9_col11\" class=\"data row9 col11\" >-0.130148</td>\n",
       "                        <td id=\"T_02dc4_row9_col12\" class=\"data row9 col12\" >-0.195668</td>\n",
       "                        <td id=\"T_02dc4_row9_col13\" class=\"data row9 col13\" >0.038062</td>\n",
       "                        <td id=\"T_02dc4_row9_col14\" class=\"data row9 col14\" >-0.112081</td>\n",
       "                        <td id=\"T_02dc4_row9_col15\" class=\"data row9 col15\" >0.544423</td>\n",
       "                        <td id=\"T_02dc4_row9_col16\" class=\"data row9 col16\" >0.467789</td>\n",
       "                        <td id=\"T_02dc4_row9_col17\" class=\"data row9 col17\" >0.472263</td>\n",
       "                        <td id=\"T_02dc4_row9_col18\" class=\"data row9 col18\" >-0.163305</td>\n",
       "                        <td id=\"T_02dc4_row9_col19\" class=\"data row9 col19\" >-0.209373</td>\n",
       "            </tr>\n",
       "            <tr>\n",
       "                        <th id=\"T_02dc4_level0_row10\" class=\"row_heading level0 row10\" >Polio</th>\n",
       "                        <td id=\"T_02dc4_row10_col0\" class=\"data row10 col0\" >0.094158</td>\n",
       "                        <td id=\"T_02dc4_row10_col1\" class=\"data row10 col1\" >0.465556</td>\n",
       "                        <td id=\"T_02dc4_row10_col2\" class=\"data row10 col2\" >-0.274823</td>\n",
       "                        <td id=\"T_02dc4_row10_col3\" class=\"data row10 col3\" >-0.170689</td>\n",
       "                        <td id=\"T_02dc4_row10_col4\" class=\"data row10 col4\" >0.221734</td>\n",
       "                        <td id=\"T_02dc4_row10_col5\" class=\"data row10 col5\" >0.147259</td>\n",
       "                        <td id=\"T_02dc4_row10_col6\" class=\"data row10 col6\" >0.486171</td>\n",
       "                        <td id=\"T_02dc4_row10_col7\" class=\"data row10 col7\" >-0.136166</td>\n",
       "                        <td id=\"T_02dc4_row10_col8\" class=\"data row10 col8\" >0.284569</td>\n",
       "                        <td id=\"T_02dc4_row10_col9\" class=\"data row10 col9\" >-0.188720</td>\n",
       "                        <td id=\"T_02dc4_row10_col10\" class=\"data row10 col10\" >1.000000</td>\n",
       "                        <td id=\"T_02dc4_row10_col11\" class=\"data row10 col11\" >0.137330</td>\n",
       "                        <td id=\"T_02dc4_row10_col12\" class=\"data row10 col12\" >0.673553</td>\n",
       "                        <td id=\"T_02dc4_row10_col13\" class=\"data row10 col13\" >-0.159560</td>\n",
       "                        <td id=\"T_02dc4_row10_col14\" class=\"data row10 col14\" >0.211976</td>\n",
       "                        <td id=\"T_02dc4_row10_col15\" class=\"data row10 col15\" >-0.038540</td>\n",
       "                        <td id=\"T_02dc4_row10_col16\" class=\"data row10 col16\" >-0.221823</td>\n",
       "                        <td id=\"T_02dc4_row10_col17\" class=\"data row10 col17\" >-0.222592</td>\n",
       "                        <td id=\"T_02dc4_row10_col18\" class=\"data row10 col18\" >0.381078</td>\n",
       "                        <td id=\"T_02dc4_row10_col19\" class=\"data row10 col19\" >0.417866</td>\n",
       "            </tr>\n",
       "            <tr>\n",
       "                        <th id=\"T_02dc4_level0_row11\" class=\"row_heading level0 row11\" >Total expenditure</th>\n",
       "                        <td id=\"T_02dc4_row11_col0\" class=\"data row11 col0\" >0.090740</td>\n",
       "                        <td id=\"T_02dc4_row11_col1\" class=\"data row11 col1\" >0.218086</td>\n",
       "                        <td id=\"T_02dc4_row11_col2\" class=\"data row11 col2\" >-0.115281</td>\n",
       "                        <td id=\"T_02dc4_row11_col3\" class=\"data row11 col3\" >-0.128616</td>\n",
       "                        <td id=\"T_02dc4_row11_col4\" class=\"data row11 col4\" >0.296942</td>\n",
       "                        <td id=\"T_02dc4_row11_col5\" class=\"data row11 col5\" >0.174420</td>\n",
       "                        <td id=\"T_02dc4_row11_col6\" class=\"data row11 col6\" >0.058280</td>\n",
       "                        <td id=\"T_02dc4_row11_col7\" class=\"data row11 col7\" >-0.106241</td>\n",
       "                        <td id=\"T_02dc4_row11_col8\" class=\"data row11 col8\" >0.242503</td>\n",
       "                        <td id=\"T_02dc4_row11_col9\" class=\"data row11 col9\" >-0.130148</td>\n",
       "                        <td id=\"T_02dc4_row11_col10\" class=\"data row11 col10\" >0.137330</td>\n",
       "                        <td id=\"T_02dc4_row11_col11\" class=\"data row11 col11\" >1.000000</td>\n",
       "                        <td id=\"T_02dc4_row11_col12\" class=\"data row11 col12\" >0.152754</td>\n",
       "                        <td id=\"T_02dc4_row11_col13\" class=\"data row11 col13\" >-0.001389</td>\n",
       "                        <td id=\"T_02dc4_row11_col14\" class=\"data row11 col14\" >0.138364</td>\n",
       "                        <td id=\"T_02dc4_row11_col15\" class=\"data row11 col15\" >-0.079662</td>\n",
       "                        <td id=\"T_02dc4_row11_col16\" class=\"data row11 col16\" >-0.277101</td>\n",
       "                        <td id=\"T_02dc4_row11_col17\" class=\"data row11 col17\" >-0.283774</td>\n",
       "                        <td id=\"T_02dc4_row11_col18\" class=\"data row11 col18\" >0.166682</td>\n",
       "                        <td id=\"T_02dc4_row11_col19\" class=\"data row11 col19\" >0.246384</td>\n",
       "            </tr>\n",
       "            <tr>\n",
       "                        <th id=\"T_02dc4_level0_row12\" class=\"row_heading level0 row12\" >Diphtheria </th>\n",
       "                        <td id=\"T_02dc4_row12_col0\" class=\"data row12 col0\" >0.134337</td>\n",
       "                        <td id=\"T_02dc4_row12_col1\" class=\"data row12 col1\" >0.479495</td>\n",
       "                        <td id=\"T_02dc4_row12_col2\" class=\"data row12 col2\" >-0.275131</td>\n",
       "                        <td id=\"T_02dc4_row12_col3\" class=\"data row12 col3\" >-0.175171</td>\n",
       "                        <td id=\"T_02dc4_row12_col4\" class=\"data row12 col4\" >0.222020</td>\n",
       "                        <td id=\"T_02dc4_row12_col5\" class=\"data row12 col5\" >0.143624</td>\n",
       "                        <td id=\"T_02dc4_row12_col6\" class=\"data row12 col6\" >0.611495</td>\n",
       "                        <td id=\"T_02dc4_row12_col7\" class=\"data row12 col7\" >-0.141882</td>\n",
       "                        <td id=\"T_02dc4_row12_col8\" class=\"data row12 col8\" >0.283147</td>\n",
       "                        <td id=\"T_02dc4_row12_col9\" class=\"data row12 col9\" >-0.195668</td>\n",
       "                        <td id=\"T_02dc4_row12_col10\" class=\"data row12 col10\" >0.673553</td>\n",
       "                        <td id=\"T_02dc4_row12_col11\" class=\"data row12 col11\" >0.152754</td>\n",
       "                        <td id=\"T_02dc4_row12_col12\" class=\"data row12 col12\" >1.000000</td>\n",
       "                        <td id=\"T_02dc4_row12_col13\" class=\"data row12 col13\" >-0.164860</td>\n",
       "                        <td id=\"T_02dc4_row12_col14\" class=\"data row12 col14\" >0.200666</td>\n",
       "                        <td id=\"T_02dc4_row12_col15\" class=\"data row12 col15\" >-0.028444</td>\n",
       "                        <td id=\"T_02dc4_row12_col16\" class=\"data row12 col16\" >-0.229518</td>\n",
       "                        <td id=\"T_02dc4_row12_col17\" class=\"data row12 col17\" >-0.222743</td>\n",
       "                        <td id=\"T_02dc4_row12_col18\" class=\"data row12 col18\" >0.401456</td>\n",
       "                        <td id=\"T_02dc4_row12_col19\" class=\"data row12 col19\" >0.425332</td>\n",
       "            </tr>\n",
       "            <tr>\n",
       "                        <th id=\"T_02dc4_level0_row13\" class=\"row_heading level0 row13\" > HIV/AIDS</th>\n",
       "                        <td id=\"T_02dc4_row13_col0\" class=\"data row13 col0\" >-0.139741</td>\n",
       "                        <td id=\"T_02dc4_row13_col1\" class=\"data row13 col1\" >-0.556556</td>\n",
       "                        <td id=\"T_02dc4_row13_col2\" class=\"data row13 col2\" >0.523821</td>\n",
       "                        <td id=\"T_02dc4_row13_col3\" class=\"data row13 col3\" >0.025231</td>\n",
       "                        <td id=\"T_02dc4_row13_col4\" class=\"data row13 col4\" >-0.048845</td>\n",
       "                        <td id=\"T_02dc4_row13_col5\" class=\"data row13 col5\" >-0.097857</td>\n",
       "                        <td id=\"T_02dc4_row13_col6\" class=\"data row13 col6\" >-0.112675</td>\n",
       "                        <td id=\"T_02dc4_row13_col7\" class=\"data row13 col7\" >0.030899</td>\n",
       "                        <td id=\"T_02dc4_row13_col8\" class=\"data row13 col8\" >-0.243717</td>\n",
       "                        <td id=\"T_02dc4_row13_col9\" class=\"data row13 col9\" >0.038062</td>\n",
       "                        <td id=\"T_02dc4_row13_col10\" class=\"data row13 col10\" >-0.159560</td>\n",
       "                        <td id=\"T_02dc4_row13_col11\" class=\"data row13 col11\" >-0.001389</td>\n",
       "                        <td id=\"T_02dc4_row13_col12\" class=\"data row13 col12\" >-0.164860</td>\n",
       "                        <td id=\"T_02dc4_row13_col13\" class=\"data row13 col13\" >1.000000</td>\n",
       "                        <td id=\"T_02dc4_row13_col14\" class=\"data row13 col14\" >-0.136491</td>\n",
       "                        <td id=\"T_02dc4_row13_col15\" class=\"data row13 col15\" >-0.027854</td>\n",
       "                        <td id=\"T_02dc4_row13_col16\" class=\"data row13 col16\" >0.204064</td>\n",
       "                        <td id=\"T_02dc4_row13_col17\" class=\"data row13 col17\" >0.207283</td>\n",
       "                        <td id=\"T_02dc4_row13_col18\" class=\"data row13 col18\" >-0.249519</td>\n",
       "                        <td id=\"T_02dc4_row13_col19\" class=\"data row13 col19\" >-0.220429</td>\n",
       "            </tr>\n",
       "            <tr>\n",
       "                        <th id=\"T_02dc4_level0_row14\" class=\"row_heading level0 row14\" >GDP</th>\n",
       "                        <td id=\"T_02dc4_row14_col0\" class=\"data row14 col0\" >0.101620</td>\n",
       "                        <td id=\"T_02dc4_row14_col1\" class=\"data row14 col1\" >0.461455</td>\n",
       "                        <td id=\"T_02dc4_row14_col2\" class=\"data row14 col2\" >-0.296049</td>\n",
       "                        <td id=\"T_02dc4_row14_col3\" class=\"data row14 col3\" >-0.108427</td>\n",
       "                        <td id=\"T_02dc4_row14_col4\" class=\"data row14 col4\" >0.354712</td>\n",
       "                        <td id=\"T_02dc4_row14_col5\" class=\"data row14 col5\" >0.899373</td>\n",
       "                        <td id=\"T_02dc4_row14_col6\" class=\"data row14 col6\" >0.083903</td>\n",
       "                        <td id=\"T_02dc4_row14_col7\" class=\"data row14 col7\" >-0.076466</td>\n",
       "                        <td id=\"T_02dc4_row14_col8\" class=\"data row14 col8\" >0.301557</td>\n",
       "                        <td id=\"T_02dc4_row14_col9\" class=\"data row14 col9\" >-0.112081</td>\n",
       "                        <td id=\"T_02dc4_row14_col10\" class=\"data row14 col10\" >0.211976</td>\n",
       "                        <td id=\"T_02dc4_row14_col11\" class=\"data row14 col11\" >0.138364</td>\n",
       "                        <td id=\"T_02dc4_row14_col12\" class=\"data row14 col12\" >0.200666</td>\n",
       "                        <td id=\"T_02dc4_row14_col13\" class=\"data row14 col13\" >-0.136491</td>\n",
       "                        <td id=\"T_02dc4_row14_col14\" class=\"data row14 col14\" >1.000000</td>\n",
       "                        <td id=\"T_02dc4_row14_col15\" class=\"data row14 col15\" >-0.028270</td>\n",
       "                        <td id=\"T_02dc4_row14_col16\" class=\"data row14 col16\" >-0.285697</td>\n",
       "                        <td id=\"T_02dc4_row14_col17\" class=\"data row14 col17\" >-0.290539</td>\n",
       "                        <td id=\"T_02dc4_row14_col18\" class=\"data row14 col18\" >0.460341</td>\n",
       "                        <td id=\"T_02dc4_row14_col19\" class=\"data row14 col19\" >0.448273</td>\n",
       "            </tr>\n",
       "            <tr>\n",
       "                        <th id=\"T_02dc4_level0_row15\" class=\"row_heading level0 row15\" >Population</th>\n",
       "                        <td id=\"T_02dc4_row15_col0\" class=\"data row15 col0\" >0.016969</td>\n",
       "                        <td id=\"T_02dc4_row15_col1\" class=\"data row15 col1\" >-0.021538</td>\n",
       "                        <td id=\"T_02dc4_row15_col2\" class=\"data row15 col2\" >-0.013647</td>\n",
       "                        <td id=\"T_02dc4_row15_col3\" class=\"data row15 col3\" >0.556801</td>\n",
       "                        <td id=\"T_02dc4_row15_col4\" class=\"data row15 col4\" >-0.035252</td>\n",
       "                        <td id=\"T_02dc4_row15_col5\" class=\"data row15 col5\" >-0.025662</td>\n",
       "                        <td id=\"T_02dc4_row15_col6\" class=\"data row15 col6\" >-0.123321</td>\n",
       "                        <td id=\"T_02dc4_row15_col7\" class=\"data row15 col7\" >0.265966</td>\n",
       "                        <td id=\"T_02dc4_row15_col8\" class=\"data row15 col8\" >-0.072301</td>\n",
       "                        <td id=\"T_02dc4_row15_col9\" class=\"data row15 col9\" >0.544423</td>\n",
       "                        <td id=\"T_02dc4_row15_col10\" class=\"data row15 col10\" >-0.038540</td>\n",
       "                        <td id=\"T_02dc4_row15_col11\" class=\"data row15 col11\" >-0.079662</td>\n",
       "                        <td id=\"T_02dc4_row15_col12\" class=\"data row15 col12\" >-0.028444</td>\n",
       "                        <td id=\"T_02dc4_row15_col13\" class=\"data row15 col13\" >-0.027854</td>\n",
       "                        <td id=\"T_02dc4_row15_col14\" class=\"data row15 col14\" >-0.028270</td>\n",
       "                        <td id=\"T_02dc4_row15_col15\" class=\"data row15 col15\" >1.000000</td>\n",
       "                        <td id=\"T_02dc4_row15_col16\" class=\"data row15 col16\" >0.253944</td>\n",
       "                        <td id=\"T_02dc4_row15_col17\" class=\"data row15 col17\" >0.251403</td>\n",
       "                        <td id=\"T_02dc4_row15_col18\" class=\"data row15 col18\" >-0.008735</td>\n",
       "                        <td id=\"T_02dc4_row15_col19\" class=\"data row15 col19\" >-0.031668</td>\n",
       "            </tr>\n",
       "            <tr>\n",
       "                        <th id=\"T_02dc4_level0_row16\" class=\"row_heading level0 row16\" > thinness  1-19 years</th>\n",
       "                        <td id=\"T_02dc4_row16_col0\" class=\"data row16 col0\" >-0.047876</td>\n",
       "                        <td id=\"T_02dc4_row16_col1\" class=\"data row16 col1\" >-0.477183</td>\n",
       "                        <td id=\"T_02dc4_row16_col2\" class=\"data row16 col2\" >0.302904</td>\n",
       "                        <td id=\"T_02dc4_row16_col3\" class=\"data row16 col3\" >0.465711</td>\n",
       "                        <td id=\"T_02dc4_row16_col4\" class=\"data row16 col4\" >-0.428795</td>\n",
       "                        <td id=\"T_02dc4_row16_col5\" class=\"data row16 col5\" >-0.251369</td>\n",
       "                        <td id=\"T_02dc4_row16_col6\" class=\"data row16 col6\" >-0.120429</td>\n",
       "                        <td id=\"T_02dc4_row16_col7\" class=\"data row16 col7\" >0.224808</td>\n",
       "                        <td id=\"T_02dc4_row16_col8\" class=\"data row16 col8\" >-0.532025</td>\n",
       "                        <td id=\"T_02dc4_row16_col9\" class=\"data row16 col9\" >0.467789</td>\n",
       "                        <td id=\"T_02dc4_row16_col10\" class=\"data row16 col10\" >-0.221823</td>\n",
       "                        <td id=\"T_02dc4_row16_col11\" class=\"data row16 col11\" >-0.277101</td>\n",
       "                        <td id=\"T_02dc4_row16_col12\" class=\"data row16 col12\" >-0.229518</td>\n",
       "                        <td id=\"T_02dc4_row16_col13\" class=\"data row16 col13\" >0.204064</td>\n",
       "                        <td id=\"T_02dc4_row16_col14\" class=\"data row16 col14\" >-0.285697</td>\n",
       "                        <td id=\"T_02dc4_row16_col15\" class=\"data row16 col15\" >0.253944</td>\n",
       "                        <td id=\"T_02dc4_row16_col16\" class=\"data row16 col16\" >1.000000</td>\n",
       "                        <td id=\"T_02dc4_row16_col17\" class=\"data row16 col17\" >0.939102</td>\n",
       "                        <td id=\"T_02dc4_row16_col18\" class=\"data row16 col18\" >-0.422429</td>\n",
       "                        <td id=\"T_02dc4_row16_col19\" class=\"data row16 col19\" >-0.471652</td>\n",
       "            </tr>\n",
       "            <tr>\n",
       "                        <th id=\"T_02dc4_level0_row17\" class=\"row_heading level0 row17\" > thinness 5-9 years</th>\n",
       "                        <td id=\"T_02dc4_row17_col0\" class=\"data row17 col0\" >-0.050929</td>\n",
       "                        <td id=\"T_02dc4_row17_col1\" class=\"data row17 col1\" >-0.471584</td>\n",
       "                        <td id=\"T_02dc4_row17_col2\" class=\"data row17 col2\" >0.308457</td>\n",
       "                        <td id=\"T_02dc4_row17_col3\" class=\"data row17 col3\" >0.471350</td>\n",
       "                        <td id=\"T_02dc4_row17_col4\" class=\"data row17 col4\" >-0.417414</td>\n",
       "                        <td id=\"T_02dc4_row17_col5\" class=\"data row17 col5\" >-0.252905</td>\n",
       "                        <td id=\"T_02dc4_row17_col6\" class=\"data row17 col6\" >-0.124960</td>\n",
       "                        <td id=\"T_02dc4_row17_col7\" class=\"data row17 col7\" >0.221072</td>\n",
       "                        <td id=\"T_02dc4_row17_col8\" class=\"data row17 col8\" >-0.538911</td>\n",
       "                        <td id=\"T_02dc4_row17_col9\" class=\"data row17 col9\" >0.472263</td>\n",
       "                        <td id=\"T_02dc4_row17_col10\" class=\"data row17 col10\" >-0.222592</td>\n",
       "                        <td id=\"T_02dc4_row17_col11\" class=\"data row17 col11\" >-0.283774</td>\n",
       "                        <td id=\"T_02dc4_row17_col12\" class=\"data row17 col12\" >-0.222743</td>\n",
       "                        <td id=\"T_02dc4_row17_col13\" class=\"data row17 col13\" >0.207283</td>\n",
       "                        <td id=\"T_02dc4_row17_col14\" class=\"data row17 col14\" >-0.290539</td>\n",
       "                        <td id=\"T_02dc4_row17_col15\" class=\"data row17 col15\" >0.251403</td>\n",
       "                        <td id=\"T_02dc4_row17_col16\" class=\"data row17 col16\" >0.939102</td>\n",
       "                        <td id=\"T_02dc4_row17_col17\" class=\"data row17 col17\" >1.000000</td>\n",
       "                        <td id=\"T_02dc4_row17_col18\" class=\"data row17 col18\" >-0.411053</td>\n",
       "                        <td id=\"T_02dc4_row17_col19\" class=\"data row17 col19\" >-0.460632</td>\n",
       "            </tr>\n",
       "            <tr>\n",
       "                        <th id=\"T_02dc4_level0_row18\" class=\"row_heading level0 row18\" >Income composition of resources</th>\n",
       "                        <td id=\"T_02dc4_row18_col0\" class=\"data row18 col0\" >0.243468</td>\n",
       "                        <td id=\"T_02dc4_row18_col1\" class=\"data row18 col1\" >0.724776</td>\n",
       "                        <td id=\"T_02dc4_row18_col2\" class=\"data row18 col2\" >-0.457626</td>\n",
       "                        <td id=\"T_02dc4_row18_col3\" class=\"data row18 col3\" >-0.145139</td>\n",
       "                        <td id=\"T_02dc4_row18_col4\" class=\"data row18 col4\" >0.450040</td>\n",
       "                        <td id=\"T_02dc4_row18_col5\" class=\"data row18 col5\" >0.381952</td>\n",
       "                        <td id=\"T_02dc4_row18_col6\" class=\"data row18 col6\" >0.199549</td>\n",
       "                        <td id=\"T_02dc4_row18_col7\" class=\"data row18 col7\" >-0.129568</td>\n",
       "                        <td id=\"T_02dc4_row18_col8\" class=\"data row18 col8\" >0.508774</td>\n",
       "                        <td id=\"T_02dc4_row18_col9\" class=\"data row18 col9\" >-0.163305</td>\n",
       "                        <td id=\"T_02dc4_row18_col10\" class=\"data row18 col10\" >0.381078</td>\n",
       "                        <td id=\"T_02dc4_row18_col11\" class=\"data row18 col11\" >0.166682</td>\n",
       "                        <td id=\"T_02dc4_row18_col12\" class=\"data row18 col12\" >0.401456</td>\n",
       "                        <td id=\"T_02dc4_row18_col13\" class=\"data row18 col13\" >-0.249519</td>\n",
       "                        <td id=\"T_02dc4_row18_col14\" class=\"data row18 col14\" >0.460341</td>\n",
       "                        <td id=\"T_02dc4_row18_col15\" class=\"data row18 col15\" >-0.008735</td>\n",
       "                        <td id=\"T_02dc4_row18_col16\" class=\"data row18 col16\" >-0.422429</td>\n",
       "                        <td id=\"T_02dc4_row18_col17\" class=\"data row18 col17\" >-0.411053</td>\n",
       "                        <td id=\"T_02dc4_row18_col18\" class=\"data row18 col18\" >1.000000</td>\n",
       "                        <td id=\"T_02dc4_row18_col19\" class=\"data row18 col19\" >0.800092</td>\n",
       "            </tr>\n",
       "            <tr>\n",
       "                        <th id=\"T_02dc4_level0_row19\" class=\"row_heading level0 row19\" >Schooling</th>\n",
       "                        <td id=\"T_02dc4_row19_col0\" class=\"data row19 col0\" >0.209400</td>\n",
       "                        <td id=\"T_02dc4_row19_col1\" class=\"data row19 col1\" >0.751975</td>\n",
       "                        <td id=\"T_02dc4_row19_col2\" class=\"data row19 col2\" >-0.454612</td>\n",
       "                        <td id=\"T_02dc4_row19_col3\" class=\"data row19 col3\" >-0.193720</td>\n",
       "                        <td id=\"T_02dc4_row19_col4\" class=\"data row19 col4\" >0.547378</td>\n",
       "                        <td id=\"T_02dc4_row19_col5\" class=\"data row19 col5\" >0.389687</td>\n",
       "                        <td id=\"T_02dc4_row19_col6\" class=\"data row19 col6\" >0.231117</td>\n",
       "                        <td id=\"T_02dc4_row19_col7\" class=\"data row19 col7\" >-0.137225</td>\n",
       "                        <td id=\"T_02dc4_row19_col8\" class=\"data row19 col8\" >0.546961</td>\n",
       "                        <td id=\"T_02dc4_row19_col9\" class=\"data row19 col9\" >-0.209373</td>\n",
       "                        <td id=\"T_02dc4_row19_col10\" class=\"data row19 col10\" >0.417866</td>\n",
       "                        <td id=\"T_02dc4_row19_col11\" class=\"data row19 col11\" >0.246384</td>\n",
       "                        <td id=\"T_02dc4_row19_col12\" class=\"data row19 col12\" >0.425332</td>\n",
       "                        <td id=\"T_02dc4_row19_col13\" class=\"data row19 col13\" >-0.220429</td>\n",
       "                        <td id=\"T_02dc4_row19_col14\" class=\"data row19 col14\" >0.448273</td>\n",
       "                        <td id=\"T_02dc4_row19_col15\" class=\"data row19 col15\" >-0.031668</td>\n",
       "                        <td id=\"T_02dc4_row19_col16\" class=\"data row19 col16\" >-0.471652</td>\n",
       "                        <td id=\"T_02dc4_row19_col17\" class=\"data row19 col17\" >-0.460632</td>\n",
       "                        <td id=\"T_02dc4_row19_col18\" class=\"data row19 col18\" >0.800092</td>\n",
       "                        <td id=\"T_02dc4_row19_col19\" class=\"data row19 col19\" >1.000000</td>\n",
       "            </tr>\n",
       "    </tbody></table>"
      ],
      "text/plain": [
       "<pandas.io.formats.style.Styler at 0x7fce22e8cd30>"
      ]
     },
     "execution_count": 6,
     "metadata": {},
     "output_type": "execute_result"
    }
   ],
   "source": [
    "corr = data.corr()\n",
    "corr.style.background_gradient(cmap='coolwarm')"
   ]
  },
  {
   "cell_type": "markdown",
   "metadata": {
    "cell_id": "8b84137b437d44ea9e1af5fffca3ee42",
    "deepnote_app_coordinates": {
     "h": 5,
     "w": 12,
     "x": 0,
     "y": 73
    },
    "deepnote_cell_type": "markdown",
    "tags": []
   },
   "source": [
    "From the heatmap I draw the following conclusions:\n",
    "\n",
    "* `percentage expenditure` and `GDP` are quite highly correlated (0.899370).\n",
    "* `infant deaths` is highly correlated with `under-five deaths` (0.996628), which can tell us that these two variables carry almost identical information.\n",
    "\n",
    "Redundant symptoms are those that carry the same information. In addition to unnecessarily increasing dimensionality, they can be downright harmful to some models, such as the collinearity problem in linear regression. "
   ]
  },
  {
   "cell_type": "code",
   "execution_count": 7,
   "metadata": {
    "cell_id": "f7a4ba4c546e4db5a81cd59e3d716025",
    "deepnote_app_coordinates": {
     "h": 5,
     "w": 12,
     "x": 0,
     "y": 79
    },
    "deepnote_cell_type": "code",
    "deepnote_to_be_reexecuted": false,
    "execution_millis": 61,
    "execution_start": 1670252832186,
    "source_hash": "c5334b80",
    "tags": []
   },
   "outputs": [],
   "source": [
    "data = data.drop('infant deaths', axis=1)"
   ]
  },
  {
   "cell_type": "markdown",
   "metadata": {
    "cell_id": "2b91d0d67dea40b6b8779adade27e72e",
    "deepnote_app_coordinates": {
     "h": 5,
     "w": 12,
     "x": 0,
     "y": 85
    },
    "deepnote_cell_type": "markdown",
    "tags": []
   },
   "source": [
    "* I've tried removing the other attributes with a high correlation, which led to a slight deterioration in the following indicators: `RMSE` and `MAE`. After playing with those attributes, I abandoned the idea of removing the other attributes, stopping at removing the attribute with the highest correlation to the other - `infant deaths`.\n",
    " * By removing this attribute, model prediction became a little higher."
   ]
  },
  {
   "cell_type": "markdown",
   "metadata": {
    "cell_id": "810a1e725fed467aabe088a55eef9f5a",
    "deepnote_app_coordinates": {
     "h": 5,
     "w": 12,
     "x": 0,
     "y": 91
    },
    "deepnote_cell_type": "markdown"
   },
   "source": [
    "### Motivation: Why Is Data Exploration Important?\n",
    "Exploration allows for deeper understanding of a dataset, making it easier to navigate and use the data later. The better we knows the data we’re working with, the better our analysis will be.\n",
    "\n",
    "Now that I understand the meaning of each attribute, I can take a deeper look into the dataset itself, to learn from the distribution of the attributes and their possible relationships and interdependencies."
   ]
  },
  {
   "cell_type": "markdown",
   "metadata": {
    "cell_id": "a2db3e426f3b4ca4a8fcc26542c43a84",
    "deepnote_app_coordinates": {
     "h": 5,
     "w": 12,
     "x": 0,
     "y": 97
    },
    "deepnote_cell_type": "markdown"
   },
   "source": [
    "## Data preparation before using the model"
   ]
  },
  {
   "cell_type": "markdown",
   "metadata": {
    "cell_id": "5564d48ddf504d7aa1c0acc3b8a6c90c",
    "deepnote_app_coordinates": {
     "h": 5,
     "w": 12,
     "x": 0,
     "y": 103
    },
    "deepnote_cell_type": "markdown"
   },
   "source": [
    "### Rename keys"
   ]
  },
  {
   "cell_type": "code",
   "execution_count": 8,
   "metadata": {
    "cell_id": "3d3611a4c1694dfd8fc0f82e40566d82",
    "deepnote_app_coordinates": {
     "h": 5,
     "w": 12,
     "x": 0,
     "y": 109
    },
    "deepnote_cell_type": "code",
    "deepnote_to_be_reexecuted": false,
    "execution_millis": 26,
    "execution_start": 1670252832250,
    "source_hash": "b3f31f0a"
   },
   "outputs": [
    {
     "data": {
      "text/plain": [
       "Index(['Country', 'Year', 'Status', 'Life expectancy ', 'Adult Mortality',\n",
       "       'Alcohol', 'percentage expenditure', 'Hepatitis B', 'Measles ', ' BMI ',\n",
       "       'under-five deaths ', 'Polio', 'Total expenditure', 'Diphtheria ',\n",
       "       ' HIV/AIDS', 'GDP', 'Population', ' thinness  1-19 years',\n",
       "       ' thinness 5-9 years', 'Income composition of resources', 'Schooling'],\n",
       "      dtype='object')"
      ]
     },
     "execution_count": 8,
     "metadata": {},
     "output_type": "execute_result"
    }
   ],
   "source": [
    "data.keys()"
   ]
  },
  {
   "cell_type": "markdown",
   "metadata": {
    "cell_id": "d0a88d66aa9d46c9bd99738490285d11",
    "deepnote_app_coordinates": {
     "h": 5,
     "w": 12,
     "x": 0,
     "y": 115
    },
    "deepnote_cell_type": "markdown"
   },
   "source": [
    "I see that the key names are written with spaces, so I change the keys by removing the spaces.\n",
    "Also, some keys start with a small letter, which is out of place in the general style of key writing."
   ]
  },
  {
   "cell_type": "code",
   "execution_count": 9,
   "metadata": {
    "cell_id": "c0187c311fd34289a0c2a11561464df0",
    "deepnote_app_coordinates": {
     "h": 5,
     "w": 12,
     "x": 0,
     "y": 121
    },
    "deepnote_cell_type": "code",
    "deepnote_to_be_reexecuted": false,
    "execution_millis": 1,
    "execution_start": 1670252832251,
    "source_hash": "a2066273"
   },
   "outputs": [],
   "source": [
    "data.rename(columns = {'Life expectancy ':'Life expectancy',\n",
    "                       'infant deaths':'Infant deaths',\n",
    "                       'percentage expenditure':'Percentage expenditure',\n",
    "                       'Measles ':'Measles',\n",
    "                       ' BMI ':'BMI',\n",
    "                       'under-five deaths ':'Under-five deaths',\n",
    "                       'Diphtheria ':'Diphtheria',\n",
    "                       ' HIV/AIDS':'HIV/AIDS',\n",
    "                       ' thinness  1-19 years':'Thinness 1-19 years',\n",
    "                       ' thinness 5-9 years':'Thinness 5-9 years'\n",
    "                       }, inplace = True)"
   ]
  },
  {
   "cell_type": "code",
   "execution_count": 10,
   "metadata": {
    "cell_id": "806fecd3826a44688ae09ea0a3b073a5",
    "deepnote_app_coordinates": {
     "h": 5,
     "w": 12,
     "x": 0,
     "y": 127
    },
    "deepnote_cell_type": "code",
    "deepnote_to_be_reexecuted": false,
    "execution_millis": 25,
    "execution_start": 1670252832252,
    "source_hash": "b3f31f0a"
   },
   "outputs": [
    {
     "data": {
      "text/plain": [
       "Index(['Country', 'Year', 'Status', 'Life expectancy', 'Adult Mortality',\n",
       "       'Alcohol', 'Percentage expenditure', 'Hepatitis B', 'Measles', 'BMI',\n",
       "       'Under-five deaths', 'Polio', 'Total expenditure', 'Diphtheria',\n",
       "       'HIV/AIDS', 'GDP', 'Population', 'Thinness 1-19 years',\n",
       "       'Thinness 5-9 years', 'Income composition of resources', 'Schooling'],\n",
       "      dtype='object')"
      ]
     },
     "execution_count": 10,
     "metadata": {},
     "output_type": "execute_result"
    }
   ],
   "source": [
    "data.keys()"
   ]
  },
  {
   "cell_type": "markdown",
   "metadata": {
    "cell_id": "b6bc09e2f9514c3cbc4abd7160f2382d",
    "deepnote_app_coordinates": {
     "h": 5,
     "w": 12,
     "x": 0,
     "y": 133
    },
    "deepnote_cell_type": "markdown"
   },
   "source": [
    "### Small overview\n",
    "#### Function to represent the amount and percentage of missing data.\n",
    "was taken from the site https://www.kaggle.com/code/omniasaeed/life-expectancy-visualization-part-ii#Plotting"
   ]
  },
  {
   "cell_type": "code",
   "execution_count": 11,
   "metadata": {
    "cell_id": "c4c8ef15e3dc43818649b289a950d131",
    "deepnote_app_coordinates": {
     "h": 5,
     "w": 12,
     "x": 0,
     "y": 139
    },
    "deepnote_cell_type": "code",
    "deepnote_to_be_reexecuted": false,
    "execution_millis": 82,
    "execution_start": 1670252832275,
    "source_hash": "69e30fc6"
   },
   "outputs": [
    {
     "name": "stdout",
     "output_type": "stream",
     "text": [
      "Number of columns with missing values: 14\n",
      "                         ColumnName  TotalMissingVals  PercentMissing\n",
      "0                           Country               0.0            0.00\n",
      "1                              Year               0.0            0.00\n",
      "2                            Status               0.0            0.00\n",
      "3                   Life expectancy              10.0            0.34\n",
      "4                   Adult Mortality              10.0            0.34\n",
      "5                           Alcohol             194.0            6.60\n",
      "6            Percentage expenditure               0.0            0.00\n",
      "7                       Hepatitis B             553.0           18.82\n",
      "8                           Measles               0.0            0.00\n",
      "9                               BMI              34.0            1.16\n",
      "10                Under-five deaths               0.0            0.00\n",
      "11                            Polio              19.0            0.65\n",
      "12                Total expenditure             226.0            7.69\n",
      "13                       Diphtheria              19.0            0.65\n",
      "14                         HIV/AIDS               0.0            0.00\n",
      "15                              GDP             448.0           15.25\n",
      "16                       Population             652.0           22.19\n",
      "17              Thinness 1-19 years              34.0            1.16\n",
      "18               Thinness 5-9 years              34.0            1.16\n",
      "19  Income composition of resources             167.0            5.68\n",
      "20                        Schooling             163.0            5.55\n"
     ]
    }
   ],
   "source": [
    "def find_missing_percent(data):\n",
    "\n",
    "    miss_df = pd.DataFrame({'ColumnName':[],'TotalMissingVals':[],'PercentMissing':[]})\n",
    "    for col in data.columns:\n",
    "        sum_miss_val = data[col].isnull().sum()\n",
    "        percent_miss_val = round((sum_miss_val/data.shape[0])*100,2)\n",
    "        miss_df = miss_df.append(dict(zip(miss_df.columns,[col,sum_miss_val,percent_miss_val])),ignore_index=True)\n",
    "    return miss_df\n",
    "\n",
    "miss_data = find_missing_percent(data)\n",
    "print(f\"Number of columns with missing values: {str(miss_data[miss_data['PercentMissing']>0.0].shape[0])}\")\n",
    "\n",
    "print(miss_data)"
   ]
  },
  {
   "cell_type": "markdown",
   "metadata": {
    "cell_id": "abaca4b7ebe14584895b38c7cec27c86",
    "deepnote_app_coordinates": {
     "h": 5,
     "w": 12,
     "x": 0,
     "y": 145
    },
    "deepnote_cell_type": "markdown"
   },
   "source": [
    "### Remove data points from the dataset for which there is no explained variable."
   ]
  },
  {
   "cell_type": "code",
   "execution_count": 12,
   "metadata": {
    "cell_id": "ec74b6aedd0643a495813578a5ae9247",
    "deepnote_app_coordinates": {
     "h": 5,
     "w": 12,
     "x": 0,
     "y": 151
    },
    "deepnote_cell_type": "code",
    "deepnote_to_be_reexecuted": false,
    "execution_millis": 6,
    "execution_start": 1670252832363,
    "source_hash": "da3a9c5a"
   },
   "outputs": [
    {
     "data": {
      "text/plain": [
       "10"
      ]
     },
     "execution_count": 12,
     "metadata": {},
     "output_type": "execute_result"
    }
   ],
   "source": [
    "data['Life expectancy'].isna().sum()"
   ]
  },
  {
   "cell_type": "code",
   "execution_count": 13,
   "metadata": {
    "cell_id": "de7db24d1b8a4014a1f976c3ba810f1d",
    "deepnote_app_coordinates": {
     "h": 5,
     "w": 12,
     "x": 0,
     "y": 157
    },
    "deepnote_cell_type": "code",
    "deepnote_to_be_reexecuted": false,
    "execution_millis": 125,
    "execution_start": 1670252832370,
    "source_hash": "d8d3cf29"
   },
   "outputs": [
    {
     "data": {
      "application/vnd.deepnote.dataframe.v3+json": {
       "column_count": 21,
       "columns": [
        {
         "dtype": "object",
         "name": "Country",
         "stats": {
          "categories": [
           {
            "count": 1,
            "name": "Cook Islands"
           },
           {
            "count": 1,
            "name": "Dominica"
           },
           {
            "count": 8,
            "name": "8 others"
           }
          ],
          "nan_count": 0,
          "unique_count": 10
         }
        },
        {
         "dtype": "int64",
         "name": "Year",
         "stats": {
          "histogram": [
           {
            "bin_end": 2012.6,
            "bin_start": 2012.5,
            "count": 0
           },
           {
            "bin_end": 2012.7,
            "bin_start": 2012.6,
            "count": 0
           },
           {
            "bin_end": 2012.8,
            "bin_start": 2012.7,
            "count": 0
           },
           {
            "bin_end": 2012.9,
            "bin_start": 2012.8,
            "count": 0
           },
           {
            "bin_end": 2013,
            "bin_start": 2012.9,
            "count": 0
           },
           {
            "bin_end": 2013.1,
            "bin_start": 2013,
            "count": 10
           },
           {
            "bin_end": 2013.2,
            "bin_start": 2013.1,
            "count": 0
           },
           {
            "bin_end": 2013.3,
            "bin_start": 2013.2,
            "count": 0
           },
           {
            "bin_end": 2013.4,
            "bin_start": 2013.3,
            "count": 0
           },
           {
            "bin_end": 2013.5,
            "bin_start": 2013.4,
            "count": 0
           }
          ],
          "max": "2013",
          "min": "2013",
          "nan_count": 0,
          "unique_count": 1
         }
        },
        {
         "dtype": "object",
         "name": "Status",
         "stats": {
          "categories": [
           {
            "count": 10,
            "name": "Developing"
           }
          ],
          "nan_count": 0,
          "unique_count": 1
         }
        },
        {
         "dtype": "float64",
         "name": "Life expectancy",
         "stats": {
          "histogram": [
           {
            "bin_end": 0.1,
            "bin_start": 0,
            "count": 0
           },
           {
            "bin_end": 0.2,
            "bin_start": 0.1,
            "count": 0
           },
           {
            "bin_end": 0.30000000000000004,
            "bin_start": 0.2,
            "count": 0
           },
           {
            "bin_end": 0.4,
            "bin_start": 0.30000000000000004,
            "count": 0
           },
           {
            "bin_end": 0.5,
            "bin_start": 0.4,
            "count": 0
           },
           {
            "bin_end": 0.6000000000000001,
            "bin_start": 0.5,
            "count": 0
           },
           {
            "bin_end": 0.7000000000000001,
            "bin_start": 0.6000000000000001,
            "count": 0
           },
           {
            "bin_end": 0.8,
            "bin_start": 0.7000000000000001,
            "count": 0
           },
           {
            "bin_end": 0.9,
            "bin_start": 0.8,
            "count": 0
           },
           {
            "bin_end": 1,
            "bin_start": 0.9,
            "count": 0
           }
          ],
          "max": null,
          "min": null,
          "nan_count": 10,
          "unique_count": 0
         }
        },
        {
         "dtype": "float64",
         "name": "Adult Mortality",
         "stats": {
          "histogram": [
           {
            "bin_end": 0.1,
            "bin_start": 0,
            "count": 0
           },
           {
            "bin_end": 0.2,
            "bin_start": 0.1,
            "count": 0
           },
           {
            "bin_end": 0.30000000000000004,
            "bin_start": 0.2,
            "count": 0
           },
           {
            "bin_end": 0.4,
            "bin_start": 0.30000000000000004,
            "count": 0
           },
           {
            "bin_end": 0.5,
            "bin_start": 0.4,
            "count": 0
           },
           {
            "bin_end": 0.6000000000000001,
            "bin_start": 0.5,
            "count": 0
           },
           {
            "bin_end": 0.7000000000000001,
            "bin_start": 0.6000000000000001,
            "count": 0
           },
           {
            "bin_end": 0.8,
            "bin_start": 0.7000000000000001,
            "count": 0
           },
           {
            "bin_end": 0.9,
            "bin_start": 0.8,
            "count": 0
           },
           {
            "bin_end": 1,
            "bin_start": 0.9,
            "count": 0
           }
          ],
          "max": null,
          "min": null,
          "nan_count": 10,
          "unique_count": 0
         }
        },
        {
         "dtype": "float64",
         "name": "Alcohol",
         "stats": {
          "histogram": [
           {
            "bin_end": 0.863,
            "bin_start": 0.01,
            "count": 8
           },
           {
            "bin_end": 1.716,
            "bin_start": 0.863,
            "count": 0
           },
           {
            "bin_end": 2.569,
            "bin_start": 1.716,
            "count": 0
           },
           {
            "bin_end": 3.4219999999999997,
            "bin_start": 2.569,
            "count": 0
           },
           {
            "bin_end": 4.2749999999999995,
            "bin_start": 3.4219999999999997,
            "count": 0
           },
           {
            "bin_end": 5.128,
            "bin_start": 4.2749999999999995,
            "count": 0
           },
           {
            "bin_end": 5.981,
            "bin_start": 5.128,
            "count": 0
           },
           {
            "bin_end": 6.834,
            "bin_start": 5.981,
            "count": 0
           },
           {
            "bin_end": 7.686999999999999,
            "bin_start": 6.834,
            "count": 0
           },
           {
            "bin_end": 8.54,
            "bin_start": 7.686999999999999,
            "count": 1
           }
          ],
          "max": "8.54",
          "min": "0.01",
          "nan_count": 1,
          "unique_count": 2
         }
        },
        {
         "dtype": "float64",
         "name": "Percentage expenditure",
         "stats": {
          "histogram": [
           {
            "bin_end": 87.18783173,
            "bin_start": 0,
            "count": 8
           },
           {
            "bin_end": 174.37566346,
            "bin_start": 87.18783173,
            "count": 0
           },
           {
            "bin_end": 261.56349519,
            "bin_start": 174.37566346,
            "count": 0
           },
           {
            "bin_end": 348.75132692,
            "bin_start": 261.56349519,
            "count": 1
           },
           {
            "bin_end": 435.93915864999997,
            "bin_start": 348.75132692,
            "count": 0
           },
           {
            "bin_end": 523.12699038,
            "bin_start": 435.93915864999997,
            "count": 0
           },
           {
            "bin_end": 610.31482211,
            "bin_start": 523.12699038,
            "count": 0
           },
           {
            "bin_end": 697.50265384,
            "bin_start": 610.31482211,
            "count": 0
           },
           {
            "bin_end": 784.69048557,
            "bin_start": 697.50265384,
            "count": 0
           },
           {
            "bin_end": 871.8783173,
            "bin_start": 784.69048557,
            "count": 1
           }
          ],
          "max": "871.8783173",
          "min": "0.0",
          "nan_count": 0,
          "unique_count": 6
         }
        },
        {
         "dtype": "float64",
         "name": "Hepatitis B",
         "stats": {
          "histogram": [
           {
            "bin_end": 17.1,
            "bin_start": 8,
            "count": 2
           },
           {
            "bin_end": 26.2,
            "bin_start": 17.1,
            "count": 0
           },
           {
            "bin_end": 35.3,
            "bin_start": 26.2,
            "count": 0
           },
           {
            "bin_end": 44.4,
            "bin_start": 35.3,
            "count": 0
           },
           {
            "bin_end": 53.5,
            "bin_start": 44.4,
            "count": 0
           },
           {
            "bin_end": 62.599999999999994,
            "bin_start": 53.5,
            "count": 0
           },
           {
            "bin_end": 71.69999999999999,
            "bin_start": 62.599999999999994,
            "count": 1
           },
           {
            "bin_end": 80.8,
            "bin_start": 71.69999999999999,
            "count": 0
           },
           {
            "bin_end": 89.89999999999999,
            "bin_start": 80.8,
            "count": 1
           },
           {
            "bin_end": 99,
            "bin_start": 89.89999999999999,
            "count": 6
           }
          ],
          "max": "99.0",
          "min": "8.0",
          "nan_count": 0,
          "unique_count": 8
         }
        },
        {
         "dtype": "int64",
         "name": "Measles",
         "stats": {
          "histogram": [
           {
            "bin_end": -0.4,
            "bin_start": -0.5,
            "count": 0
           },
           {
            "bin_end": -0.3,
            "bin_start": -0.4,
            "count": 0
           },
           {
            "bin_end": -0.19999999999999996,
            "bin_start": -0.3,
            "count": 0
           },
           {
            "bin_end": -0.09999999999999998,
            "bin_start": -0.19999999999999996,
            "count": 0
           },
           {
            "bin_end": 0,
            "bin_start": -0.09999999999999998,
            "count": 0
           },
           {
            "bin_end": 0.10000000000000009,
            "bin_start": 0,
            "count": 10
           },
           {
            "bin_end": 0.20000000000000007,
            "bin_start": 0.10000000000000009,
            "count": 0
           },
           {
            "bin_end": 0.30000000000000004,
            "bin_start": 0.20000000000000007,
            "count": 0
           },
           {
            "bin_end": 0.4,
            "bin_start": 0.30000000000000004,
            "count": 0
           },
           {
            "bin_end": 0.5,
            "bin_start": 0.4,
            "count": 0
           }
          ],
          "max": "0",
          "min": "0",
          "nan_count": 0,
          "unique_count": 1
         }
        },
        {
         "dtype": "float64",
         "name": "BMI",
         "stats": {
          "histogram": [
           {
            "bin_end": 13.41,
            "bin_start": 5.2,
            "count": 1
           },
           {
            "bin_end": 21.619999999999997,
            "bin_start": 13.41,
            "count": 0
           },
           {
            "bin_end": 29.829999999999995,
            "bin_start": 21.619999999999997,
            "count": 0
           },
           {
            "bin_end": 38.04,
            "bin_start": 29.829999999999995,
            "count": 0
           },
           {
            "bin_end": 46.25,
            "bin_start": 38.04,
            "count": 0
           },
           {
            "bin_end": 54.459999999999994,
            "bin_start": 46.25,
            "count": 0
           },
           {
            "bin_end": 62.669999999999995,
            "bin_start": 54.459999999999994,
            "count": 1
           },
           {
            "bin_end": 70.88,
            "bin_start": 62.669999999999995,
            "count": 0
           },
           {
            "bin_end": 79.08999999999999,
            "bin_start": 70.88,
            "count": 1
           },
           {
            "bin_end": 87.3,
            "bin_start": 79.08999999999999,
            "count": 5
           }
          ],
          "max": "87.3",
          "min": "5.2",
          "nan_count": 2,
          "unique_count": 8
         }
        },
        {
         "dtype": "int64",
         "name": "Under-five deaths",
         "stats": {
          "histogram": [
           {
            "bin_end": -0.4,
            "bin_start": -0.5,
            "count": 0
           },
           {
            "bin_end": -0.3,
            "bin_start": -0.4,
            "count": 0
           },
           {
            "bin_end": -0.19999999999999996,
            "bin_start": -0.3,
            "count": 0
           },
           {
            "bin_end": -0.09999999999999998,
            "bin_start": -0.19999999999999996,
            "count": 0
           },
           {
            "bin_end": 0,
            "bin_start": -0.09999999999999998,
            "count": 0
           },
           {
            "bin_end": 0.10000000000000009,
            "bin_start": 0,
            "count": 10
           },
           {
            "bin_end": 0.20000000000000007,
            "bin_start": 0.10000000000000009,
            "count": 0
           },
           {
            "bin_end": 0.30000000000000004,
            "bin_start": 0.20000000000000007,
            "count": 0
           },
           {
            "bin_end": 0.4,
            "bin_start": 0.30000000000000004,
            "count": 0
           },
           {
            "bin_end": 0.5,
            "bin_start": 0.4,
            "count": 0
           }
          ],
          "max": "0",
          "min": "0",
          "nan_count": 0,
          "unique_count": 1
         }
        },
        {
         "dtype": "float64",
         "name": "Polio",
         "stats": {
          "histogram": [
           {
            "bin_end": 18,
            "bin_start": 9,
            "count": 1
           },
           {
            "bin_end": 27,
            "bin_start": 18,
            "count": 0
           },
           {
            "bin_end": 36,
            "bin_start": 27,
            "count": 0
           },
           {
            "bin_end": 45,
            "bin_start": 36,
            "count": 0
           },
           {
            "bin_end": 54,
            "bin_start": 45,
            "count": 0
           },
           {
            "bin_end": 63,
            "bin_start": 54,
            "count": 0
           },
           {
            "bin_end": 72,
            "bin_start": 63,
            "count": 1
           },
           {
            "bin_end": 81,
            "bin_start": 72,
            "count": 1
           },
           {
            "bin_end": 90,
            "bin_start": 81,
            "count": 1
           },
           {
            "bin_end": 99,
            "bin_start": 90,
            "count": 6
           }
          ],
          "max": "99.0",
          "min": "9.0",
          "nan_count": 0,
          "unique_count": 7
         }
        },
        {
         "dtype": "float64",
         "name": "Total expenditure",
         "stats": {
          "histogram": [
           {
            "bin_end": 4.946,
            "bin_start": 3.58,
            "count": 3
           },
           {
            "bin_end": 6.311999999999999,
            "bin_start": 4.946,
            "count": 2
           },
           {
            "bin_end": 7.678,
            "bin_start": 6.311999999999999,
            "count": 2
           },
           {
            "bin_end": 9.044,
            "bin_start": 7.678,
            "count": 0
           },
           {
            "bin_end": 10.41,
            "bin_start": 9.044,
            "count": 1
           },
           {
            "bin_end": 11.776,
            "bin_start": 10.41,
            "count": 0
           },
           {
            "bin_end": 13.142,
            "bin_start": 11.776,
            "count": 0
           },
           {
            "bin_end": 14.508,
            "bin_start": 13.142,
            "count": 0
           },
           {
            "bin_end": 15.873999999999999,
            "bin_start": 14.508,
            "count": 0
           },
           {
            "bin_end": 17.24,
            "bin_start": 15.873999999999999,
            "count": 2
           }
          ],
          "max": "17.24",
          "min": "3.58",
          "nan_count": 0,
          "unique_count": 10
         }
        },
        {
         "dtype": "float64",
         "name": "Diphtheria",
         "stats": {
          "histogram": [
           {
            "bin_end": 18,
            "bin_start": 9,
            "count": 1
           },
           {
            "bin_end": 27,
            "bin_start": 18,
            "count": 0
           },
           {
            "bin_end": 36,
            "bin_start": 27,
            "count": 0
           },
           {
            "bin_end": 45,
            "bin_start": 36,
            "count": 0
           },
           {
            "bin_end": 54,
            "bin_start": 45,
            "count": 0
           },
           {
            "bin_end": 63,
            "bin_start": 54,
            "count": 0
           },
           {
            "bin_end": 72,
            "bin_start": 63,
            "count": 1
           },
           {
            "bin_end": 81,
            "bin_start": 72,
            "count": 1
           },
           {
            "bin_end": 90,
            "bin_start": 81,
            "count": 1
           },
           {
            "bin_end": 99,
            "bin_start": 90,
            "count": 6
           }
          ],
          "max": "99.0",
          "min": "9.0",
          "nan_count": 0,
          "unique_count": 7
         }
        },
        {
         "dtype": "float64",
         "name": "HIV/AIDS",
         "stats": {
          "histogram": [
           {
            "bin_end": -0.30000000000000004,
            "bin_start": -0.4,
            "count": 0
           },
           {
            "bin_end": -0.2,
            "bin_start": -0.30000000000000004,
            "count": 0
           },
           {
            "bin_end": -0.09999999999999998,
            "bin_start": -0.2,
            "count": 0
           },
           {
            "bin_end": 0,
            "bin_start": -0.09999999999999998,
            "count": 0
           },
           {
            "bin_end": 0.09999999999999998,
            "bin_start": 0,
            "count": 0
           },
           {
            "bin_end": 0.20000000000000007,
            "bin_start": 0.09999999999999998,
            "count": 10
           },
           {
            "bin_end": 0.30000000000000004,
            "bin_start": 0.20000000000000007,
            "count": 0
           },
           {
            "bin_end": 0.4,
            "bin_start": 0.30000000000000004,
            "count": 0
           },
           {
            "bin_end": 0.5,
            "bin_start": 0.4,
            "count": 0
           },
           {
            "bin_end": 0.6,
            "bin_start": 0.5,
            "count": 0
           }
          ],
          "max": "0.1",
          "min": "0.1",
          "nan_count": 0,
          "unique_count": 1
         }
        },
        {
         "dtype": "float64",
         "name": "GDP",
         "stats": {
          "histogram": [
           {
            "bin_end": 484.34012440000004,
            "bin_start": 136.18321,
            "count": 1
           },
           {
            "bin_end": 832.4970388,
            "bin_start": 484.34012440000004,
            "count": 1
           },
           {
            "bin_end": 1180.6539532,
            "bin_start": 832.4970388,
            "count": 0
           },
           {
            "bin_end": 1528.8108676,
            "bin_start": 1180.6539532,
            "count": 0
           },
           {
            "bin_end": 1876.967782,
            "bin_start": 1528.8108676,
            "count": 0
           },
           {
            "bin_end": 2225.1246964,
            "bin_start": 1876.967782,
            "count": 1
           },
           {
            "bin_end": 2573.2816108,
            "bin_start": 2225.1246964,
            "count": 0
           },
           {
            "bin_end": 2921.4385252,
            "bin_start": 2573.2816108,
            "count": 0
           },
           {
            "bin_end": 3269.5954396,
            "bin_start": 2921.4385252,
            "count": 0
           },
           {
            "bin_end": 3617.752354,
            "bin_start": 3269.5954396,
            "count": 2
           }
          ],
          "max": "3617.752354",
          "min": "136.18321",
          "nan_count": 5,
          "unique_count": 5
         }
        },
        {
         "dtype": "float64",
         "name": "Population",
         "stats": {
          "histogram": [
           {
            "bin_end": 444.7,
            "bin_start": 292,
            "count": 1
           },
           {
            "bin_end": 597.4,
            "bin_start": 444.7,
            "count": 0
           },
           {
            "bin_end": 750.0999999999999,
            "bin_start": 597.4,
            "count": 0
           },
           {
            "bin_end": 902.8,
            "bin_start": 750.0999999999999,
            "count": 0
           },
           {
            "bin_end": 1055.5,
            "bin_start": 902.8,
            "count": 0
           },
           {
            "bin_end": 1208.1999999999998,
            "bin_start": 1055.5,
            "count": 0
           },
           {
            "bin_end": 1360.8999999999999,
            "bin_start": 1208.1999999999998,
            "count": 0
           },
           {
            "bin_end": 1513.6,
            "bin_start": 1360.8999999999999,
            "count": 0
           },
           {
            "bin_end": 1666.3,
            "bin_start": 1513.6,
            "count": 0
           },
           {
            "bin_end": 1819,
            "bin_start": 1666.3,
            "count": 1
           }
          ],
          "max": "1819.0",
          "min": "292.0",
          "nan_count": 8,
          "unique_count": 2
         }
        },
        {
         "dtype": "float64",
         "name": "Thinness 1-19 years",
         "stats": {
          "histogram": [
           {
            "bin_end": 0.45999999999999996,
            "bin_start": 0.1,
            "count": 6
           },
           {
            "bin_end": 0.82,
            "bin_start": 0.45999999999999996,
            "count": 0
           },
           {
            "bin_end": 1.1800000000000002,
            "bin_start": 0.82,
            "count": 0
           },
           {
            "bin_end": 1.54,
            "bin_start": 1.1800000000000002,
            "count": 0
           },
           {
            "bin_end": 1.9,
            "bin_start": 1.54,
            "count": 0
           },
           {
            "bin_end": 2.2600000000000002,
            "bin_start": 1.9,
            "count": 0
           },
           {
            "bin_end": 2.62,
            "bin_start": 2.2600000000000002,
            "count": 0
           },
           {
            "bin_end": 2.98,
            "bin_start": 2.62,
            "count": 1
           },
           {
            "bin_end": 3.34,
            "bin_start": 2.98,
            "count": 0
           },
           {
            "bin_end": 3.7,
            "bin_start": 3.34,
            "count": 1
           }
          ],
          "max": "3.7",
          "min": "0.1",
          "nan_count": 2,
          "unique_count": 4
         }
        },
        {
         "dtype": "float64",
         "name": "Thinness 5-9 years",
         "stats": {
          "histogram": [
           {
            "bin_end": 0.44999999999999996,
            "bin_start": 0.1,
            "count": 6
           },
           {
            "bin_end": 0.7999999999999999,
            "bin_start": 0.44999999999999996,
            "count": 0
           },
           {
            "bin_end": 1.15,
            "bin_start": 0.7999999999999999,
            "count": 0
           },
           {
            "bin_end": 1.5,
            "bin_start": 1.15,
            "count": 0
           },
           {
            "bin_end": 1.85,
            "bin_start": 1.5,
            "count": 0
           },
           {
            "bin_end": 2.1999999999999997,
            "bin_start": 1.85,
            "count": 0
           },
           {
            "bin_end": 2.55,
            "bin_start": 2.1999999999999997,
            "count": 0
           },
           {
            "bin_end": 2.9,
            "bin_start": 2.55,
            "count": 1
           },
           {
            "bin_end": 3.25,
            "bin_start": 2.9,
            "count": 0
           },
           {
            "bin_end": 3.6,
            "bin_start": 3.25,
            "count": 1
           }
          ],
          "max": "3.6",
          "min": "0.1",
          "nan_count": 2,
          "unique_count": 3
         }
        },
        {
         "dtype": "float64",
         "name": "Income composition of resources",
         "stats": {
          "histogram": [
           {
            "bin_end": 0.7268,
            "bin_start": 0.721,
            "count": 1
           },
           {
            "bin_end": 0.7326,
            "bin_start": 0.7268,
            "count": 0
           },
           {
            "bin_end": 0.7384,
            "bin_start": 0.7326,
            "count": 0
           },
           {
            "bin_end": 0.7442,
            "bin_start": 0.7384,
            "count": 0
           },
           {
            "bin_end": 0.75,
            "bin_start": 0.7442,
            "count": 1
           },
           {
            "bin_end": 0.7558,
            "bin_start": 0.75,
            "count": 0
           },
           {
            "bin_end": 0.7616,
            "bin_start": 0.7558,
            "count": 0
           },
           {
            "bin_end": 0.7674,
            "bin_start": 0.7616,
            "count": 0
           },
           {
            "bin_end": 0.7732,
            "bin_start": 0.7674,
            "count": 0
           },
           {
            "bin_end": 0.779,
            "bin_start": 0.7732,
            "count": 1
           }
          ],
          "max": "0.779",
          "min": "0.721",
          "nan_count": 7,
          "unique_count": 3
         }
        },
        {
         "dtype": "float64",
         "name": "Schooling",
         "stats": {
          "histogram": [
           {
            "bin_end": 1.51,
            "bin_start": 0,
            "count": 2
           },
           {
            "bin_end": 3.02,
            "bin_start": 1.51,
            "count": 0
           },
           {
            "bin_end": 4.53,
            "bin_start": 3.02,
            "count": 0
           },
           {
            "bin_end": 6.04,
            "bin_start": 4.53,
            "count": 0
           },
           {
            "bin_end": 7.55,
            "bin_start": 6.04,
            "count": 0
           },
           {
            "bin_end": 9.06,
            "bin_start": 7.55,
            "count": 0
           },
           {
            "bin_end": 10.57,
            "bin_start": 9.06,
            "count": 1
           },
           {
            "bin_end": 12.08,
            "bin_start": 10.57,
            "count": 0
           },
           {
            "bin_end": 13.59,
            "bin_start": 12.08,
            "count": 2
           },
           {
            "bin_end": 15.1,
            "bin_start": 13.59,
            "count": 2
           }
          ],
          "max": "15.1",
          "min": "0.0",
          "nan_count": 3,
          "unique_count": 6
         }
        },
        {
         "dtype": "int64",
         "name": "_deepnote_index_column"
        }
       ],
       "row_count": 10,
       "rows": [
        {
         "Adult Mortality": "nan",
         "Alcohol": "0.01",
         "BMI": "82.8",
         "Country": "Cook Islands",
         "Diphtheria": "98.0",
         "GDP": "nan",
         "HIV/AIDS": "0.1",
         "Hepatitis B": "98.0",
         "Income composition of resources": "nan",
         "Life expectancy": "nan",
         "Measles": "0",
         "Percentage expenditure": "0.0",
         "Polio": "98.0",
         "Population": "nan",
         "Schooling": "nan",
         "Status": "Developing",
         "Thinness 1-19 years": "0.1",
         "Thinness 5-9 years": "0.1",
         "Total expenditure": "3.58",
         "Under-five deaths": "0",
         "Year": "2013",
         "_deepnote_index_column": "624"
        },
        {
         "Adult Mortality": "nan",
         "Alcohol": "0.01",
         "BMI": "58.4",
         "Country": "Dominica",
         "Diphtheria": "96.0",
         "GDP": "722.75665",
         "HIV/AIDS": "0.1",
         "Hepatitis B": "96.0",
         "Income composition of resources": "0.721",
         "Life expectancy": "nan",
         "Measles": "0",
         "Percentage expenditure": "11.41955507",
         "Polio": "96.0",
         "Population": "nan",
         "Schooling": "12.7",
         "Status": "Developing",
         "Thinness 1-19 years": "2.7",
         "Thinness 5-9 years": "2.6",
         "Total expenditure": "5.58",
         "Under-five deaths": "0",
         "Year": "2013",
         "_deepnote_index_column": "769"
        },
        {
         "Adult Mortality": "nan",
         "Alcohol": "0.01",
         "BMI": "81.6",
         "Country": "Marshall Islands",
         "Diphtheria": "79.0",
         "GDP": "3617.752354",
         "HIV/AIDS": "0.1",
         "Hepatitis B": "8.0",
         "Income composition of resources": "nan",
         "Life expectancy": "nan",
         "Measles": "0",
         "Percentage expenditure": "871.8783173",
         "Polio": "79.0",
         "Population": "nan",
         "Schooling": "0.0",
         "Status": "Developing",
         "Thinness 1-19 years": "0.1",
         "Thinness 5-9 years": "0.1",
         "Total expenditure": "17.24",
         "Under-five deaths": "0",
         "Year": "2013",
         "_deepnote_index_column": "1650"
        },
        {
         "Adult Mortality": "nan",
         "Alcohol": "0.01",
         "BMI": "nan",
         "Country": "Monaco",
         "Diphtheria": "99.0",
         "GDP": "nan",
         "HIV/AIDS": "0.1",
         "Hepatitis B": "99.0",
         "Income composition of resources": "nan",
         "Life expectancy": "nan",
         "Measles": "0",
         "Percentage expenditure": "0.0",
         "Polio": "99.0",
         "Population": "nan",
         "Schooling": "nan",
         "Status": "Developing",
         "Thinness 1-19 years": "nan",
         "Thinness 5-9 years": "nan",
         "Total expenditure": "4.3",
         "Under-five deaths": "0",
         "Year": "2013",
         "_deepnote_index_column": "1715"
        },
        {
         "Adult Mortality": "nan",
         "Alcohol": "0.01",
         "BMI": "87.3",
         "Country": "Nauru",
         "Diphtheria": "87.0",
         "GDP": "136.18321",
         "HIV/AIDS": "0.1",
         "Hepatitis B": "87.0",
         "Income composition of resources": "nan",
         "Life expectancy": "nan",
         "Measles": "0",
         "Percentage expenditure": "15.60659587",
         "Polio": "87.0",
         "Population": "nan",
         "Schooling": "9.6",
         "Status": "Developing",
         "Thinness 1-19 years": "0.1",
         "Thinness 5-9 years": "0.1",
         "Total expenditure": "4.65",
         "Under-five deaths": "0",
         "Year": "2013",
         "_deepnote_index_column": "1812"
        },
        {
         "Adult Mortality": "nan",
         "Alcohol": "0.01",
         "BMI": "77.3",
         "Country": "Niue",
         "Diphtheria": "99.0",
         "GDP": "nan",
         "HIV/AIDS": "0.1",
         "Hepatitis B": "99.0",
         "Income composition of resources": "nan",
         "Life expectancy": "nan",
         "Measles": "0",
         "Percentage expenditure": "0.0",
         "Polio": "99.0",
         "Population": "nan",
         "Schooling": "nan",
         "Status": "Developing",
         "Thinness 1-19 years": "0.1",
         "Thinness 5-9 years": "0.1",
         "Total expenditure": "7.2",
         "Under-five deaths": "0",
         "Year": "2013",
         "_deepnote_index_column": "1909"
        },
        {
         "Adult Mortality": "nan",
         "Alcohol": "nan",
         "BMI": "83.3",
         "Country": "Palau",
         "Diphtheria": "99.0",
         "GDP": "1932.12237",
         "HIV/AIDS": "0.1",
         "Hepatitis B": "99.0",
         "Income composition of resources": "0.779",
         "Life expectancy": "nan",
         "Measles": "0",
         "Percentage expenditure": "344.6906308",
         "Polio": "99.0",
         "Population": "292.0",
         "Schooling": "14.2",
         "Status": "Developing",
         "Thinness 1-19 years": "0.1",
         "Thinness 5-9 years": "0.1",
         "Total expenditure": "9.27",
         "Under-five deaths": "0",
         "Year": "2013",
         "_deepnote_index_column": "1958"
        },
        {
         "Adult Mortality": "nan",
         "Alcohol": "8.54",
         "BMI": "5.2",
         "Country": "Saint Kitts and Nevis",
         "Diphtheria": "96.0",
         "GDP": "nan",
         "HIV/AIDS": "0.1",
         "Hepatitis B": "97.0",
         "Income composition of resources": "0.749",
         "Life expectancy": "nan",
         "Measles": "0",
         "Percentage expenditure": "0.0",
         "Polio": "96.0",
         "Population": "nan",
         "Schooling": "13.4",
         "Status": "Developing",
         "Thinness 1-19 years": "3.7",
         "Thinness 5-9 years": "3.6",
         "Total expenditure": "6.14",
         "Under-five deaths": "0",
         "Year": "2013",
         "_deepnote_index_column": "2167"
        },
        {
         "Adult Mortality": "nan",
         "Alcohol": "0.01",
         "BMI": "nan",
         "Country": "San Marino",
         "Diphtheria": "69.0",
         "GDP": "nan",
         "HIV/AIDS": "0.1",
         "Hepatitis B": "69.0",
         "Income composition of resources": "nan",
         "Life expectancy": "nan",
         "Measles": "0",
         "Percentage expenditure": "0.0",
         "Polio": "69.0",
         "Population": "nan",
         "Schooling": "15.1",
         "Status": "Developing",
         "Thinness 1-19 years": "nan",
         "Thinness 5-9 years": "nan",
         "Total expenditure": "6.5",
         "Under-five deaths": "0",
         "Year": "2013",
         "_deepnote_index_column": "2216"
        },
        {
         "Adult Mortality": "nan",
         "Alcohol": "0.01",
         "BMI": "79.3",
         "Country": "Tuvalu",
         "Diphtheria": "9.0",
         "GDP": "3542.13589",
         "HIV/AIDS": "0.1",
         "Hepatitis B": "9.0",
         "Income composition of resources": "nan",
         "Life expectancy": "nan",
         "Measles": "0",
         "Percentage expenditure": "78.28120317",
         "Polio": "9.0",
         "Population": "1819.0",
         "Schooling": "0.0",
         "Status": "Developing",
         "Thinness 1-19 years": "0.2",
         "Thinness 5-9 years": "0.1",
         "Total expenditure": "16.61",
         "Under-five deaths": "0",
         "Year": "2013",
         "_deepnote_index_column": "2713"
        }
       ]
      },
      "text/html": [
       "<div>\n",
       "<style scoped>\n",
       "    .dataframe tbody tr th:only-of-type {\n",
       "        vertical-align: middle;\n",
       "    }\n",
       "\n",
       "    .dataframe tbody tr th {\n",
       "        vertical-align: top;\n",
       "    }\n",
       "\n",
       "    .dataframe thead th {\n",
       "        text-align: right;\n",
       "    }\n",
       "</style>\n",
       "<table border=\"1\" class=\"dataframe\">\n",
       "  <thead>\n",
       "    <tr style=\"text-align: right;\">\n",
       "      <th></th>\n",
       "      <th>Country</th>\n",
       "      <th>Year</th>\n",
       "      <th>Status</th>\n",
       "      <th>Life expectancy</th>\n",
       "      <th>Adult Mortality</th>\n",
       "      <th>Alcohol</th>\n",
       "      <th>Percentage expenditure</th>\n",
       "      <th>Hepatitis B</th>\n",
       "      <th>Measles</th>\n",
       "      <th>BMI</th>\n",
       "      <th>...</th>\n",
       "      <th>Polio</th>\n",
       "      <th>Total expenditure</th>\n",
       "      <th>Diphtheria</th>\n",
       "      <th>HIV/AIDS</th>\n",
       "      <th>GDP</th>\n",
       "      <th>Population</th>\n",
       "      <th>Thinness 1-19 years</th>\n",
       "      <th>Thinness 5-9 years</th>\n",
       "      <th>Income composition of resources</th>\n",
       "      <th>Schooling</th>\n",
       "    </tr>\n",
       "  </thead>\n",
       "  <tbody>\n",
       "    <tr>\n",
       "      <th>624</th>\n",
       "      <td>Cook Islands</td>\n",
       "      <td>2013</td>\n",
       "      <td>Developing</td>\n",
       "      <td>NaN</td>\n",
       "      <td>NaN</td>\n",
       "      <td>0.01</td>\n",
       "      <td>0.000000</td>\n",
       "      <td>98.0</td>\n",
       "      <td>0</td>\n",
       "      <td>82.8</td>\n",
       "      <td>...</td>\n",
       "      <td>98.0</td>\n",
       "      <td>3.58</td>\n",
       "      <td>98.0</td>\n",
       "      <td>0.1</td>\n",
       "      <td>NaN</td>\n",
       "      <td>NaN</td>\n",
       "      <td>0.1</td>\n",
       "      <td>0.1</td>\n",
       "      <td>NaN</td>\n",
       "      <td>NaN</td>\n",
       "    </tr>\n",
       "    <tr>\n",
       "      <th>769</th>\n",
       "      <td>Dominica</td>\n",
       "      <td>2013</td>\n",
       "      <td>Developing</td>\n",
       "      <td>NaN</td>\n",
       "      <td>NaN</td>\n",
       "      <td>0.01</td>\n",
       "      <td>11.419555</td>\n",
       "      <td>96.0</td>\n",
       "      <td>0</td>\n",
       "      <td>58.4</td>\n",
       "      <td>...</td>\n",
       "      <td>96.0</td>\n",
       "      <td>5.58</td>\n",
       "      <td>96.0</td>\n",
       "      <td>0.1</td>\n",
       "      <td>722.756650</td>\n",
       "      <td>NaN</td>\n",
       "      <td>2.7</td>\n",
       "      <td>2.6</td>\n",
       "      <td>0.721</td>\n",
       "      <td>12.7</td>\n",
       "    </tr>\n",
       "    <tr>\n",
       "      <th>1650</th>\n",
       "      <td>Marshall Islands</td>\n",
       "      <td>2013</td>\n",
       "      <td>Developing</td>\n",
       "      <td>NaN</td>\n",
       "      <td>NaN</td>\n",
       "      <td>0.01</td>\n",
       "      <td>871.878317</td>\n",
       "      <td>8.0</td>\n",
       "      <td>0</td>\n",
       "      <td>81.6</td>\n",
       "      <td>...</td>\n",
       "      <td>79.0</td>\n",
       "      <td>17.24</td>\n",
       "      <td>79.0</td>\n",
       "      <td>0.1</td>\n",
       "      <td>3617.752354</td>\n",
       "      <td>NaN</td>\n",
       "      <td>0.1</td>\n",
       "      <td>0.1</td>\n",
       "      <td>NaN</td>\n",
       "      <td>0.0</td>\n",
       "    </tr>\n",
       "    <tr>\n",
       "      <th>1715</th>\n",
       "      <td>Monaco</td>\n",
       "      <td>2013</td>\n",
       "      <td>Developing</td>\n",
       "      <td>NaN</td>\n",
       "      <td>NaN</td>\n",
       "      <td>0.01</td>\n",
       "      <td>0.000000</td>\n",
       "      <td>99.0</td>\n",
       "      <td>0</td>\n",
       "      <td>NaN</td>\n",
       "      <td>...</td>\n",
       "      <td>99.0</td>\n",
       "      <td>4.30</td>\n",
       "      <td>99.0</td>\n",
       "      <td>0.1</td>\n",
       "      <td>NaN</td>\n",
       "      <td>NaN</td>\n",
       "      <td>NaN</td>\n",
       "      <td>NaN</td>\n",
       "      <td>NaN</td>\n",
       "      <td>NaN</td>\n",
       "    </tr>\n",
       "    <tr>\n",
       "      <th>1812</th>\n",
       "      <td>Nauru</td>\n",
       "      <td>2013</td>\n",
       "      <td>Developing</td>\n",
       "      <td>NaN</td>\n",
       "      <td>NaN</td>\n",
       "      <td>0.01</td>\n",
       "      <td>15.606596</td>\n",
       "      <td>87.0</td>\n",
       "      <td>0</td>\n",
       "      <td>87.3</td>\n",
       "      <td>...</td>\n",
       "      <td>87.0</td>\n",
       "      <td>4.65</td>\n",
       "      <td>87.0</td>\n",
       "      <td>0.1</td>\n",
       "      <td>136.183210</td>\n",
       "      <td>NaN</td>\n",
       "      <td>0.1</td>\n",
       "      <td>0.1</td>\n",
       "      <td>NaN</td>\n",
       "      <td>9.6</td>\n",
       "    </tr>\n",
       "    <tr>\n",
       "      <th>1909</th>\n",
       "      <td>Niue</td>\n",
       "      <td>2013</td>\n",
       "      <td>Developing</td>\n",
       "      <td>NaN</td>\n",
       "      <td>NaN</td>\n",
       "      <td>0.01</td>\n",
       "      <td>0.000000</td>\n",
       "      <td>99.0</td>\n",
       "      <td>0</td>\n",
       "      <td>77.3</td>\n",
       "      <td>...</td>\n",
       "      <td>99.0</td>\n",
       "      <td>7.20</td>\n",
       "      <td>99.0</td>\n",
       "      <td>0.1</td>\n",
       "      <td>NaN</td>\n",
       "      <td>NaN</td>\n",
       "      <td>0.1</td>\n",
       "      <td>0.1</td>\n",
       "      <td>NaN</td>\n",
       "      <td>NaN</td>\n",
       "    </tr>\n",
       "    <tr>\n",
       "      <th>1958</th>\n",
       "      <td>Palau</td>\n",
       "      <td>2013</td>\n",
       "      <td>Developing</td>\n",
       "      <td>NaN</td>\n",
       "      <td>NaN</td>\n",
       "      <td>NaN</td>\n",
       "      <td>344.690631</td>\n",
       "      <td>99.0</td>\n",
       "      <td>0</td>\n",
       "      <td>83.3</td>\n",
       "      <td>...</td>\n",
       "      <td>99.0</td>\n",
       "      <td>9.27</td>\n",
       "      <td>99.0</td>\n",
       "      <td>0.1</td>\n",
       "      <td>1932.122370</td>\n",
       "      <td>292.0</td>\n",
       "      <td>0.1</td>\n",
       "      <td>0.1</td>\n",
       "      <td>0.779</td>\n",
       "      <td>14.2</td>\n",
       "    </tr>\n",
       "    <tr>\n",
       "      <th>2167</th>\n",
       "      <td>Saint Kitts and Nevis</td>\n",
       "      <td>2013</td>\n",
       "      <td>Developing</td>\n",
       "      <td>NaN</td>\n",
       "      <td>NaN</td>\n",
       "      <td>8.54</td>\n",
       "      <td>0.000000</td>\n",
       "      <td>97.0</td>\n",
       "      <td>0</td>\n",
       "      <td>5.2</td>\n",
       "      <td>...</td>\n",
       "      <td>96.0</td>\n",
       "      <td>6.14</td>\n",
       "      <td>96.0</td>\n",
       "      <td>0.1</td>\n",
       "      <td>NaN</td>\n",
       "      <td>NaN</td>\n",
       "      <td>3.7</td>\n",
       "      <td>3.6</td>\n",
       "      <td>0.749</td>\n",
       "      <td>13.4</td>\n",
       "    </tr>\n",
       "    <tr>\n",
       "      <th>2216</th>\n",
       "      <td>San Marino</td>\n",
       "      <td>2013</td>\n",
       "      <td>Developing</td>\n",
       "      <td>NaN</td>\n",
       "      <td>NaN</td>\n",
       "      <td>0.01</td>\n",
       "      <td>0.000000</td>\n",
       "      <td>69.0</td>\n",
       "      <td>0</td>\n",
       "      <td>NaN</td>\n",
       "      <td>...</td>\n",
       "      <td>69.0</td>\n",
       "      <td>6.50</td>\n",
       "      <td>69.0</td>\n",
       "      <td>0.1</td>\n",
       "      <td>NaN</td>\n",
       "      <td>NaN</td>\n",
       "      <td>NaN</td>\n",
       "      <td>NaN</td>\n",
       "      <td>NaN</td>\n",
       "      <td>15.1</td>\n",
       "    </tr>\n",
       "    <tr>\n",
       "      <th>2713</th>\n",
       "      <td>Tuvalu</td>\n",
       "      <td>2013</td>\n",
       "      <td>Developing</td>\n",
       "      <td>NaN</td>\n",
       "      <td>NaN</td>\n",
       "      <td>0.01</td>\n",
       "      <td>78.281203</td>\n",
       "      <td>9.0</td>\n",
       "      <td>0</td>\n",
       "      <td>79.3</td>\n",
       "      <td>...</td>\n",
       "      <td>9.0</td>\n",
       "      <td>16.61</td>\n",
       "      <td>9.0</td>\n",
       "      <td>0.1</td>\n",
       "      <td>3542.135890</td>\n",
       "      <td>1819.0</td>\n",
       "      <td>0.2</td>\n",
       "      <td>0.1</td>\n",
       "      <td>NaN</td>\n",
       "      <td>0.0</td>\n",
       "    </tr>\n",
       "  </tbody>\n",
       "</table>\n",
       "<p>10 rows × 21 columns</p>\n",
       "</div>"
      ],
      "text/plain": [
       "                    Country  Year      Status  Life expectancy  \\\n",
       "624            Cook Islands  2013  Developing              NaN   \n",
       "769                Dominica  2013  Developing              NaN   \n",
       "1650       Marshall Islands  2013  Developing              NaN   \n",
       "1715                 Monaco  2013  Developing              NaN   \n",
       "1812                  Nauru  2013  Developing              NaN   \n",
       "1909                   Niue  2013  Developing              NaN   \n",
       "1958                  Palau  2013  Developing              NaN   \n",
       "2167  Saint Kitts and Nevis  2013  Developing              NaN   \n",
       "2216             San Marino  2013  Developing              NaN   \n",
       "2713                 Tuvalu  2013  Developing              NaN   \n",
       "\n",
       "      Adult Mortality  Alcohol  Percentage expenditure  Hepatitis B  Measles  \\\n",
       "624               NaN     0.01                0.000000         98.0        0   \n",
       "769               NaN     0.01               11.419555         96.0        0   \n",
       "1650              NaN     0.01              871.878317          8.0        0   \n",
       "1715              NaN     0.01                0.000000         99.0        0   \n",
       "1812              NaN     0.01               15.606596         87.0        0   \n",
       "1909              NaN     0.01                0.000000         99.0        0   \n",
       "1958              NaN      NaN              344.690631         99.0        0   \n",
       "2167              NaN     8.54                0.000000         97.0        0   \n",
       "2216              NaN     0.01                0.000000         69.0        0   \n",
       "2713              NaN     0.01               78.281203          9.0        0   \n",
       "\n",
       "       BMI  ...  Polio  Total expenditure  Diphtheria  HIV/AIDS          GDP  \\\n",
       "624   82.8  ...   98.0               3.58        98.0       0.1          NaN   \n",
       "769   58.4  ...   96.0               5.58        96.0       0.1   722.756650   \n",
       "1650  81.6  ...   79.0              17.24        79.0       0.1  3617.752354   \n",
       "1715   NaN  ...   99.0               4.30        99.0       0.1          NaN   \n",
       "1812  87.3  ...   87.0               4.65        87.0       0.1   136.183210   \n",
       "1909  77.3  ...   99.0               7.20        99.0       0.1          NaN   \n",
       "1958  83.3  ...   99.0               9.27        99.0       0.1  1932.122370   \n",
       "2167   5.2  ...   96.0               6.14        96.0       0.1          NaN   \n",
       "2216   NaN  ...   69.0               6.50        69.0       0.1          NaN   \n",
       "2713  79.3  ...    9.0              16.61         9.0       0.1  3542.135890   \n",
       "\n",
       "      Population  Thinness 1-19 years  Thinness 5-9 years  \\\n",
       "624          NaN                  0.1                 0.1   \n",
       "769          NaN                  2.7                 2.6   \n",
       "1650         NaN                  0.1                 0.1   \n",
       "1715         NaN                  NaN                 NaN   \n",
       "1812         NaN                  0.1                 0.1   \n",
       "1909         NaN                  0.1                 0.1   \n",
       "1958       292.0                  0.1                 0.1   \n",
       "2167         NaN                  3.7                 3.6   \n",
       "2216         NaN                  NaN                 NaN   \n",
       "2713      1819.0                  0.2                 0.1   \n",
       "\n",
       "      Income composition of resources  Schooling  \n",
       "624                               NaN        NaN  \n",
       "769                             0.721       12.7  \n",
       "1650                              NaN        0.0  \n",
       "1715                              NaN        NaN  \n",
       "1812                              NaN        9.6  \n",
       "1909                              NaN        NaN  \n",
       "1958                            0.779       14.2  \n",
       "2167                            0.749       13.4  \n",
       "2216                              NaN       15.1  \n",
       "2713                              NaN        0.0  \n",
       "\n",
       "[10 rows x 21 columns]"
      ]
     },
     "execution_count": 13,
     "metadata": {},
     "output_type": "execute_result"
    }
   ],
   "source": [
    "data[data['Life expectancy'].isnull()]"
   ]
  },
  {
   "cell_type": "markdown",
   "metadata": {
    "cell_id": "7081abd548e545d2833b4b222612853f",
    "deepnote_app_coordinates": {
     "h": 5,
     "w": 12,
     "x": 0,
     "y": 163
    },
    "deepnote_cell_type": "markdown"
   },
   "source": [
    "There is 10 data points with unexplained `Life expectancy` value.\n",
    "I will remove the rows where the variable we are looking for is not specified."
   ]
  },
  {
   "cell_type": "code",
   "execution_count": 14,
   "metadata": {
    "cell_id": "ccef4f2a52be41708c006f5f6707aee9",
    "deepnote_app_coordinates": {
     "h": 5,
     "w": 12,
     "x": 0,
     "y": 169
    },
    "deepnote_cell_type": "code",
    "deepnote_to_be_reexecuted": false,
    "execution_millis": 18,
    "execution_start": 1670252832503,
    "source_hash": "1517de29"
   },
   "outputs": [],
   "source": [
    "data = data.dropna(subset=['Life expectancy'])"
   ]
  },
  {
   "cell_type": "markdown",
   "metadata": {
    "cell_id": "9f0aaca53a0c447aa484229f9ffe22d7",
    "deepnote_app_coordinates": {
     "h": 5,
     "w": 12,
     "x": 0,
     "y": 643
    },
    "deepnote_cell_type": "markdown",
    "tags": []
   },
   "source": [
    "## Remove duplicates"
   ]
  },
  {
   "cell_type": "markdown",
   "metadata": {
    "cell_id": "1118490515ae436fbcb37f360c452d61",
    "deepnote_app_coordinates": {
     "h": 5,
     "w": 12,
     "x": 0,
     "y": 655
    },
    "deepnote_cell_type": "markdown",
    "tags": []
   },
   "source": [
    "* If there are duplicate data in the dataset, I remove it."
   ]
  },
  {
   "cell_type": "code",
   "execution_count": 15,
   "metadata": {
    "cell_id": "9498a2c8b24a492c88100d1251bc6603",
    "deepnote_app_coordinates": {
     "h": 5,
     "w": 12,
     "x": 0,
     "y": 649
    },
    "deepnote_cell_type": "code",
    "deepnote_to_be_reexecuted": false,
    "execution_millis": 6,
    "execution_start": 1670252832523,
    "source_hash": "75094714",
    "tags": []
   },
   "outputs": [],
   "source": [
    "data = data.drop_duplicates()"
   ]
  },
  {
   "cell_type": "markdown",
   "metadata": {
    "cell_id": "9ace6d6327a84ca8a8a84e2cda348e91",
    "deepnote_app_coordinates": {
     "h": 5,
     "w": 12,
     "x": 0,
     "y": 175
    },
    "deepnote_cell_type": "markdown"
   },
   "source": [
    "## Data splitting\n",
    "I'll create the **training**, **validation** and **test** portions of the data."
   ]
  },
  {
   "cell_type": "markdown",
   "metadata": {
    "cell_id": "0e841d321426405fb7645b277e523a52",
    "deepnote_app_coordinates": {
     "h": 5,
     "w": 12,
     "x": 0,
     "y": 181
    },
    "deepnote_cell_type": "markdown"
   },
   "source": [
    "Separate the target variable I want to predict.\n",
    "In this case, it is `Life expectancy`."
   ]
  },
  {
   "cell_type": "code",
   "execution_count": 16,
   "metadata": {
    "cell_id": "5eb1cdc48a62426bb42333b5a5cbdf34",
    "deepnote_app_coordinates": {
     "h": 5,
     "w": 12,
     "x": 0,
     "y": 187
    },
    "deepnote_cell_type": "code",
    "deepnote_to_be_reexecuted": false,
    "execution_millis": 214,
    "execution_start": 1670252832542,
    "source_hash": "476bd153"
   },
   "outputs": [],
   "source": [
    "from sklearn.model_selection import train_test_split\n",
    "random_seed = 42\n",
    "\n",
    "xtrain, xval, ytrain, yval = train_test_split(data.drop(columns = ['Life expectancy']), data['Life expectancy'], test_size=0.4, random_state=random_seed)\n",
    "xval, xtest, yval, ytest = train_test_split(xval, yval, test_size=0.5, random_state=random_seed)"
   ]
  },
  {
   "cell_type": "code",
   "execution_count": 17,
   "metadata": {
    "cell_id": "89aed16cb92e41e497637cbcb33818dd",
    "deepnote_app_coordinates": {
     "h": 5,
     "w": 12,
     "x": 0,
     "y": 193
    },
    "deepnote_cell_type": "code",
    "deepnote_to_be_reexecuted": false,
    "execution_millis": 3,
    "execution_start": 1670252832756,
    "source_hash": "6af5eb77"
   },
   "outputs": [
    {
     "name": "stdout",
     "output_type": "stream",
     "text": [
      "Train size, X: (1756, 20), Y: (1756,)\n",
      "Val size, X: (586, 20), Y: (586,)\n",
      "Test size, X: (586, 20), Y: (586,)\n"
     ]
    }
   ],
   "source": [
    "print(f'Train size, X: {xtrain.shape}, Y: {ytrain.shape}')\n",
    "print(f'Val size, X: {xval.shape}, Y: {yval.shape}')\n",
    "print(f'Test size, X: {xtest.shape}, Y: {ytest.shape}')"
   ]
  },
  {
   "cell_type": "markdown",
   "metadata": {
    "cell_id": "ae6a6eb9572c450587045fee0a3500e0",
    "deepnote_app_coordinates": {
     "h": 5,
     "w": 12,
     "x": 0,
     "y": 211
    },
    "deepnote_cell_type": "markdown"
   },
   "source": [
    "The decision tree implementation in `sklearn` cannot handle non-numeric features. Therefore, I will replace them with their codes."
   ]
  },
  {
   "cell_type": "code",
   "execution_count": 18,
   "metadata": {
    "cell_id": "33642ec7a920426895b1ca8d23f4914b",
    "deepnote_app_coordinates": {
     "h": 5,
     "w": 12,
     "x": 0,
     "y": 217
    },
    "deepnote_cell_type": "code",
    "deepnote_to_be_reexecuted": false,
    "execution_millis": 7,
    "execution_start": 1670252832761,
    "source_hash": "80ed70ed"
   },
   "outputs": [
    {
     "data": {
      "text/plain": [
       "Country                             object\n",
       "Year                                 int64\n",
       "Status                              object\n",
       "Adult Mortality                    float64\n",
       "Alcohol                            float64\n",
       "Percentage expenditure             float64\n",
       "Hepatitis B                        float64\n",
       "Measles                              int64\n",
       "BMI                                float64\n",
       "Under-five deaths                    int64\n",
       "Polio                              float64\n",
       "Total expenditure                  float64\n",
       "Diphtheria                         float64\n",
       "HIV/AIDS                           float64\n",
       "GDP                                float64\n",
       "Population                         float64\n",
       "Thinness 1-19 years                float64\n",
       "Thinness 5-9 years                 float64\n",
       "Income composition of resources    float64\n",
       "Schooling                          float64\n",
       "dtype: object"
      ]
     },
     "metadata": {},
     "output_type": "display_data"
    }
   ],
   "source": [
    "display(xtrain.dtypes)"
   ]
  },
  {
   "cell_type": "markdown",
   "metadata": {
    "cell_id": "5959882cf0a4416fbf608b6ed88fe4d1",
    "deepnote_app_coordinates": {
     "h": 5,
     "w": 12,
     "x": 0,
     "y": 223
    },
    "deepnote_cell_type": "markdown"
   },
   "source": [
    "All features with values of the string type are not continuous, but so called **categorical** (discrete).\n",
    "  * I will replace all of them with numeric codes.\n",
    "  * I will convert them to numeric representation using `...cat.codes`."
   ]
  },
  {
   "cell_type": "code",
   "execution_count": 19,
   "metadata": {
    "cell_id": "93c05f814bb34db58475c84b0f1c8008",
    "deepnote_app_coordinates": {
     "h": 5,
     "w": 12,
     "x": 0,
     "y": 229
    },
    "deepnote_cell_type": "code",
    "deepnote_to_be_reexecuted": false,
    "execution_millis": 16,
    "execution_start": 1670252832773,
    "source_hash": "6602bcf7"
   },
   "outputs": [],
   "source": [
    "obj_columns = xtrain.select_dtypes('object').columns\n",
    "xtrain[obj_columns] = xtrain[obj_columns].astype('category').apply(lambda x: x.cat.codes)\n",
    "\n",
    "obj_columns = xval.select_dtypes('object').columns\n",
    "xval[obj_columns] = xval[obj_columns].astype('category').apply(lambda x: x.cat.codes)\n",
    "\n",
    "obj_columns = xtest.select_dtypes('object').columns\n",
    "xtest[obj_columns] = xtest[obj_columns].astype('category').apply(lambda x: x.cat.codes)"
   ]
  },
  {
   "cell_type": "markdown",
   "metadata": {
    "cell_id": "beff77c1a14b42adb2e3dfbbab9e2561",
    "deepnote_app_coordinates": {
     "h": 5,
     "w": 12,
     "x": 0,
     "y": 235
    },
    "deepnote_cell_type": "markdown"
   },
   "source": [
    "#### Finally, I will replace all missing values with -1."
   ]
  },
  {
   "cell_type": "code",
   "execution_count": 20,
   "metadata": {
    "cell_id": "05fba463b26b4d748bfb422fc68e0f39",
    "deepnote_app_coordinates": {
     "h": 5,
     "w": 12,
     "x": 0,
     "y": 241
    },
    "deepnote_cell_type": "code",
    "deepnote_to_be_reexecuted": false,
    "execution_millis": 34,
    "execution_start": 1670252832791,
    "source_hash": "ce4d0219"
   },
   "outputs": [],
   "source": [
    "xtrain = xtrain.fillna('-1')\n",
    "xval = xval.fillna('-1')\n",
    "xtest = xtest.fillna('-1')"
   ]
  },
  {
   "cell_type": "markdown",
   "metadata": {
    "cell_id": "4baa5921063d49788e29ef5f9516dd49",
    "deepnote_app_coordinates": {
     "h": 5,
     "w": 12,
     "x": 0,
     "y": 247
    },
    "deepnote_cell_type": "markdown"
   },
   "source": [
    "## Using Linear Regression implemented in `scikit-learn`"
   ]
  },
  {
   "cell_type": "code",
   "execution_count": 21,
   "metadata": {
    "cell_id": "ae0b931e28fb4518bef445a79ae3d3de",
    "deepnote_app_coordinates": {
     "h": 5,
     "w": 12,
     "x": 0,
     "y": 253
    },
    "deepnote_cell_type": "code",
    "deepnote_to_be_reexecuted": false,
    "execution_millis": 85,
    "execution_start": 1670252832874,
    "source_hash": "8512cc07"
   },
   "outputs": [
    {
     "data": {
      "text/html": [
       "<style>#sk-container-id-1 {color: black;background-color: white;}#sk-container-id-1 pre{padding: 0;}#sk-container-id-1 div.sk-toggleable {background-color: white;}#sk-container-id-1 label.sk-toggleable__label {cursor: pointer;display: block;width: 100%;margin-bottom: 0;padding: 0.3em;box-sizing: border-box;text-align: center;}#sk-container-id-1 label.sk-toggleable__label-arrow:before {content: \"▸\";float: left;margin-right: 0.25em;color: #696969;}#sk-container-id-1 label.sk-toggleable__label-arrow:hover:before {color: black;}#sk-container-id-1 div.sk-estimator:hover label.sk-toggleable__label-arrow:before {color: black;}#sk-container-id-1 div.sk-toggleable__content {max-height: 0;max-width: 0;overflow: hidden;text-align: left;background-color: #f0f8ff;}#sk-container-id-1 div.sk-toggleable__content pre {margin: 0.2em;color: black;border-radius: 0.25em;background-color: #f0f8ff;}#sk-container-id-1 input.sk-toggleable__control:checked~div.sk-toggleable__content {max-height: 200px;max-width: 100%;overflow: auto;}#sk-container-id-1 input.sk-toggleable__control:checked~label.sk-toggleable__label-arrow:before {content: \"▾\";}#sk-container-id-1 div.sk-estimator input.sk-toggleable__control:checked~label.sk-toggleable__label {background-color: #d4ebff;}#sk-container-id-1 div.sk-label input.sk-toggleable__control:checked~label.sk-toggleable__label {background-color: #d4ebff;}#sk-container-id-1 input.sk-hidden--visually {border: 0;clip: rect(1px 1px 1px 1px);clip: rect(1px, 1px, 1px, 1px);height: 1px;margin: -1px;overflow: hidden;padding: 0;position: absolute;width: 1px;}#sk-container-id-1 div.sk-estimator {font-family: monospace;background-color: #f0f8ff;border: 1px dotted black;border-radius: 0.25em;box-sizing: border-box;margin-bottom: 0.5em;}#sk-container-id-1 div.sk-estimator:hover {background-color: #d4ebff;}#sk-container-id-1 div.sk-parallel-item::after {content: \"\";width: 100%;border-bottom: 1px solid gray;flex-grow: 1;}#sk-container-id-1 div.sk-label:hover label.sk-toggleable__label {background-color: #d4ebff;}#sk-container-id-1 div.sk-serial::before {content: \"\";position: absolute;border-left: 1px solid gray;box-sizing: border-box;top: 0;bottom: 0;left: 50%;z-index: 0;}#sk-container-id-1 div.sk-serial {display: flex;flex-direction: column;align-items: center;background-color: white;padding-right: 0.2em;padding-left: 0.2em;position: relative;}#sk-container-id-1 div.sk-item {position: relative;z-index: 1;}#sk-container-id-1 div.sk-parallel {display: flex;align-items: stretch;justify-content: center;background-color: white;position: relative;}#sk-container-id-1 div.sk-item::before, #sk-container-id-1 div.sk-parallel-item::before {content: \"\";position: absolute;border-left: 1px solid gray;box-sizing: border-box;top: 0;bottom: 0;left: 50%;z-index: -1;}#sk-container-id-1 div.sk-parallel-item {display: flex;flex-direction: column;z-index: 1;position: relative;background-color: white;}#sk-container-id-1 div.sk-parallel-item:first-child::after {align-self: flex-end;width: 50%;}#sk-container-id-1 div.sk-parallel-item:last-child::after {align-self: flex-start;width: 50%;}#sk-container-id-1 div.sk-parallel-item:only-child::after {width: 0;}#sk-container-id-1 div.sk-dashed-wrapped {border: 1px dashed gray;margin: 0 0.4em 0.5em 0.4em;box-sizing: border-box;padding-bottom: 0.4em;background-color: white;}#sk-container-id-1 div.sk-label label {font-family: monospace;font-weight: bold;display: inline-block;line-height: 1.2em;}#sk-container-id-1 div.sk-label-container {text-align: center;}#sk-container-id-1 div.sk-container {/* jupyter's `normalize.less` sets `[hidden] { display: none; }` but bootstrap.min.css set `[hidden] { display: none !important; }` so we also need the `!important` here to be able to override the default hidden behavior on the sphinx rendered scikit-learn.org. See: https://github.com/scikit-learn/scikit-learn/issues/21755 */display: inline-block !important;position: relative;}#sk-container-id-1 div.sk-text-repr-fallback {display: none;}</style><div id=\"sk-container-id-1\" class=\"sk-top-container\"><div class=\"sk-text-repr-fallback\"><pre>LinearRegression()</pre><b>In a Jupyter environment, please rerun this cell to show the HTML representation or trust the notebook. <br />On GitHub, the HTML representation is unable to render, please try loading this page with nbviewer.org.</b></div><div class=\"sk-container\" hidden><div class=\"sk-item\"><div class=\"sk-estimator sk-toggleable\"><input class=\"sk-toggleable__control sk-hidden--visually\" id=\"sk-estimator-id-1\" type=\"checkbox\" checked><label for=\"sk-estimator-id-1\" class=\"sk-toggleable__label sk-toggleable__label-arrow\">LinearRegression</label><div class=\"sk-toggleable__content\"><pre>LinearRegression()</pre></div></div></div></div></div>"
      ],
      "text/plain": [
       "LinearRegression()"
      ]
     },
     "execution_count": 21,
     "metadata": {},
     "output_type": "execute_result"
    }
   ],
   "source": [
    "from sklearn.linear_model import LinearRegression\n",
    "\n",
    "l_regression = LinearRegression()\n",
    "l_regression.fit(xtrain,ytrain)"
   ]
  },
  {
   "cell_type": "code",
   "execution_count": 22,
   "metadata": {
    "cell_id": "1555cda8595044a98dc705dfb6b16414",
    "deepnote_app_coordinates": {
     "h": 5,
     "w": 12,
     "x": 0,
     "y": 259
    },
    "deepnote_cell_type": "code",
    "deepnote_to_be_reexecuted": false,
    "execution_millis": 16,
    "execution_start": 1670252832989,
    "source_hash": "90cccb42"
   },
   "outputs": [
    {
     "name": "stdout",
     "output_type": "stream",
     "text": [
      "Coefficients: [ 0.00303  0.07204 -2.75709 -0.0227   0.13576  0.0001   0.00739 -0.00003\n",
      "  0.05504 -0.0012   0.02778 -0.05733  0.03884 -0.52874  0.00005  0.\n",
      " -0.1647   0.01873 -3.68729  0.66537]\n",
      "Intercept: -82.1073210642165\n"
     ]
    }
   ],
   "source": [
    "print('Coefficients: ' + str(l_regression.coef_))\n",
    "print('Intercept: ' + str(l_regression.intercept_))"
   ]
  },
  {
   "cell_type": "code",
   "execution_count": 23,
   "metadata": {
    "cell_id": "db1f816fe656408d9092a049543685f8",
    "deepnote_app_coordinates": {
     "h": 5,
     "w": 12,
     "x": 0,
     "y": 265
    },
    "deepnote_cell_type": "code",
    "deepnote_to_be_reexecuted": false,
    "execution_millis": 373,
    "execution_start": 1670252833010,
    "source_hash": "3abd2c08"
   },
   "outputs": [
    {
     "data": {
      "image/png": "[encoded data removed]",
      "text/plain": [
       "<Figure size 500x300 with 1 Axes>"
      ]
     },
     "metadata": {
      "image/png": {
       "height": 279,
       "width": 440
      }
     },
     "output_type": "display_data"
    }
   ],
   "source": [
    "Yth = l_regression.predict(xval)\n",
    "plt.scatter(yval, Yth)\n",
    "plt.plot([0,50], [0,50], 'r')\n",
    "plt.show()"
   ]
  },
  {
   "cell_type": "markdown",
   "metadata": {
    "cell_id": "877e2bb31c6f478e82335a5e67d38bf4",
    "deepnote_app_coordinates": {
     "h": 5,
     "w": 12,
     "x": 0,
     "y": 271
    },
    "deepnote_cell_type": "markdown",
    "tags": []
   },
   "source": [
    "### Error measurement for linear regression"
   ]
  },
  {
   "cell_type": "code",
   "execution_count": 24,
   "metadata": {
    "cell_id": "879757ca74dd4983a50b23bf1943d432",
    "deepnote_app_coordinates": {
     "h": 5,
     "w": 12,
     "x": 0,
     "y": 277
    },
    "deepnote_cell_type": "code",
    "deepnote_to_be_reexecuted": false,
    "execution_millis": 32,
    "execution_start": 1670252833389,
    "source_hash": "4147a280"
   },
   "outputs": [
    {
     "name": "stdout",
     "output_type": "stream",
     "text": [
      "Training RMSE: \t4.48676\n",
      "Valid RMSE: \t4.36399\n"
     ]
    }
   ],
   "source": [
    "from sklearn.metrics import mean_squared_error\n",
    "\n",
    "RMSE_train_l = mean_squared_error(ytrain, l_regression.predict(xtrain), squared = False)\n",
    "print(f'Training RMSE: \\t{RMSE_train_l:.5f}')\n",
    "RMSE_val_l = mean_squared_error(yval, l_regression.predict(xval), squared = False)\n",
    "print(f'Valid RMSE: \\t{RMSE_val_l:.5f}')"
   ]
  },
  {
   "cell_type": "code",
   "execution_count": 25,
   "metadata": {
    "cell_id": "0baf84cda6ab45e68ebac4ed10142dee",
    "deepnote_app_coordinates": {
     "h": 5,
     "w": 12,
     "x": 0,
     "y": 283
    },
    "deepnote_cell_type": "code",
    "deepnote_to_be_reexecuted": false,
    "execution_millis": 87,
    "execution_start": 1670252833424,
    "source_hash": "1a92e93",
    "tags": []
   },
   "outputs": [
    {
     "name": "stdout",
     "output_type": "stream",
     "text": [
      "Training MAE: \t3.38042\n",
      "Valid MAE: \t3.27311\n"
     ]
    }
   ],
   "source": [
    "from sklearn.metrics import mean_absolute_error\n",
    "\n",
    "print(f'Training MAE: \\t{mean_absolute_error(ytrain, l_regression.predict(xtrain)):.5f}')\n",
    "print(f'Valid MAE: \\t{mean_absolute_error(yval, l_regression.predict(xval)):.5f}')"
   ]
  },
  {
   "cell_type": "markdown",
   "metadata": {
    "cell_id": "b0e23a582b574f0da66fee6f4a3fe2eb",
    "deepnote_app_coordinates": {
     "h": 5,
     "w": 12,
     "x": 0,
     "y": 289
    },
    "deepnote_cell_type": "markdown",
    "tags": []
   },
   "source": [
    "## Using Ridge regression model implemented in `scikit-learn`\n",
    "In Ridge Regression I construct at Kernel Matrix which contains the similarities between all of my training labels. The parameters of the Ridge Regression fit are found from both this Kernel Matrix and my training labels. If I have e.g. two samples that are extremely similar, the matrix to be solved will be over determined. To get around this, a small value can be added to the diagonal, and that value is the alpha parameter that I have. So what happens is that when alpha value approaches 0, the matrix is more likely to be over determined.\n",
    "\n",
    "Seeing that I get warnings - in order to make the result more visible, I import `warnings`. \n",
    "In further work, I will try Ridge model with normalization."
   ]
  },
  {
   "cell_type": "code",
   "execution_count": 26,
   "metadata": {
    "cell_id": "6ad691c8213c47a19ec138186d433d1c",
    "deepnote_app_coordinates": {
     "h": 5,
     "w": 12,
     "x": 0,
     "y": 295
    },
    "deepnote_cell_type": "code",
    "deepnote_to_be_reexecuted": false,
    "execution_millis": 74,
    "execution_start": 1670252833514,
    "source_hash": "17e3dbca",
    "tags": []
   },
   "outputs": [],
   "source": [
    "import warnings\n",
    "warnings.filterwarnings('ignore')"
   ]
  },
  {
   "cell_type": "code",
   "execution_count": 27,
   "metadata": {
    "cell_id": "6bddf4a28dde49a8b5603533378f19ba",
    "deepnote_app_coordinates": {
     "h": 5,
     "w": 12,
     "x": 0,
     "y": 301
    },
    "deepnote_cell_type": "code",
    "deepnote_to_be_reexecuted": false,
    "execution_millis": 103,
    "execution_start": 1670252833597,
    "source_hash": "79ea8144",
    "tags": []
   },
   "outputs": [
    {
     "data": {
      "text/html": [
       "<style>#sk-container-id-2 {color: black;background-color: white;}#sk-container-id-2 pre{padding: 0;}#sk-container-id-2 div.sk-toggleable {background-color: white;}#sk-container-id-2 label.sk-toggleable__label {cursor: pointer;display: block;width: 100%;margin-bottom: 0;padding: 0.3em;box-sizing: border-box;text-align: center;}#sk-container-id-2 label.sk-toggleable__label-arrow:before {content: \"▸\";float: left;margin-right: 0.25em;color: #696969;}#sk-container-id-2 label.sk-toggleable__label-arrow:hover:before {color: black;}#sk-container-id-2 div.sk-estimator:hover label.sk-toggleable__label-arrow:before {color: black;}#sk-container-id-2 div.sk-toggleable__content {max-height: 0;max-width: 0;overflow: hidden;text-align: left;background-color: #f0f8ff;}#sk-container-id-2 div.sk-toggleable__content pre {margin: 0.2em;color: black;border-radius: 0.25em;background-color: #f0f8ff;}#sk-container-id-2 input.sk-toggleable__control:checked~div.sk-toggleable__content {max-height: 200px;max-width: 100%;overflow: auto;}#sk-container-id-2 input.sk-toggleable__control:checked~label.sk-toggleable__label-arrow:before {content: \"▾\";}#sk-container-id-2 div.sk-estimator input.sk-toggleable__control:checked~label.sk-toggleable__label {background-color: #d4ebff;}#sk-container-id-2 div.sk-label input.sk-toggleable__control:checked~label.sk-toggleable__label {background-color: #d4ebff;}#sk-container-id-2 input.sk-hidden--visually {border: 0;clip: rect(1px 1px 1px 1px);clip: rect(1px, 1px, 1px, 1px);height: 1px;margin: -1px;overflow: hidden;padding: 0;position: absolute;width: 1px;}#sk-container-id-2 div.sk-estimator {font-family: monospace;background-color: #f0f8ff;border: 1px dotted black;border-radius: 0.25em;box-sizing: border-box;margin-bottom: 0.5em;}#sk-container-id-2 div.sk-estimator:hover {background-color: #d4ebff;}#sk-container-id-2 div.sk-parallel-item::after {content: \"\";width: 100%;border-bottom: 1px solid gray;flex-grow: 1;}#sk-container-id-2 div.sk-label:hover label.sk-toggleable__label {background-color: #d4ebff;}#sk-container-id-2 div.sk-serial::before {content: \"\";position: absolute;border-left: 1px solid gray;box-sizing: border-box;top: 0;bottom: 0;left: 50%;z-index: 0;}#sk-container-id-2 div.sk-serial {display: flex;flex-direction: column;align-items: center;background-color: white;padding-right: 0.2em;padding-left: 0.2em;position: relative;}#sk-container-id-2 div.sk-item {position: relative;z-index: 1;}#sk-container-id-2 div.sk-parallel {display: flex;align-items: stretch;justify-content: center;background-color: white;position: relative;}#sk-container-id-2 div.sk-item::before, #sk-container-id-2 div.sk-parallel-item::before {content: \"\";position: absolute;border-left: 1px solid gray;box-sizing: border-box;top: 0;bottom: 0;left: 50%;z-index: -1;}#sk-container-id-2 div.sk-parallel-item {display: flex;flex-direction: column;z-index: 1;position: relative;background-color: white;}#sk-container-id-2 div.sk-parallel-item:first-child::after {align-self: flex-end;width: 50%;}#sk-container-id-2 div.sk-parallel-item:last-child::after {align-self: flex-start;width: 50%;}#sk-container-id-2 div.sk-parallel-item:only-child::after {width: 0;}#sk-container-id-2 div.sk-dashed-wrapped {border: 1px dashed gray;margin: 0 0.4em 0.5em 0.4em;box-sizing: border-box;padding-bottom: 0.4em;background-color: white;}#sk-container-id-2 div.sk-label label {font-family: monospace;font-weight: bold;display: inline-block;line-height: 1.2em;}#sk-container-id-2 div.sk-label-container {text-align: center;}#sk-container-id-2 div.sk-container {/* jupyter's `normalize.less` sets `[hidden] { display: none; }` but bootstrap.min.css set `[hidden] { display: none !important; }` so we also need the `!important` here to be able to override the default hidden behavior on the sphinx rendered scikit-learn.org. See: https://github.com/scikit-learn/scikit-learn/issues/21755 */display: inline-block !important;position: relative;}#sk-container-id-2 div.sk-text-repr-fallback {display: none;}</style><div id=\"sk-container-id-2\" class=\"sk-top-container\"><div class=\"sk-text-repr-fallback\"><pre>Ridge(alpha=1)</pre><b>In a Jupyter environment, please rerun this cell to show the HTML representation or trust the notebook. <br />On GitHub, the HTML representation is unable to render, please try loading this page with nbviewer.org.</b></div><div class=\"sk-container\" hidden><div class=\"sk-item\"><div class=\"sk-estimator sk-toggleable\"><input class=\"sk-toggleable__control sk-hidden--visually\" id=\"sk-estimator-id-2\" type=\"checkbox\" checked><label for=\"sk-estimator-id-2\" class=\"sk-toggleable__label sk-toggleable__label-arrow\">Ridge</label><div class=\"sk-toggleable__content\"><pre>Ridge(alpha=1)</pre></div></div></div></div></div>"
      ],
      "text/plain": [
       "Ridge(alpha=1)"
      ]
     },
     "execution_count": 27,
     "metadata": {},
     "output_type": "execute_result"
    }
   ],
   "source": [
    "from sklearn.linear_model import Ridge\n",
    "r_regression = Ridge(1)\n",
    "r_regression.fit(xtrain, ytrain)"
   ]
  },
  {
   "cell_type": "code",
   "execution_count": 28,
   "metadata": {
    "cell_id": "50704ef7cf6d43b68907d88439c78e16",
    "deepnote_app_coordinates": {
     "h": 5,
     "w": 12,
     "x": 0,
     "y": 307
    },
    "deepnote_cell_type": "code",
    "deepnote_to_be_reexecuted": false,
    "execution_millis": 97,
    "execution_start": 1670252833710,
    "source_hash": "31d77df0",
    "tags": []
   },
   "outputs": [
    {
     "name": "stdout",
     "output_type": "stream",
     "text": [
      "Training RMSE: \t4.48678\n",
      "Valid RMSE: \t4.36371\n"
     ]
    }
   ],
   "source": [
    "RMSE_train_r = mean_squared_error(ytrain, r_regression.predict(xtrain), squared = False)\n",
    "print(f'Training RMSE: \\t{RMSE_train_r:.5f}')\n",
    "RMSE_val_r = mean_squared_error(yval, r_regression.predict(xval), squared = False)\n",
    "print(f'Valid RMSE: \\t{RMSE_val_r:.5f}')"
   ]
  },
  {
   "cell_type": "code",
   "execution_count": 29,
   "metadata": {
    "cell_id": "fc25c890d4674fb5b5cc73e0f00c19ba",
    "deepnote_app_coordinates": {
     "h": 5,
     "w": 12,
     "x": 0,
     "y": 313
    },
    "deepnote_cell_type": "code",
    "deepnote_to_be_reexecuted": false,
    "execution_millis": 84,
    "execution_start": 1670252833815,
    "source_hash": "1d5cb9c0",
    "tags": []
   },
   "outputs": [
    {
     "name": "stdout",
     "output_type": "stream",
     "text": [
      "Training MAE: \t3.37992\n",
      "Valid MAE: \t3.27274\n"
     ]
    }
   ],
   "source": [
    "print(f'Training MAE: \\t{mean_absolute_error(ytrain, r_regression.predict(xtrain)):.5f}')\n",
    "print(f'Valid MAE: \\t{mean_absolute_error(yval, r_regression.predict(xval)):.5f}')"
   ]
  },
  {
   "cell_type": "code",
   "execution_count": 30,
   "metadata": {
    "cell_id": "80600b6b300744eab829c14b475cf7d9",
    "deepnote_app_coordinates": {
     "h": 5,
     "w": 12,
     "x": 0,
     "y": 319
    },
    "deepnote_cell_type": "code",
    "deepnote_to_be_reexecuted": false,
    "execution_millis": 406,
    "execution_start": 1670252833901,
    "source_hash": "14b4da8f",
    "tags": []
   },
   "outputs": [
    {
     "data": {
      "image/png": "[encoded data removed]",
      "text/plain": [
       "<Figure size 500x300 with 1 Axes>"
      ]
     },
     "metadata": {
      "image/png": {
       "height": 279,
       "width": 440
      }
     },
     "output_type": "display_data"
    }
   ],
   "source": [
    "plt.scatter(yval, r_regression.predict(xval))\n",
    "plt.plot([0,50], [0,50], 'r')\n",
    "plt.show()"
   ]
  },
  {
   "cell_type": "markdown",
   "metadata": {
    "cell_id": "d1feb0a3130c4d7c83295326b11e221b",
    "deepnote_app_coordinates": {
     "h": 5,
     "w": 12,
     "x": 0,
     "y": 325
    },
    "deepnote_cell_type": "markdown",
    "tags": []
   },
   "source": [
    "## Compare the predictions of the two regression models."
   ]
  },
  {
   "cell_type": "code",
   "execution_count": 31,
   "metadata": {
    "cell_id": "397234a46be0470c958e403658628390",
    "deepnote_app_coordinates": {
     "h": 5,
     "w": 12,
     "x": 0,
     "y": 331
    },
    "deepnote_cell_type": "code",
    "deepnote_to_be_reexecuted": false,
    "execution_millis": 323,
    "execution_start": 1670252834306,
    "source_hash": "3119b9ae",
    "tags": []
   },
   "outputs": [
    {
     "data": {
      "image/png": "[encoded data removed]",
      "text/plain": [
       "<Figure size 500x300 with 1 Axes>"
      ]
     },
     "metadata": {
      "image/png": {
       "height": 279,
       "width": 443
      }
     },
     "output_type": "display_data"
    }
   ],
   "source": [
    "plt.plot(r_regression.coef_, 'k.', label='Ridge regression')\n",
    "plt.plot(l_regression.coef_, 'rx', label='Linear regression')\n",
    "plt.legend()\n",
    "plt.show()"
   ]
  },
  {
   "cell_type": "markdown",
   "metadata": {
    "cell_id": "79162e6487e8454ebcad9ac158ac3a1d",
    "deepnote_app_coordinates": {
     "h": 5,
     "w": 12,
     "x": 0,
     "y": 337
    },
    "deepnote_cell_type": "markdown",
    "tags": []
   },
   "source": [
    "* Both regression models make predictions with about the same accuracy."
   ]
  },
  {
   "cell_type": "markdown",
   "metadata": {
    "cell_id": "bd950af97d5c4089b0067b590919a531",
    "deepnote_app_coordinates": {
     "h": 5,
     "w": 12,
     "x": 0,
     "y": 343
    },
    "deepnote_cell_type": "markdown",
    "tags": []
   },
   "source": [
    "### Tuning of ridge regression hyperparameters\n",
    "I'll try to improve Ridge model finding best fitting hyperparameters."
   ]
  },
  {
   "cell_type": "code",
   "execution_count": 32,
   "metadata": {
    "cell_id": "613ed06e174f468fb6968ec1b8d0fee0",
    "deepnote_app_coordinates": {
     "h": 5,
     "w": 12,
     "x": 0,
     "y": 349
    },
    "deepnote_cell_type": "code",
    "deepnote_to_be_reexecuted": false,
    "execution_millis": 3,
    "execution_start": 1670252834634,
    "source_hash": "d109800",
    "tags": []
   },
   "outputs": [],
   "source": [
    "from scipy import optimize\n",
    "\n",
    "def get_opt_ridge_model(xtrain, xval):\n",
    "    def ridgemodel_eval(alpha):\n",
    "        clf = Ridge(alpha=alpha)\n",
    "        clf.fit(xtrain, ytrain)\n",
    "        return mean_squared_error(yval, clf.predict(xval), squared = False)\n",
    "\n",
    "    alphas = np.linspace(1,500,100)\n",
    "    alphas_res = [ridgemodel_eval(alpha) for alpha in alphas]\n",
    "    plt.plot(alphas, alphas_res, '.')\n",
    "    plt.show()\n",
    "\n",
    "    # Find Ridge alpha automatically\n",
    "    opt_alpha = optimize.minimize_scalar(ridgemodel_eval, options = {'maxiter': 30}, method = 'bounded', bounds=(0.1, 400))\n",
    "    print('Optimal alpha', opt_alpha)\n",
    "    print('\\n')\n",
    "\n",
    "    clf_opt_ridge = Ridge(alpha = opt_alpha.x)\n",
    "    clf_opt_ridge.fit(xtrain, ytrain)\n",
    "    return clf_opt_ridge"
   ]
  },
  {
   "cell_type": "code",
   "execution_count": 33,
   "metadata": {
    "cell_id": "c0c11786400d4b31b5dda8d768ba881a",
    "deepnote_app_coordinates": {
     "h": 5,
     "w": 12,
     "x": 0,
     "y": 355
    },
    "deepnote_cell_type": "code",
    "deepnote_to_be_reexecuted": false,
    "execution_millis": 7165,
    "execution_start": 1670252834639,
    "source_hash": "61276e9a",
    "tags": []
   },
   "outputs": [
    {
     "data": {
      "image/png": "[encoded data removed]",
      "text/plain": [
       "<Figure size 500x300 with 1 Axes>"
      ]
     },
     "metadata": {
      "image/png": {
       "height": 279,
       "width": 454
      }
     },
     "output_type": "display_data"
    },
    {
     "name": "stdout",
     "output_type": "stream",
     "text": [
      "Optimal alpha      fun: 4.362518082349369\n",
      " message: 'Solution found.'\n",
      "    nfev: 20\n",
      "     nit: 20\n",
      "  status: 0\n",
      " success: True\n",
      "       x: 11.639354061400041\n",
      "\n",
      "\n",
      "Training RMSE: \t4.48842\n",
      "Valid RMSE: \t4.36252\n",
      "Training MAE: \t3.37670\n",
      "Valid MAE: \t3.27016\n"
     ]
    }
   ],
   "source": [
    "clf_opt_ridge = get_opt_ridge_model(xtrain, xval)\n",
    "\n",
    "\n",
    "RMSE_train_opt_ridge = mean_squared_error(ytrain, clf_opt_ridge.predict(xtrain), squared = False)\n",
    "print(f'Training RMSE: \\t{RMSE_train_opt_ridge:.5f}')\n",
    "RMSE_val_opt_ridge = mean_squared_error(yval, clf_opt_ridge.predict(xval), squared = False)\n",
    "print(f'Valid RMSE: \\t{RMSE_val_opt_ridge:.5f}')\n",
    "\n",
    "print(f'Training MAE: \\t{mean_absolute_error(ytrain, clf_opt_ridge.predict(xtrain)):.5f}')\n",
    "print(f'Valid MAE: \\t{mean_absolute_error(yval, clf_opt_ridge.predict(xval)):.5f}')"
   ]
  },
  {
   "cell_type": "markdown",
   "metadata": {
    "cell_id": "e5ba19af0d034ecf8459266f9c4acc5c",
    "deepnote_app_coordinates": {
     "h": 5,
     "w": 12,
     "x": 0,
     "y": 361
    },
    "deepnote_cell_type": "markdown",
    "tags": []
   },
   "source": [
    "## Compare the predictions of the three regression models."
   ]
  },
  {
   "cell_type": "code",
   "execution_count": 34,
   "metadata": {
    "cell_id": "b6378eaf58fe4922844ed6ca4fb23dfc",
    "deepnote_app_coordinates": {
     "h": 5,
     "w": 12,
     "x": 0,
     "y": 367
    },
    "deepnote_cell_type": "code",
    "deepnote_to_be_reexecuted": false,
    "execution_millis": 445,
    "execution_start": 1670252841811,
    "source_hash": "9b9197c7",
    "tags": []
   },
   "outputs": [
    {
     "data": {
      "image/png": "[encoded data removed]",
      "text/plain": [
       "<Figure size 500x300 with 1 Axes>"
      ]
     },
     "metadata": {
      "image/png": {
       "height": 279,
       "width": 443
      }
     },
     "output_type": "display_data"
    }
   ],
   "source": [
    "plt.plot(r_regression.coef_, 'k.', label='Ridge regression')\n",
    "plt.plot(clf_opt_ridge.coef_, 'b+', label='Optimal ridge regression')\n",
    "plt.plot(l_regression.coef_, 'rx', label='Linear regression')\n",
    "plt.legend()\n",
    "plt.show()"
   ]
  },
  {
   "cell_type": "markdown",
   "metadata": {
    "cell_id": "95442c92139d4846818f898dc70d88fd",
    "deepnote_app_coordinates": {
     "h": 5,
     "w": 12,
     "x": 0,
     "y": 373
    },
    "deepnote_cell_type": "markdown",
    "tags": []
   },
   "source": [
    "* May notice, that all 3 regression models make predictions with about the same accuracy."
   ]
  },
  {
   "cell_type": "markdown",
   "metadata": {
    "cell_id": "8ee3e9e486234a45a3a95fe055f79631",
    "deepnote_app_coordinates": {
     "h": 5,
     "w": 12,
     "x": 0,
     "y": 379
    },
    "deepnote_cell_type": "markdown",
    "tags": []
   },
   "source": [
    "### Standardization\n",
    "I'll try using the `Standardization` method to improve the prediction of the Ridge regression model."
   ]
  },
  {
   "cell_type": "code",
   "execution_count": 35,
   "metadata": {
    "cell_id": "92b2bfbf96734f75a8cdfb73aaed853c",
    "deepnote_app_coordinates": {
     "h": 5,
     "w": 12,
     "x": 0,
     "y": 385
    },
    "deepnote_cell_type": "code",
    "deepnote_to_be_reexecuted": false,
    "execution_millis": 1741,
    "execution_start": 1670252842262,
    "source_hash": "6437dab9",
    "tags": []
   },
   "outputs": [
    {
     "data": {
      "image/png": "[encoded data removed]",
      "text/plain": [
       "<Figure size 500x300 with 1 Axes>"
      ]
     },
     "metadata": {
      "image/png": {
       "height": 279,
       "width": 454
      }
     },
     "output_type": "display_data"
    },
    {
     "name": "stdout",
     "output_type": "stream",
     "text": [
      "Optimal alpha      fun: 4.362925507184528\n",
      " message: 'Solution found.'\n",
      "    nfev: 22\n",
      "     nit: 22\n",
      "  status: 0\n",
      " success: True\n",
      "       x: 25.766217282419497\n",
      "\n",
      "\n",
      "Training RMSE: \t4.48871\n",
      "Valid RMSE: \t4.36293\n",
      "Training MAE: \t3.38228\n",
      "Valid MAE: \t3.27658\n"
     ]
    }
   ],
   "source": [
    "from sklearn.preprocessing import StandardScaler\n",
    "\n",
    "scaler = StandardScaler().fit(xtrain)\n",
    "\n",
    "xtrain_sc = scaler.transform(xtrain)\n",
    "xval_sc = scaler.transform(xval)\n",
    "xtest_sc = scaler.transform(xtest)\n",
    "\n",
    "clf_std_ridge = get_opt_ridge_model(xtrain_sc, xval_sc)\n",
    "\n",
    "RMSE_train_std_ridge = mean_squared_error(ytrain, clf_std_ridge.predict(xtrain_sc), squared = False)\n",
    "print(f'Training RMSE: \\t{RMSE_train_std_ridge:.5f}')\n",
    "RMSE_val_std_ridge = mean_squared_error(yval, clf_std_ridge.predict(xval_sc), squared = False)\n",
    "print(f'Valid RMSE: \\t{RMSE_val_std_ridge:.5f}')\n",
    "\n",
    "print(f'Training MAE: \\t{mean_absolute_error(ytrain, clf_std_ridge.predict(xtrain_sc)):.5f}')\n",
    "print(f'Valid MAE: \\t{mean_absolute_error(yval, clf_std_ridge.predict(xval_sc)):.5f}')"
   ]
  },
  {
   "cell_type": "markdown",
   "metadata": {
    "cell_id": "94f1d1fa678b4931bec704fb983fb21f",
    "deepnote_app_coordinates": {
     "h": 5,
     "w": 12,
     "x": 0,
     "y": 391
    },
    "deepnote_cell_type": "markdown",
    "tags": []
   },
   "source": [
    "## Sum up better model"
   ]
  },
  {
   "cell_type": "markdown",
   "metadata": {
    "cell_id": "86eae5d26ccf45a295438ac40218e035",
    "deepnote_app_coordinates": {
     "h": 5,
     "w": 12,
     "x": 0,
     "y": 397
    },
    "deepnote_cell_type": "markdown",
    "tags": []
   },
   "source": [
    "### Linear regression"
   ]
  },
  {
   "cell_type": "code",
   "execution_count": 36,
   "metadata": {
    "cell_id": "bbe88f574c2740a1bef40d9fed95d247",
    "deepnote_app_coordinates": {
     "h": 5,
     "w": 12,
     "x": 0,
     "y": 403
    },
    "deepnote_cell_type": "code",
    "deepnote_to_be_reexecuted": false,
    "execution_millis": 92,
    "execution_start": 1670252844007,
    "source_hash": "fb611245",
    "tags": []
   },
   "outputs": [
    {
     "name": "stdout",
     "output_type": "stream",
     "text": [
      "Training RMSE: \t4.48676\n",
      "Valid RMSE: \t4.36399\n",
      "***********************\n",
      "Training MAE: \t3.38042\n",
      "Valid MAE: \t3.27311\n"
     ]
    }
   ],
   "source": [
    "print(f'Training RMSE: \\t{RMSE_train_l:.5f}')\n",
    "print(f'Valid RMSE: \\t{RMSE_val_l:.5f}')\n",
    "print('***********************')\n",
    "print(f'Training MAE: \\t{mean_absolute_error(ytrain, l_regression.predict(xtrain)):.5f}')\n",
    "print(f'Valid MAE: \\t{mean_absolute_error(yval, l_regression.predict(xval)):.5f}')"
   ]
  },
  {
   "cell_type": "markdown",
   "metadata": {
    "cell_id": "2a4ef4c9928b40e98b0f96a3a8b4c32d",
    "deepnote_app_coordinates": {
     "h": 5,
     "w": 12,
     "x": 0,
     "y": 409
    },
    "deepnote_cell_type": "markdown",
    "tags": []
   },
   "source": [
    "### Ridge regression"
   ]
  },
  {
   "cell_type": "code",
   "execution_count": 37,
   "metadata": {
    "cell_id": "8be9bac858df46f58e397b92e3dfb168",
    "deepnote_app_coordinates": {
     "h": 5,
     "w": 12,
     "x": 0,
     "y": 415
    },
    "deepnote_cell_type": "code",
    "deepnote_to_be_reexecuted": false,
    "execution_millis": 96,
    "execution_start": 1670252844103,
    "source_hash": "1552f40b",
    "tags": []
   },
   "outputs": [
    {
     "name": "stdout",
     "output_type": "stream",
     "text": [
      "Training RMSE: \t4.48678\n",
      "Valid RMSE: \t4.36371\n",
      "***********************\n",
      "Training MAE: \t3.37992\n",
      "Valid MAE: \t3.27274\n"
     ]
    }
   ],
   "source": [
    "print(f'Training RMSE: \\t{RMSE_train_r:.5f}')\n",
    "print(f'Valid RMSE: \\t{RMSE_val_r:.5f}')\n",
    "print('***********************')\n",
    "print(f'Training MAE: \\t{mean_absolute_error(ytrain, r_regression.predict(xtrain)):.5f}')\n",
    "print(f'Valid MAE: \\t{mean_absolute_error(yval, r_regression.predict(xval)):.5f}')"
   ]
  },
  {
   "cell_type": "markdown",
   "metadata": {
    "cell_id": "91b7e371abad442eb88a1535ba942301",
    "deepnote_app_coordinates": {
     "h": 5,
     "w": 12,
     "x": 0,
     "y": 421
    },
    "deepnote_cell_type": "markdown",
    "tags": []
   },
   "source": [
    "### Optimal Ridge regression"
   ]
  },
  {
   "cell_type": "code",
   "execution_count": 38,
   "metadata": {
    "cell_id": "26062aebcf674c3091fcb625f95801a7",
    "deepnote_app_coordinates": {
     "h": 5,
     "w": 12,
     "x": 0,
     "y": 427
    },
    "deepnote_cell_type": "code",
    "deepnote_to_be_reexecuted": false,
    "execution_millis": 109,
    "execution_start": 1670252844207,
    "source_hash": "83382948",
    "tags": []
   },
   "outputs": [
    {
     "name": "stdout",
     "output_type": "stream",
     "text": [
      "Training RMSE: \t4.48842\n",
      "Valid RMSE: \t4.36252\n",
      "***********************\n",
      "Training MAE: \t3.37670\n",
      "Valid MAE: \t3.27016\n"
     ]
    }
   ],
   "source": [
    "print(f'Training RMSE: \\t{RMSE_train_opt_ridge:.5f}')\n",
    "print(f'Valid RMSE: \\t{RMSE_val_opt_ridge:.5f}')\n",
    "print('***********************')\n",
    "print(f'Training MAE: \\t{mean_absolute_error(ytrain, clf_opt_ridge.predict(xtrain)):.5f}')\n",
    "print(f'Valid MAE: \\t{mean_absolute_error(yval, clf_opt_ridge.predict(xval)):.5f}')"
   ]
  },
  {
   "cell_type": "markdown",
   "metadata": {
    "cell_id": "4425799b45cd48e4884e615dd413d2ff",
    "deepnote_app_coordinates": {
     "h": 5,
     "w": 12,
     "x": 0,
     "y": 433
    },
    "deepnote_cell_type": "markdown",
    "tags": []
   },
   "source": [
    "### Standardized Ridge regression"
   ]
  },
  {
   "cell_type": "code",
   "execution_count": 39,
   "metadata": {
    "cell_id": "8269e59d1a7741b98b3b3d700d4a5396",
    "deepnote_app_coordinates": {
     "h": 5,
     "w": 12,
     "x": 0,
     "y": 439
    },
    "deepnote_cell_type": "code",
    "deepnote_to_be_reexecuted": false,
    "execution_millis": 20,
    "execution_start": 1670252844297,
    "source_hash": "932aec57",
    "tags": []
   },
   "outputs": [
    {
     "name": "stdout",
     "output_type": "stream",
     "text": [
      "Training RMSE: \t4.48871\n",
      "Valid RMSE: \t4.36293\n",
      "***********************\n",
      "Training MAE: \t3.38228\n",
      "Valid MAE: \t3.27658\n"
     ]
    }
   ],
   "source": [
    "print(f'Training RMSE: \\t{RMSE_train_std_ridge:.5f}')\n",
    "print(f'Valid RMSE: \\t{RMSE_val_std_ridge:.5f}')\n",
    "print('***********************')\n",
    "print(f'Training MAE: \\t{mean_absolute_error(ytrain, clf_std_ridge.predict(xtrain_sc)):.5f}')\n",
    "print(f'Valid MAE: \\t{mean_absolute_error(yval, clf_std_ridge.predict(xval_sc)):.5f}')"
   ]
  },
  {
   "cell_type": "markdown",
   "metadata": {
    "cell_id": "72721b4ab2d445238a8f22648ce6f0d5",
    "deepnote_app_coordinates": {
     "h": 5,
     "w": 12,
     "x": 0,
     "y": 445
    },
    "deepnote_cell_type": "markdown",
    "tags": []
   },
   "source": [
    "* When comparing all obtained models, I noticed that the correctness of the prediction of all models is approximately equal, and differs very insignificantly."
   ]
  },
  {
   "cell_type": "markdown",
   "metadata": {
    "cell_id": "bf103000eddb4847bc051dc9396ef708",
    "deepnote_app_coordinates": {
     "h": 5,
     "w": 12,
     "x": 0,
     "y": 451
    },
    "deepnote_cell_type": "markdown",
    "tags": []
   },
   "source": [
    "## Decision trees for regression\n",
    "\n",
    "I'll see how other models, discussed in BI-ML1, will work."
   ]
  },
  {
   "cell_type": "code",
   "execution_count": 40,
   "metadata": {
    "cell_id": "583d09b083c44f58a0352bf0dfdd73eb",
    "deepnote_app_coordinates": {
     "h": 5,
     "w": 12,
     "x": 0,
     "y": 457
    },
    "deepnote_cell_type": "code",
    "deepnote_to_be_reexecuted": false,
    "execution_millis": 880,
    "execution_start": 1670252844313,
    "source_hash": "344943f2",
    "tags": []
   },
   "outputs": [],
   "source": [
    "from sklearn.tree import DecisionTreeRegressor\n",
    "\n",
    "depths = range(1,30)\n",
    "val_metric = []\n",
    "for depth in depths:\n",
    "    tree_regression = DecisionTreeRegressor(max_depth = depth).fit(xtrain, ytrain)\n",
    "    val_metric.append(mean_squared_error(yval, tree_regression.predict(xval), squared = False))"
   ]
  },
  {
   "cell_type": "code",
   "execution_count": 41,
   "metadata": {
    "cell_id": "a6e36ab70a6c4e00995b4b500307327d",
    "deepnote_app_coordinates": {
     "h": 5,
     "w": 12,
     "x": 0,
     "y": 463
    },
    "deepnote_cell_type": "code",
    "deepnote_to_be_reexecuted": false,
    "execution_millis": 421,
    "execution_start": 1670252845199,
    "source_hash": "35d684f4",
    "tags": []
   },
   "outputs": [
    {
     "data": {
      "image/png": "[encoded data removed]",
      "text/plain": [
       "<Figure size 2000x600 with 1 Axes>"
      ]
     },
     "metadata": {
      "image/png": {
       "height": 514,
       "width": 1607
      }
     },
     "output_type": "display_data"
    }
   ],
   "source": [
    "plt.figure(figsize=(20,6))\n",
    "_ = plt.plot(depths, val_metric,'or-')"
   ]
  },
  {
   "cell_type": "markdown",
   "metadata": {
    "cell_id": "49de478b24594fc9afe40b8e497c950e",
    "deepnote_app_coordinates": {
     "h": 5,
     "w": 12,
     "x": 0,
     "y": 469
    },
    "deepnote_cell_type": "markdown",
    "tags": []
   },
   "source": [
    "* I'll see what the prediction looks like for the best metric."
   ]
  },
  {
   "cell_type": "code",
   "execution_count": 42,
   "metadata": {
    "cell_id": "914a0988cacc476285d91f0dc3238b5c",
    "deepnote_app_coordinates": {
     "h": 5,
     "w": 12,
     "x": 0,
     "y": 475
    },
    "deepnote_cell_type": "code",
    "deepnote_to_be_reexecuted": false,
    "execution_millis": 20,
    "execution_start": 1670252845629,
    "source_hash": "dd98897d",
    "tags": []
   },
   "outputs": [],
   "source": [
    "# Select the best parameters\n",
    "best_depth = depths[np.argmin(val_metric)]\n",
    "\n",
    "# Train DecisionTreeRegressor on them\n",
    "tree_regression = DecisionTreeRegressor(max_depth = best_depth).fit(xtrain, ytrain)"
   ]
  },
  {
   "cell_type": "code",
   "execution_count": 43,
   "metadata": {
    "cell_id": "957a413271b4409d8e30f655fb744a76",
    "deepnote_app_coordinates": {
     "h": 5,
     "w": 12,
     "x": 0,
     "y": 481
    },
    "deepnote_cell_type": "code",
    "deepnote_to_be_reexecuted": false,
    "execution_millis": 350,
    "execution_start": 1670252845658,
    "source_hash": "d2054ca9",
    "tags": []
   },
   "outputs": [
    {
     "data": {
      "image/png": "[encoded data removed]",
      "text/plain": [
       "<Figure size 500x300 with 1 Axes>"
      ]
     },
     "metadata": {
      "image/png": {
       "height": 279,
       "width": 440
      }
     },
     "output_type": "display_data"
    }
   ],
   "source": [
    "plt.scatter(ytrain,tree_regression.predict(xtrain))\n",
    "_ = plt.plot(ytrain,ytrain,'r')"
   ]
  },
  {
   "cell_type": "code",
   "execution_count": 44,
   "metadata": {
    "cell_id": "5d03e31df42b499f89899ad04c050dbc",
    "deepnote_app_coordinates": {
     "h": 5,
     "w": 12,
     "x": 0,
     "y": 487
    },
    "deepnote_cell_type": "code",
    "deepnote_to_be_reexecuted": false,
    "execution_millis": 16,
    "execution_start": 1670252846010,
    "source_hash": "3af2d78b",
    "tags": []
   },
   "outputs": [
    {
     "name": "stdout",
     "output_type": "stream",
     "text": [
      "Training RMSE: \t1.50110\n",
      "Valid RMSE: \t2.67557\n",
      "***********************\n",
      "Training MAE: \t0.91371\n",
      "Valid MAE: \t1.80196\n"
     ]
    }
   ],
   "source": [
    "RMSE_train_tree = mean_squared_error(ytrain,  tree_regression.predict(xtrain), squared = False)\n",
    "RMSE_val_tree = mean_squared_error(yval,  tree_regression.predict(xval), squared = False)\n",
    "print(f'Training RMSE: \\t{RMSE_train_tree:.5f}')\n",
    "print(f'Valid RMSE: \\t{RMSE_val_tree:.5f}')\n",
    "print('***********************')\n",
    "print(f'Training MAE: \\t{mean_absolute_error(ytrain, tree_regression.predict(xtrain)):.5f}')\n",
    "print(f'Valid MAE: \\t{mean_absolute_error(yval, tree_regression.predict(xval)):.5f}')"
   ]
  },
  {
   "cell_type": "markdown",
   "metadata": {
    "cell_id": "30ca2c712a8042c6ba5a9a579744b4b8",
    "deepnote_app_coordinates": {
     "h": 5,
     "w": 12,
     "x": 0,
     "y": 493
    },
    "deepnote_cell_type": "markdown",
    "tags": []
   },
   "source": [
    "### RandomForest\n",
    "Now I try the `RandomForestRegressor` model which is a random forest for regression."
   ]
  },
  {
   "cell_type": "code",
   "execution_count": 45,
   "metadata": {
    "cell_id": "035328c2569a4e1cb5f8a61a9527b9d9",
    "deepnote_app_coordinates": {
     "h": 5,
     "w": 12,
     "x": 0,
     "y": 499
    },
    "deepnote_cell_type": "code",
    "deepnote_to_be_reexecuted": false,
    "execution_millis": 6360,
    "execution_start": 1670252846033,
    "source_hash": "c224cd62",
    "tags": []
   },
   "outputs": [],
   "source": [
    "from sklearn.ensemble import RandomForestRegressor\n",
    "from sklearn.model_selection import ParameterGrid\n",
    "import sklearn.metrics as metrics\n",
    "\n",
    "param_grid_forest = {\n",
    "    'n_estimators': range(5, 40, 5),\n",
    "    'max_depth': range(1, 8)\n",
    "}\n",
    "\n",
    "param_comb_forest = ParameterGrid(param_grid_forest)\n",
    "\n",
    "val_metric_forest = []\n",
    "for params in param_comb_forest:\n",
    "    forest_regression = RandomForestRegressor(**params, random_state = 42).fit(xtrain, ytrain)\n",
    "    val_metric_forest.append(metrics.mean_squared_error(yval, forest_regression.predict(xval), squared = False))\n",
    "    \n",
    "best_params_forest = param_comb_forest[np.argmin(val_metric_forest)]"
   ]
  },
  {
   "cell_type": "code",
   "execution_count": 46,
   "metadata": {
    "cell_id": "5657e77489de4ba889f95ef916c9b050",
    "deepnote_app_coordinates": {
     "h": 5,
     "w": 12,
     "x": 0,
     "y": 505
    },
    "deepnote_cell_type": "code",
    "deepnote_to_be_reexecuted": false,
    "execution_millis": 43,
    "execution_start": 1670252852398,
    "source_hash": "d015a7b2",
    "tags": []
   },
   "outputs": [
    {
     "name": "stdout",
     "output_type": "stream",
     "text": [
      "Found the best params: {'n_estimators': 25, 'max_depth': 7}\n",
      "Training RMSE: \t1.67495\n",
      "Valid RMSE: \t2.00056\n",
      "***********************\n",
      "Training MAE: \t1.15575\n",
      "Valid MAE: \t1.40978\n"
     ]
    }
   ],
   "source": [
    "print('Found the best params: ' + str(best_params_forest))\n",
    "\n",
    "RMSE_train_forest = mean_squared_error(ytrain,  forest_regression.predict(xtrain), squared = False)\n",
    "RMSE_val_forest = mean_squared_error(yval,  forest_regression.predict(xval), squared = False)\n",
    "print(f'Training RMSE: \\t{RMSE_train_forest:.5f}')\n",
    "print(f'Valid RMSE: \\t{RMSE_val_forest:.5f}')\n",
    "print('***********************')\n",
    "print(f'Training MAE: \\t{mean_absolute_error(ytrain, forest_regression.predict(xtrain)):.5f}')\n",
    "print(f'Valid MAE: \\t{mean_absolute_error(yval, forest_regression.predict(xval)):.5f}')"
   ]
  },
  {
   "cell_type": "markdown",
   "metadata": {
    "cell_id": "91986961edef4db790b42b2b1a06a95e",
    "deepnote_app_coordinates": {
     "h": 5,
     "w": 12,
     "x": 0,
     "y": 511
    },
    "deepnote_cell_type": "markdown",
    "deepnote_to_be_reexecuted": false,
    "execution_millis": 0,
    "execution_start": 1669671297087,
    "source_hash": "b623e53d",
    "tags": []
   },
   "source": [
    "I see that the correctness of prediction in the `RandomForestRegressor` model is higher than in previous models."
   ]
  },
  {
   "cell_type": "markdown",
   "metadata": {
    "cell_id": "79a4d4b14b2145b880edddadf9cf6f18",
    "deepnote_app_coordinates": {
     "h": 5,
     "w": 12,
     "x": 0,
     "y": 517
    },
    "deepnote_cell_type": "markdown",
    "tags": []
   },
   "source": [
    "## KNN for regression\n",
    "I will try to implement another model."
   ]
  },
  {
   "cell_type": "code",
   "execution_count": 47,
   "metadata": {
    "cell_id": "c19990fcdf99411e9b9b2c57a4d43603",
    "deepnote_app_coordinates": {
     "h": 5,
     "w": 12,
     "x": 0,
     "y": 523
    },
    "deepnote_cell_type": "code",
    "deepnote_to_be_reexecuted": false,
    "execution_millis": 14,
    "execution_start": 1670252852443,
    "source_hash": "4e6ea0d1",
    "tags": []
   },
   "outputs": [
    {
     "data": {
      "text/html": [
       "<style>#sk-container-id-3 {color: black;background-color: white;}#sk-container-id-3 pre{padding: 0;}#sk-container-id-3 div.sk-toggleable {background-color: white;}#sk-container-id-3 label.sk-toggleable__label {cursor: pointer;display: block;width: 100%;margin-bottom: 0;padding: 0.3em;box-sizing: border-box;text-align: center;}#sk-container-id-3 label.sk-toggleable__label-arrow:before {content: \"▸\";float: left;margin-right: 0.25em;color: #696969;}#sk-container-id-3 label.sk-toggleable__label-arrow:hover:before {color: black;}#sk-container-id-3 div.sk-estimator:hover label.sk-toggleable__label-arrow:before {color: black;}#sk-container-id-3 div.sk-toggleable__content {max-height: 0;max-width: 0;overflow: hidden;text-align: left;background-color: #f0f8ff;}#sk-container-id-3 div.sk-toggleable__content pre {margin: 0.2em;color: black;border-radius: 0.25em;background-color: #f0f8ff;}#sk-container-id-3 input.sk-toggleable__control:checked~div.sk-toggleable__content {max-height: 200px;max-width: 100%;overflow: auto;}#sk-container-id-3 input.sk-toggleable__control:checked~label.sk-toggleable__label-arrow:before {content: \"▾\";}#sk-container-id-3 div.sk-estimator input.sk-toggleable__control:checked~label.sk-toggleable__label {background-color: #d4ebff;}#sk-container-id-3 div.sk-label input.sk-toggleable__control:checked~label.sk-toggleable__label {background-color: #d4ebff;}#sk-container-id-3 input.sk-hidden--visually {border: 0;clip: rect(1px 1px 1px 1px);clip: rect(1px, 1px, 1px, 1px);height: 1px;margin: -1px;overflow: hidden;padding: 0;position: absolute;width: 1px;}#sk-container-id-3 div.sk-estimator {font-family: monospace;background-color: #f0f8ff;border: 1px dotted black;border-radius: 0.25em;box-sizing: border-box;margin-bottom: 0.5em;}#sk-container-id-3 div.sk-estimator:hover {background-color: #d4ebff;}#sk-container-id-3 div.sk-parallel-item::after {content: \"\";width: 100%;border-bottom: 1px solid gray;flex-grow: 1;}#sk-container-id-3 div.sk-label:hover label.sk-toggleable__label {background-color: #d4ebff;}#sk-container-id-3 div.sk-serial::before {content: \"\";position: absolute;border-left: 1px solid gray;box-sizing: border-box;top: 0;bottom: 0;left: 50%;z-index: 0;}#sk-container-id-3 div.sk-serial {display: flex;flex-direction: column;align-items: center;background-color: white;padding-right: 0.2em;padding-left: 0.2em;position: relative;}#sk-container-id-3 div.sk-item {position: relative;z-index: 1;}#sk-container-id-3 div.sk-parallel {display: flex;align-items: stretch;justify-content: center;background-color: white;position: relative;}#sk-container-id-3 div.sk-item::before, #sk-container-id-3 div.sk-parallel-item::before {content: \"\";position: absolute;border-left: 1px solid gray;box-sizing: border-box;top: 0;bottom: 0;left: 50%;z-index: -1;}#sk-container-id-3 div.sk-parallel-item {display: flex;flex-direction: column;z-index: 1;position: relative;background-color: white;}#sk-container-id-3 div.sk-parallel-item:first-child::after {align-self: flex-end;width: 50%;}#sk-container-id-3 div.sk-parallel-item:last-child::after {align-self: flex-start;width: 50%;}#sk-container-id-3 div.sk-parallel-item:only-child::after {width: 0;}#sk-container-id-3 div.sk-dashed-wrapped {border: 1px dashed gray;margin: 0 0.4em 0.5em 0.4em;box-sizing: border-box;padding-bottom: 0.4em;background-color: white;}#sk-container-id-3 div.sk-label label {font-family: monospace;font-weight: bold;display: inline-block;line-height: 1.2em;}#sk-container-id-3 div.sk-label-container {text-align: center;}#sk-container-id-3 div.sk-container {/* jupyter's `normalize.less` sets `[hidden] { display: none; }` but bootstrap.min.css set `[hidden] { display: none !important; }` so we also need the `!important` here to be able to override the default hidden behavior on the sphinx rendered scikit-learn.org. See: https://github.com/scikit-learn/scikit-learn/issues/21755 */display: inline-block !important;position: relative;}#sk-container-id-3 div.sk-text-repr-fallback {display: none;}</style><div id=\"sk-container-id-3\" class=\"sk-top-container\"><div class=\"sk-text-repr-fallback\"><pre>KNeighborsRegressor()</pre><b>In a Jupyter environment, please rerun this cell to show the HTML representation or trust the notebook. <br />On GitHub, the HTML representation is unable to render, please try loading this page with nbviewer.org.</b></div><div class=\"sk-container\" hidden><div class=\"sk-item\"><div class=\"sk-estimator sk-toggleable\"><input class=\"sk-toggleable__control sk-hidden--visually\" id=\"sk-estimator-id-3\" type=\"checkbox\" checked><label for=\"sk-estimator-id-3\" class=\"sk-toggleable__label sk-toggleable__label-arrow\">KNeighborsRegressor</label><div class=\"sk-toggleable__content\"><pre>KNeighborsRegressor()</pre></div></div></div></div></div>"
      ],
      "text/plain": [
       "KNeighborsRegressor()"
      ]
     },
     "execution_count": 47,
     "metadata": {},
     "output_type": "execute_result"
    }
   ],
   "source": [
    "from sklearn.neighbors import KNeighborsRegressor\n",
    "\n",
    "KNN_regression = KNeighborsRegressor(n_neighbors=5)\n",
    "KNN_regression.fit(xtrain, ytrain)"
   ]
  },
  {
   "cell_type": "code",
   "execution_count": 48,
   "metadata": {
    "cell_id": "385bcb7f85624072b07a8fb85283618c",
    "deepnote_app_coordinates": {
     "h": 5,
     "w": 12,
     "x": 0,
     "y": 529
    },
    "deepnote_cell_type": "code",
    "deepnote_to_be_reexecuted": false,
    "execution_millis": 237,
    "execution_start": 1670252852488,
    "source_hash": "16f55e6c",
    "tags": []
   },
   "outputs": [
    {
     "name": "stdout",
     "output_type": "stream",
     "text": [
      "Training RMSE: \t7.13748\n",
      "Valid RMSE: \t8.94906\n",
      "***********************\n",
      "Training MAE: \t5.29231\n",
      "Valid MAE: \t6.70102\n"
     ]
    }
   ],
   "source": [
    "RMSE_train_knn = mean_squared_error(ytrain, KNN_regression.predict(xtrain), squared = False)\n",
    "RMSE_val_knn = mean_squared_error(yval, KNN_regression.predict(xval), squared = False)\n",
    "print(f'Training RMSE: \\t{RMSE_train_knn:.5f}')\n",
    "print(f'Valid RMSE: \\t{RMSE_val_knn:.5f}')\n",
    "print('***********************')\n",
    "print(f'Training MAE: \\t{mean_absolute_error(ytrain, KNN_regression.predict(xtrain)):.5f}')\n",
    "print(f'Valid MAE: \\t{mean_absolute_error(yval, KNN_regression.predict(xval)):.5f}')"
   ]
  },
  {
   "cell_type": "markdown",
   "metadata": {
    "cell_id": "6f70830067d64d948050aca5adabe3a6",
    "deepnote_app_coordinates": {
     "h": 5,
     "w": 12,
     "x": 0,
     "y": 535
    },
    "deepnote_cell_type": "markdown",
    "tags": []
   },
   "source": [
    "* See that the correctness of the guess is low. I will try to use `normalization`.\n"
   ]
  },
  {
   "cell_type": "markdown",
   "metadata": {
    "cell_id": "8d24401b77fd4409aef1a817dd6bc3ad",
    "deepnote_app_coordinates": {
     "h": 5,
     "w": 12,
     "x": 0,
     "y": 541
    },
    "deepnote_cell_type": "markdown",
    "tags": []
   },
   "source": [
    "### Normalization"
   ]
  },
  {
   "cell_type": "code",
   "execution_count": 49,
   "metadata": {
    "cell_id": "1a37bee2dde9445dbe5cd1b7935427e3",
    "deepnote_app_coordinates": {
     "h": 5,
     "w": 12,
     "x": 0,
     "y": 547
    },
    "deepnote_cell_type": "code",
    "deepnote_to_be_reexecuted": false,
    "execution_millis": 18,
    "execution_start": 1670252852731,
    "source_hash": "cf9f789d",
    "tags": []
   },
   "outputs": [],
   "source": [
    "from sklearn.preprocessing import MinMaxScaler\n",
    "\n",
    "scaler = MinMaxScaler()\n",
    "xtrain_scaler = pd.DataFrame(scaler.fit_transform(xtrain), index=xtrain.index, columns=xtrain.columns)\n",
    "xval_scaler = pd.DataFrame(scaler.transform(xval), index=xval.index, columns=xval.columns)\n",
    "xtest_scaler = pd.DataFrame(scaler.transform(xtest), index=xtest.index, columns=xtest.columns)"
   ]
  },
  {
   "cell_type": "code",
   "execution_count": 50,
   "metadata": {
    "cell_id": "fb1b8a32924a4a8097d545d783a9f393",
    "deepnote_app_coordinates": {
     "h": 5,
     "w": 12,
     "x": 0,
     "y": 553
    },
    "deepnote_cell_type": "code",
    "deepnote_to_be_reexecuted": false,
    "execution_millis": 76,
    "execution_start": 1670252852757,
    "source_hash": "d5bbf7d6",
    "tags": []
   },
   "outputs": [
    {
     "name": "stdout",
     "output_type": "stream",
     "text": [
      "Training RMSE: \t2.80716\n",
      "Valid RMSE: \t3.21681\n",
      "***********************\n",
      "Training MAE: \t1.95741\n",
      "Valid MAE: \t2.31672\n"
     ]
    }
   ],
   "source": [
    "# Trening model\n",
    "KNN_n_regression = KNeighborsRegressor(n_neighbors=5)\n",
    "KNN_n_regression.fit(xtrain_scaler, ytrain)\n",
    "\n",
    "RMSE_train_knn_n = mean_squared_error(ytrain, KNN_n_regression.predict(xtrain_scaler), squared = False)\n",
    "RMSE_val_knn_n = mean_squared_error(yval, KNN_n_regression.predict(xval_scaler), squared = False)\n",
    "print(f'Training RMSE: \\t{RMSE_train_knn_n:.5f}')\n",
    "print(f'Valid RMSE: \\t{RMSE_val_knn_n:.5f}')\n",
    "print('***********************')\n",
    "print(f'Training MAE: \\t{mean_absolute_error(ytrain, KNN_n_regression.predict(xtrain_scaler)):.5f}')\n",
    "print(f'Valid MAE: \\t{mean_absolute_error(yval, KNN_n_regression.predict(xval_scaler)):.5f}')"
   ]
  },
  {
   "cell_type": "markdown",
   "metadata": {
    "cell_id": "7c3e8e980386449a95aebe0fa6a26d94",
    "deepnote_app_coordinates": {
     "h": 5,
     "w": 12,
     "x": 0,
     "y": 559
    },
    "deepnote_cell_type": "markdown",
    "tags": []
   },
   "source": [
    "* The normalization has greatly improved the KNN regression model."
   ]
  },
  {
   "cell_type": "markdown",
   "metadata": {
    "cell_id": "5b403eeb1cdc4409bd421de6a2356123",
    "deepnote_app_coordinates": {
     "h": 5,
     "w": 12,
     "x": 0,
     "y": 565
    },
    "deepnote_cell_type": "markdown"
   },
   "source": [
    "### Grid search\n",
    "I will try to improve the result by searching for the best hyperparameters for the model.\n",
    "* `GridSearchCV` is also known as `GridSearch cross-validation`: an internal cross-validation technique is used to calculate the score for each combination of parameters on the grid."
   ]
  },
  {
   "cell_type": "code",
   "execution_count": 51,
   "metadata": {
    "cell_id": "d90f39540cfd47b9ac659c2cb652a017",
    "deepnote_app_coordinates": {
     "h": 5,
     "w": 12,
     "x": 0,
     "y": 571
    },
    "deepnote_cell_type": "code",
    "deepnote_to_be_reexecuted": false,
    "execution_millis": 12005,
    "execution_start": 1670252852837,
    "source_hash": "ce0aba"
   },
   "outputs": [
    {
     "data": {
      "text/html": [
       "<style>#sk-container-id-4 {color: black;background-color: white;}#sk-container-id-4 pre{padding: 0;}#sk-container-id-4 div.sk-toggleable {background-color: white;}#sk-container-id-4 label.sk-toggleable__label {cursor: pointer;display: block;width: 100%;margin-bottom: 0;padding: 0.3em;box-sizing: border-box;text-align: center;}#sk-container-id-4 label.sk-toggleable__label-arrow:before {content: \"▸\";float: left;margin-right: 0.25em;color: #696969;}#sk-container-id-4 label.sk-toggleable__label-arrow:hover:before {color: black;}#sk-container-id-4 div.sk-estimator:hover label.sk-toggleable__label-arrow:before {color: black;}#sk-container-id-4 div.sk-toggleable__content {max-height: 0;max-width: 0;overflow: hidden;text-align: left;background-color: #f0f8ff;}#sk-container-id-4 div.sk-toggleable__content pre {margin: 0.2em;color: black;border-radius: 0.25em;background-color: #f0f8ff;}#sk-container-id-4 input.sk-toggleable__control:checked~div.sk-toggleable__content {max-height: 200px;max-width: 100%;overflow: auto;}#sk-container-id-4 input.sk-toggleable__control:checked~label.sk-toggleable__label-arrow:before {content: \"▾\";}#sk-container-id-4 div.sk-estimator input.sk-toggleable__control:checked~label.sk-toggleable__label {background-color: #d4ebff;}#sk-container-id-4 div.sk-label input.sk-toggleable__control:checked~label.sk-toggleable__label {background-color: #d4ebff;}#sk-container-id-4 input.sk-hidden--visually {border: 0;clip: rect(1px 1px 1px 1px);clip: rect(1px, 1px, 1px, 1px);height: 1px;margin: -1px;overflow: hidden;padding: 0;position: absolute;width: 1px;}#sk-container-id-4 div.sk-estimator {font-family: monospace;background-color: #f0f8ff;border: 1px dotted black;border-radius: 0.25em;box-sizing: border-box;margin-bottom: 0.5em;}#sk-container-id-4 div.sk-estimator:hover {background-color: #d4ebff;}#sk-container-id-4 div.sk-parallel-item::after {content: \"\";width: 100%;border-bottom: 1px solid gray;flex-grow: 1;}#sk-container-id-4 div.sk-label:hover label.sk-toggleable__label {background-color: #d4ebff;}#sk-container-id-4 div.sk-serial::before {content: \"\";position: absolute;border-left: 1px solid gray;box-sizing: border-box;top: 0;bottom: 0;left: 50%;z-index: 0;}#sk-container-id-4 div.sk-serial {display: flex;flex-direction: column;align-items: center;background-color: white;padding-right: 0.2em;padding-left: 0.2em;position: relative;}#sk-container-id-4 div.sk-item {position: relative;z-index: 1;}#sk-container-id-4 div.sk-parallel {display: flex;align-items: stretch;justify-content: center;background-color: white;position: relative;}#sk-container-id-4 div.sk-item::before, #sk-container-id-4 div.sk-parallel-item::before {content: \"\";position: absolute;border-left: 1px solid gray;box-sizing: border-box;top: 0;bottom: 0;left: 50%;z-index: -1;}#sk-container-id-4 div.sk-parallel-item {display: flex;flex-direction: column;z-index: 1;position: relative;background-color: white;}#sk-container-id-4 div.sk-parallel-item:first-child::after {align-self: flex-end;width: 50%;}#sk-container-id-4 div.sk-parallel-item:last-child::after {align-self: flex-start;width: 50%;}#sk-container-id-4 div.sk-parallel-item:only-child::after {width: 0;}#sk-container-id-4 div.sk-dashed-wrapped {border: 1px dashed gray;margin: 0 0.4em 0.5em 0.4em;box-sizing: border-box;padding-bottom: 0.4em;background-color: white;}#sk-container-id-4 div.sk-label label {font-family: monospace;font-weight: bold;display: inline-block;line-height: 1.2em;}#sk-container-id-4 div.sk-label-container {text-align: center;}#sk-container-id-4 div.sk-container {/* jupyter's `normalize.less` sets `[hidden] { display: none; }` but bootstrap.min.css set `[hidden] { display: none !important; }` so we also need the `!important` here to be able to override the default hidden behavior on the sphinx rendered scikit-learn.org. See: https://github.com/scikit-learn/scikit-learn/issues/21755 */display: inline-block !important;position: relative;}#sk-container-id-4 div.sk-text-repr-fallback {display: none;}</style><div id=\"sk-container-id-4\" class=\"sk-top-container\"><div class=\"sk-text-repr-fallback\"><pre>GridSearchCV(estimator=KNeighborsRegressor(),\n",
       "             param_grid={&#x27;metric&#x27;: [&#x27;euclidean&#x27;, &#x27;manhattan&#x27;, &#x27;minkowski&#x27;],\n",
       "                         &#x27;n_neighbors&#x27;: range(3, 35),\n",
       "                         &#x27;weights&#x27;: [&#x27;uniform&#x27;, &#x27;distance&#x27;]})</pre><b>In a Jupyter environment, please rerun this cell to show the HTML representation or trust the notebook. <br />On GitHub, the HTML representation is unable to render, please try loading this page with nbviewer.org.</b></div><div class=\"sk-container\" hidden><div class=\"sk-item sk-dashed-wrapped\"><div class=\"sk-label-container\"><div class=\"sk-label sk-toggleable\"><input class=\"sk-toggleable__control sk-hidden--visually\" id=\"sk-estimator-id-4\" type=\"checkbox\" ><label for=\"sk-estimator-id-4\" class=\"sk-toggleable__label sk-toggleable__label-arrow\">GridSearchCV</label><div class=\"sk-toggleable__content\"><pre>GridSearchCV(estimator=KNeighborsRegressor(),\n",
       "             param_grid={&#x27;metric&#x27;: [&#x27;euclidean&#x27;, &#x27;manhattan&#x27;, &#x27;minkowski&#x27;],\n",
       "                         &#x27;n_neighbors&#x27;: range(3, 35),\n",
       "                         &#x27;weights&#x27;: [&#x27;uniform&#x27;, &#x27;distance&#x27;]})</pre></div></div></div><div class=\"sk-parallel\"><div class=\"sk-parallel-item\"><div class=\"sk-item\"><div class=\"sk-label-container\"><div class=\"sk-label sk-toggleable\"><input class=\"sk-toggleable__control sk-hidden--visually\" id=\"sk-estimator-id-5\" type=\"checkbox\" ><label for=\"sk-estimator-id-5\" class=\"sk-toggleable__label sk-toggleable__label-arrow\">estimator: KNeighborsRegressor</label><div class=\"sk-toggleable__content\"><pre>KNeighborsRegressor()</pre></div></div></div><div class=\"sk-serial\"><div class=\"sk-item\"><div class=\"sk-estimator sk-toggleable\"><input class=\"sk-toggleable__control sk-hidden--visually\" id=\"sk-estimator-id-6\" type=\"checkbox\" ><label for=\"sk-estimator-id-6\" class=\"sk-toggleable__label sk-toggleable__label-arrow\">KNeighborsRegressor</label><div class=\"sk-toggleable__content\"><pre>KNeighborsRegressor()</pre></div></div></div></div></div></div></div></div></div></div>"
      ],
      "text/plain": [
       "GridSearchCV(estimator=KNeighborsRegressor(),\n",
       "             param_grid={'metric': ['euclidean', 'manhattan', 'minkowski'],\n",
       "                         'n_neighbors': range(3, 35),\n",
       "                         'weights': ['uniform', 'distance']})"
      ]
     },
     "execution_count": 51,
     "metadata": {},
     "output_type": "execute_result"
    }
   ],
   "source": [
    "from sklearn.model_selection import GridSearchCV\n",
    "\n",
    "param_grid_knn = {\n",
    "    'n_neighbors': range(3, 35),\n",
    "    'weights': ['uniform', 'distance'],\n",
    "    'metric': ['euclidean', 'manhattan', 'minkowski']\n",
    "}\n",
    "KNN_n_regression_grid = GridSearchCV(estimator=KNN_n_regression, param_grid=param_grid_knn)\n",
    "KNN_n_regression_grid.fit(xtrain_scaler, ytrain)"
   ]
  },
  {
   "cell_type": "code",
   "execution_count": 52,
   "metadata": {
    "cell_id": "256a2367238a4746bebb3106bdb8ac02",
    "deepnote_app_coordinates": {
     "h": 5,
     "w": 12,
     "x": 0,
     "y": 577
    },
    "deepnote_cell_type": "code",
    "deepnote_to_be_reexecuted": false,
    "execution_millis": 3,
    "execution_start": 1670252864847,
    "source_hash": "16d3afe3"
   },
   "outputs": [
    {
     "name": "stdout",
     "output_type": "stream",
     "text": [
      "Best tuned hyperparameters: {'metric': 'manhattan', 'n_neighbors': 3, 'weights': 'distance'}\n"
     ]
    }
   ],
   "source": [
    "print('Best tuned hyperparameters:', KNN_n_regression_grid.best_params_)"
   ]
  },
  {
   "cell_type": "code",
   "execution_count": 53,
   "metadata": {
    "cell_id": "02d187856ec6449cb724bddf39d91e92",
    "deepnote_app_coordinates": {
     "h": 5,
     "w": 12,
     "x": 0,
     "y": 583
    },
    "deepnote_cell_type": "code",
    "deepnote_to_be_reexecuted": false,
    "execution_millis": 6,
    "execution_start": 1670252864852,
    "source_hash": "3645e0b9",
    "tags": []
   },
   "outputs": [
    {
     "data": {
      "text/plain": [
       "{'cv': None,\n",
       " 'error_score': nan,\n",
       " 'estimator__algorithm': 'auto',\n",
       " 'estimator__leaf_size': 30,\n",
       " 'estimator__metric': 'minkowski',\n",
       " 'estimator__metric_params': None,\n",
       " 'estimator__n_jobs': None,\n",
       " 'estimator__n_neighbors': 5,\n",
       " 'estimator__p': 2,\n",
       " 'estimator__weights': 'uniform',\n",
       " 'estimator': KNeighborsRegressor(),\n",
       " 'n_jobs': None,\n",
       " 'param_grid': {'n_neighbors': range(3, 35),\n",
       "  'weights': ['uniform', 'distance'],\n",
       "  'metric': ['euclidean', 'manhattan', 'minkowski']},\n",
       " 'pre_dispatch': '2*n_jobs',\n",
       " 'refit': True,\n",
       " 'return_train_score': False,\n",
       " 'scoring': None,\n",
       " 'verbose': 0}"
      ]
     },
     "execution_count": 53,
     "metadata": {},
     "output_type": "execute_result"
    }
   ],
   "source": [
    "KNN_n_regression_grid.get_params()"
   ]
  },
  {
   "cell_type": "code",
   "execution_count": 54,
   "metadata": {
    "cell_id": "6d2fe7eec43e4cc9a12b6871eb674164",
    "deepnote_app_coordinates": {
     "h": 5,
     "w": 12,
     "x": 0,
     "y": 589
    },
    "deepnote_cell_type": "code",
    "deepnote_to_be_reexecuted": false,
    "execution_millis": 5,
    "execution_start": 1670252864861,
    "source_hash": "aa4c4df3",
    "tags": []
   },
   "outputs": [
    {
     "data": {
      "text/plain": [
       "{'algorithm': 'auto',\n",
       " 'leaf_size': 30,\n",
       " 'metric': 'manhattan',\n",
       " 'metric_params': None,\n",
       " 'n_jobs': None,\n",
       " 'n_neighbors': 3,\n",
       " 'p': 2,\n",
       " 'weights': 'distance'}"
      ]
     },
     "execution_count": 54,
     "metadata": {},
     "output_type": "execute_result"
    }
   ],
   "source": [
    "KNN_n_regression_grid = KNeighborsRegressor(**KNN_n_regression_grid.best_params_)\n",
    "KNN_n_regression_grid.get_params()"
   ]
  },
  {
   "cell_type": "code",
   "execution_count": 55,
   "metadata": {
    "cell_id": "17198c91bde444e59e2731ff9a689af3",
    "deepnote_app_coordinates": {
     "h": 5,
     "w": 12,
     "x": 0,
     "y": 595
    },
    "deepnote_cell_type": "code",
    "deepnote_to_be_reexecuted": false,
    "execution_millis": 1,
    "execution_start": 1670252864905,
    "source_hash": "3b5982f7",
    "tags": []
   },
   "outputs": [
    {
     "data": {
      "text/html": [
       "<style>#sk-container-id-5 {color: black;background-color: white;}#sk-container-id-5 pre{padding: 0;}#sk-container-id-5 div.sk-toggleable {background-color: white;}#sk-container-id-5 label.sk-toggleable__label {cursor: pointer;display: block;width: 100%;margin-bottom: 0;padding: 0.3em;box-sizing: border-box;text-align: center;}#sk-container-id-5 label.sk-toggleable__label-arrow:before {content: \"▸\";float: left;margin-right: 0.25em;color: #696969;}#sk-container-id-5 label.sk-toggleable__label-arrow:hover:before {color: black;}#sk-container-id-5 div.sk-estimator:hover label.sk-toggleable__label-arrow:before {color: black;}#sk-container-id-5 div.sk-toggleable__content {max-height: 0;max-width: 0;overflow: hidden;text-align: left;background-color: #f0f8ff;}#sk-container-id-5 div.sk-toggleable__content pre {margin: 0.2em;color: black;border-radius: 0.25em;background-color: #f0f8ff;}#sk-container-id-5 input.sk-toggleable__control:checked~div.sk-toggleable__content {max-height: 200px;max-width: 100%;overflow: auto;}#sk-container-id-5 input.sk-toggleable__control:checked~label.sk-toggleable__label-arrow:before {content: \"▾\";}#sk-container-id-5 div.sk-estimator input.sk-toggleable__control:checked~label.sk-toggleable__label {background-color: #d4ebff;}#sk-container-id-5 div.sk-label input.sk-toggleable__control:checked~label.sk-toggleable__label {background-color: #d4ebff;}#sk-container-id-5 input.sk-hidden--visually {border: 0;clip: rect(1px 1px 1px 1px);clip: rect(1px, 1px, 1px, 1px);height: 1px;margin: -1px;overflow: hidden;padding: 0;position: absolute;width: 1px;}#sk-container-id-5 div.sk-estimator {font-family: monospace;background-color: #f0f8ff;border: 1px dotted black;border-radius: 0.25em;box-sizing: border-box;margin-bottom: 0.5em;}#sk-container-id-5 div.sk-estimator:hover {background-color: #d4ebff;}#sk-container-id-5 div.sk-parallel-item::after {content: \"\";width: 100%;border-bottom: 1px solid gray;flex-grow: 1;}#sk-container-id-5 div.sk-label:hover label.sk-toggleable__label {background-color: #d4ebff;}#sk-container-id-5 div.sk-serial::before {content: \"\";position: absolute;border-left: 1px solid gray;box-sizing: border-box;top: 0;bottom: 0;left: 50%;z-index: 0;}#sk-container-id-5 div.sk-serial {display: flex;flex-direction: column;align-items: center;background-color: white;padding-right: 0.2em;padding-left: 0.2em;position: relative;}#sk-container-id-5 div.sk-item {position: relative;z-index: 1;}#sk-container-id-5 div.sk-parallel {display: flex;align-items: stretch;justify-content: center;background-color: white;position: relative;}#sk-container-id-5 div.sk-item::before, #sk-container-id-5 div.sk-parallel-item::before {content: \"\";position: absolute;border-left: 1px solid gray;box-sizing: border-box;top: 0;bottom: 0;left: 50%;z-index: -1;}#sk-container-id-5 div.sk-parallel-item {display: flex;flex-direction: column;z-index: 1;position: relative;background-color: white;}#sk-container-id-5 div.sk-parallel-item:first-child::after {align-self: flex-end;width: 50%;}#sk-container-id-5 div.sk-parallel-item:last-child::after {align-self: flex-start;width: 50%;}#sk-container-id-5 div.sk-parallel-item:only-child::after {width: 0;}#sk-container-id-5 div.sk-dashed-wrapped {border: 1px dashed gray;margin: 0 0.4em 0.5em 0.4em;box-sizing: border-box;padding-bottom: 0.4em;background-color: white;}#sk-container-id-5 div.sk-label label {font-family: monospace;font-weight: bold;display: inline-block;line-height: 1.2em;}#sk-container-id-5 div.sk-label-container {text-align: center;}#sk-container-id-5 div.sk-container {/* jupyter's `normalize.less` sets `[hidden] { display: none; }` but bootstrap.min.css set `[hidden] { display: none !important; }` so we also need the `!important` here to be able to override the default hidden behavior on the sphinx rendered scikit-learn.org. See: https://github.com/scikit-learn/scikit-learn/issues/21755 */display: inline-block !important;position: relative;}#sk-container-id-5 div.sk-text-repr-fallback {display: none;}</style><div id=\"sk-container-id-5\" class=\"sk-top-container\"><div class=\"sk-text-repr-fallback\"><pre>KNeighborsRegressor(metric=&#x27;manhattan&#x27;, n_neighbors=3, weights=&#x27;distance&#x27;)</pre><b>In a Jupyter environment, please rerun this cell to show the HTML representation or trust the notebook. <br />On GitHub, the HTML representation is unable to render, please try loading this page with nbviewer.org.</b></div><div class=\"sk-container\" hidden><div class=\"sk-item\"><div class=\"sk-estimator sk-toggleable\"><input class=\"sk-toggleable__control sk-hidden--visually\" id=\"sk-estimator-id-7\" type=\"checkbox\" checked><label for=\"sk-estimator-id-7\" class=\"sk-toggleable__label sk-toggleable__label-arrow\">KNeighborsRegressor</label><div class=\"sk-toggleable__content\"><pre>KNeighborsRegressor(metric=&#x27;manhattan&#x27;, n_neighbors=3, weights=&#x27;distance&#x27;)</pre></div></div></div></div></div>"
      ],
      "text/plain": [
       "KNeighborsRegressor(metric='manhattan', n_neighbors=3, weights='distance')"
      ]
     },
     "execution_count": 55,
     "metadata": {},
     "output_type": "execute_result"
    }
   ],
   "source": [
    "KNN_n_regression_grid.fit(xtrain_scaler, ytrain)"
   ]
  },
  {
   "cell_type": "code",
   "execution_count": 56,
   "metadata": {
    "cell_id": "5a285253a6514da0a58b95c5c0bd737a",
    "deepnote_app_coordinates": {
     "h": 5,
     "w": 12,
     "x": 0,
     "y": 601
    },
    "deepnote_cell_type": "code",
    "deepnote_to_be_reexecuted": false,
    "execution_millis": 220,
    "execution_start": 1670252864906,
    "source_hash": "5dc51c88"
   },
   "outputs": [
    {
     "name": "stdout",
     "output_type": "stream",
     "text": [
      "Training RMSE: \t0.00000\n",
      "Valid RMSE: \t2.24319\n",
      "***********************\n",
      "Training MAE: \t0.00000\n",
      "Valid MAE: \t1.40232\n"
     ]
    }
   ],
   "source": [
    "RMSE_train_knn_n_grid = mean_squared_error(ytrain, KNN_n_regression_grid.predict(xtrain_scaler), squared = False)\n",
    "RMSE_val_knn_n_grid = mean_squared_error(yval, KNN_n_regression_grid.predict(xval_scaler), squared = False)\n",
    "print(f'Training RMSE: \\t{RMSE_train_knn_n_grid:.5f}')\n",
    "print(f'Valid RMSE: \\t{RMSE_val_knn_n_grid:.5f}')\n",
    "print('***********************')\n",
    "print(f'Training MAE: \\t{mean_absolute_error(ytrain, KNN_n_regression_grid.predict(xtrain_scaler)):.5f}')\n",
    "print(f'Valid MAE: \\t{mean_absolute_error(yval, KNN_n_regression_grid.predict(xval_scaler)):.5f}')"
   ]
  },
  {
   "cell_type": "markdown",
   "metadata": {
    "cell_id": "261df541fa334ba696394afce5606daa",
    "deepnote_app_coordinates": {
     "h": 5,
     "w": 12,
     "x": 0,
     "y": 607
    },
    "deepnote_cell_type": "markdown"
   },
   "source": [
    "* This model is one of the few that received a low `RMSE` and `MAE`, I've received so far. But it's still a bit inferior to the **random forest model** due to `RMSE`. This model has come with `overfitting` in Training set."
   ]
  },
  {
   "cell_type": "markdown",
   "metadata": {
    "cell_id": "2a3df6953da7443ea93284b4479f19ef",
    "deepnote_app_coordinates": {
     "h": 5,
     "w": 12,
     "x": 0,
     "y": 613
    },
    "deepnote_cell_type": "markdown",
    "tags": []
   },
   "source": [
    "## Bottom line\n",
    "Finally, I'll select the best model (`relative to RMSE`) and estimate what RMSE and MAE I can expect on the new data that I did not have so far.\n",
    "* My best model is `Random Forest Regression`."
   ]
  },
  {
   "cell_type": "code",
   "execution_count": 57,
   "metadata": {
    "cell_id": "3120b2978b774657b6fe3bf1e02cd518",
    "deepnote_app_coordinates": {
     "h": 5,
     "w": 12,
     "x": 0,
     "y": 619
    },
    "deepnote_cell_type": "code",
    "deepnote_to_be_reexecuted": false,
    "execution_millis": 18,
    "execution_start": 1670252865128,
    "source_hash": "900fd631",
    "tags": []
   },
   "outputs": [
    {
     "name": "stdout",
     "output_type": "stream",
     "text": [
      "Expecting Testing RMSE: 2.36563\n",
      "*******************************\n",
      "Expecting Testing MAE: \t1.60401\n"
     ]
    }
   ],
   "source": [
    "RMSE_test_forest = mean_squared_error(ytest, forest_regression.predict(xtest), squared = False)\n",
    "print(f'Expecting Testing RMSE: {RMSE_test_forest:.5f}')\n",
    "print('*******************************')\n",
    "print(f'Expecting Testing MAE: \\t{mean_absolute_error(ytest, forest_regression.predict(xtest)):.5f}')"
   ]
  },
  {
   "cell_type": "markdown",
   "metadata": {
    "cell_id": "d438a1f02548461bad4fa8160210f0d7",
    "deepnote_app_coordinates": {
     "h": 5,
     "w": 12,
     "x": 0,
     "y": 625
    },
    "deepnote_cell_type": "markdown",
    "tags": []
   },
   "source": [
    "Finally, I would like to measure `The coefficient of determination` - R2 (the coefficient \"R squared\") expresses what proportion of the variability in the target variable.\n",
    "* The best possible score is 1 which is obtained when the predicted values are the same as the actual values."
   ]
  },
  {
   "cell_type": "code",
   "execution_count": 58,
   "metadata": {
    "cell_id": "6d4ae2ef169c4e1890e909375b02218a",
    "deepnote_app_coordinates": {
     "h": 5,
     "w": 12,
     "x": 0,
     "y": 631
    },
    "deepnote_cell_type": "code",
    "deepnote_to_be_reexecuted": false,
    "execution_millis": 12,
    "execution_start": 1670252865151,
    "source_hash": "85bf6fd5",
    "tags": []
   },
   "outputs": [
    {
     "data": {
      "text/plain": [
       "0.9419510228864769"
      ]
     },
     "execution_count": 58,
     "metadata": {},
     "output_type": "execute_result"
    }
   ],
   "source": [
    "from sklearn.metrics import r2_score\n",
    "r2_score(ytest, forest_regression.predict(xtest))"
   ]
  },
  {
   "cell_type": "code",
   "execution_count": 59,
   "metadata": {
    "cell_id": "c7838a8c7aa34e3785a8a0079542bc5f",
    "deepnote_app_coordinates": {
     "h": 5,
     "w": 12,
     "x": 0,
     "y": 637
    },
    "deepnote_cell_type": "code",
    "deepnote_to_be_reexecuted": false,
    "execution_millis": 367,
    "execution_start": 1670252865206,
    "source_hash": "b39f8d90",
    "tags": []
   },
   "outputs": [
    {
     "data": {
      "image/png": "[encoded data removed]",
      "text/plain": [
       "<Figure size 500x300 with 1 Axes>"
      ]
     },
     "metadata": {
      "image/png": {
       "height": 282,
       "width": 445
      }
     },
     "output_type": "display_data"
    }
   ],
   "source": [
    "plt.scatter(ytest,forest_regression.predict(xtest))\n",
    "_ = plt.plot(ytest,ytest,'r')"
   ]
  },
  {
   "cell_type": "markdown",
   "metadata": {
    "created_in_deepnote_cell": true,
    "deepnote_cell_type": "markdown",
    "tags": []
   },
   "source": [
    "<a style='text-decoration:none;line-height:16px;display:flex;color:#5B5B62;padding:10px;justify-content:end;' href='https://deepnote.com?utm_source=created-in-deepnote-cell&projectId=a9e799fe-978a-4a95-aaaf-951be3711fb0' target=\"_blank\">\n",
    "<img alt='Created in deepnote.com' style='display:inline;max-height:16px;margin:0px;margin-right:7.5px;' src='data:image/svg+xml;base64,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' > </img>\n",
    "Created in <span style='font-weight:600;margin-left:4px;'>Deepnote</span></a>"
   ]
  }
 ],
 "metadata": {
  "deepnote": {},
  "deepnote_app_layout": "article",
  "deepnote_execution_queue": [],
  "deepnote_notebook_id": "8343b29f435a4a07bfdf3f60f648d9c2",
  "kernelspec": {
   "display_name": "Python 3 (ipykernel)",
   "language": "python",
   "name": "python3"
  },
  "language_info": {
   "codemirror_mode": {
    "name": "ipython",
    "version": 3
   },
   "file_extension": ".py",
   "mimetype": "text/x-python",
   "name": "python",
   "nbconvert_exporter": "python",
   "pygments_lexer": "ipython3",
   "version": "3.9.13"
  }
 },
 "nbformat": 4,
 "nbformat_minor": 1
}
