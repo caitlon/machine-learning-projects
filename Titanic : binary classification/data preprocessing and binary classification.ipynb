{
 "cells": [
  {
   "cell_type": "markdown",
   "metadata": {
    "cell_id": "628f4ce8c3794080b6f87de0a48ce731",
    "deepnote_cell_type": "markdown",
    "tags": []
   },
   "source": [
    "#  Data preprocessing and binary classification\n",
    "\n",
    "## Data source\n",
    "\n",
    "I'll be making predictions about the survival of the Titanic's passengers, having training data in **data.csv** and evaluation data in **evaluation.csv**.\n",
    "\n",
    "#### List of features:\n",
    "* survived - whether passenger survived, 0 = No, 1 = Yes, **explained variable** I want to predict\n",
    "* pclass - class of ticket, 1 = first, 2 = second, 3 = third\n",
    "* name - passenger's name\n",
    "* sex - passenger's sex\n",
    "* age - age in years\n",
    "* sibsp\t- number of siblings/spouses on board\n",
    "* parch - number of parents/children on board\n",
    "* ticket - ticket number\n",
    "* fare - price of the boat ticket\n",
    "* cabin\t- cabin number\n",
    "* embarked\t- place of embarkation, C = Cherbourg, Q = Queenstown, S = Southampton\n",
    "* home.dest - residence/destination\n",
    "\n",
    "\n",
    "## Submission notes\n",
    "\n",
    "  * I'll read the evaluation data from the **evaluation.csv** file, calculate the predictions for these data (the explained variable is no longer in them), create a **results.csv** file to store these predictions in two columns: `ID`, `survival prediction`.\n",
    "  * Also I'll create a csv file with the predictions and save it within the project (**results.csv**, next to the ipython notebook)."
   ]
  },
  {
   "cell_type": "code",
   "execution_count": 1,
   "metadata": {},
   "outputs": [],
   "source": [
    "import warnings\n",
    "\n",
    "warnings.simplefilter(action=\"ignore\", category=FutureWarning)\n",
    "warnings.simplefilter(action=\"ignore\", category=DeprecationWarning)\n",
    "warnings.simplefilter(action=\"ignore\", category=UserWarning)"
   ]
  },
  {
   "cell_type": "markdown",
   "metadata": {
    "cell_id": "78c8f535796c49018f72628aa3940cff",
    "deepnote_cell_type": "markdown",
    "tags": []
   },
   "source": [
    "## Data: basic overview\n",
    "* I'll use the `pandas` package to load the data and do some basic exploration.\n"
   ]
  },
  {
   "cell_type": "code",
   "execution_count": 2,
   "metadata": {
    "cell_id": "5586f389eabf47a3875370d60aa8796f",
    "deepnote_cell_type": "code",
    "deepnote_to_be_reexecuted": false,
    "execution_millis": 1227774202,
    "execution_start": 1668719868529,
    "source_hash": "c76c7c51",
    "tags": []
   },
   "outputs": [],
   "source": [
    "import pandas as pd\n",
    "import numpy as np\n",
    "\n",
    "# suppress scientific float notation (so 0.000 is printed as 0.)\n",
    "np.set_printoptions(precision=5, suppress=True)"
   ]
  },
  {
   "cell_type": "code",
   "execution_count": 3,
   "metadata": {
    "cell_id": "3e0c45d6642b415583730035d8f78a08",
    "deepnote_cell_type": "code",
    "deepnote_to_be_reexecuted": false,
    "execution_millis": 0,
    "execution_start": 1668719868573,
    "source_hash": "7856ea7e",
    "tags": []
   },
   "outputs": [],
   "source": [
    "data = pd.read_csv('data.csv')"
   ]
  },
  {
   "cell_type": "code",
   "execution_count": 4,
   "metadata": {},
   "outputs": [],
   "source": [
    "def separation():\n",
    "    print('***************************************\\n')\n",
    "def describe_df(df):\n",
    "    print('shape of dataset: ' + str(df.shape))\n",
    "    separation()\n",
    "    print('head of dataset')\n",
    "    display(df.head())\n",
    "    separation()\n",
    "    print('info')\n",
    "    display(df.info())\n",
    "    separation()\n",
    "    print('description')\n",
    "    display(df.describe())\n",
    "    separation()\n",
    "    print('number of unique values')\n",
    "    display(df.nunique())"
   ]
  },
  {
   "cell_type": "code",
   "execution_count": 5,
   "metadata": {},
   "outputs": [
    {
     "name": "stdout",
     "output_type": "stream",
     "text": [
      "shape of dataset: (1000, 13)\n",
      "***************************************\n",
      "\n",
      "head of dataset\n"
     ]
    },
    {
     "data": {
      "text/html": [
       "<div>\n",
       "<style scoped>\n",
       "    .dataframe tbody tr th:only-of-type {\n",
       "        vertical-align: middle;\n",
       "    }\n",
       "\n",
       "    .dataframe tbody tr th {\n",
       "        vertical-align: top;\n",
       "    }\n",
       "\n",
       "    .dataframe thead th {\n",
       "        text-align: right;\n",
       "    }\n",
       "</style>\n",
       "<table border=\"1\" class=\"dataframe\">\n",
       "  <thead>\n",
       "    <tr style=\"text-align: right;\">\n",
       "      <th></th>\n",
       "      <th>ID</th>\n",
       "      <th>survived</th>\n",
       "      <th>pclass</th>\n",
       "      <th>name</th>\n",
       "      <th>sex</th>\n",
       "      <th>age</th>\n",
       "      <th>sibsp</th>\n",
       "      <th>parch</th>\n",
       "      <th>ticket</th>\n",
       "      <th>fare</th>\n",
       "      <th>cabin</th>\n",
       "      <th>embarked</th>\n",
       "      <th>home.dest</th>\n",
       "    </tr>\n",
       "  </thead>\n",
       "  <tbody>\n",
       "    <tr>\n",
       "      <th>0</th>\n",
       "      <td>0</td>\n",
       "      <td>1</td>\n",
       "      <td>3</td>\n",
       "      <td>Andersson, Mr. August Edvard (\"Wennerstrom\")</td>\n",
       "      <td>male</td>\n",
       "      <td>27.0</td>\n",
       "      <td>0</td>\n",
       "      <td>0</td>\n",
       "      <td>350043</td>\n",
       "      <td>7.7958</td>\n",
       "      <td>NaN</td>\n",
       "      <td>S</td>\n",
       "      <td>NaN</td>\n",
       "    </tr>\n",
       "    <tr>\n",
       "      <th>1</th>\n",
       "      <td>1</td>\n",
       "      <td>1</td>\n",
       "      <td>3</td>\n",
       "      <td>Dahl, Mr. Karl Edwart</td>\n",
       "      <td>male</td>\n",
       "      <td>45.0</td>\n",
       "      <td>0</td>\n",
       "      <td>0</td>\n",
       "      <td>7598</td>\n",
       "      <td>8.0500</td>\n",
       "      <td>NaN</td>\n",
       "      <td>S</td>\n",
       "      <td>Australia Fingal, ND</td>\n",
       "    </tr>\n",
       "    <tr>\n",
       "      <th>2</th>\n",
       "      <td>2</td>\n",
       "      <td>0</td>\n",
       "      <td>2</td>\n",
       "      <td>Watson, Mr. Ennis Hastings</td>\n",
       "      <td>male</td>\n",
       "      <td>NaN</td>\n",
       "      <td>0</td>\n",
       "      <td>0</td>\n",
       "      <td>239856</td>\n",
       "      <td>0.0000</td>\n",
       "      <td>NaN</td>\n",
       "      <td>S</td>\n",
       "      <td>Belfast</td>\n",
       "    </tr>\n",
       "    <tr>\n",
       "      <th>3</th>\n",
       "      <td>3</td>\n",
       "      <td>1</td>\n",
       "      <td>3</td>\n",
       "      <td>Johnson, Mrs. Oscar W (Elisabeth Vilhelmina Berg)</td>\n",
       "      <td>female</td>\n",
       "      <td>27.0</td>\n",
       "      <td>0</td>\n",
       "      <td>2</td>\n",
       "      <td>347742</td>\n",
       "      <td>11.1333</td>\n",
       "      <td>NaN</td>\n",
       "      <td>S</td>\n",
       "      <td>NaN</td>\n",
       "    </tr>\n",
       "    <tr>\n",
       "      <th>4</th>\n",
       "      <td>4</td>\n",
       "      <td>0</td>\n",
       "      <td>1</td>\n",
       "      <td>Meyer, Mr. Edgar Joseph</td>\n",
       "      <td>male</td>\n",
       "      <td>28.0</td>\n",
       "      <td>1</td>\n",
       "      <td>0</td>\n",
       "      <td>PC 17604</td>\n",
       "      <td>82.1708</td>\n",
       "      <td>NaN</td>\n",
       "      <td>C</td>\n",
       "      <td>New York, NY</td>\n",
       "    </tr>\n",
       "  </tbody>\n",
       "</table>\n",
       "</div>"
      ],
      "text/plain": [
       "   ID  survived  pclass                                               name  \\\n",
       "0   0         1       3       Andersson, Mr. August Edvard (\"Wennerstrom\")   \n",
       "1   1         1       3                              Dahl, Mr. Karl Edwart   \n",
       "2   2         0       2                         Watson, Mr. Ennis Hastings   \n",
       "3   3         1       3  Johnson, Mrs. Oscar W (Elisabeth Vilhelmina Berg)   \n",
       "4   4         0       1                            Meyer, Mr. Edgar Joseph   \n",
       "\n",
       "      sex   age  sibsp  parch    ticket     fare cabin embarked  \\\n",
       "0    male  27.0      0      0    350043   7.7958   NaN        S   \n",
       "1    male  45.0      0      0      7598   8.0500   NaN        S   \n",
       "2    male   NaN      0      0    239856   0.0000   NaN        S   \n",
       "3  female  27.0      0      2    347742  11.1333   NaN        S   \n",
       "4    male  28.0      1      0  PC 17604  82.1708   NaN        C   \n",
       "\n",
       "              home.dest  \n",
       "0                   NaN  \n",
       "1  Australia Fingal, ND  \n",
       "2               Belfast  \n",
       "3                   NaN  \n",
       "4          New York, NY  "
      ]
     },
     "metadata": {},
     "output_type": "display_data"
    },
    {
     "name": "stdout",
     "output_type": "stream",
     "text": [
      "***************************************\n",
      "\n",
      "info\n",
      "<class 'pandas.core.frame.DataFrame'>\n",
      "RangeIndex: 1000 entries, 0 to 999\n",
      "Data columns (total 13 columns):\n",
      " #   Column     Non-Null Count  Dtype  \n",
      "---  ------     --------------  -----  \n",
      " 0   ID         1000 non-null   int64  \n",
      " 1   survived   1000 non-null   int64  \n",
      " 2   pclass     1000 non-null   int64  \n",
      " 3   name       1000 non-null   object \n",
      " 4   sex        1000 non-null   object \n",
      " 5   age        797 non-null    float64\n",
      " 6   sibsp      1000 non-null   int64  \n",
      " 7   parch      1000 non-null   int64  \n",
      " 8   ticket     1000 non-null   object \n",
      " 9   fare       999 non-null    float64\n",
      " 10  cabin      222 non-null    object \n",
      " 11  embarked   999 non-null    object \n",
      " 12  home.dest  573 non-null    object \n",
      "dtypes: float64(2), int64(5), object(6)\n",
      "memory usage: 101.7+ KB\n"
     ]
    },
    {
     "data": {
      "text/plain": [
       "None"
      ]
     },
     "metadata": {},
     "output_type": "display_data"
    },
    {
     "name": "stdout",
     "output_type": "stream",
     "text": [
      "***************************************\n",
      "\n",
      "description\n"
     ]
    },
    {
     "data": {
      "text/html": [
       "<div>\n",
       "<style scoped>\n",
       "    .dataframe tbody tr th:only-of-type {\n",
       "        vertical-align: middle;\n",
       "    }\n",
       "\n",
       "    .dataframe tbody tr th {\n",
       "        vertical-align: top;\n",
       "    }\n",
       "\n",
       "    .dataframe thead th {\n",
       "        text-align: right;\n",
       "    }\n",
       "</style>\n",
       "<table border=\"1\" class=\"dataframe\">\n",
       "  <thead>\n",
       "    <tr style=\"text-align: right;\">\n",
       "      <th></th>\n",
       "      <th>ID</th>\n",
       "      <th>survived</th>\n",
       "      <th>pclass</th>\n",
       "      <th>age</th>\n",
       "      <th>sibsp</th>\n",
       "      <th>parch</th>\n",
       "      <th>fare</th>\n",
       "    </tr>\n",
       "  </thead>\n",
       "  <tbody>\n",
       "    <tr>\n",
       "      <th>count</th>\n",
       "      <td>1000.000000</td>\n",
       "      <td>1000.000000</td>\n",
       "      <td>1000.000000</td>\n",
       "      <td>797.000000</td>\n",
       "      <td>1000.000000</td>\n",
       "      <td>1000.000000</td>\n",
       "      <td>999.000000</td>\n",
       "    </tr>\n",
       "    <tr>\n",
       "      <th>mean</th>\n",
       "      <td>499.500000</td>\n",
       "      <td>0.391000</td>\n",
       "      <td>2.293000</td>\n",
       "      <td>30.006692</td>\n",
       "      <td>0.499000</td>\n",
       "      <td>0.384000</td>\n",
       "      <td>33.418514</td>\n",
       "    </tr>\n",
       "    <tr>\n",
       "      <th>std</th>\n",
       "      <td>288.819436</td>\n",
       "      <td>0.488219</td>\n",
       "      <td>0.840153</td>\n",
       "      <td>14.240416</td>\n",
       "      <td>1.020314</td>\n",
       "      <td>0.873675</td>\n",
       "      <td>53.115334</td>\n",
       "    </tr>\n",
       "    <tr>\n",
       "      <th>min</th>\n",
       "      <td>0.000000</td>\n",
       "      <td>0.000000</td>\n",
       "      <td>1.000000</td>\n",
       "      <td>0.166700</td>\n",
       "      <td>0.000000</td>\n",
       "      <td>0.000000</td>\n",
       "      <td>0.000000</td>\n",
       "    </tr>\n",
       "    <tr>\n",
       "      <th>25%</th>\n",
       "      <td>249.750000</td>\n",
       "      <td>0.000000</td>\n",
       "      <td>2.000000</td>\n",
       "      <td>21.000000</td>\n",
       "      <td>0.000000</td>\n",
       "      <td>0.000000</td>\n",
       "      <td>7.895800</td>\n",
       "    </tr>\n",
       "    <tr>\n",
       "      <th>50%</th>\n",
       "      <td>499.500000</td>\n",
       "      <td>0.000000</td>\n",
       "      <td>3.000000</td>\n",
       "      <td>28.000000</td>\n",
       "      <td>0.000000</td>\n",
       "      <td>0.000000</td>\n",
       "      <td>14.500000</td>\n",
       "    </tr>\n",
       "    <tr>\n",
       "      <th>75%</th>\n",
       "      <td>749.250000</td>\n",
       "      <td>1.000000</td>\n",
       "      <td>3.000000</td>\n",
       "      <td>38.500000</td>\n",
       "      <td>1.000000</td>\n",
       "      <td>0.000000</td>\n",
       "      <td>31.275000</td>\n",
       "    </tr>\n",
       "    <tr>\n",
       "      <th>max</th>\n",
       "      <td>999.000000</td>\n",
       "      <td>1.000000</td>\n",
       "      <td>3.000000</td>\n",
       "      <td>76.000000</td>\n",
       "      <td>8.000000</td>\n",
       "      <td>9.000000</td>\n",
       "      <td>512.329200</td>\n",
       "    </tr>\n",
       "  </tbody>\n",
       "</table>\n",
       "</div>"
      ],
      "text/plain": [
       "                ID     survived       pclass         age        sibsp  \\\n",
       "count  1000.000000  1000.000000  1000.000000  797.000000  1000.000000   \n",
       "mean    499.500000     0.391000     2.293000   30.006692     0.499000   \n",
       "std     288.819436     0.488219     0.840153   14.240416     1.020314   \n",
       "min       0.000000     0.000000     1.000000    0.166700     0.000000   \n",
       "25%     249.750000     0.000000     2.000000   21.000000     0.000000   \n",
       "50%     499.500000     0.000000     3.000000   28.000000     0.000000   \n",
       "75%     749.250000     1.000000     3.000000   38.500000     1.000000   \n",
       "max     999.000000     1.000000     3.000000   76.000000     8.000000   \n",
       "\n",
       "             parch        fare  \n",
       "count  1000.000000  999.000000  \n",
       "mean      0.384000   33.418514  \n",
       "std       0.873675   53.115334  \n",
       "min       0.000000    0.000000  \n",
       "25%       0.000000    7.895800  \n",
       "50%       0.000000   14.500000  \n",
       "75%       0.000000   31.275000  \n",
       "max       9.000000  512.329200  "
      ]
     },
     "metadata": {},
     "output_type": "display_data"
    },
    {
     "name": "stdout",
     "output_type": "stream",
     "text": [
      "***************************************\n",
      "\n",
      "number of unique values\n"
     ]
    },
    {
     "data": {
      "text/plain": [
       "ID           1000\n",
       "survived        2\n",
       "pclass          3\n",
       "name          999\n",
       "sex             2\n",
       "age            94\n",
       "sibsp           7\n",
       "parch           7\n",
       "ticket        754\n",
       "fare          249\n",
       "cabin         156\n",
       "embarked        3\n",
       "home.dest     314\n",
       "dtype: int64"
      ]
     },
     "metadata": {},
     "output_type": "display_data"
    }
   ],
   "source": [
    "describe_df(data)"
   ]
  },
  {
   "cell_type": "markdown",
   "metadata": {
    "cell_id": "34cb849c9f7e4505bd1fccfe8a91f19e",
    "deepnote_cell_type": "markdown",
    "tags": []
   },
   "source": [
    "## Data preparation before splitting\n",
    "* I'll get rid of the `ID` and `name` columns because the information they contain has no effect on passenger survival statistics."
   ]
  },
  {
   "cell_type": "code",
   "execution_count": 6,
   "metadata": {
    "cell_id": "5f81ce81a9494930aac6b81e0ffd69a1",
    "deepnote_cell_type": "code",
    "deepnote_to_be_reexecuted": false,
    "execution_millis": 0,
    "execution_start": 1668719868828,
    "source_hash": "eee6b95c",
    "tags": []
   },
   "outputs": [],
   "source": [
    "data = data.drop(['ID', 'name'], axis=1)"
   ]
  },
  {
   "cell_type": "markdown",
   "metadata": {},
   "source": [
    "* If there are duplicate lines of data in the file, I remove them."
   ]
  },
  {
   "cell_type": "code",
   "execution_count": 7,
   "metadata": {},
   "outputs": [],
   "source": [
    "data = data.drop_duplicates()"
   ]
  },
  {
   "cell_type": "markdown",
   "metadata": {},
   "source": [
    "* I will check if there are data points in the dataset for which there is no explained variable."
   ]
  },
  {
   "cell_type": "code",
   "execution_count": 8,
   "metadata": {},
   "outputs": [
    {
     "name": "stdout",
     "output_type": "stream",
     "text": [
      "Amount of data points with no explained variable: 0\n"
     ]
    }
   ],
   "source": [
    "print('Amount of data points with no explained variable: ' + str(data.sex.isnull().values.sum()))"
   ]
  },
  {
   "cell_type": "markdown",
   "metadata": {},
   "source": [
    "### Missing values\n",
    "* Some values are missing, but `pandas` reports that none are missing. It may happen that the missing values are not coded correctly, and instead of `NaN` there will be a question mark `?` or a dash `'-'` or `'unknown'`/`Unknown'` will be given.\n",
    "* In this case, I am replacing any errors when filling the file with `np.nan`."
   ]
  },
  {
   "cell_type": "code",
   "execution_count": 9,
   "metadata": {},
   "outputs": [],
   "source": [
    "def replace_values_with_nan(df):\n",
    "    df = df.replace('?', np.nan)\n",
    "    df = df.replace('-', np.nan)\n",
    "    df = df.replace('unknown', np.nan)\n",
    "    df = df.replace('Unknown', np.nan)\n",
    "    return df\n",
    "data = replace_values_with_nan(data)"
   ]
  },
  {
   "cell_type": "markdown",
   "metadata": {},
   "source": [
    "## Data splitting"
   ]
  },
  {
   "cell_type": "code",
   "execution_count": 10,
   "metadata": {},
   "outputs": [],
   "source": [
    "from sklearn.model_selection import train_test_split\n",
    "random_seed = 47\n",
    "\n",
    "xtrain, xval, ytrain, yval = train_test_split(data.drop(columns=['survived']), data['survived'], test_size=0.4, random_state=random_seed)\n",
    "xval, xtest, yval, ytest = train_test_split(xval, yval, test_size=0.5, random_state=random_seed)"
   ]
  },
  {
   "cell_type": "code",
   "execution_count": 11,
   "metadata": {},
   "outputs": [
    {
     "name": "stdout",
     "output_type": "stream",
     "text": [
      "Train df size, X: (592, 10), Y: (592,)\n",
      "Validation df size, X: (197, 10), Y: (197,)\n",
      "Test df size, X: (198, 10), Y: (198,)\n"
     ]
    }
   ],
   "source": [
    "print(f'Train df size, X: {xtrain.shape}, Y: {ytrain.shape}')\n",
    "print(f'Validation df size, X: {xval.shape}, Y: {yval.shape}')\n",
    "print(f'Test df size, X: {xtest.shape}, Y: {ytest.shape}')"
   ]
  },
  {
   "cell_type": "markdown",
   "metadata": {},
   "source": [
    "## Data preparation before using the model"
   ]
  },
  {
   "cell_type": "markdown",
   "metadata": {
    "cell_id": "ebed18ec36a544b580fc34b2d11bc183",
    "deepnote_cell_type": "markdown"
   },
   "source": [
    "* The decision tree implementation in `sklearn` cannot handle non-numeric values. Therefore, I will replace strings with their codes."
   ]
  },
  {
   "cell_type": "code",
   "execution_count": 12,
   "metadata": {
    "cell_id": "30853562114e4617b2730ae3a7721bca",
    "deepnote_cell_type": "code",
    "deepnote_to_be_reexecuted": false,
    "execution_millis": 42,
    "execution_start": 1668719868873,
    "source_hash": "dd5709da"
   },
   "outputs": [
    {
     "data": {
      "text/plain": [
       "pclass         int64\n",
       "sex           object\n",
       "age          float64\n",
       "sibsp          int64\n",
       "parch          int64\n",
       "ticket        object\n",
       "fare         float64\n",
       "cabin         object\n",
       "embarked      object\n",
       "home.dest     object\n",
       "dtype: object"
      ]
     },
     "metadata": {},
     "output_type": "display_data"
    }
   ],
   "source": [
    "display(xtrain.dtypes)"
   ]
  },
  {
   "cell_type": "code",
   "execution_count": 13,
   "metadata": {},
   "outputs": [
    {
     "data": {
      "text/plain": [
       "array(['male', 'female'], dtype=object)"
      ]
     },
     "execution_count": 13,
     "metadata": {},
     "output_type": "execute_result"
    }
   ],
   "source": [
    "xtrain.sex.unique()"
   ]
  },
  {
   "cell_type": "markdown",
   "metadata": {
    "cell_id": "e992967f8ace4e43ba53d280c1cabcd4",
    "deepnote_cell_type": "markdown"
   },
   "source": [
    "* I'll substitute **'male'** and **'female'** for the bool values. I set if `xtrain.sex == 'male'` - then it's True, otherwise it's False.\n",
    "* So the **'male'** value will be converted to True and **'female'** to False."
   ]
  },
  {
   "cell_type": "code",
   "execution_count": 14,
   "metadata": {
    "cell_id": "b679a67149b14f3ba9a1840ed33c4c74",
    "deepnote_cell_type": "code",
    "deepnote_to_be_reexecuted": false,
    "execution_millis": 47,
    "execution_start": 1668719868874,
    "source_hash": "b69268eb"
   },
   "outputs": [],
   "source": [
    "def convert_sex(df):\n",
    "    df.sex = (df.sex=='male')\n",
    "    return df\n",
    "\n",
    "xtrain = convert_sex(xtrain)\n",
    "xval = convert_sex(xval)\n",
    "xtest = convert_sex(xtest)"
   ]
  },
  {
   "cell_type": "markdown",
   "metadata": {
    "cell_id": "4245ce21e2f5453b8cf2dbd135345f62",
    "deepnote_cell_type": "markdown"
   },
   "source": [
    "* The non-numeric `embarked` feature is **nominal** and I will convert it to a **one-hot encoding** representation."
   ]
  },
  {
   "cell_type": "code",
   "execution_count": 15,
   "metadata": {
    "cell_id": "b7d70bd0aa774749b1e26205d3a2b1bf",
    "deepnote_cell_type": "code",
    "deepnote_to_be_reexecuted": false,
    "execution_millis": 0,
    "execution_start": 1668719868922,
    "source_hash": "de965177"
   },
   "outputs": [],
   "source": [
    "def one_hot_encoding(df, column_name):\n",
    "    return pd.get_dummies(df, columns=[column_name])\n",
    "\n",
    "xtrain = one_hot_encoding(xtrain,'embarked')\n",
    "xval = one_hot_encoding(xval,'embarked')\n",
    "xtest = one_hot_encoding(xtest,'embarked')"
   ]
  },
  {
   "cell_type": "markdown",
   "metadata": {
    "cell_id": "21567bff944643658f4f02a7178bb6ea",
    "deepnote_cell_type": "markdown"
   },
   "source": [
    "All features with values of the string type are not continuous, but so called **categorical** (discrete).\n",
    "  * I will replace all of them with numeric codes.\n",
    "  * I will convert them to numeric representation using `...cat.codes`."
   ]
  },
  {
   "cell_type": "code",
   "execution_count": 16,
   "metadata": {
    "cell_id": "b8ecefb744744604bb48c8c4cbcc6d25",
    "deepnote_cell_type": "code",
    "deepnote_to_be_reexecuted": false,
    "execution_millis": 1,
    "execution_start": 1668719868922,
    "source_hash": "afe207b2"
   },
   "outputs": [],
   "source": [
    "def cat_codes(df): \n",
    "    obj_columns = df.select_dtypes('object').columns\n",
    "    df[obj_columns] = df[obj_columns].astype('category').apply(lambda x: x.cat.codes)\n",
    "    return df\n",
    "\n",
    "xtrain = cat_codes(xtrain)\n",
    "xval = cat_codes(xval)\n",
    "xtest = cat_codes(xtest)"
   ]
  },
  {
   "cell_type": "markdown",
   "metadata": {},
   "source": [
    "* Finally, I will replace all missing values with -1."
   ]
  },
  {
   "cell_type": "code",
   "execution_count": 17,
   "metadata": {},
   "outputs": [],
   "source": [
    "def replace_missing(df):\n",
    "    return df.fillna('-1')\n",
    "\n",
    "xtrain = replace_missing(xtrain)\n",
    "xval = replace_missing(xval)\n",
    "xtest = replace_missing(xtest)"
   ]
  },
  {
   "cell_type": "markdown",
   "metadata": {
    "cell_id": "80a6625b2d7241e1af3031c870c1bb11",
    "deepnote_cell_type": "markdown",
    "tags": []
   },
   "source": [
    "## Using the decision tree implemented in `sklearn`"
   ]
  },
  {
   "cell_type": "code",
   "execution_count": 18,
   "metadata": {
    "cell_id": "b365977129d74f86bebd68bf1635d7f1",
    "deepnote_cell_type": "code",
    "deepnote_to_be_reexecuted": false,
    "execution_millis": 159,
    "execution_start": 1668719869836,
    "source_hash": "774870c6",
    "tags": []
   },
   "outputs": [
    {
     "data": {
      "text/plain": [
       "{'ccp_alpha': 0.0,\n",
       " 'class_weight': None,\n",
       " 'criterion': 'gini',\n",
       " 'max_depth': 50,\n",
       " 'max_features': None,\n",
       " 'max_leaf_nodes': None,\n",
       " 'min_impurity_decrease': 0.0,\n",
       " 'min_samples_leaf': 1,\n",
       " 'min_samples_split': 2,\n",
       " 'min_weight_fraction_leaf': 0.0,\n",
       " 'random_state': None,\n",
       " 'splitter': 'best'}"
      ]
     },
     "metadata": {},
     "output_type": "display_data"
    },
    {
     "data": {
      "text/plain": [
       "DecisionTreeClassifier(max_depth=50)"
      ]
     },
     "execution_count": 18,
     "metadata": {},
     "output_type": "execute_result"
    }
   ],
   "source": [
    "from sklearn.tree import DecisionTreeClassifier\n",
    "\n",
    "dtc = DecisionTreeClassifier(max_depth=50)\n",
    "display(dtc.get_params())\n",
    "dtc.fit(xtrain, ytrain)"
   ]
  },
  {
   "cell_type": "code",
   "execution_count": 19,
   "metadata": {
    "cell_id": "cfb3f1b76d4e4b9c87d96290eb6ef775",
    "deepnote_cell_type": "code",
    "deepnote_to_be_reexecuted": false,
    "execution_millis": 489,
    "execution_start": 1668719869924,
    "source_hash": "2398ea3b",
    "tags": []
   },
   "outputs": [
    {
     "data": {
      "image/png": "[encoded data removed]",
      "text/plain": [
       "<Figure size 1000x1000 with 1 Axes>"
      ]
     },
     "metadata": {},
     "output_type": "display_data"
    }
   ],
   "source": [
    "# what the resulting tree looks like\n",
    "from sklearn.tree import plot_tree\n",
    "import matplotlib\n",
    "import matplotlib.pyplot as plt\n",
    "%matplotlib inline\n",
    "\n",
    "plt.figure(figsize=(10,10))\n",
    "plot_tree(dtc, filled=True, feature_names=xtrain.iloc[:,:].columns, class_names=True, rounded=True);"
   ]
  },
  {
   "cell_type": "code",
   "execution_count": 20,
   "metadata": {
    "cell_id": "021824e2b5094f6d8d92817e0ba54372",
    "deepnote_cell_type": "code",
    "deepnote_to_be_reexecuted": false,
    "execution_millis": 707,
    "execution_start": 1668719870419,
    "source_hash": "e06efb1d",
    "tags": []
   },
   "outputs": [
    {
     "name": "stdout",
     "output_type": "stream",
     "text": [
      "Training accuracy score: 1.000000\n"
     ]
    }
   ],
   "source": [
    "import sklearn.metrics as metrics\n",
    "\n",
    "def acc_score_print(df_type, y_data, x_data, model):\n",
    "    acc = metrics.accuracy_score(y_data, model.predict(x_data))\n",
    "    \n",
    "    if df_type == 'train':\n",
    "        print(f'Training accuracy score: {acc:.6f}')\n",
    "    elif df_type == 'val':\n",
    "        print(f'Validation accuracy score: {acc:.6f}')\n",
    "    elif df_type == 'test':\n",
    "        print(f'Testing accuracy score: {acc:.6f}')\n",
    "\n",
    "               \n",
    "acc_score_print('train', ytrain, xtrain, dtc)"
   ]
  },
  {
   "cell_type": "markdown",
   "metadata": {
    "cell_id": "81378d0b6c454eb19fb205f6309c527e",
    "deepnote_cell_type": "markdown",
    "tags": []
   },
   "source": [
    "* Accuracy on the training data (for `max_depth` = 50) is 100%\n",
    "* But it won't be so great with testing data:"
   ]
  },
  {
   "cell_type": "code",
   "execution_count": 21,
   "metadata": {
    "cell_id": "5c762fd52d784a54b6faff9bde331823",
    "deepnote_cell_type": "code",
    "deepnote_to_be_reexecuted": false,
    "execution_millis": 685,
    "execution_start": 1668719870441,
    "source_hash": "5d9e7e2",
    "tags": []
   },
   "outputs": [
    {
     "name": "stdout",
     "output_type": "stream",
     "text": [
      "Testing accuracy score: 0.702020\n"
     ]
    }
   ],
   "source": [
    "acc_score_print('test', ytest, xtest, dtc)"
   ]
  },
  {
   "cell_type": "markdown",
   "metadata": {
    "cell_id": "e3629b0a467b4ced95c4d2ff9f2ab999",
    "deepnote_cell_type": "markdown",
    "tags": []
   },
   "source": [
    "### Tuning hyperparameters `max_depth` and `criterion`\n",
    "* I'll start with the `max_depth` hyperparameter\n",
    "* I'll use a validation set."
   ]
  },
  {
   "cell_type": "code",
   "execution_count": 22,
   "metadata": {
    "cell_id": "13ef37b6056645e68c3dd8c39d22ae2c",
    "deepnote_cell_type": "code",
    "deepnote_to_be_reexecuted": false,
    "execution_millis": 1003,
    "execution_start": 1668719870485,
    "source_hash": "db070f76",
    "tags": []
   },
   "outputs": [],
   "source": [
    "val_accuracy = []\n",
    "train_accuracy = []\n",
    "\n",
    "depths = range(1,100)\n",
    "for depth in depths:\n",
    "    dtc = DecisionTreeClassifier(max_depth=depth)\n",
    "    dtc.fit(xtrain, ytrain)\n",
    "    train_accuracy.append(metrics.accuracy_score(ytrain, dtc.predict(xtrain)))\n",
    "    val_accuracy.append(metrics.accuracy_score(yval, dtc.predict(xval)))"
   ]
  },
  {
   "cell_type": "code",
   "execution_count": 23,
   "metadata": {
    "cell_id": "4465f558eff64f9c87af1c517985b6a2",
    "deepnote_cell_type": "code",
    "deepnote_to_be_reexecuted": false,
    "execution_millis": 594,
    "execution_start": 1668719871506,
    "source_hash": "322b21f",
    "tags": []
   },
   "outputs": [
    {
     "data": {
      "image/png": "[encoded data removed]",
      "text/plain": [
       "<Figure size 2000x600 with 1 Axes>"
      ]
     },
     "metadata": {},
     "output_type": "display_data"
    }
   ],
   "source": [
    "plt.figure(figsize=(20,6))\n",
    "plt.plot(depths, train_accuracy,'or-')\n",
    "plt.plot(depths, val_accuracy,'ob-')\n",
    "plt.xlabel('max_depth')\n",
    "plt.ylabel('accuracy')\n",
    "_ = plt.legend(['train', 'validation'])"
   ]
  },
  {
   "cell_type": "code",
   "execution_count": 24,
   "metadata": {
    "cell_id": "2930de279cf746eda07a98eac3ee488a",
    "deepnote_cell_type": "code",
    "deepnote_to_be_reexecuted": false,
    "execution_millis": 10,
    "execution_start": 1668719872193,
    "source_hash": "570e15a6",
    "tags": []
   },
   "outputs": [
    {
     "name": "stdout",
     "output_type": "stream",
     "text": [
      "Optimal depth is: 2\n"
     ]
    }
   ],
   "source": [
    "optimal_depth = np.argmax(val_accuracy) + 1\n",
    "print('Optimal depth is: ' + str(optimal_depth))"
   ]
  },
  {
   "cell_type": "markdown",
   "metadata": {
    "cell_id": "8d1abbed978d455db2843c88fe8fa422",
    "deepnote_cell_type": "markdown",
    "tags": []
   },
   "source": [
    "* Calculate **validation accuracy** for the best found value of `max_depth`:"
   ]
  },
  {
   "cell_type": "code",
   "execution_count": 25,
   "metadata": {
    "cell_id": "1986c9898e9b4db2b0d00d797009d199",
    "deepnote_cell_type": "code",
    "deepnote_to_be_reexecuted": false,
    "execution_millis": 9,
    "execution_start": 1668719872194,
    "source_hash": "ed291e96",
    "tags": []
   },
   "outputs": [
    {
     "name": "stdout",
     "output_type": "stream",
     "text": [
      "Validation accuracy score: 0.791878\n"
     ]
    }
   ],
   "source": [
    "dtc = DecisionTreeClassifier(max_depth=optimal_depth)\n",
    "dtc.fit(xtrain, ytrain)\n",
    "acc_score_print('val', yval, xval, dtc)"
   ]
  },
  {
   "cell_type": "markdown",
   "metadata": {
    "cell_id": "a37ffe059d2c4430b56a993cf68be737",
    "deepnote_cell_type": "markdown",
    "tags": []
   },
   "source": [
    "### Grid search: tuning multiple hyperparameters\n",
    "* I want to go through the values of `max_depth` and both possible values of `criterion`."
   ]
  },
  {
   "cell_type": "code",
   "execution_count": 26,
   "metadata": {
    "cell_id": "077400eb21d246db8d9b8fe6ff3656ca",
    "deepnote_cell_type": "code",
    "deepnote_to_be_reexecuted": false,
    "execution_millis": 0,
    "execution_start": 1668719872223,
    "source_hash": "ff2c4396",
    "tags": []
   },
   "outputs": [],
   "source": [
    "from sklearn.model_selection import ParameterGrid\n",
    "\n",
    "param_grid = {\n",
    "    'max_depth': range(1,45), \n",
    "    'criterion': ['entropy', 'gini'],\n",
    "    'splitter': ['best', 'random']\n",
    "}\n",
    "param_comb = ParameterGrid(param_grid)"
   ]
  },
  {
   "cell_type": "code",
   "execution_count": 27,
   "metadata": {
    "cell_id": "d180786d3779480cb3727d827f607007",
    "deepnote_cell_type": "code",
    "deepnote_to_be_reexecuted": false,
    "execution_millis": 718,
    "execution_start": 1668719872224,
    "source_hash": "3f2dc58f",
    "tags": []
   },
   "outputs": [],
   "source": [
    "val_accuracy = []\n",
    "train_accuracy = []\n",
    "\n",
    "for params in param_comb:\n",
    "    dtc = DecisionTreeClassifier(max_depth=params['max_depth'], criterion=params['criterion'], splitter=params['splitter'])\n",
    "    dtc.fit(xtrain, ytrain)\n",
    "    train_accuracy.append(metrics.accuracy_score(ytrain, dtc.predict(xtrain)))\n",
    "    val_accuracy.append(metrics.accuracy_score(yval, dtc.predict(xval)))"
   ]
  },
  {
   "cell_type": "code",
   "execution_count": 28,
   "metadata": {
    "cell_id": "4f75d6fe01654e1f8b170231786a81c0",
    "deepnote_cell_type": "code",
    "deepnote_to_be_reexecuted": false,
    "execution_millis": 1310,
    "execution_start": 1668719872958,
    "source_hash": "8168ce44",
    "tags": []
   },
   "outputs": [
    {
     "data": {
      "image/png": "[encoded data removed]",
      "text/plain": [
       "<Figure size 2000x600 with 1 Axes>"
      ]
     },
     "metadata": {},
     "output_type": "display_data"
    }
   ],
   "source": [
    "plt.figure(figsize=(20,6))\n",
    "plt.plot(train_accuracy,'om-')\n",
    "plt.plot(val_accuracy,'ok-')\n",
    "plt.xlabel('hyperparametr index')\n",
    "plt.ylabel('accuracy')\n",
    "_ = plt.legend(['train', 'validation'])"
   ]
  },
  {
   "cell_type": "code",
   "execution_count": 29,
   "metadata": {
    "cell_id": "92cf12c5fde84b5891bc708c7327841a",
    "deepnote_cell_type": "code",
    "deepnote_to_be_reexecuted": false,
    "execution_millis": 790,
    "execution_start": 1668719873479,
    "source_hash": "5b480fa8",
    "tags": []
   },
   "outputs": [
    {
     "name": "stdout",
     "output_type": "stream",
     "text": [
      "Best parameters: {'splitter': 'random', 'max_depth': 9, 'criterion': 'gini'}\n",
      "Training accuracy: 1.000000\n",
      "Validation accuracy: 0.807107\n"
     ]
    }
   ],
   "source": [
    "best_params = param_comb[np.argmax(val_accuracy)]\n",
    "\n",
    "print('Best parameters: ' + str(best_params))\n",
    "print('Training accuracy: {0:.6f}'.format(train_accuracy[np.argmax(train_accuracy)]))\n",
    "print('Validation accuracy: {0:.6f}'.format(val_accuracy[np.argmax(val_accuracy)]))"
   ]
  },
  {
   "cell_type": "code",
   "execution_count": 30,
   "metadata": {
    "cell_id": "f9870516ee6947e4b9a358c570286ff2",
    "deepnote_cell_type": "code",
    "deepnote_to_be_reexecuted": false,
    "execution_millis": 789,
    "execution_start": 1668719873487,
    "source_hash": "7d8f04e4",
    "tags": []
   },
   "outputs": [
    {
     "name": "stdout",
     "output_type": "stream",
     "text": [
      "Training accuracy score: 0.890203\n",
      "Validation accuracy score: 0.746193\n"
     ]
    }
   ],
   "source": [
    "dtc_grid = DecisionTreeClassifier(**best_params)\n",
    "dtc_grid.fit(xtrain, ytrain)\n",
    "\n",
    "acc_score_print('train', ytrain, xtrain, dtc_grid)\n",
    "acc_score_print('val', yval, xval, dtc_grid)"
   ]
  },
  {
   "cell_type": "markdown",
   "metadata": {
    "cell_id": "fa2e743f7f5649fba581c827add27be2",
    "deepnote_cell_type": "markdown"
   },
   "source": [
    "##  KNN method\n",
    "* I'll use `KNeighborsClassifier` from the `sklearn` library."
   ]
  },
  {
   "cell_type": "code",
   "execution_count": 31,
   "metadata": {
    "cell_id": "9f73d480c8c4415bac54c1dc7573dd77",
    "deepnote_cell_type": "code",
    "deepnote_to_be_reexecuted": false,
    "execution_millis": 728,
    "execution_start": 1668719873548,
    "source_hash": "c8a12374"
   },
   "outputs": [
    {
     "name": "stdout",
     "output_type": "stream",
     "text": [
      "Validation accuracy score: 0.629442\n"
     ]
    }
   ],
   "source": [
    "from sklearn.neighbors import KNeighborsClassifier\n",
    "\n",
    "knn = KNeighborsClassifier(n_neighbors=10)\n",
    "knn.fit(xtrain, ytrain)\n",
    "acc_score_print('val', yval, xval, knn)"
   ]
  },
  {
   "cell_type": "markdown",
   "metadata": {
    "cell_id": "f8cde5895c6d49d6ae9493b37c9fca0a",
    "deepnote_cell_type": "markdown"
   },
   "source": [
    "* Improve the result by trying Normalization."
   ]
  },
  {
   "cell_type": "markdown",
   "metadata": {
    "cell_id": "2c38c99f93e048fcb1d1c021432105c5",
    "deepnote_cell_type": "markdown"
   },
   "source": [
    "### Data normalization\n",
    "* I'll try **min-max normalization** using the `MinMaxScaler` class from the `sklearn.preprocessing` module."
   ]
  },
  {
   "cell_type": "code",
   "execution_count": 32,
   "metadata": {
    "cell_id": "5dc35c14d3c1419cbbde1222cc385f11",
    "deepnote_cell_type": "code",
    "deepnote_to_be_reexecuted": false,
    "execution_millis": 699,
    "execution_start": 1668719873580,
    "source_hash": "4a25476b"
   },
   "outputs": [
    {
     "name": "stdout",
     "output_type": "stream",
     "text": [
      "Training accuracy score: 0.854730\n",
      "Validation accuracy score: 0.786802\n"
     ]
    }
   ],
   "source": [
    "from sklearn.preprocessing import MinMaxScaler\n",
    "\n",
    "# fit and transform the min-max scaler to the training data\n",
    "scaler = MinMaxScaler()\n",
    "xtrain_scaled = scaler.fit_transform(xtrain)\n",
    "\n",
    "# then apply the same transformation to the validation and test data\n",
    "xval_scaled = scaler.transform(xval)\n",
    "xtest_scaled = scaler.transform(xtest)\n",
    "\n",
    "# train the model on the transformed data\n",
    "knn = KNeighborsClassifier()\n",
    "knn.fit(xtrain_scaled, ytrain)\n",
    "\n",
    "acc_score_print('train', ytrain, xtrain_scaled, knn)\n",
    "acc_score_print('val', yval, xval_scaled, knn)"
   ]
  },
  {
   "cell_type": "markdown",
   "metadata": {
    "cell_id": "21e1a23f53f648ddbf2ea3743ae9d21d",
    "deepnote_cell_type": "markdown"
   },
   "source": [
    "### Grid search KNN\n",
    "* I want to go through the values of `n_neighbors`, possible values of `weights`, `algorithm` and `metric`."
   ]
  },
  {
   "cell_type": "code",
   "execution_count": 33,
   "metadata": {
    "cell_id": "a75223378cc842bd97b244a8d688d0af",
    "deepnote_cell_type": "code",
    "deepnote_to_be_reexecuted": false,
    "execution_millis": 1227771492,
    "execution_start": 1668719873655,
    "source_hash": "6b1f3d2"
   },
   "outputs": [],
   "source": [
    "param_grid_knn = {\n",
    "    'n_neighbors': range(3, 35),\n",
    "    'weights': ['uniform', 'distance'],\n",
    "    'algorithm':['auto', 'ball_tree', 'kd_tree'],\n",
    "    'metric': ['euclidean', 'manhattan', 'minkowski']\n",
    "}\n",
    "param_comb_knn = ParameterGrid(param_grid_knn)"
   ]
  },
  {
   "cell_type": "code",
   "execution_count": 34,
   "metadata": {
    "cell_id": "bbe421c71a5e48fe8bf8af69a8a331cf",
    "deepnote_cell_type": "code",
    "deepnote_to_be_reexecuted": false,
    "execution_millis": 6840,
    "execution_start": 1668719873699,
    "source_hash": "d457ed07"
   },
   "outputs": [],
   "source": [
    "val_accuracy_knn = []\n",
    "train_accuracy_knn = []\n",
    "\n",
    "for params in param_comb_knn:\n",
    "    knn = KNeighborsClassifier(n_neighbors=params['n_neighbors'], weights=params['weights'], algorithm=params['algorithm'], metric=params['metric'])\n",
    "    knn.fit(xtrain_scaled, ytrain)\n",
    "    train_accuracy_knn.append(metrics.accuracy_score(ytrain, knn.predict(xtrain_scaled)))\n",
    "    val_accuracy_knn.append(metrics.accuracy_score(yval, knn.predict(xval_scaled)))"
   ]
  },
  {
   "cell_type": "code",
   "execution_count": 35,
   "metadata": {
    "cell_id": "aabfc5be30334f3ab11a1c2e0440ee76",
    "deepnote_cell_type": "code",
    "deepnote_to_be_reexecuted": false,
    "execution_millis": 724,
    "execution_start": 1668719880547,
    "source_hash": "28282a9e"
   },
   "outputs": [
    {
     "name": "stdout",
     "output_type": "stream",
     "text": [
      "Best parameters: {'weights': 'distance', 'n_neighbors': 18, 'metric': 'manhattan', 'algorithm': 'auto'}\n",
      "Training accuracy: 1.000000\n",
      "Validation accuracy: 0.827411\n"
     ]
    }
   ],
   "source": [
    "best_params_knn = param_comb_knn[np.argmax(val_accuracy_knn)]\n",
    "print('Best parameters: ' + str(best_params_knn))\n",
    "print('Training accuracy: {0:.6f}'.format(train_accuracy_knn[np.argmax(train_accuracy_knn)]))\n",
    "print('Validation accuracy: {0:.6f}'.format(val_accuracy_knn[np.argmax(val_accuracy_knn)]))"
   ]
  },
  {
   "cell_type": "code",
   "execution_count": 36,
   "metadata": {
    "cell_id": "1197549fd556410083c1cd712445def3",
    "deepnote_cell_type": "code",
    "deepnote_to_be_reexecuted": false,
    "execution_millis": 738,
    "execution_start": 1668719880555,
    "source_hash": "eaa2ec59"
   },
   "outputs": [
    {
     "name": "stdout",
     "output_type": "stream",
     "text": [
      "Training accuracy score: 1.000000\n",
      "Validation accuracy score: 0.827411\n"
     ]
    }
   ],
   "source": [
    "knn_grid = KNeighborsClassifier(**best_params_knn)\n",
    "knn_grid.fit(xtrain_scaled, ytrain)\n",
    "\n",
    "acc_score_print('train', ytrain, xtrain_scaled, knn_grid)\n",
    "acc_score_print('val', yval, xval_scaled, knn_grid)"
   ]
  },
  {
   "cell_type": "markdown",
   "metadata": {},
   "source": [
    "## Sum up better model\n",
    "* Decision Tree Classifier"
   ]
  },
  {
   "cell_type": "code",
   "execution_count": 37,
   "metadata": {},
   "outputs": [
    {
     "name": "stdout",
     "output_type": "stream",
     "text": [
      "Validation accuracy score: 0.695431\n"
     ]
    }
   ],
   "source": [
    "acc_score_print('val', yval, xval, dtc)"
   ]
  },
  {
   "cell_type": "markdown",
   "metadata": {},
   "source": [
    "* Decision Tree Classifier with Grid Search"
   ]
  },
  {
   "cell_type": "code",
   "execution_count": 38,
   "metadata": {},
   "outputs": [
    {
     "name": "stdout",
     "output_type": "stream",
     "text": [
      "Validation accuracy score: 0.746193\n"
     ]
    }
   ],
   "source": [
    "acc_score_print('val', yval, xval, dtc_grid)"
   ]
  },
  {
   "cell_type": "markdown",
   "metadata": {},
   "source": [
    "* k-Nearest Neighbors scaled"
   ]
  },
  {
   "cell_type": "code",
   "execution_count": 39,
   "metadata": {},
   "outputs": [
    {
     "name": "stdout",
     "output_type": "stream",
     "text": [
      "Validation accuracy score: 0.796954\n"
     ]
    }
   ],
   "source": [
    "acc_score_print('val', yval, xval_scaled, knn)"
   ]
  },
  {
   "cell_type": "markdown",
   "metadata": {},
   "source": [
    "* k-Nearest Neighbors scaled with Grid Search"
   ]
  },
  {
   "cell_type": "code",
   "execution_count": 40,
   "metadata": {},
   "outputs": [
    {
     "name": "stdout",
     "output_type": "stream",
     "text": [
      "Validation accuracy score: 0.827411\n"
     ]
    }
   ],
   "source": [
    "acc_score_print('val', yval, xval_scaled, knn_grid)"
   ]
  },
  {
   "cell_type": "markdown",
   "metadata": {
    "cell_id": "18ad1ef6dfcc472782cc78f2e82ec3a7",
    "deepnote_cell_type": "markdown"
   },
   "source": [
    " ## Conclusion\n",
    " I see that the KNN scaled with grid search model gives a highest accuracy score than other models, it has highest score: 82.7%\n",
    " Therefore, I calculate the predictions for the data with dataset `Evaluation.csv` using that KNN model."
   ]
  },
  {
   "cell_type": "code",
   "execution_count": 41,
   "metadata": {},
   "outputs": [
    {
     "name": "stdout",
     "output_type": "stream",
     "text": [
      "Testing accuracy score: 0.803030\n"
     ]
    }
   ],
   "source": [
    "# final accuracy score for testing set\n",
    "acc_score_print('test', ytest, xtest_scaled, knn_grid)"
   ]
  },
  {
   "cell_type": "markdown",
   "metadata": {
    "cell_id": "8a139e7d1b6849e080c8a09a6dff0dca",
    "deepnote_cell_type": "markdown"
   },
   "source": [
    "## Evaluation: basic overview\n",
    "* I load the data from the `evaluation.csv` dataset and examine this dataset."
   ]
  },
  {
   "cell_type": "code",
   "execution_count": 42,
   "metadata": {
    "cell_id": "39dac235380c41fea69ae36662c4050a",
    "deepnote_cell_type": "code",
    "deepnote_to_be_reexecuted": false,
    "execution_millis": 668,
    "execution_start": 1668719880636,
    "source_hash": "b5c3af1"
   },
   "outputs": [
    {
     "name": "stdout",
     "output_type": "stream",
     "text": [
      "shape of dataset: (309, 12)\n",
      "***************************************\n",
      "\n",
      "head of dataset\n"
     ]
    },
    {
     "data": {
      "text/html": [
       "<div>\n",
       "<style scoped>\n",
       "    .dataframe tbody tr th:only-of-type {\n",
       "        vertical-align: middle;\n",
       "    }\n",
       "\n",
       "    .dataframe tbody tr th {\n",
       "        vertical-align: top;\n",
       "    }\n",
       "\n",
       "    .dataframe thead th {\n",
       "        text-align: right;\n",
       "    }\n",
       "</style>\n",
       "<table border=\"1\" class=\"dataframe\">\n",
       "  <thead>\n",
       "    <tr style=\"text-align: right;\">\n",
       "      <th></th>\n",
       "      <th>ID</th>\n",
       "      <th>pclass</th>\n",
       "      <th>name</th>\n",
       "      <th>sex</th>\n",
       "      <th>age</th>\n",
       "      <th>sibsp</th>\n",
       "      <th>parch</th>\n",
       "      <th>ticket</th>\n",
       "      <th>fare</th>\n",
       "      <th>cabin</th>\n",
       "      <th>embarked</th>\n",
       "      <th>home.dest</th>\n",
       "    </tr>\n",
       "  </thead>\n",
       "  <tbody>\n",
       "    <tr>\n",
       "      <th>0</th>\n",
       "      <td>1000</td>\n",
       "      <td>1</td>\n",
       "      <td>Wick, Miss. Mary Natalie</td>\n",
       "      <td>female</td>\n",
       "      <td>31.0</td>\n",
       "      <td>0</td>\n",
       "      <td>2</td>\n",
       "      <td>36928</td>\n",
       "      <td>164.8667</td>\n",
       "      <td>C7</td>\n",
       "      <td>S</td>\n",
       "      <td>Youngstown, OH</td>\n",
       "    </tr>\n",
       "    <tr>\n",
       "      <th>1</th>\n",
       "      <td>1001</td>\n",
       "      <td>1</td>\n",
       "      <td>Bazzani, Miss. Albina</td>\n",
       "      <td>female</td>\n",
       "      <td>32.0</td>\n",
       "      <td>0</td>\n",
       "      <td>0</td>\n",
       "      <td>11813</td>\n",
       "      <td>76.2917</td>\n",
       "      <td>D15</td>\n",
       "      <td>C</td>\n",
       "      <td>NaN</td>\n",
       "    </tr>\n",
       "    <tr>\n",
       "      <th>2</th>\n",
       "      <td>1002</td>\n",
       "      <td>1</td>\n",
       "      <td>Futrelle, Mrs. Jacques Heath (Lily May Peel)</td>\n",
       "      <td>female</td>\n",
       "      <td>35.0</td>\n",
       "      <td>1</td>\n",
       "      <td>0</td>\n",
       "      <td>113803</td>\n",
       "      <td>53.1000</td>\n",
       "      <td>C123</td>\n",
       "      <td>S</td>\n",
       "      <td>Scituate, MA</td>\n",
       "    </tr>\n",
       "    <tr>\n",
       "      <th>3</th>\n",
       "      <td>1003</td>\n",
       "      <td>3</td>\n",
       "      <td>Midtsjo, Mr. Karl Albert</td>\n",
       "      <td>male</td>\n",
       "      <td>21.0</td>\n",
       "      <td>0</td>\n",
       "      <td>0</td>\n",
       "      <td>345501</td>\n",
       "      <td>7.7750</td>\n",
       "      <td>NaN</td>\n",
       "      <td>S</td>\n",
       "      <td>NaN</td>\n",
       "    </tr>\n",
       "    <tr>\n",
       "      <th>4</th>\n",
       "      <td>1004</td>\n",
       "      <td>3</td>\n",
       "      <td>O'Connor, Mr. Maurice</td>\n",
       "      <td>male</td>\n",
       "      <td>NaN</td>\n",
       "      <td>0</td>\n",
       "      <td>0</td>\n",
       "      <td>371060</td>\n",
       "      <td>7.7500</td>\n",
       "      <td>NaN</td>\n",
       "      <td>Q</td>\n",
       "      <td>NaN</td>\n",
       "    </tr>\n",
       "  </tbody>\n",
       "</table>\n",
       "</div>"
      ],
      "text/plain": [
       "     ID  pclass                                          name     sex   age  \\\n",
       "0  1000       1                      Wick, Miss. Mary Natalie  female  31.0   \n",
       "1  1001       1                         Bazzani, Miss. Albina  female  32.0   \n",
       "2  1002       1  Futrelle, Mrs. Jacques Heath (Lily May Peel)  female  35.0   \n",
       "3  1003       3                      Midtsjo, Mr. Karl Albert    male  21.0   \n",
       "4  1004       3                         O'Connor, Mr. Maurice    male   NaN   \n",
       "\n",
       "   sibsp  parch  ticket      fare cabin embarked       home.dest  \n",
       "0      0      2   36928  164.8667    C7        S  Youngstown, OH  \n",
       "1      0      0   11813   76.2917   D15        C             NaN  \n",
       "2      1      0  113803   53.1000  C123        S    Scituate, MA  \n",
       "3      0      0  345501    7.7750   NaN        S             NaN  \n",
       "4      0      0  371060    7.7500   NaN        Q             NaN  "
      ]
     },
     "metadata": {},
     "output_type": "display_data"
    },
    {
     "name": "stdout",
     "output_type": "stream",
     "text": [
      "***************************************\n",
      "\n",
      "info\n",
      "<class 'pandas.core.frame.DataFrame'>\n",
      "RangeIndex: 309 entries, 0 to 308\n",
      "Data columns (total 12 columns):\n",
      " #   Column     Non-Null Count  Dtype  \n",
      "---  ------     --------------  -----  \n",
      " 0   ID         309 non-null    int64  \n",
      " 1   pclass     309 non-null    int64  \n",
      " 2   name       309 non-null    object \n",
      " 3   sex        309 non-null    object \n",
      " 4   age        249 non-null    float64\n",
      " 5   sibsp      309 non-null    int64  \n",
      " 6   parch      309 non-null    int64  \n",
      " 7   ticket     309 non-null    object \n",
      " 8   fare       309 non-null    float64\n",
      " 9   cabin      73 non-null     object \n",
      " 10  embarked   308 non-null    object \n",
      " 11  home.dest  172 non-null    object \n",
      "dtypes: float64(2), int64(4), object(6)\n",
      "memory usage: 29.1+ KB\n"
     ]
    },
    {
     "data": {
      "text/plain": [
       "None"
      ]
     },
     "metadata": {},
     "output_type": "display_data"
    },
    {
     "name": "stdout",
     "output_type": "stream",
     "text": [
      "***************************************\n",
      "\n",
      "description\n"
     ]
    },
    {
     "data": {
      "text/html": [
       "<div>\n",
       "<style scoped>\n",
       "    .dataframe tbody tr th:only-of-type {\n",
       "        vertical-align: middle;\n",
       "    }\n",
       "\n",
       "    .dataframe tbody tr th {\n",
       "        vertical-align: top;\n",
       "    }\n",
       "\n",
       "    .dataframe thead th {\n",
       "        text-align: right;\n",
       "    }\n",
       "</style>\n",
       "<table border=\"1\" class=\"dataframe\">\n",
       "  <thead>\n",
       "    <tr style=\"text-align: right;\">\n",
       "      <th></th>\n",
       "      <th>ID</th>\n",
       "      <th>pclass</th>\n",
       "      <th>age</th>\n",
       "      <th>sibsp</th>\n",
       "      <th>parch</th>\n",
       "      <th>fare</th>\n",
       "    </tr>\n",
       "  </thead>\n",
       "  <tbody>\n",
       "    <tr>\n",
       "      <th>count</th>\n",
       "      <td>309.000000</td>\n",
       "      <td>309.000000</td>\n",
       "      <td>249.000000</td>\n",
       "      <td>309.000000</td>\n",
       "      <td>309.000000</td>\n",
       "      <td>309.000000</td>\n",
       "    </tr>\n",
       "    <tr>\n",
       "      <th>mean</th>\n",
       "      <td>1154.000000</td>\n",
       "      <td>2.300971</td>\n",
       "      <td>29.479251</td>\n",
       "      <td>0.498382</td>\n",
       "      <td>0.388350</td>\n",
       "      <td>32.897708</td>\n",
       "    </tr>\n",
       "    <tr>\n",
       "      <th>std</th>\n",
       "      <td>89.344838</td>\n",
       "      <td>0.831619</td>\n",
       "      <td>14.976391</td>\n",
       "      <td>1.109652</td>\n",
       "      <td>0.840142</td>\n",
       "      <td>47.185050</td>\n",
       "    </tr>\n",
       "    <tr>\n",
       "      <th>min</th>\n",
       "      <td>1000.000000</td>\n",
       "      <td>1.000000</td>\n",
       "      <td>0.416700</td>\n",
       "      <td>0.000000</td>\n",
       "      <td>0.000000</td>\n",
       "      <td>0.000000</td>\n",
       "    </tr>\n",
       "    <tr>\n",
       "      <th>25%</th>\n",
       "      <td>1077.000000</td>\n",
       "      <td>2.000000</td>\n",
       "      <td>20.000000</td>\n",
       "      <td>0.000000</td>\n",
       "      <td>0.000000</td>\n",
       "      <td>7.925000</td>\n",
       "    </tr>\n",
       "    <tr>\n",
       "      <th>50%</th>\n",
       "      <td>1154.000000</td>\n",
       "      <td>3.000000</td>\n",
       "      <td>28.000000</td>\n",
       "      <td>0.000000</td>\n",
       "      <td>0.000000</td>\n",
       "      <td>13.000000</td>\n",
       "    </tr>\n",
       "    <tr>\n",
       "      <th>75%</th>\n",
       "      <td>1231.000000</td>\n",
       "      <td>3.000000</td>\n",
       "      <td>39.000000</td>\n",
       "      <td>1.000000</td>\n",
       "      <td>0.000000</td>\n",
       "      <td>31.387500</td>\n",
       "    </tr>\n",
       "    <tr>\n",
       "      <th>max</th>\n",
       "      <td>1308.000000</td>\n",
       "      <td>3.000000</td>\n",
       "      <td>80.000000</td>\n",
       "      <td>8.000000</td>\n",
       "      <td>6.000000</td>\n",
       "      <td>263.000000</td>\n",
       "    </tr>\n",
       "  </tbody>\n",
       "</table>\n",
       "</div>"
      ],
      "text/plain": [
       "                ID      pclass         age       sibsp       parch        fare\n",
       "count   309.000000  309.000000  249.000000  309.000000  309.000000  309.000000\n",
       "mean   1154.000000    2.300971   29.479251    0.498382    0.388350   32.897708\n",
       "std      89.344838    0.831619   14.976391    1.109652    0.840142   47.185050\n",
       "min    1000.000000    1.000000    0.416700    0.000000    0.000000    0.000000\n",
       "25%    1077.000000    2.000000   20.000000    0.000000    0.000000    7.925000\n",
       "50%    1154.000000    3.000000   28.000000    0.000000    0.000000   13.000000\n",
       "75%    1231.000000    3.000000   39.000000    1.000000    0.000000   31.387500\n",
       "max    1308.000000    3.000000   80.000000    8.000000    6.000000  263.000000"
      ]
     },
     "metadata": {},
     "output_type": "display_data"
    },
    {
     "name": "stdout",
     "output_type": "stream",
     "text": [
      "***************************************\n",
      "\n",
      "number of unique values\n"
     ]
    },
    {
     "data": {
      "text/plain": [
       "ID           309\n",
       "pclass         3\n",
       "name         309\n",
       "sex            2\n",
       "age           71\n",
       "sibsp          7\n",
       "parch          6\n",
       "ticket       277\n",
       "fare         156\n",
       "cabin         66\n",
       "embarked       3\n",
       "home.dest    132\n",
       "dtype: int64"
      ]
     },
     "metadata": {},
     "output_type": "display_data"
    }
   ],
   "source": [
    "evaluation = pd.read_csv('evaluation.csv')\n",
    "describe_df(evaluation)"
   ]
  },
  {
   "cell_type": "markdown",
   "metadata": {
    "cell_id": "3d4df1b2612c4e05a9a38b20b74dc5c1",
    "deepnote_cell_type": "markdown"
   },
   "source": [
    "### Data preparation before using the model\n",
    "* I separate the `ID` column, then append it to the survivor/non-survivor result in the data frame."
   ]
  },
  {
   "cell_type": "code",
   "execution_count": 43,
   "metadata": {
    "cell_id": "ff60f66df6a54ab2bfd6a4c79713ac5f",
    "deepnote_cell_type": "code",
    "deepnote_to_be_reexecuted": false,
    "execution_millis": 5,
    "execution_start": 1668719880764,
    "source_hash": "b9b9559a"
   },
   "outputs": [],
   "source": [
    "evaluation_id = evaluation['ID']\n",
    "evaluation = evaluation.drop(['ID', 'name'], axis=1)"
   ]
  },
  {
   "cell_type": "markdown",
   "metadata": {
    "cell_id": "0199edc9aa854490901851bdbcf518f0",
    "deepnote_cell_type": "markdown",
    "tags": []
   },
   "source": [
    "#### When preparing the dataset `Evaluation.csv` I perform the same operations that I performed when preparing the dataset `Data.csv` : \n",
    "* I'll deal with the missing values."
   ]
  },
  {
   "cell_type": "code",
   "execution_count": 44,
   "metadata": {
    "cell_id": "61510185171e4c0dae792685bb379a1b",
    "deepnote_cell_type": "code",
    "deepnote_to_be_reexecuted": false,
    "execution_millis": 4,
    "execution_start": 1668719880775,
    "source_hash": "e4babbb0"
   },
   "outputs": [],
   "source": [
    "evaluation = replace_values_with_nan(evaluation)"
   ]
  },
  {
   "cell_type": "markdown",
   "metadata": {
    "cell_id": "ee25150a8c1f4b28b6c4bcec08f36a05",
    "deepnote_cell_type": "markdown",
    "tags": []
   },
   "source": [
    "* Replace **'male'** and **'female'** with bool values."
   ]
  },
  {
   "cell_type": "code",
   "execution_count": 45,
   "metadata": {
    "cell_id": "7a8246be1a17435d92474f29afef4d2c",
    "deepnote_cell_type": "code",
    "deepnote_to_be_reexecuted": false,
    "execution_millis": 6,
    "execution_start": 1668719880783,
    "source_hash": "5c0bfb28"
   },
   "outputs": [],
   "source": [
    "evaluation = convert_sex(evaluation)"
   ]
  },
  {
   "cell_type": "markdown",
   "metadata": {
    "cell_id": "bca1e530783e4e5ea243acc3844ea605",
    "deepnote_cell_type": "markdown",
    "tags": []
   },
   "source": [
    "* Convert the non-numeric `embarked` flag to **one-hot encoding** representation."
   ]
  },
  {
   "cell_type": "code",
   "execution_count": 46,
   "metadata": {
    "cell_id": "6f3bea41ac8c4b6eb5281a53a2f25b7e",
    "deepnote_cell_type": "code",
    "deepnote_to_be_reexecuted": false,
    "execution_millis": 31,
    "execution_start": 1668719880795,
    "source_hash": "aacb8d9"
   },
   "outputs": [],
   "source": [
    "evaluation = one_hot_encoding(evaluation,'embarked')"
   ]
  },
  {
   "cell_type": "markdown",
   "metadata": {
    "cell_id": "5ea297c2be78434db919e367bcbba4cd",
    "deepnote_cell_type": "markdown",
    "tags": []
   },
   "source": [
    "  * I will replace all flags with string values with numeric codes.\n",
    "  * I convert them to numeric representation."
   ]
  },
  {
   "cell_type": "code",
   "execution_count": 47,
   "metadata": {
    "cell_id": "0217a5ec53994cd3b07cfb7e26f5141b",
    "deepnote_cell_type": "code",
    "deepnote_to_be_reexecuted": false,
    "execution_millis": 1,
    "execution_start": 1668719880888,
    "source_hash": "121a0b1f"
   },
   "outputs": [],
   "source": [
    "evaluation = cat_codes(evaluation)"
   ]
  },
  {
   "cell_type": "markdown",
   "metadata": {
    "cell_id": "f312247bc32840d3805485f232218ae0",
    "deepnote_cell_type": "markdown",
    "tags": []
   },
   "source": [
    "* Replace all missing values with -1."
   ]
  },
  {
   "cell_type": "code",
   "execution_count": 48,
   "metadata": {
    "cell_id": "8824cca79dad4d0a98b1578200e5058b",
    "deepnote_cell_type": "code",
    "deepnote_to_be_reexecuted": false,
    "execution_millis": 1,
    "execution_start": 1668719880890,
    "source_hash": "1374eff8"
   },
   "outputs": [],
   "source": [
    "evaluation = replace_missing(evaluation)"
   ]
  },
  {
   "cell_type": "markdown",
   "metadata": {
    "cell_id": "41dfa56bcb9849e69a862fc2420c17de",
    "deepnote_cell_type": "markdown",
    "tags": []
   },
   "source": [
    "### Normalize the `Evaluation` dataset for further prediction"
   ]
  },
  {
   "cell_type": "code",
   "execution_count": 49,
   "metadata": {
    "cell_id": "8f7cfe3d76934bb792093e04905b377b",
    "deepnote_cell_type": "code",
    "deepnote_to_be_reexecuted": false,
    "execution_millis": 1,
    "execution_start": 1668719880891,
    "source_hash": "6a820ca1"
   },
   "outputs": [],
   "source": [
    "scaler = MinMaxScaler()\n",
    "evaluation_scaled = scaler.fit_transform(evaluation)"
   ]
  },
  {
   "cell_type": "markdown",
   "metadata": {
    "cell_id": "5c176aa9c8514471ac70efebeb08fab6",
    "deepnote_cell_type": "markdown"
   },
   "source": [
    "* I'll calculate predictions for the normalized data from the file."
   ]
  },
  {
   "cell_type": "code",
   "execution_count": 50,
   "metadata": {
    "cell_id": "6a9a3ac2932a43b7afa4bcacde2fb7a1",
    "deepnote_cell_type": "code",
    "deepnote_to_be_reexecuted": false,
    "execution_millis": 21,
    "execution_start": 1668719880893,
    "source_hash": "9eb722ce"
   },
   "outputs": [],
   "source": [
    "predicted = knn_grid.predict(evaluation_scaled)"
   ]
  },
  {
   "cell_type": "markdown",
   "metadata": {
    "cell_id": "d4d49502ab094f258eff64bce641da16",
    "deepnote_cell_type": "markdown",
    "tags": []
   },
   "source": [
    "I store the predictions in two columns: `ID`, `survival prediction` in the **results.csv** file."
   ]
  },
  {
   "cell_type": "code",
   "execution_count": 51,
   "metadata": {
    "cell_id": "c736f5def5ca4f4c923c4c120dd5f5f5",
    "deepnote_cell_type": "code",
    "deepnote_to_be_reexecuted": false,
    "execution_millis": 1,
    "execution_start": 1668719880970,
    "source_hash": "c8335c36"
   },
   "outputs": [],
   "source": [
    "predicted = pd.Series(data=predicted, name='survived')\n",
    "predicted_df = pd.concat([evaluation_id, predicted], axis=1)\n",
    "predicted_df.to_csv('results.csv', index=False)"
   ]
  }
 ],
 "metadata": {
  "deepnote": {},
  "deepnote_execution_queue": [],
  "deepnote_notebook_id": "25c6ca1812c04fd0b403845cc628c6b1",
  "deepnote_persisted_session": {
   "createdAt": "2022-11-17T21:34:37.204Z"
  },
  "kernelspec": {
   "display_name": "Python 3 (ipykernel)",
   "language": "python",
   "name": "python3"
  },
  "language_info": {
   "codemirror_mode": {
    "name": "ipython",
    "version": 3
   },
   "file_extension": ".py",
   "mimetype": "text/x-python",
   "name": "python",
   "nbconvert_exporter": "python",
   "pygments_lexer": "ipython3",
   "version": "3.9.13"
  }
 },
 "nbformat": 4,
 "nbformat_minor": 1
}
