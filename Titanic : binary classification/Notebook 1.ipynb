{
 "cells": [
  {
   "cell_type": "markdown",
   "source": [
    "# Úkol č. 1 - předzpracování dat a binární klasifikace\n",
    "\n",
    "  * **Deadline je do 3. 11. 2022, 23:59:59**, pokud odevzdáte úkol do 10. 11. 2022, 23:59:59, budete penalizování -4 body, pozdější odevzdání je bez bodu.\n",
    "  * V rámci tohoto úkolu se musíte vypořádat s příznaky, které jsou různých typů.\n",
    "  * Před tím, než na nich postavíte predikční model, je třeba je nějakým způsobem převést do číselné reprezentace.\n",
    "    \n",
    "> **Úkoly jsou zadány tak, aby Vám daly prostor pro invenci. Vymyslet _jak přesně_ budete úkol řešit, je důležitou součástí zadání a originalita či nápaditost bude také hodnocena!**\n",
    "\n",
    "## Zdroj dat\n",
    "\n",
    "Budeme se zabývat predikcí přežití pasažérů Titaniku.\n",
    "K dispozici máte trénovací data v souboru **data.csv** a data na vyhodnocení v souboru **evaluation.csv**.\n",
    "\n",
    "#### Seznam příznaků:\n",
    "* survived - zda přežil, 0 = Ne, 1 = Ano, **vysvětlovaná proměnná**, kterou chcete predikovat\n",
    "* pclass - Třída lodního lístku, 1 = první, 2 = druhá, 3 = třetí\n",
    "* name - jméno\n",
    "* sex - pohlaví\n",
    "* age - věk v letech\n",
    "* sibsp\t- počet sourozenců / manželů, manželek na palubě\n",
    "* parch - počet rodičů / dětí na palubě\n",
    "* ticket - číslo lodního lístku\n",
    "* fare - cena lodního lístku\n",
    "* cabin\t- číslo kajuty\n",
    "* embarked\t- místo nalodění, C = Cherbourg, Q = Queenstown, S = Southampton\n",
    "* home.dest - Bydliště/Cíl\n",
    "\n",
    "## Pokyny k vypracování\n",
    "\n",
    "**Základní body zadání**, za jejichž (poctivé) vypracování získáte **12 bodů**:\n",
    "  * Využívejte buňky typu `Markdown` k vysvětlování Vašeho postupu. Za nepřehlednost budeme strhávat body.\n",
    "  * V notebooku načtěte data ze souboru **data.csv**. Vhodným způsobem si je rozdělte na podmnožiny potřebné k trénování a evaluaci modelu (optimálně tedy trénovací, validační a testovací).\n",
    "  * Projděte si jednotlivé příznaky a transformujte je do vhodné podoby pro použití ve vybraném klasifikačním modelu.\n",
    "  * Podle potřeby si můžete vytvářet nové příznaky (na základě existujících), například tedy můžete vytvořit příznak měřící délku jména. Některé příznaky můžete také úplně zahodit. Pro průzkum dat využívejte vizualizace.\n",
    "  * Nějakým způsobem se vypořádejte s chybějícími hodnotami.\n",
    "  * Následně si vyberte vhodný klasifikační model z přednášek. Najděte vhodné hyperparametry a určete jeho přesnost (accuracy) na trénovací množině. Také určete jeho přesnost na testovací množině.\n",
    "  * Načtěte vyhodnocovací data ze souboru **evaluation.csv**. Napočítejte predikce pro tyto data (vysvětlovaná proměnná v nich již není). Vytvořte **results.csv** soubor, ve kterém tyto predikce uložíte do dvou sloupců: ID, predikce přežití. Tento soubor též odevzdejte (uložte do projektu vedle notebooku).\n",
    "  * Ukázka prvních řádků souboru *results.csv*:\n",
    "  \n",
    "```\n",
    "ID,survived\n",
    "1000,0\n",
    "1001,1\n",
    "...\n",
    "```\n",
    "\n",
    "**Další body zadání** za případné další body (můžete si vybrat, maximum bodů za úkol je každopádně 16 bodů):\n",
    "  * (až +4 body) Aplikujte všechny klasifikační modely z přednášek a určete (na základě přesnosti na validační množině), který je nejlepší. Přesnost tohoto nejlepšího modelu odhadněte na testovací množině. K predikcím na vyhodnocovacích datech využijte tento model.\n",
    "  * (až +4 body) Zaměřte se na optimální předzpracování dat. Zabývejte se tím, jak nejlépe zpracovat a reprezentovat kategoriální příznaky. Také zkuste data normalizovat. Zaměřte se na vliv těchto kroků na přesnost predikce výsledného modelu. K predikcím na vyhodnocovacích datech využijte ten přístup, který Vám vyjde jako nejlepší.\n",
    "\n",
    "## Poznámky k odevzdání\n",
    "\n",
    "  * Řiďte se pokyny ze stránky https://courses.fit.cvut.cz/BI-ML1/homeworks/index.html.\n",
    "  * Vytvořte i csv soubor s predikcemi a uložte ho v rámci projektu (`results.csv`, vedle ipython notebooku).\n",
    "  * Opravující Vám ve výjimečných případech může umožnit úkol dodělat či opravit a získat tak další body. První verze je ale stěžejní a má hlavní vliv na hodnocení."
   ],
   "metadata": {
    "tags": [],
    "cell_id": "628f4ce8c3794080b6f87de0a48ce731",
    "deepnote_cell_type": "markdown"
   }
  },
  {
   "cell_type": "markdown",
   "source": [
    "### Data: základní přehled\n",
    "* Použiju balíček `pandas` k nahrání dat a jejich základnímu prozkoumání.\n"
   ],
   "metadata": {
    "tags": [],
    "cell_id": "78c8f535796c49018f72628aa3940cff",
    "deepnote_cell_type": "markdown"
   }
  },
  {
   "cell_type": "code",
   "source": [
    "import pandas as pd\n",
    "import numpy as np"
   ],
   "metadata": {
    "tags": [],
    "cell_id": "5586f389eabf47a3875370d60aa8796f",
    "source_hash": "c76c7c51",
    "execution_start": 1668719868529,
    "execution_millis": 1227774202,
    "deepnote_to_be_reexecuted": false,
    "deepnote_cell_type": "code"
   },
   "outputs": [],
   "execution_count": 1
  },
  {
   "cell_type": "code",
   "source": [
    "data = pd.read_csv('data.csv')"
   ],
   "metadata": {
    "tags": [],
    "cell_id": "3e0c45d6642b415583730035d8f78a08",
    "source_hash": "7856ea7e",
    "execution_start": 1668719868573,
    "execution_millis": 0,
    "deepnote_to_be_reexecuted": false,
    "deepnote_cell_type": "code"
   },
   "outputs": [],
   "execution_count": 2
  },
  {
   "cell_type": "code",
   "source": [
    "print('data shape: ' + str(data.shape))\n",
    "display(data.head())\n",
    "display(data.info())\n",
    "display(data.describe())\n",
    "display(data.nunique())"
   ],
   "metadata": {
    "tags": [],
    "cell_id": "c1b2954b3cfb4822b63f85f760a92107",
    "source_hash": "8b1a2c63",
    "execution_start": 1668719868584,
    "execution_millis": 201,
    "deepnote_to_be_reexecuted": false,
    "deepnote_cell_type": "code"
   },
   "outputs": [
    {
     "name": "stdout",
     "text": "data shape: (1000, 13)\n",
     "output_type": "stream"
    },
    {
     "data": {
      "text/plain": "   ID  survived  pclass                                               name  \\\n0   0         1       3       Andersson, Mr. August Edvard (\"Wennerstrom\")   \n1   1         1       3                              Dahl, Mr. Karl Edwart   \n2   2         0       2                         Watson, Mr. Ennis Hastings   \n3   3         1       3  Johnson, Mrs. Oscar W (Elisabeth Vilhelmina Berg)   \n4   4         0       1                            Meyer, Mr. Edgar Joseph   \n\n      sex   age  sibsp  parch    ticket     fare cabin embarked  \\\n0    male  27.0      0      0    350043   7.7958   NaN        S   \n1    male  45.0      0      0      7598   8.0500   NaN        S   \n2    male   NaN      0      0    239856   0.0000   NaN        S   \n3  female  27.0      0      2    347742  11.1333   NaN        S   \n4    male  28.0      1      0  PC 17604  82.1708   NaN        C   \n\n              home.dest  \n0                   NaN  \n1  Australia Fingal, ND  \n2               Belfast  \n3                   NaN  \n4          New York, NY  ",
      "text/html": "<div>\n<style scoped>\n    .dataframe tbody tr th:only-of-type {\n        vertical-align: middle;\n    }\n\n    .dataframe tbody tr th {\n        vertical-align: top;\n    }\n\n    .dataframe thead th {\n        text-align: right;\n    }\n</style>\n<table border=\"1\" class=\"dataframe\">\n  <thead>\n    <tr style=\"text-align: right;\">\n      <th></th>\n      <th>ID</th>\n      <th>survived</th>\n      <th>pclass</th>\n      <th>name</th>\n      <th>sex</th>\n      <th>age</th>\n      <th>sibsp</th>\n      <th>parch</th>\n      <th>ticket</th>\n      <th>fare</th>\n      <th>cabin</th>\n      <th>embarked</th>\n      <th>home.dest</th>\n    </tr>\n  </thead>\n  <tbody>\n    <tr>\n      <th>0</th>\n      <td>0</td>\n      <td>1</td>\n      <td>3</td>\n      <td>Andersson, Mr. August Edvard (\"Wennerstrom\")</td>\n      <td>male</td>\n      <td>27.0</td>\n      <td>0</td>\n      <td>0</td>\n      <td>350043</td>\n      <td>7.7958</td>\n      <td>NaN</td>\n      <td>S</td>\n      <td>NaN</td>\n    </tr>\n    <tr>\n      <th>1</th>\n      <td>1</td>\n      <td>1</td>\n      <td>3</td>\n      <td>Dahl, Mr. Karl Edwart</td>\n      <td>male</td>\n      <td>45.0</td>\n      <td>0</td>\n      <td>0</td>\n      <td>7598</td>\n      <td>8.0500</td>\n      <td>NaN</td>\n      <td>S</td>\n      <td>Australia Fingal, ND</td>\n    </tr>\n    <tr>\n      <th>2</th>\n      <td>2</td>\n      <td>0</td>\n      <td>2</td>\n      <td>Watson, Mr. Ennis Hastings</td>\n      <td>male</td>\n      <td>NaN</td>\n      <td>0</td>\n      <td>0</td>\n      <td>239856</td>\n      <td>0.0000</td>\n      <td>NaN</td>\n      <td>S</td>\n      <td>Belfast</td>\n    </tr>\n    <tr>\n      <th>3</th>\n      <td>3</td>\n      <td>1</td>\n      <td>3</td>\n      <td>Johnson, Mrs. Oscar W (Elisabeth Vilhelmina Berg)</td>\n      <td>female</td>\n      <td>27.0</td>\n      <td>0</td>\n      <td>2</td>\n      <td>347742</td>\n      <td>11.1333</td>\n      <td>NaN</td>\n      <td>S</td>\n      <td>NaN</td>\n    </tr>\n    <tr>\n      <th>4</th>\n      <td>4</td>\n      <td>0</td>\n      <td>1</td>\n      <td>Meyer, Mr. Edgar Joseph</td>\n      <td>male</td>\n      <td>28.0</td>\n      <td>1</td>\n      <td>0</td>\n      <td>PC 17604</td>\n      <td>82.1708</td>\n      <td>NaN</td>\n      <td>C</td>\n      <td>New York, NY</td>\n    </tr>\n  </tbody>\n</table>\n</div>"
     },
     "metadata": {},
     "output_type": "display_data"
    },
    {
     "name": "stdout",
     "text": "<class 'pandas.core.frame.DataFrame'>\nRangeIndex: 1000 entries, 0 to 999\nData columns (total 13 columns):\n #   Column     Non-Null Count  Dtype  \n---  ------     --------------  -----  \n 0   ID         1000 non-null   int64  \n 1   survived   1000 non-null   int64  \n 2   pclass     1000 non-null   int64  \n 3   name       1000 non-null   object \n 4   sex        1000 non-null   object \n 5   age        797 non-null    float64\n 6   sibsp      1000 non-null   int64  \n 7   parch      1000 non-null   int64  \n 8   ticket     1000 non-null   object \n 9   fare       999 non-null    float64\n 10  cabin      222 non-null    object \n 11  embarked   999 non-null    object \n 12  home.dest  573 non-null    object \ndtypes: float64(2), int64(5), object(6)\nmemory usage: 101.7+ KB\n",
     "output_type": "stream"
    },
    {
     "data": {
      "text/plain": "None"
     },
     "metadata": {},
     "output_type": "display_data"
    },
    {
     "data": {
      "text/plain": "                ID     survived       pclass         age        sibsp  \\\ncount  1000.000000  1000.000000  1000.000000  797.000000  1000.000000   \nmean    499.500000     0.391000     2.293000   30.006692     0.499000   \nstd     288.819436     0.488219     0.840153   14.240416     1.020314   \nmin       0.000000     0.000000     1.000000    0.166700     0.000000   \n25%     249.750000     0.000000     2.000000   21.000000     0.000000   \n50%     499.500000     0.000000     3.000000   28.000000     0.000000   \n75%     749.250000     1.000000     3.000000   38.500000     1.000000   \nmax     999.000000     1.000000     3.000000   76.000000     8.000000   \n\n             parch        fare  \ncount  1000.000000  999.000000  \nmean      0.384000   33.418514  \nstd       0.873675   53.115334  \nmin       0.000000    0.000000  \n25%       0.000000    7.895800  \n50%       0.000000   14.500000  \n75%       0.000000   31.275000  \nmax       9.000000  512.329200  ",
      "text/html": "<div>\n<style scoped>\n    .dataframe tbody tr th:only-of-type {\n        vertical-align: middle;\n    }\n\n    .dataframe tbody tr th {\n        vertical-align: top;\n    }\n\n    .dataframe thead th {\n        text-align: right;\n    }\n</style>\n<table border=\"1\" class=\"dataframe\">\n  <thead>\n    <tr style=\"text-align: right;\">\n      <th></th>\n      <th>ID</th>\n      <th>survived</th>\n      <th>pclass</th>\n      <th>age</th>\n      <th>sibsp</th>\n      <th>parch</th>\n      <th>fare</th>\n    </tr>\n  </thead>\n  <tbody>\n    <tr>\n      <th>count</th>\n      <td>1000.000000</td>\n      <td>1000.000000</td>\n      <td>1000.000000</td>\n      <td>797.000000</td>\n      <td>1000.000000</td>\n      <td>1000.000000</td>\n      <td>999.000000</td>\n    </tr>\n    <tr>\n      <th>mean</th>\n      <td>499.500000</td>\n      <td>0.391000</td>\n      <td>2.293000</td>\n      <td>30.006692</td>\n      <td>0.499000</td>\n      <td>0.384000</td>\n      <td>33.418514</td>\n    </tr>\n    <tr>\n      <th>std</th>\n      <td>288.819436</td>\n      <td>0.488219</td>\n      <td>0.840153</td>\n      <td>14.240416</td>\n      <td>1.020314</td>\n      <td>0.873675</td>\n      <td>53.115334</td>\n    </tr>\n    <tr>\n      <th>min</th>\n      <td>0.000000</td>\n      <td>0.000000</td>\n      <td>1.000000</td>\n      <td>0.166700</td>\n      <td>0.000000</td>\n      <td>0.000000</td>\n      <td>0.000000</td>\n    </tr>\n    <tr>\n      <th>25%</th>\n      <td>249.750000</td>\n      <td>0.000000</td>\n      <td>2.000000</td>\n      <td>21.000000</td>\n      <td>0.000000</td>\n      <td>0.000000</td>\n      <td>7.895800</td>\n    </tr>\n    <tr>\n      <th>50%</th>\n      <td>499.500000</td>\n      <td>0.000000</td>\n      <td>3.000000</td>\n      <td>28.000000</td>\n      <td>0.000000</td>\n      <td>0.000000</td>\n      <td>14.500000</td>\n    </tr>\n    <tr>\n      <th>75%</th>\n      <td>749.250000</td>\n      <td>1.000000</td>\n      <td>3.000000</td>\n      <td>38.500000</td>\n      <td>1.000000</td>\n      <td>0.000000</td>\n      <td>31.275000</td>\n    </tr>\n    <tr>\n      <th>max</th>\n      <td>999.000000</td>\n      <td>1.000000</td>\n      <td>3.000000</td>\n      <td>76.000000</td>\n      <td>8.000000</td>\n      <td>9.000000</td>\n      <td>512.329200</td>\n    </tr>\n  </tbody>\n</table>\n</div>"
     },
     "metadata": {},
     "output_type": "display_data"
    },
    {
     "data": {
      "text/plain": "ID           1000\nsurvived        2\npclass          3\nname          999\nsex             2\nage            94\nsibsp           7\nparch           7\nticket        754\nfare          249\ncabin         156\nembarked        3\nhome.dest     314\ndtype: int64"
     },
     "metadata": {},
     "output_type": "display_data"
    }
   ],
   "execution_count": 3
  },
  {
   "cell_type": "markdown",
   "source": [
    "### Příprava dat před použitím modelu\n",
    "* Zbavím se sloupců `ID` a `name`, protože informace v nich obsažené nijak neovlivňují statistiky přežití cestujících."
   ],
   "metadata": {
    "tags": [],
    "cell_id": "34cb849c9f7e4505bd1fccfe8a91f19e",
    "deepnote_cell_type": "markdown"
   }
  },
  {
   "cell_type": "code",
   "source": [
    "data = data.drop(['ID', 'name'], axis=1)\n",
    "# pokud jsou v souboru duplicitní řádky dat, odstraním jich\n",
    "data = data.drop_duplicates()"
   ],
   "metadata": {
    "tags": [],
    "cell_id": "5f81ce81a9494930aac6b81e0ffd69a1",
    "source_hash": "eee6b95c",
    "execution_start": 1668719868828,
    "execution_millis": 0,
    "deepnote_to_be_reexecuted": false,
    "deepnote_cell_type": "code"
   },
   "outputs": [],
   "execution_count": 4
  },
  {
   "cell_type": "markdown",
   "source": [
    "### Chybějící hodnoty\n",
    "*  Některé příznaky jsou nevyplněné, ale `pandas` hlásí, že žádné nechybí. Může se stát, že chybějící hodnoty nejsou správně zakódovány a místo `NaN` bude otazník `?` nebo pomlčka `'-'` nebo bude uvedeno `'unknown'`/`'Unknown'`.\n",
    "* V tomto případě nahrazuju případné chyby při plnění souboru na `np.nan`."
   ],
   "metadata": {
    "tags": [],
    "cell_id": "2b6f7b5331964639af1b6594ba0b00f3",
    "deepnote_cell_type": "markdown"
   }
  },
  {
   "cell_type": "code",
   "source": [
    "data = data.replace('?', np.nan)\n",
    "data = data.replace('-', np.nan)\n",
    "data = data.replace('unknown', np.nan)\n",
    "data = data.replace('Unknown', np.nan)"
   ],
   "metadata": {
    "tags": [],
    "cell_id": "3abdcb6941904fce870b32cc5b00d29a",
    "source_hash": "ec9e946f",
    "execution_start": 1668719868872,
    "execution_millis": 0,
    "deepnote_to_be_reexecuted": false,
    "deepnote_cell_type": "code"
   },
   "outputs": [],
   "execution_count": 5
  },
  {
   "cell_type": "markdown",
   "source": [
    "Implementace rozhodovacího stromu v `sklearn` si neumí poradit s nenumerickými příznaky. Proto nahradím stringy jejich kódy."
   ],
   "metadata": {
    "cell_id": "ebed18ec36a544b580fc34b2d11bc183",
    "collapsed": false,
    "deepnote_cell_type": "markdown"
   }
  },
  {
   "cell_type": "code",
   "source": [
    "display(data.dtypes)"
   ],
   "metadata": {
    "cell_id": "30853562114e4617b2730ae3a7721bca",
    "collapsed": false,
    "source_hash": "dd5709da",
    "execution_start": 1668719868873,
    "execution_millis": 42,
    "deepnote_to_be_reexecuted": false,
    "deepnote_cell_type": "code"
   },
   "outputs": [
    {
     "data": {
      "text/plain": "survived       int64\npclass         int64\nsex           object\nage          float64\nsibsp          int64\nparch          int64\nticket        object\nfare         float64\ncabin         object\nembarked      object\nhome.dest     object\ndtype: object"
     },
     "metadata": {},
     "output_type": "display_data"
    }
   ],
   "execution_count": 6
  },
  {
   "cell_type": "markdown",
   "source": [
    "Nahradím **'male'** a **'female'** na bool hodnoty. Nastavila jsem jestli `xtrain.sex == 'male'` - pak je to True, jinak je to False.\n",
    "Tj příznak **'male'** bude převeden na hodnotu True a **'female'** na False."
   ],
   "metadata": {
    "cell_id": "e992967f8ace4e43ba53d280c1cabcd4",
    "collapsed": false,
    "deepnote_cell_type": "markdown"
   }
  },
  {
   "cell_type": "code",
   "source": [
    "data.sex = (data.sex == 'male')"
   ],
   "metadata": {
    "cell_id": "b679a67149b14f3ba9a1840ed33c4c74",
    "collapsed": false,
    "source_hash": "b69268eb",
    "execution_start": 1668719868874,
    "execution_millis": 47,
    "deepnote_to_be_reexecuted": false,
    "deepnote_cell_type": "code"
   },
   "outputs": [],
   "execution_count": 7
  },
  {
   "cell_type": "markdown",
   "source": [
    "Nečíselný příznak `embarked` je **nominální** a převedu ho na **one-hot encoding** reprezentaci."
   ],
   "metadata": {
    "cell_id": "4245ce21e2f5453b8cf2dbd135345f62",
    "collapsed": false,
    "deepnote_cell_type": "markdown"
   }
  },
  {
   "cell_type": "code",
   "source": [
    "data = pd.get_dummies(data, columns=['embarked'])"
   ],
   "metadata": {
    "cell_id": "b7d70bd0aa774749b1e26205d3a2b1bf",
    "collapsed": false,
    "source_hash": "de965177",
    "execution_start": 1668719868922,
    "execution_millis": 0,
    "deepnote_to_be_reexecuted": false,
    "deepnote_cell_type": "code"
   },
   "outputs": [],
   "execution_count": 8
  },
  {
   "cell_type": "markdown",
   "source": [
    "Všechny příznaky s hodnotami typu string nejsou spojité, ale tzv. **kategorické** (diskrétní).\n",
    "  * Všechny nahradím číselnými kódy.\n",
    "  * Ještě je převedu na číselnou reprezentaci pomocí `...cat.codes`\n"
   ],
   "metadata": {
    "cell_id": "21567bff944643658f4f02a7178bb6ea",
    "collapsed": false,
    "deepnote_cell_type": "markdown"
   }
  },
  {
   "cell_type": "code",
   "source": [
    "obj_columns = data.select_dtypes('object').columns\n",
    "data[obj_columns] = data[obj_columns].astype('category').apply(lambda x: x.cat.codes)"
   ],
   "metadata": {
    "cell_id": "b8ecefb744744604bb48c8c4cbcc6d25",
    "collapsed": false,
    "source_hash": "afe207b2",
    "execution_start": 1668719868922,
    "execution_millis": 1,
    "deepnote_to_be_reexecuted": false,
    "deepnote_cell_type": "code"
   },
   "outputs": [],
   "execution_count": 9
  },
  {
   "cell_type": "markdown",
   "source": [
    "Na závěr nahradím všechny chybějící hodnoty -1."
   ],
   "metadata": {
    "collapsed": false
   }
  },
  {
   "cell_type": "code",
   "execution_count": 10,
   "outputs": [],
   "source": [
    "data = data.fillna('-1')"
   ],
   "metadata": {
    "collapsed": false
   }
  },
  {
   "cell_type": "markdown",
   "source": [
    "### Příprava trénovací a validační množiny pro učení stromu\n",
    "Nejprve oddělím cílovou proměnnou, kterou chci predikovat.\n",
    "V našem případě se jedná o `survived`\n"
   ],
   "metadata": {
    "cell_id": "2ac81e193f7f4a19a84676f5efc80f05",
    "collapsed": false,
    "deepnote_cell_type": "markdown"
   }
  },
  {
   "cell_type": "code",
   "source": [
    "xdata = data.drop('survived', axis=1)\n",
    "ydata = data.survived"
   ],
   "metadata": {
    "cell_id": "fc5787ac99964388bd26f9809e369400",
    "collapsed": false,
    "source_hash": "733a3555",
    "execution_start": 1668719868974,
    "execution_millis": 0,
    "deepnote_to_be_reexecuted": false,
    "deepnote_cell_type": "code"
   },
   "outputs": [],
   "execution_count": 11
  },
  {
   "cell_type": "markdown",
   "source": [
    "Postupně vytvořím **trénovací**, **validační** a **testovací** část dat.\n",
    "\n",
    "Data rozdělím tak, aby 60% bylo trénovací, 20% validační a 20% testovací.\n"
   ],
   "metadata": {
    "cell_id": "6558e565f60643508602b2aed18fa5a9",
    "collapsed": false,
    "deepnote_cell_type": "markdown"
   }
  },
  {
   "cell_type": "code",
   "source": [
    "rd_seed = 444\n",
    "from sklearn.model_selection import train_test_split\n",
    "\n",
    "xtrain, xtest, ytrain, ytest = train_test_split(xdata, ydata, test_size=0.4, random_state=rd_seed)\n",
    "\n",
    "print('původní data')\n",
    "print(xdata.shape)\n",
    "print(ydata.shape)\n",
    "print('trénovací data')\n",
    "print(xtrain.shape)\n",
    "print(ytrain.shape)\n",
    "print('testovací data')\n",
    "print(xtest.shape)\n",
    "print(ytest.shape)"
   ],
   "metadata": {
    "cell_id": "b5af974347c54457a178d9604fa798a9",
    "collapsed": false,
    "source_hash": "c9a812e7",
    "execution_start": 1668719868974,
    "execution_millis": 811,
    "deepnote_to_be_reexecuted": false,
    "deepnote_cell_type": "code"
   },
   "outputs": [
    {
     "name": "stdout",
     "text": "původní data\n(987, 12)\n(987,)\ntrénovací data\n(592, 12)\n(592,)\ntestovací data\n(395, 12)\n(395,)\n",
     "output_type": "stream"
    }
   ],
   "execution_count": 12
  },
  {
   "cell_type": "code",
   "source": [
    "xval, xtest, yval, ytest = train_test_split(xtest, ytest, test_size=0.5, random_state=rd_seed)\n",
    "\n",
    "print('nové testovací data')\n",
    "print(xtest.shape)\n",
    "print(ytest.shape)\n",
    "print('validační data')\n",
    "print(xval.shape)\n",
    "print(yval.shape)"
   ],
   "metadata": {
    "cell_id": "e3d8d341b3aa4622a1e668909da4c118",
    "collapsed": false,
    "source_hash": "5ca035bc",
    "execution_start": 1668719869787,
    "execution_millis": 7,
    "deepnote_to_be_reexecuted": false,
    "deepnote_cell_type": "code"
   },
   "outputs": [
    {
     "name": "stdout",
     "text": "nové testovací data\n(198, 12)\n(198,)\nvalidační data\n(197, 12)\n(197,)\n",
     "output_type": "stream"
    }
   ],
   "execution_count": 13
  },
  {
   "cell_type": "markdown",
   "source": [
    "### Použití rozhodovacího stromu implementovaného v `sklearn`"
   ],
   "metadata": {
    "tags": [],
    "cell_id": "80a6625b2d7241e1af3031c870c1bb11",
    "deepnote_cell_type": "markdown"
   }
  },
  {
   "cell_type": "code",
   "source": [
    "from sklearn.tree import DecisionTreeClassifier\n",
    "\n",
    "dtc = DecisionTreeClassifier(max_depth=50)\n",
    "display(dtc.get_params())\n",
    "dtc.fit(xtrain, ytrain)"
   ],
   "metadata": {
    "tags": [],
    "cell_id": "b365977129d74f86bebd68bf1635d7f1",
    "source_hash": "774870c6",
    "execution_start": 1668719869836,
    "execution_millis": 159,
    "deepnote_to_be_reexecuted": false,
    "deepnote_cell_type": "code"
   },
   "outputs": [
    {
     "data": {
      "text/plain": "{'ccp_alpha': 0.0,\n 'class_weight': None,\n 'criterion': 'gini',\n 'max_depth': 50,\n 'max_features': None,\n 'max_leaf_nodes': None,\n 'min_impurity_decrease': 0.0,\n 'min_samples_leaf': 1,\n 'min_samples_split': 2,\n 'min_weight_fraction_leaf': 0.0,\n 'random_state': None,\n 'splitter': 'best'}"
     },
     "metadata": {},
     "output_type": "display_data"
    },
    {
     "output_type": "execute_result",
     "execution_count": 14,
     "data": {
      "text/plain": "DecisionTreeClassifier(max_depth=50)",
      "text/html": "<style>#sk-container-id-1 {color: black;background-color: white;}#sk-container-id-1 pre{padding: 0;}#sk-container-id-1 div.sk-toggleable {background-color: white;}#sk-container-id-1 label.sk-toggleable__label {cursor: pointer;display: block;width: 100%;margin-bottom: 0;padding: 0.3em;box-sizing: border-box;text-align: center;}#sk-container-id-1 label.sk-toggleable__label-arrow:before {content: \"▸\";float: left;margin-right: 0.25em;color: #696969;}#sk-container-id-1 label.sk-toggleable__label-arrow:hover:before {color: black;}#sk-container-id-1 div.sk-estimator:hover label.sk-toggleable__label-arrow:before {color: black;}#sk-container-id-1 div.sk-toggleable__content {max-height: 0;max-width: 0;overflow: hidden;text-align: left;background-color: #f0f8ff;}#sk-container-id-1 div.sk-toggleable__content pre {margin: 0.2em;color: black;border-radius: 0.25em;background-color: #f0f8ff;}#sk-container-id-1 input.sk-toggleable__control:checked~div.sk-toggleable__content {max-height: 200px;max-width: 100%;overflow: auto;}#sk-container-id-1 input.sk-toggleable__control:checked~label.sk-toggleable__label-arrow:before {content: \"▾\";}#sk-container-id-1 div.sk-estimator input.sk-toggleable__control:checked~label.sk-toggleable__label {background-color: #d4ebff;}#sk-container-id-1 div.sk-label input.sk-toggleable__control:checked~label.sk-toggleable__label {background-color: #d4ebff;}#sk-container-id-1 input.sk-hidden--visually {border: 0;clip: rect(1px 1px 1px 1px);clip: rect(1px, 1px, 1px, 1px);height: 1px;margin: -1px;overflow: hidden;padding: 0;position: absolute;width: 1px;}#sk-container-id-1 div.sk-estimator {font-family: monospace;background-color: #f0f8ff;border: 1px dotted black;border-radius: 0.25em;box-sizing: border-box;margin-bottom: 0.5em;}#sk-container-id-1 div.sk-estimator:hover {background-color: #d4ebff;}#sk-container-id-1 div.sk-parallel-item::after {content: \"\";width: 100%;border-bottom: 1px solid gray;flex-grow: 1;}#sk-container-id-1 div.sk-label:hover label.sk-toggleable__label {background-color: #d4ebff;}#sk-container-id-1 div.sk-serial::before {content: \"\";position: absolute;border-left: 1px solid gray;box-sizing: border-box;top: 0;bottom: 0;left: 50%;z-index: 0;}#sk-container-id-1 div.sk-serial {display: flex;flex-direction: column;align-items: center;background-color: white;padding-right: 0.2em;padding-left: 0.2em;position: relative;}#sk-container-id-1 div.sk-item {position: relative;z-index: 1;}#sk-container-id-1 div.sk-parallel {display: flex;align-items: stretch;justify-content: center;background-color: white;position: relative;}#sk-container-id-1 div.sk-item::before, #sk-container-id-1 div.sk-parallel-item::before {content: \"\";position: absolute;border-left: 1px solid gray;box-sizing: border-box;top: 0;bottom: 0;left: 50%;z-index: -1;}#sk-container-id-1 div.sk-parallel-item {display: flex;flex-direction: column;z-index: 1;position: relative;background-color: white;}#sk-container-id-1 div.sk-parallel-item:first-child::after {align-self: flex-end;width: 50%;}#sk-container-id-1 div.sk-parallel-item:last-child::after {align-self: flex-start;width: 50%;}#sk-container-id-1 div.sk-parallel-item:only-child::after {width: 0;}#sk-container-id-1 div.sk-dashed-wrapped {border: 1px dashed gray;margin: 0 0.4em 0.5em 0.4em;box-sizing: border-box;padding-bottom: 0.4em;background-color: white;}#sk-container-id-1 div.sk-label label {font-family: monospace;font-weight: bold;display: inline-block;line-height: 1.2em;}#sk-container-id-1 div.sk-label-container {text-align: center;}#sk-container-id-1 div.sk-container {/* jupyter's `normalize.less` sets `[hidden] { display: none; }` but bootstrap.min.css set `[hidden] { display: none !important; }` so we also need the `!important` here to be able to override the default hidden behavior on the sphinx rendered scikit-learn.org. See: https://github.com/scikit-learn/scikit-learn/issues/21755 */display: inline-block !important;position: relative;}#sk-container-id-1 div.sk-text-repr-fallback {display: none;}</style><div id=\"sk-container-id-1\" class=\"sk-top-container\"><div class=\"sk-text-repr-fallback\"><pre>DecisionTreeClassifier(max_depth=50)</pre><b>In a Jupyter environment, please rerun this cell to show the HTML representation or trust the notebook. <br />On GitHub, the HTML representation is unable to render, please try loading this page with nbviewer.org.</b></div><div class=\"sk-container\" hidden><div class=\"sk-item\"><div class=\"sk-estimator sk-toggleable\"><input class=\"sk-toggleable__control sk-hidden--visually\" id=\"sk-estimator-id-1\" type=\"checkbox\" checked><label for=\"sk-estimator-id-1\" class=\"sk-toggleable__label sk-toggleable__label-arrow\">DecisionTreeClassifier</label><div class=\"sk-toggleable__content\"><pre>DecisionTreeClassifier(max_depth=50)</pre></div></div></div></div></div>"
     },
     "metadata": {}
    }
   ],
   "execution_count": 14
  },
  {
   "cell_type": "code",
   "source": [
    "# jak vypadá výsledný strom\n",
    "from sklearn.tree import plot_tree\n",
    "import matplotlib\n",
    "import matplotlib.pyplot as plt\n",
    "%matplotlib inline\n",
    "\n",
    "# plt.figure(figsize=(10,10))\n",
    "# plot_tree(dtc, filled=True, feature_names=xtrain.iloc[:,:].columns, class_names=True, rounded=True)"
   ],
   "metadata": {
    "tags": [],
    "cell_id": "cfb3f1b76d4e4b9c87d96290eb6ef775",
    "source_hash": "2398ea3b",
    "execution_start": 1668719869924,
    "execution_millis": 489,
    "deepnote_to_be_reexecuted": false,
    "deepnote_cell_type": "code"
   },
   "outputs": [],
   "execution_count": 15
  },
  {
   "cell_type": "markdown",
   "source": [
    "* Vytvoření stromu trvá v průměru 25 sekund, proto jsem tyto řádky okomentovala, abych dlouho nečekala, než bude zpracován celý jupyter."
   ],
   "metadata": {
    "tags": [],
    "cell_id": "d906864cca9d436fa41be95ebca91402",
    "deepnote_cell_type": "markdown"
   }
  },
  {
   "cell_type": "code",
   "source": [
    "import sklearn.metrics as metrics\n",
    "print('accuracy score (train): {0:.6f}'.format(metrics.accuracy_score(ytrain, dtc.predict(xtrain))))"
   ],
   "metadata": {
    "tags": [],
    "cell_id": "021824e2b5094f6d8d92817e0ba54372",
    "source_hash": "e06efb1d",
    "execution_start": 1668719870419,
    "execution_millis": 707,
    "deepnote_to_be_reexecuted": false,
    "deepnote_cell_type": "code"
   },
   "outputs": [
    {
     "name": "stdout",
     "text": "accuracy score (train): 1.000000\n",
     "output_type": "stream"
    }
   ],
   "execution_count": 16
  },
  {
   "cell_type": "markdown",
   "source": [
    "* Přesnost na trénovacích datech je  (pro `max_depth` = 50) je 100 %\n",
    "* Ale s testovacími daty to tak skvěle nedopadne:"
   ],
   "metadata": {
    "tags": [],
    "cell_id": "81378d0b6c454eb19fb205f6309c527e",
    "deepnote_cell_type": "markdown"
   }
  },
  {
   "cell_type": "code",
   "source": [
    "print('accuracy score (test): {0:.6f}'.format(metrics.accuracy_score(ytest, dtc.predict(xtest))))"
   ],
   "metadata": {
    "tags": [],
    "cell_id": "5c762fd52d784a54b6faff9bde331823",
    "source_hash": "5d9e7e2",
    "execution_start": 1668719870441,
    "execution_millis": 685,
    "deepnote_to_be_reexecuted": false,
    "deepnote_cell_type": "code"
   },
   "outputs": [
    {
     "name": "stdout",
     "text": "accuracy score (test): 0.808081\n",
     "output_type": "stream"
    }
   ],
   "execution_count": 17
  },
  {
   "cell_type": "markdown",
   "source": [
    "### Ladění hyperparameterů `max_depth` a `criterion`\n",
    "* Začnu s hyperparametrem `max_depth`\n",
    "* Budu používat validační množinu."
   ],
   "metadata": {
    "tags": [],
    "cell_id": "e3629b0a467b4ced95c4d2ff9f2ab999",
    "deepnote_cell_type": "markdown"
   }
  },
  {
   "cell_type": "code",
   "source": [
    "val_accuracy = []\n",
    "train_accuracy = []\n",
    "\n",
    "depths = range(1,100)\n",
    "for depth in depths:\n",
    "    dtc = DecisionTreeClassifier(max_depth=depth)\n",
    "    dtc.fit(xtrain, ytrain)\n",
    "    train_accuracy.append(metrics.accuracy_score(ytrain, dtc.predict(xtrain)))\n",
    "    val_accuracy.append(metrics.accuracy_score(yval, dtc.predict(xval)))"
   ],
   "metadata": {
    "tags": [],
    "cell_id": "13ef37b6056645e68c3dd8c39d22ae2c",
    "source_hash": "db070f76",
    "execution_start": 1668719870485,
    "execution_millis": 1003,
    "deepnote_to_be_reexecuted": false,
    "deepnote_cell_type": "code"
   },
   "outputs": [],
   "execution_count": 18
  },
  {
   "cell_type": "code",
   "source": [
    "plt.figure(figsize=(20,6))\n",
    "plt.plot(depths, train_accuracy,'or-')\n",
    "plt.plot(depths, val_accuracy,'ob-')\n",
    "plt.xlabel('max_depth')\n",
    "plt.ylabel('accuracy')\n",
    "plt.legend(['train', 'validation'])"
   ],
   "metadata": {
    "tags": [],
    "cell_id": "4465f558eff64f9c87af1c517985b6a2",
    "source_hash": "322b21f",
    "execution_start": 1668719871506,
    "execution_millis": 594,
    "deepnote_to_be_reexecuted": false,
    "deepnote_cell_type": "code"
   },
   "outputs": [
    {
     "output_type": "execute_result",
     "execution_count": 19,
     "data": {
      "text/plain": "<matplotlib.legend.Legend at 0x7f707f355940>"
     },
     "metadata": {}
    },
    {
     "data": {
      "text/plain": "<Figure size 2000x600 with 1 Axes>",
      "image/png": "[encoded data removed]"
     },
     "metadata": {
      "image/png": {
       "width": 1630,
       "height": 525
      }
     },
     "output_type": "display_data"
    }
   ],
   "execution_count": 19
  },
  {
   "cell_type": "code",
   "source": [
    "optimal_depth = np.argmax(val_accuracy) + 1\n",
    "optimal_depth"
   ],
   "metadata": {
    "tags": [],
    "cell_id": "2930de279cf746eda07a98eac3ee488a",
    "source_hash": "570e15a6",
    "execution_start": 1668719872193,
    "execution_millis": 10,
    "deepnote_to_be_reexecuted": false,
    "deepnote_cell_type": "code"
   },
   "outputs": [
    {
     "output_type": "execute_result",
     "execution_count": 20,
     "data": {
      "text/plain": "1"
     },
     "metadata": {}
    }
   ],
   "execution_count": 20
  },
  {
   "cell_type": "markdown",
   "source": [
    "Spočítám **testovací accuracy** pro nejlepší nalezenou hodnotu `max_depth`:"
   ],
   "metadata": {
    "tags": [],
    "cell_id": "8d1abbed978d455db2843c88fe8fa422",
    "deepnote_cell_type": "markdown"
   }
  },
  {
   "cell_type": "code",
   "source": [
    "dtc = DecisionTreeClassifier(max_depth=optimal_depth)\n",
    "dtc.fit(xtrain, ytrain)\n",
    "print('accuracy score (test): {0:.6f}'.format(metrics.accuracy_score(ytest, dtc.predict(xtest))))"
   ],
   "metadata": {
    "tags": [],
    "cell_id": "1986c9898e9b4db2b0d00d797009d199",
    "source_hash": "ed291e96",
    "execution_start": 1668719872194,
    "execution_millis": 9,
    "deepnote_to_be_reexecuted": false,
    "deepnote_cell_type": "code"
   },
   "outputs": [
    {
     "name": "stdout",
     "text": "accuracy score (test): 0.772727\n",
     "output_type": "stream"
    }
   ],
   "execution_count": 21
  },
  {
   "cell_type": "markdown",
   "source": [
    "### Grid search: ladění více hyperparameterů\n",
    "Chci projít hodnoty `max_depth` a obě možné hodnoty `criterion`."
   ],
   "metadata": {
    "tags": [],
    "cell_id": "a37ffe059d2c4430b56a993cf68be737",
    "deepnote_cell_type": "markdown"
   }
  },
  {
   "cell_type": "code",
   "source": [
    "from sklearn.model_selection import ParameterGrid\n",
    "param_grid = {\n",
    "    'max_depth': range(1,30), \n",
    "    'criterion': ['entropy', 'gini']\n",
    "}\n",
    "param_comb = ParameterGrid(param_grid)"
   ],
   "metadata": {
    "tags": [],
    "cell_id": "077400eb21d246db8d9b8fe6ff3656ca",
    "source_hash": "ff2c4396",
    "execution_start": 1668719872223,
    "execution_millis": 0,
    "deepnote_to_be_reexecuted": false,
    "deepnote_cell_type": "code"
   },
   "outputs": [],
   "execution_count": 22
  },
  {
   "cell_type": "code",
   "source": [
    "val_accuracy = []\n",
    "train_accuracy = []\n",
    "\n",
    "for params in param_comb:\n",
    "    dtc = DecisionTreeClassifier(max_depth=params['max_depth'], criterion=params['criterion'])\n",
    "    dtc.fit(xtrain, ytrain)\n",
    "    train_accuracy.append(metrics.accuracy_score(ytrain, dtc.predict(xtrain)))\n",
    "    val_accuracy.append(metrics.accuracy_score(yval, dtc.predict(xval)))"
   ],
   "metadata": {
    "tags": [],
    "cell_id": "d180786d3779480cb3727d827f607007",
    "source_hash": "3f2dc58f",
    "execution_start": 1668719872224,
    "execution_millis": 718,
    "deepnote_to_be_reexecuted": false,
    "deepnote_cell_type": "code"
   },
   "outputs": [],
   "execution_count": 23
  },
  {
   "cell_type": "code",
   "source": [
    "plt.figure(figsize=(20,6))\n",
    "plt.plot(train_accuracy,'om-')\n",
    "plt.plot(val_accuracy,'ok-')\n",
    "plt.xlabel('hyperparametr index')\n",
    "plt.ylabel('accuracy')\n",
    "plt.legend(['train', 'validation'])"
   ],
   "metadata": {
    "tags": [],
    "cell_id": "4f75d6fe01654e1f8b170231786a81c0",
    "source_hash": "8168ce44",
    "execution_start": 1668719872958,
    "execution_millis": 1310,
    "deepnote_to_be_reexecuted": false,
    "deepnote_cell_type": "code"
   },
   "outputs": [
    {
     "output_type": "execute_result",
     "execution_count": 24,
     "data": {
      "text/plain": "<matplotlib.legend.Legend at 0x7f7070100f10>"
     },
     "metadata": {}
    },
    {
     "data": {
      "text/plain": "<Figure size 2000x600 with 1 Axes>",
      "image/png": "[encoded data removed]"
     },
     "metadata": {
      "image/png": {
       "width": 1630,
       "height": 525
      }
     },
     "output_type": "display_data"
    }
   ],
   "execution_count": 24
  },
  {
   "cell_type": "code",
   "source": [
    "best_params = param_comb[np.argmax(val_accuracy)]\n",
    "print(best_params)\n",
    "print('train accuracy: {0:.6f}'.format(train_accuracy[np.argmax(train_accuracy)]))\n",
    "print('validation accuracy: {0:.6f}'.format(val_accuracy[np.argmax(val_accuracy)]))"
   ],
   "metadata": {
    "tags": [],
    "cell_id": "92cf12c5fde84b5891bc708c7327841a",
    "source_hash": "5b480fa8",
    "execution_start": 1668719873479,
    "execution_millis": 790,
    "deepnote_to_be_reexecuted": false,
    "deepnote_cell_type": "code"
   },
   "outputs": [
    {
     "name": "stdout",
     "text": "{'max_depth': 1, 'criterion': 'entropy'}\ntrain accuracy: 1.000000\nvalidation accuracy: 0.786802\n",
     "output_type": "stream"
    }
   ],
   "execution_count": 25
  },
  {
   "cell_type": "code",
   "source": [
    "dtc = DecisionTreeClassifier(**best_params)\n",
    "dtc.fit(xtrain, ytrain)\n",
    "print('accuracy score (train): {0:.6f}'.format(metrics.accuracy_score(ytrain, dtc.predict(xtrain))))\n",
    "print('accuracy score (validation): {0:.6f}'.format(metrics.accuracy_score(yval, dtc.predict(xval))))\n",
    "print('accuracy score (test): {0:.6f}'.format(metrics.accuracy_score(ytest, dtc.predict(xtest))))"
   ],
   "metadata": {
    "tags": [],
    "cell_id": "f9870516ee6947e4b9a358c570286ff2",
    "source_hash": "7d8f04e4",
    "execution_start": 1668719873487,
    "execution_millis": 789,
    "deepnote_to_be_reexecuted": false,
    "deepnote_cell_type": "code"
   },
   "outputs": [
    {
     "name": "stdout",
     "text": "accuracy score (train): 0.785473\naccuracy score (validation): 0.786802\naccuracy score (test): 0.772727\n",
     "output_type": "stream"
    }
   ],
   "execution_count": 26
  },
  {
   "cell_type": "markdown",
   "source": [
    "###  Zkusím pomocí metody KNN zlepšit predikci modelu\n",
    "Použiju `KNeighborsClassifier` z knihovny `sklearn`."
   ],
   "metadata": {
    "cell_id": "fa2e743f7f5649fba581c827add27be2",
    "collapsed": false,
    "deepnote_cell_type": "markdown"
   }
  },
  {
   "cell_type": "code",
   "source": [
    "from sklearn.neighbors import KNeighborsClassifier\n",
    "\n",
    "knc = KNeighborsClassifier(n_neighbors = 10)\n",
    "knc.fit(xtrain, ytrain)\n",
    "print('accuracy score (validation): {0:.6f}'.format(metrics.accuracy_score(yval, knc.predict(xval))))"
   ],
   "metadata": {
    "cell_id": "9f73d480c8c4415bac54c1dc7573dd77",
    "collapsed": false,
    "source_hash": "c8a12374",
    "execution_start": 1668719873548,
    "execution_millis": 728,
    "deepnote_to_be_reexecuted": false,
    "deepnote_cell_type": "code"
   },
   "outputs": [
    {
     "name": "stdout",
     "text": "accuracy score (validation): 0.685279\n",
     "output_type": "stream"
    }
   ],
   "execution_count": 27
  },
  {
   "cell_type": "markdown",
   "source": [
    "Výsledek vylepším vyzkoušením Normalizace."
   ],
   "metadata": {
    "cell_id": "f8cde5895c6d49d6ae9493b37c9fca0a",
    "collapsed": false,
    "deepnote_cell_type": "markdown"
   }
  },
  {
   "cell_type": "markdown",
   "source": [
    "### Normalizace dat\n",
    "Zkusím **min-max normalizaci**. \n",
    "To udělám pomocí třídy `MinMaxScaler` z modulu `sklearn.preprocessing`."
   ],
   "metadata": {
    "cell_id": "2c38c99f93e048fcb1d1c021432105c5",
    "collapsed": false,
    "deepnote_cell_type": "markdown"
   }
  },
  {
   "cell_type": "code",
   "source": [
    "from sklearn.preprocessing import MinMaxScaler\n",
    "\n",
    "# Min-max scaler nafituju na trénovacích datech\n",
    "scaler = MinMaxScaler()\n",
    "xtrain_scaled = scaler.fit_transform(xtrain)\n",
    "\n",
    "# Následně stejnou transformaci aplikuju na validační a testovací data\n",
    "xval_scaled = scaler.transform(xval)\n",
    "xtest_scaled = scaler.transform(xtest)\n",
    "\n",
    "# Natrénuju model na transformovaných datech\n",
    "knc = KNeighborsClassifier()\n",
    "knc.fit(xtrain_scaled, ytrain)\n",
    "\n",
    "print(f\"accuracy score (validation) of normalized model: {knc.score(xval_scaled, yval):0.6f}\")\n",
    "print(f\"accuracy score (test) of normalized model: {knc.score(xtest_scaled, ytest):0.6f}\")"
   ],
   "metadata": {
    "cell_id": "5dc35c14d3c1419cbbde1222cc385f11",
    "collapsed": false,
    "source_hash": "4a25476b",
    "execution_start": 1668719873580,
    "execution_millis": 699,
    "deepnote_to_be_reexecuted": false,
    "deepnote_cell_type": "code"
   },
   "outputs": [
    {
     "name": "stdout",
     "text": "accuracy score (validation) of normalized model: 0.781726\naccuracy score (test) of normalized model: 0.813131\n",
     "output_type": "stream"
    }
   ],
   "execution_count": 28
  },
  {
   "cell_type": "markdown",
   "source": [
    "### Grid search KNN: ladění více hyperparameterů\n",
    "Chci projít hodnoty `n_neighbors`, možné hodnoty `weights` a `metric`."
   ],
   "metadata": {
    "cell_id": "21e1a23f53f648ddbf2ea3743ae9d21d",
    "collapsed": false,
    "deepnote_cell_type": "markdown"
   }
  },
  {
   "cell_type": "code",
   "source": [
    "param_grid_knn = {\n",
    "    'n_neighbors': range(3, 35),\n",
    "    'weights': ['uniform', 'distance'],\n",
    "    'metric': ['euclidean', 'manhattan', 'minkowski']\n",
    "}\n",
    "param_comb_knn = ParameterGrid(param_grid_knn)"
   ],
   "metadata": {
    "cell_id": "a75223378cc842bd97b244a8d688d0af",
    "collapsed": false,
    "source_hash": "6b1f3d2",
    "execution_start": 1668719873655,
    "execution_millis": 1227771492,
    "deepnote_to_be_reexecuted": false,
    "deepnote_cell_type": "code"
   },
   "outputs": [],
   "execution_count": 29
  },
  {
   "cell_type": "code",
   "source": [
    "val_accuracy_knn = []\n",
    "train_accuracy_knn = []\n",
    "\n",
    "for params in param_comb_knn:\n",
    "    knc = KNeighborsClassifier(n_neighbors = params['n_neighbors'], weights = params['weights'], metric = params['metric'])\n",
    "    knc.fit(xtrain_scaled, ytrain)\n",
    "    train_accuracy_knn.append(metrics.accuracy_score(ytrain, knc.predict(xtrain_scaled)))\n",
    "    val_accuracy_knn.append(metrics.accuracy_score(yval, knc.predict(xval_scaled)))"
   ],
   "metadata": {
    "cell_id": "bbe421c71a5e48fe8bf8af69a8a331cf",
    "collapsed": false,
    "source_hash": "d457ed07",
    "execution_start": 1668719873699,
    "execution_millis": 6840,
    "deepnote_to_be_reexecuted": false,
    "deepnote_cell_type": "code"
   },
   "outputs": [],
   "execution_count": 30
  },
  {
   "cell_type": "code",
   "source": [
    "best_params_knn = param_comb_knn[np.argmax(val_accuracy_knn)]\n",
    "print(best_params_knn)\n",
    "print('train accuracy: {0:.6f}'.format(train_accuracy_knn[np.argmax(train_accuracy_knn)]))\n",
    "print('validation accuracy: {0:.6f}'.format(val_accuracy_knn[np.argmax(val_accuracy_knn)]))"
   ],
   "metadata": {
    "cell_id": "aabfc5be30334f3ab11a1c2e0440ee76",
    "collapsed": false,
    "source_hash": "28282a9e",
    "execution_start": 1668719880547,
    "execution_millis": 724,
    "deepnote_to_be_reexecuted": false,
    "deepnote_cell_type": "code"
   },
   "outputs": [
    {
     "name": "stdout",
     "text": "{'weights': 'uniform', 'n_neighbors': 10, 'metric': 'euclidean'}\ntrain accuracy: 1.000000\nvalidation accuracy: 0.827411\n",
     "output_type": "stream"
    }
   ],
   "execution_count": 31
  },
  {
   "cell_type": "code",
   "source": [
    "knc = KNeighborsClassifier(**best_params_knn)\n",
    "knc.fit(xtrain_scaled, ytrain)\n",
    "print('accuracy score (train): {0:.6f}'.format(metrics.accuracy_score(ytrain, knc.predict(xtrain_scaled))))\n",
    "print('accuracy score (validation): {0:.6f}'.format(metrics.accuracy_score(yval, knc.predict(xval_scaled))))\n",
    "print('accuracy score (test): {0:.6f}'.format(metrics.accuracy_score(ytest, knc.predict(xtest_scaled))))"
   ],
   "metadata": {
    "cell_id": "1197549fd556410083c1cd712445def3",
    "collapsed": false,
    "source_hash": "eaa2ec59",
    "execution_start": 1668719880555,
    "execution_millis": 738,
    "deepnote_to_be_reexecuted": false,
    "deepnote_cell_type": "code"
   },
   "outputs": [
    {
     "name": "stdout",
     "text": "accuracy score (train): 0.812500\naccuracy score (validation): 0.827411\naccuracy score (test): 0.838384\n",
     "output_type": "stream"
    }
   ],
   "execution_count": 32
  },
  {
   "cell_type": "markdown",
   "source": [
    " ### Závěr\n",
    " Vidím, že metoda KNN dává vyšší accuracy score testu než Rozhodovací strom, tedy 83.8% vs 77.2%\n",
    " Proto napočítám predikce pro data s datasetu `Evaluation.csv` pomocí KNN."
   ],
   "metadata": {
    "cell_id": "18ad1ef6dfcc472782cc78f2e82ec3a7",
    "collapsed": false,
    "deepnote_cell_type": "markdown"
   }
  },
  {
   "cell_type": "markdown",
   "source": [
    "### Evaluation: základní přehled\n",
    "* Nahraju data z datasetu `evaluation.csv` a prozkoumám tento dataset."
   ],
   "metadata": {
    "cell_id": "8a139e7d1b6849e080c8a09a6dff0dca",
    "collapsed": false,
    "deepnote_cell_type": "markdown"
   }
  },
  {
   "cell_type": "code",
   "source": [
    "evaluation = pd.read_csv('evaluation.csv')\n",
    "print('data shape: ' + str(evaluation.shape))\n",
    "display(evaluation.head())\n",
    "display(evaluation.describe())\n",
    "display(evaluation.nunique())"
   ],
   "metadata": {
    "cell_id": "39dac235380c41fea69ae36662c4050a",
    "collapsed": false,
    "source_hash": "b5c3af1",
    "execution_start": 1668719880636,
    "execution_millis": 668,
    "deepnote_to_be_reexecuted": false,
    "deepnote_cell_type": "code"
   },
   "outputs": [
    {
     "name": "stdout",
     "text": "data shape: (309, 12)\n",
     "output_type": "stream"
    },
    {
     "data": {
      "text/plain": "     ID  pclass                                          name     sex   age  \\\n0  1000       1                      Wick, Miss. Mary Natalie  female  31.0   \n1  1001       1                         Bazzani, Miss. Albina  female  32.0   \n2  1002       1  Futrelle, Mrs. Jacques Heath (Lily May Peel)  female  35.0   \n3  1003       3                      Midtsjo, Mr. Karl Albert    male  21.0   \n4  1004       3                         O'Connor, Mr. Maurice    male   NaN   \n\n   sibsp  parch  ticket      fare cabin embarked       home.dest  \n0      0      2   36928  164.8667    C7        S  Youngstown, OH  \n1      0      0   11813   76.2917   D15        C             NaN  \n2      1      0  113803   53.1000  C123        S    Scituate, MA  \n3      0      0  345501    7.7750   NaN        S             NaN  \n4      0      0  371060    7.7500   NaN        Q             NaN  ",
      "text/html": "<div>\n<style scoped>\n    .dataframe tbody tr th:only-of-type {\n        vertical-align: middle;\n    }\n\n    .dataframe tbody tr th {\n        vertical-align: top;\n    }\n\n    .dataframe thead th {\n        text-align: right;\n    }\n</style>\n<table border=\"1\" class=\"dataframe\">\n  <thead>\n    <tr style=\"text-align: right;\">\n      <th></th>\n      <th>ID</th>\n      <th>pclass</th>\n      <th>name</th>\n      <th>sex</th>\n      <th>age</th>\n      <th>sibsp</th>\n      <th>parch</th>\n      <th>ticket</th>\n      <th>fare</th>\n      <th>cabin</th>\n      <th>embarked</th>\n      <th>home.dest</th>\n    </tr>\n  </thead>\n  <tbody>\n    <tr>\n      <th>0</th>\n      <td>1000</td>\n      <td>1</td>\n      <td>Wick, Miss. Mary Natalie</td>\n      <td>female</td>\n      <td>31.0</td>\n      <td>0</td>\n      <td>2</td>\n      <td>36928</td>\n      <td>164.8667</td>\n      <td>C7</td>\n      <td>S</td>\n      <td>Youngstown, OH</td>\n    </tr>\n    <tr>\n      <th>1</th>\n      <td>1001</td>\n      <td>1</td>\n      <td>Bazzani, Miss. Albina</td>\n      <td>female</td>\n      <td>32.0</td>\n      <td>0</td>\n      <td>0</td>\n      <td>11813</td>\n      <td>76.2917</td>\n      <td>D15</td>\n      <td>C</td>\n      <td>NaN</td>\n    </tr>\n    <tr>\n      <th>2</th>\n      <td>1002</td>\n      <td>1</td>\n      <td>Futrelle, Mrs. Jacques Heath (Lily May Peel)</td>\n      <td>female</td>\n      <td>35.0</td>\n      <td>1</td>\n      <td>0</td>\n      <td>113803</td>\n      <td>53.1000</td>\n      <td>C123</td>\n      <td>S</td>\n      <td>Scituate, MA</td>\n    </tr>\n    <tr>\n      <th>3</th>\n      <td>1003</td>\n      <td>3</td>\n      <td>Midtsjo, Mr. Karl Albert</td>\n      <td>male</td>\n      <td>21.0</td>\n      <td>0</td>\n      <td>0</td>\n      <td>345501</td>\n      <td>7.7750</td>\n      <td>NaN</td>\n      <td>S</td>\n      <td>NaN</td>\n    </tr>\n    <tr>\n      <th>4</th>\n      <td>1004</td>\n      <td>3</td>\n      <td>O'Connor, Mr. Maurice</td>\n      <td>male</td>\n      <td>NaN</td>\n      <td>0</td>\n      <td>0</td>\n      <td>371060</td>\n      <td>7.7500</td>\n      <td>NaN</td>\n      <td>Q</td>\n      <td>NaN</td>\n    </tr>\n  </tbody>\n</table>\n</div>"
     },
     "metadata": {},
     "output_type": "display_data"
    },
    {
     "data": {
      "text/plain": "                ID      pclass         age       sibsp       parch        fare\ncount   309.000000  309.000000  249.000000  309.000000  309.000000  309.000000\nmean   1154.000000    2.300971   29.479251    0.498382    0.388350   32.897708\nstd      89.344838    0.831619   14.976391    1.109652    0.840142   47.185050\nmin    1000.000000    1.000000    0.416700    0.000000    0.000000    0.000000\n25%    1077.000000    2.000000   20.000000    0.000000    0.000000    7.925000\n50%    1154.000000    3.000000   28.000000    0.000000    0.000000   13.000000\n75%    1231.000000    3.000000   39.000000    1.000000    0.000000   31.387500\nmax    1308.000000    3.000000   80.000000    8.000000    6.000000  263.000000",
      "text/html": "<div>\n<style scoped>\n    .dataframe tbody tr th:only-of-type {\n        vertical-align: middle;\n    }\n\n    .dataframe tbody tr th {\n        vertical-align: top;\n    }\n\n    .dataframe thead th {\n        text-align: right;\n    }\n</style>\n<table border=\"1\" class=\"dataframe\">\n  <thead>\n    <tr style=\"text-align: right;\">\n      <th></th>\n      <th>ID</th>\n      <th>pclass</th>\n      <th>age</th>\n      <th>sibsp</th>\n      <th>parch</th>\n      <th>fare</th>\n    </tr>\n  </thead>\n  <tbody>\n    <tr>\n      <th>count</th>\n      <td>309.000000</td>\n      <td>309.000000</td>\n      <td>249.000000</td>\n      <td>309.000000</td>\n      <td>309.000000</td>\n      <td>309.000000</td>\n    </tr>\n    <tr>\n      <th>mean</th>\n      <td>1154.000000</td>\n      <td>2.300971</td>\n      <td>29.479251</td>\n      <td>0.498382</td>\n      <td>0.388350</td>\n      <td>32.897708</td>\n    </tr>\n    <tr>\n      <th>std</th>\n      <td>89.344838</td>\n      <td>0.831619</td>\n      <td>14.976391</td>\n      <td>1.109652</td>\n      <td>0.840142</td>\n      <td>47.185050</td>\n    </tr>\n    <tr>\n      <th>min</th>\n      <td>1000.000000</td>\n      <td>1.000000</td>\n      <td>0.416700</td>\n      <td>0.000000</td>\n      <td>0.000000</td>\n      <td>0.000000</td>\n    </tr>\n    <tr>\n      <th>25%</th>\n      <td>1077.000000</td>\n      <td>2.000000</td>\n      <td>20.000000</td>\n      <td>0.000000</td>\n      <td>0.000000</td>\n      <td>7.925000</td>\n    </tr>\n    <tr>\n      <th>50%</th>\n      <td>1154.000000</td>\n      <td>3.000000</td>\n      <td>28.000000</td>\n      <td>0.000000</td>\n      <td>0.000000</td>\n      <td>13.000000</td>\n    </tr>\n    <tr>\n      <th>75%</th>\n      <td>1231.000000</td>\n      <td>3.000000</td>\n      <td>39.000000</td>\n      <td>1.000000</td>\n      <td>0.000000</td>\n      <td>31.387500</td>\n    </tr>\n    <tr>\n      <th>max</th>\n      <td>1308.000000</td>\n      <td>3.000000</td>\n      <td>80.000000</td>\n      <td>8.000000</td>\n      <td>6.000000</td>\n      <td>263.000000</td>\n    </tr>\n  </tbody>\n</table>\n</div>"
     },
     "metadata": {},
     "output_type": "display_data"
    },
    {
     "data": {
      "text/plain": "ID           309\npclass         3\nname         309\nsex            2\nage           71\nsibsp          7\nparch          6\nticket       277\nfare         156\ncabin         66\nembarked       3\nhome.dest    132\ndtype: int64"
     },
     "metadata": {},
     "output_type": "display_data"
    }
   ],
   "execution_count": 33
  },
  {
   "cell_type": "markdown",
   "source": [
    "### Příprava dat před použitím modelu\n",
    "Oddělím sloupec `ID`, potom připojím ho k výsledku přežil/nepřežil v data frame."
   ],
   "metadata": {
    "cell_id": "3d4df1b2612c4e05a9a38b20b74dc5c1",
    "collapsed": false,
    "deepnote_cell_type": "markdown"
   }
  },
  {
   "cell_type": "code",
   "source": [
    "evaluation_id = evaluation['ID']\n",
    "\n",
    "evaluation = evaluation.drop(['ID', 'name'], axis=1)"
   ],
   "metadata": {
    "cell_id": "ff60f66df6a54ab2bfd6a4c79713ac5f",
    "collapsed": false,
    "source_hash": "b9b9559a",
    "execution_start": 1668719880764,
    "execution_millis": 5,
    "deepnote_to_be_reexecuted": false,
    "deepnote_cell_type": "code"
   },
   "outputs": [],
   "execution_count": 34
  },
  {
   "cell_type": "markdown",
   "source": [
    "#### Při přípravě datasetu `Evaluation.csv` provedu stejné operace, které jsem provedla při přípravě datasetu `Data.csv` : \n",
    "* Vypořádám se s chybějicí hodnoty.\n"
   ],
   "metadata": {
    "tags": [],
    "cell_id": "0199edc9aa854490901851bdbcf518f0",
    "deepnote_cell_type": "markdown"
   }
  },
  {
   "cell_type": "code",
   "source": [
    "evaluation = evaluation.replace('?', np.nan)\n",
    "evaluation = evaluation.replace('-', np.nan)\n",
    "evaluation = evaluation.replace('unknown', np.nan)\n",
    "evaluation = evaluation.replace('Unknown', np.nan)"
   ],
   "metadata": {
    "cell_id": "61510185171e4c0dae792685bb379a1b",
    "collapsed": false,
    "source_hash": "e4babbb0",
    "execution_start": 1668719880775,
    "execution_millis": 4,
    "deepnote_to_be_reexecuted": false,
    "deepnote_cell_type": "code"
   },
   "outputs": [],
   "execution_count": 35
  },
  {
   "cell_type": "markdown",
   "source": [
    "* Nahradím **'male'** a **'female'** na bool hodnoty."
   ],
   "metadata": {
    "tags": [],
    "cell_id": "ee25150a8c1f4b28b6c4bcec08f36a05",
    "deepnote_cell_type": "markdown"
   }
  },
  {
   "cell_type": "code",
   "source": [
    "evaluation.sex = (evaluation.sex == 'male')"
   ],
   "metadata": {
    "cell_id": "7a8246be1a17435d92474f29afef4d2c",
    "collapsed": false,
    "source_hash": "5c0bfb28",
    "execution_start": 1668719880783,
    "execution_millis": 6,
    "deepnote_to_be_reexecuted": false,
    "deepnote_cell_type": "code"
   },
   "outputs": [],
   "execution_count": 36
  },
  {
   "cell_type": "markdown",
   "source": [
    "* Převedu nečíselný příznak `embarked` na **one-hot encoding** reprezentaci."
   ],
   "metadata": {
    "tags": [],
    "cell_id": "bca1e530783e4e5ea243acc3844ea605",
    "deepnote_cell_type": "markdown"
   }
  },
  {
   "cell_type": "code",
   "source": [
    "evaluation = pd.get_dummies(evaluation, columns=['embarked'])"
   ],
   "metadata": {
    "cell_id": "6f3bea41ac8c4b6eb5281a53a2f25b7e",
    "collapsed": false,
    "source_hash": "aacb8d9",
    "execution_start": 1668719880795,
    "execution_millis": 31,
    "deepnote_to_be_reexecuted": false,
    "deepnote_cell_type": "code"
   },
   "outputs": [],
   "execution_count": 37
  },
  {
   "cell_type": "markdown",
   "source": [
    "  * Všechny příznaky s hodnotami typu string nahradím číselnými kódy.\n",
    "  * Převedu je na číselnou reprezentaci.\n"
   ],
   "metadata": {
    "tags": [],
    "cell_id": "5ea297c2be78434db919e367bcbba4cd",
    "deepnote_cell_type": "markdown"
   }
  },
  {
   "cell_type": "code",
   "source": [
    "obj_columns = evaluation.select_dtypes('object').columns\n",
    "evaluation[obj_columns] = evaluation[obj_columns].astype('category').apply(lambda x: x.cat.codes)"
   ],
   "metadata": {
    "cell_id": "0217a5ec53994cd3b07cfb7e26f5141b",
    "collapsed": false,
    "source_hash": "121a0b1f",
    "execution_start": 1668719880888,
    "execution_millis": 1,
    "deepnote_to_be_reexecuted": false,
    "deepnote_cell_type": "code"
   },
   "outputs": [],
   "execution_count": 38
  },
  {
   "cell_type": "markdown",
   "source": [
    "* Nahradím všechny chybějící hodnoty -1."
   ],
   "metadata": {
    "tags": [],
    "cell_id": "f312247bc32840d3805485f232218ae0",
    "deepnote_cell_type": "markdown"
   }
  },
  {
   "cell_type": "code",
   "source": [
    "evaluation = evaluation.fillna('-1')"
   ],
   "metadata": {
    "cell_id": "8824cca79dad4d0a98b1578200e5058b",
    "collapsed": false,
    "source_hash": "1374eff8",
    "execution_start": 1668719880890,
    "execution_millis": 1,
    "deepnote_to_be_reexecuted": false,
    "deepnote_cell_type": "code"
   },
   "outputs": [],
   "execution_count": 39
  },
  {
   "cell_type": "markdown",
   "source": [
    " * Dataset `Evaluation` normalizuju pro další predikci."
   ],
   "metadata": {
    "tags": [],
    "cell_id": "41dfa56bcb9849e69a862fc2420c17de",
    "deepnote_cell_type": "markdown"
   }
  },
  {
   "cell_type": "code",
   "source": [
    "scaler = MinMaxScaler()\n",
    "evaluation_scaled = scaler.fit_transform(evaluation)"
   ],
   "metadata": {
    "cell_id": "8f7cfe3d76934bb792093e04905b377b",
    "collapsed": false,
    "source_hash": "6a820ca1",
    "execution_start": 1668719880891,
    "execution_millis": 1,
    "deepnote_to_be_reexecuted": false,
    "deepnote_cell_type": "code"
   },
   "outputs": [],
   "execution_count": 40
  },
  {
   "cell_type": "markdown",
   "source": [
    "Napočítám predikce pro normalizovaná data z souboru."
   ],
   "metadata": {
    "cell_id": "5c176aa9c8514471ac70efebeb08fab6",
    "collapsed": false,
    "deepnote_cell_type": "markdown"
   }
  },
  {
   "cell_type": "code",
   "source": [
    "predicted = knc.predict(evaluation_scaled)"
   ],
   "metadata": {
    "cell_id": "6a9a3ac2932a43b7afa4bcacde2fb7a1",
    "collapsed": false,
    "source_hash": "9eb722ce",
    "execution_start": 1668719880893,
    "execution_millis": 21,
    "deepnote_to_be_reexecuted": false,
    "deepnote_cell_type": "code"
   },
   "outputs": [],
   "execution_count": 41
  },
  {
   "cell_type": "markdown",
   "source": [
    "Predikce uložím do dvou sloupců: `ID`, `predikce přežití` do souboru **results.csv**."
   ],
   "metadata": {
    "tags": [],
    "cell_id": "d4d49502ab094f258eff64bce641da16",
    "deepnote_cell_type": "markdown"
   }
  },
  {
   "cell_type": "code",
   "source": [
    "predicted = pd.Series(data = predicted, name = 'survived')\n",
    "predicted_df = pd.concat([evaluation_id, predicted], axis = 1)\n",
    "predicted_df.to_csv('results.csv', index = False)"
   ],
   "metadata": {
    "cell_id": "c736f5def5ca4f4c923c4c120dd5f5f5",
    "collapsed": false,
    "source_hash": "c8335c36",
    "execution_start": 1668719880970,
    "execution_millis": 1,
    "deepnote_to_be_reexecuted": false,
    "deepnote_cell_type": "code"
   },
   "outputs": [],
   "execution_count": 42
  },
  {
   "cell_type": "markdown",
   "source": [
    "<a style='text-decoration:none;line-height:16px;display:flex;color:#5B5B62;padding:10px;justify-content:end;' href='https://deepnote.com?utm_source=created-in-deepnote-cell&projectId=a4f2b6f5-ac89-435f-8d71-65e9f809695f' target=\"_blank\">\n",
    "<img alt='Created in deepnote.com' style='display:inline;max-height:16px;margin:0px;margin-right:7.5px;' src='data:image/svg+xml;base64,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' > </img>\n",
    "Created in <span style='font-weight:600;margin-left:4px;'>Deepnote</span></a>"
   ],
   "metadata": {
    "tags": [],
    "created_in_deepnote_cell": true,
    "deepnote_cell_type": "markdown"
   }
  }
 ],
 "nbformat": 4,
 "nbformat_minor": 0,
 "metadata": {
  "deepnote": {},
  "orig_nbformat": 2,
  "deepnote_notebook_id": "25c6ca1812c04fd0b403845cc628c6b1",
  "deepnote_execution_queue": [],
  "deepnote_persisted_session": {
   "createdAt": "2022-11-17T21:34:37.204Z"
  }
 }
}
